{
 "cells": [
  {
   "cell_type": "markdown",
   "id": "f6e97a71",
   "metadata": {},
   "source": [
    "# weightsWebApp"
   ]
  },
  {
   "cell_type": "markdown",
   "id": "b74f0d3b",
   "metadata": {},
   "source": [
    "## Description:\n",
    "This notebook provides an application to visualize orbit weight functions in an interactive and\n",
    "intuitive manner. \n",
    "\n",
    "It visualizes orbit weight functions as a function of orbit space (E,pm,Rm) coordinates.\n",
    "Since the orbit weight functions are three-dimensional, fast-ion energy (E) slices \n",
    "are visualized. The fast-ion energy can be changed via an interactive slider to easily \n",
    "scroll through different fast-ion energies.\n",
    "\n",
    "The weights (delta function signals) that make up the orbit weight functions can also be \n",
    "visualized. This is done via the 'show_delta_signal' button in the web application. To be clear, in addition to having the web application help the user to visualize W[Ed,E,:,:] (where 'W' is the orbit weight function, 'Ed' is a specific diagnostic signal measurement bin center and 'E' is a specific fast-ion energy), this 'show_delta_signal' button allows the user to visualize W[:,E,pm,Rm] where 'pm' is a specific pitch maximum and 'Rm' is a specific major radius maximum.\n",
    "\n",
    "Prior to running this notebook, please make sure you have run the following OWCF scripts:\n",
    "- calcOrbWeights.jl (or equivalent)\n",
    "- extractTopoBounds.jl\n",
    "- orbWeights_2Dto4D.jl (if not automatically in calcOrbWeights.jl)\n",
    "And that you have noted the paths to the output files. You will also (partially) need the following: \n",
    " - An .eqdsk or .jld2 file containing tokamak magnetic equilibrium and geometry\n",
    " - An .hdf5 or .jld2 file with synthetic/experimental signal (please see script further down for specs)\n",
    " \n",
    "Note! The OWCF has several fast-ion diagnostic sightline models already built-in. Please see the OWCF/vc_data/ folder for all the readily available diagnostic sightline models.\n",
    "\n",
    "Continuing, the user can also choose to specify the path to a file containing data for a \n",
    "fast-ion orbit-space distribution. The same orbit grid as the weight functions is required. In that case, the app will show a 2D slice (constant fast-ion energy) of the fast-ion distribution, and of the non-integrated WF density, along with everything else. Please consult the OWCF manual for further info.\n",
    "\n",
    "All energy slices are visualized with Rm on the x-axis and pm on the y-axis by default. This can be switched to the toroidal canonical angular momentum and magnetic moment via a toggle button in the app.\n",
    "### PLEASE NOTE! \n",
    "It is recommended to ensure that the orbit weights and the topological boundaries\n",
    "have exactly the same dimensions and ranges, by using the orbit weights to calculate the \n",
    "topological map in calcTopoMap.jl (set useWeightsFile to true) in the first place.\n",
    "\n",
    "## Inputs:\n",
    "- folderpath_OWCF - The path to the OWCF folder on your computer. - String\n",
    "- verbose - If true, then the web application will talk a lot! Yay! - Bool\n",
    "- filepath_tb - The path to the .jld2-file containing the topological boundaries - String\n",
    "- enable_COM - If set to true, it will be possible to also visualize the orbit weight functions in (E,Λ,Pϕ_n;σ) coordinates - Bool\n",
    "- filepath_W_COM - If enable_COM is set to true, it is highly recommended that you provide the path to a file containing the weight matrix in (E,Λ,Pϕ_n;σ) format, e.g. from OWCF/helper/os2com.jl - String\n",
    "- filepath_tm - If enable_COM is set to true, it is highly recommended that you provide the path to a file containing the pertaining topological map - String\n",
    "- filepath_equil - The path to the .eqdsk-file with the tokamak magnetic equilibrium and geometry - String\n",
    "- diagnostic_filepath - The path to the LINE21 file containing line-of-sight data for the diagnostic - String\n",
    "- diagnostic_name - The name of the diagnostic to be visualized. For esthetic purposes. - String\n",
    "- filepath_W - The path to the .jld2/.h5 weights file, containing orbit weights (4D) to be visualized - String \n",
    "- filepath_Fos3D - The path to the 3D orbit-space fast-ion distribution to be visualized as well. Enable with plot_Fos - String\n",
    "- filepath_S - The path to the .hdf5/.jld2 synthetic signal spectrum for the diagnostic. Enable with plot_S - String\n",
    "- specFileJLD2 - If true, the app will assume the synthetic signal file is .jld2 format - Bool\n",
    "- filepath_no - The path to the 3D orbit-space fast-ion null-region boundaries. Enable with showNullOrbs - String\n",
    "- filepath_WF - The path to the WF-signal to be visualized as well. Enable with plot_WF - String\n",
    "- FI_species - The fast-ion particle species. Please see the OWCF/misc/species_func.jl file for a list of available particle species options - String\n",
    "- xlabel - The x-axis label for the WF and/or S signal to be visualized. Please specify as \"X [units]\", e.g. \"Neutron energy [keV]\" - String\n",
    "- ylabel - The y-axis label for the WF and/or S signal to be visualzed. Please specify as \"Y [units]\", e.g. \"Neutron counts [(keV*s)^-1]\". If no S or WF is specified, please leave as \"\" or nothing - String\n",
    "\n",
    "## Outputs:\n",
    "# -\n",
    "\n",
    "## Saved files:\n",
    "# - \n",
    "\n",
    "## Other:\n",
    "### Warning! Please note! \n",
    "For orbit-space grids containing more than approximately 150 000 valid orbits (e.g. 20x100x100), you should NOT use weightsWebApp.ipynb (or any other OWCF notebook). As of the current OWCF version, the web app interface simply becomes too slow. Please do instead plot the energy slices manually instead. This can be done as shown in the cell below (correctly specify folderpath_OWCF, filepath_W, filepath_tb, Ed, and E, and the cell should be able to run and plot):\n"
   ]
  },
  {
   "cell_type": "code",
   "execution_count": null,
   "id": "aa9aa813",
   "metadata": {},
   "outputs": [],
   "source": [
    "folderpath_OWCF = \"/path/to/the/folder/OWCF/\"\n",
    "filepath_W = \"/path/to/the/4D/weight/function/matrix/file.jld2\"\n",
    "filepath_tb = \"/path/to/the/topological/boundaries/file.jld2\"\n",
    "\n",
    "cd(folderpath_OWCF)\n",
    "using Pkg\n",
    "Pkg.activate(\".\")\n",
    "using JLD2\n",
    "using Plots\n",
    "\n",
    "myfile = jldopen(filepath_W, false, false, false, IOStream)\n",
    "W = myfile[\"Wtot\"]\n",
    "Ed_array = myfile[\"Ed_array\"]\n",
    "E_array = myfile[\"E_array\"]\n",
    "pm_array = myfile[\"pm_array\"]\n",
    "Rm_array = myfile[\"Rm_array\"]\n",
    "close(myfile)\n",
    "\n",
    "myfile = jldopen(filepath_tb,false,false,false,IOStream)\n",
    "topoBounds = myfile[\"topoBounds\"]\n",
    "close(myfile)\n",
    "\n",
    "Ed = 14100.0 # Example of 14.1 MeV\n",
    "E = 150.0 # Example of 150 keV\n",
    "iEd = argmin(abs.(Ed_array - Ed))\n",
    "iE = argmin(abs.(E_array - E)) # Find the closest value to E in E_array\n",
    "\n",
    "ones_carinds = findall(x-> x==1.0,topoBounds[iE,:,:])\n",
    "pm_scatvals_tb = zeros(length(ones_carinds))\n",
    "Rm_scatvals_tb = zeros(length(ones_carinds))\n",
    "for (ind,carinds) in enumerate(ones_carinds)\n",
    "    pm_scatvals_tb[ind] = pm_array[carinds[1]]\n",
    "    Rm_scatvals_tb[ind] = Rm_array[carinds[2]]\n",
    "end\n",
    "\n",
    "Plots.heatmap(Rm_array,pm_array,(W[iEd,iE,:,:])./maximum(W[iEd,iE,:,:]),colorbar=true,title=\"W ($(round(maximum(W[iEd,iE,:,:]),sigdigits=4)) = 1.0)\", fillcolor=cgrad([:white, :darkblue, :green, :yellow, :orange, :red]))\n",
    "Plots.scatter!(Rm_scatvals_tb,pm_scatvals_tb,markersize=ms,leg=false,markercolor=:black, xlabel=\"Rm [m]\", ylabel=\"pm\")"
   ]
  },
  {
   "cell_type": "markdown",
   "id": "18ae0c95",
   "metadata": {},
   "source": [
    "Furthermore, the filepath_W_COM input variable can be either an output of this weightsWebApp.ipynb notebook, or the os2com.jl OWCF tool.\n",
    "\n",
    "### Notebook written by Henrik Järleblad (henrikj@dtu.dk) and Andrea Valentini (anvalen@dtu.dk)\n",
    "### Last maintained 2025-10-07"
   ]
  },
  {
   "cell_type": "code",
   "execution_count": 1,
   "id": "6512347b",
   "metadata": {},
   "outputs": [
    {
     "data": {
      "text/plain": [
       "true"
      ]
     },
     "execution_count": 1,
     "metadata": {},
     "output_type": "execute_result"
    }
   ],
   "source": [
    "# SPECIFY THE INPUTS IN THIS CELL\n",
    "\n",
    "# Please specify the OWCF folder and let the notebook change directory to the \n",
    "# OWCF folder when the cell below is executed. This is to be able to load the\n",
    "# correct versions of the Julia packages as specified in the Project.toml and \n",
    "# Manifest.toml files.\n",
    "folderpath_OWCF = \"/home/henrikj/Codes/OWCF/\" # Finish with '/'\n",
    "\n",
    "verbose = true # If true, then the app will talk a lot!\n",
    "filepath_tb = \"/home/henrikj/Downloads/Henrik/topoBounds_JET__at53,0012s_4He_50x50x50.jld2\" # .jld2 file with orbit-space topological boundaries (see extractTopoBounds.jl, and/or calcTopoMap.jl)\n",
    "enable_COM = false # Set to true if you would like to be able to switch between (E,pm,Rm) and (E,Λ,Pϕ_n;σ). Please note! This will require extra loading time and computer resources!\n",
    "if enable_COM\n",
    "    filepath_W_COM = \"\" # If you would like to be able to switch to (E,Λ,Pϕ_n;σ), you should definitely provide the path to a file containing the orbit weight matrix mapped to COM (E,Λ,Pϕ_n;σ). This will greatly speed-up pre-app computations\n",
    "    # OR\n",
    "    filepath_tm = \"\" # If you have not computed such a file, you should at least provide the path to a topological map file. Otherwise, the orbit grid will need to be computed from scratch\n",
    "end\n",
    "filepath_equil = \"/home/henrikj/Downloads/Henrik/g96100_0-53.0012.eqdsk\" # The equilibrium file containing magnetic equilibrium data\n",
    "diagnostic_filepath = \"/home/henrikj/Downloads/Henrik/KM6T-LOS.vc\" # The file path to the LINE21 output file, containing viewing cone data for the diagnostic\n",
    "diagnostic_name = \"KM6T\" # Diagnostic sightline aestethic keyword. E.g: \"TOFOR\", \"AB\" or \"\"\n",
    "filepath_W = \"/home/henrikj/Downloads/Henrik/orbWeights4D_JET__at53,0012s_KM6T_9Be-4He--12C-n---1L_19x59603.jld2\"\n",
    "(plot_Fos = false) && (filepath_Fos3D = \"\") # Enable and specify an orbit-space fast-ion distribution file (3D-format)\n",
    "(plot_S = false) && (filepath_S = \"\") # Enable and specify a signal file to include in the plotting\n",
    "specFileJLD2 = true # Assume .jld2 file format for signal file by default. Otherwise, assume .hdf5 file format. Only applicable if plot_S==true\n",
    "(showNullOrbs = false) && (filepath_no = \"\")\n",
    "(plot_WF = false) && (filepath_WF = \"\")\n",
    "FI_species = \"4He\" # Specify with D, T, p, 3he etc\n",
    "xlabel = \"Gamma energy [keV]\" # Example neutron energy: \"Neutron energy [keV]\". Example projected velocity: \"Projected velocity [m/s]\"\n",
    "ylabel = \"Gamma Count [(keV*s)^-1]\" # Example neutron count: \"Neutron count [(keV*s)^-1]\". Example projected velocity signal: \"Projected velocity signal [m^-1]\"\n",
    "# The projected velocity signal units work because if we integrate the signal, we should get the number of counts per second. So [m^-1]*[m/s] = [s^-1]\n",
    "verbose = true"
   ]
  },
  {
   "cell_type": "code",
   "execution_count": 4,
   "id": "a2ab4bb3",
   "metadata": {},
   "outputs": [
    {
     "name": "stdout",
     "output_type": "stream",
     "text": [
      "Loading Julia packages... \n",
      "Loading the Julia packages for the OWCF dependencies... \n"
     ]
    },
    {
     "name": "stderr",
     "output_type": "stream",
     "text": [
      "\u001b[32m\u001b[1m  Activating\u001b[22m\u001b[39m project at `~/Codes/OWCF`\n"
     ]
    },
    {
     "name": "stdout",
     "output_type": "stream",
     "text": [
      "Found :max_tries key in keyword arguments for the orbit integration algorithm. Replacing with :maxiter... \n",
      "Loading Python packages... \n",
      "Loading topological boundaries... \n",
      "Loading magnetic equilibrium... \n",
      "Loading weight function (/home/henrikj/Downloads/Henrik/orbWeights4D_JET__at53,0012s_KM6T_9Be-4He--12C-n---1L_19x59603.jld2)... \n",
      "Size of OWs: (19, 50, 50, 50)\n",
      "Size of pm_array: (50,)\n",
      "Size of Rm_array: (50,)\n",
      "Size of E_array: (50,)\n",
      "Size of Ed_array: (19,)\n",
      "Size of topoBounds: (50, 50, 50)\n",
      "Loading KM6T sightline (/home/henrikj/Downloads/Henrik/KM6T-LOS.vc)... \n",
      "Switching to (E,Λ,Pϕ_n;σ) will not be possible.\n",
      "Building the web application... \n"
     ]
    },
    {
     "data": {
      "application/vnd.webio.node+json": {
       "children": [
        {
         "children": [
          {
           "children": [
            {
             "children": [
              {
               "children": [
                {
                 "children": [
                  "tokamak_wall"
                 ],
                 "instanceArgs": {
                  "namespace": "html",
                  "tag": "label"
                 },
                 "nodeType": "DOM",
                 "props": {
                  "className": "interact ",
                  "style": {
                   "padding": "5px 10px 0px 10px"
                  }
                 },
                 "type": "node"
                }
               ],
               "instanceArgs": {
                "namespace": "html",
                "tag": "div"
               },
               "nodeType": "DOM",
               "props": {
                "className": "interact-flex-row-left"
               },
               "type": "node"
              },
              {
               "children": [
                {
                 "children": [
                  {
                   "children": [
                    {
                     "children": [],
                     "instanceArgs": {
                      "namespace": "html",
                      "tag": "label"
                     },
                     "nodeType": "DOM",
                     "props": {
                      "attributes": {
                       "data-bind": "text : key"
                      }
                     },
                     "type": "node"
                    }
                   ],
                   "instanceArgs": {
                    "namespace": "html",
                    "tag": "span"
                   },
                   "nodeType": "DOM",
                   "props": {
                    "attributes": {
                     "data-bind": "click: function (){$root.update(val)}, css: {'is-primary is-selected' : $root.index() == val, 'interact-widget is-medium button ' : true}"
                    }
                   },
                   "type": "node"
                  }
                 ],
                 "instanceArgs": {
                  "namespace": "html",
                  "tag": "div"
                 },
                 "nodeType": "DOM",
                 "props": {
                  "attributes": {
                   "data-bind": "foreach : options_js"
                  },
                  "className": "buttons has-addons is-centered"
                 },
                 "type": "node"
                }
               ],
               "instanceArgs": {
                "namespace": "html",
                "tag": "div"
               },
               "nodeType": "DOM",
               "props": {
                "className": "interact-flex-row-center"
               },
               "type": "node"
              },
              {
               "children": [
                {
                 "children": [],
                 "instanceArgs": {
                  "namespace": "html",
                  "tag": "div"
                 },
                 "nodeType": "DOM",
                 "props": {},
                 "type": "node"
                }
               ],
               "instanceArgs": {
                "namespace": "html",
                "tag": "div"
               },
               "nodeType": "DOM",
               "props": {
                "className": "interact-flex-row-right"
               },
               "type": "node"
              }
             ],
             "instanceArgs": {
              "namespace": "html",
              "tag": "div"
             },
             "nodeType": "DOM",
             "props": {
              "className": "interact-flex-row interact-widget"
             },
             "type": "node"
            }
           ],
           "instanceArgs": {
            "handlers": {
             "index": [
              "(function (val){return (val!=this.model[\"index\"]()) ? (this.valueFromJulia[\"index\"]=true, this.model[\"index\"](val)) : undefined})"
             ],
             "options_js": [
              "(function (val){return (val!=this.model[\"options_js\"]()) ? (this.valueFromJulia[\"options_js\"]=true, this.model[\"options_js\"](val)) : undefined})"
             ]
            },
            "id": "4240772155633771846",
            "imports": {
             "data": [
              {
               "name": "knockout",
               "type": "js",
               "url": "/assetserver/0314215fc38f87455d25a217f081da9054de2922-knockout.js"
              },
              {
               "name": "knockout_punches",
               "type": "js",
               "url": "/assetserver/e7011e89f50940c046e57125bc6c6f723b775b34-knockout_punches.js"
              },
              {
               "name": null,
               "type": "js",
               "url": "/assetserver/58294179eb1f9db887a20c5fb63d45ade76535f4-all.js"
              },
              {
               "name": null,
               "type": "css",
               "url": "/assetserver/2ae45fa6992db70f10cf9c1e8cbfbca9bbb43bf2-style.css"
              },
              {
               "name": null,
               "type": "css",
               "url": "/assetserver/33262c934bcea44e33db6ed4c19b7f64ba19d81a-bulma_confined.min.css"
              }
             ],
             "type": "async_block"
            },
            "mount_callbacks": [
             "function () {\n    var handler = (function (ko, koPunches) {\n    ko.punches.enableAll();\n    ko.bindingHandlers.numericValue = {\n        init: function(element, valueAccessor, allBindings, data, context) {\n            var stringified = ko.observable(ko.unwrap(valueAccessor()));\n            stringified.subscribe(function(value) {\n                var val = parseFloat(value);\n                if (!isNaN(val)) {\n                    valueAccessor()(val);\n                }\n            });\n            valueAccessor().subscribe(function(value) {\n                var str = JSON.stringify(value);\n                if ((str == \"0\") && ([\"-0\", \"-0.\"].indexOf(stringified()) >= 0))\n                     return;\n                 if ([\"null\", \"\"].indexOf(str) >= 0)\n                     return;\n                stringified(str);\n            });\n            ko.applyBindingsToNode(\n                element,\n                {\n                    value: stringified,\n                    valueUpdate: allBindings.get('valueUpdate'),\n                },\n                context,\n            );\n        }\n    };\n    var json_data = {\"options_js\":WebIO.getval({\"name\":\"options_js\",\"scope\":\"4240772155633771846\",\"id\":\"111\",\"type\":\"observable\"}),\"index\":WebIO.getval({\"name\":\"index\",\"scope\":\"4240772155633771846\",\"id\":\"110\",\"type\":\"observable\"})};\n    var self = this;\n    function AppViewModel() {\n        for (var key in json_data) {\n            var el = json_data[key];\n            this[key] = Array.isArray(el) ? ko.observableArray(el) : ko.observable(el);\n        }\n        [this[\"update\"]=function (val) {this.index(val)}]\n        \n        [this[\"options_js\"].subscribe((function (val){!(this.valueFromJulia[\"options_js\"]) ? (WebIO.setval({\"name\":\"options_js\",\"scope\":\"4240772155633771846\",\"id\":\"111\",\"type\":\"observable\"},val)) : undefined; return this.valueFromJulia[\"options_js\"]=false}),self),this[\"index\"].subscribe((function (val){!(this.valueFromJulia[\"index\"]) ? (WebIO.setval({\"name\":\"index\",\"scope\":\"4240772155633771846\",\"id\":\"110\",\"type\":\"observable\"},val)) : undefined; return this.valueFromJulia[\"index\"]=false}),self)]\n        \n    }\n    self.model = new AppViewModel();\n    self.valueFromJulia = {};\n    for (var key in json_data) {\n        self.valueFromJulia[key] = false;\n    }\n    ko.applyBindings(self.model, self.dom);\n}\n);\n    (WebIO.importBlock({\"data\":[{\"name\":\"knockout\",\"type\":\"js\",\"url\":\"/assetserver/0314215fc38f87455d25a217f081da9054de2922-knockout.js\"},{\"name\":\"knockout_punches\",\"type\":\"js\",\"url\":\"/assetserver/e7011e89f50940c046e57125bc6c6f723b775b34-knockout_punches.js\"}],\"type\":\"async_block\"})).then((imports) => handler.apply(this, imports));\n}\n"
            ],
            "observables": {
             "index": {
              "id": "110",
              "sync": true,
              "value": 1
             },
             "options_js": {
              "id": "111",
              "sync": false,
              "value": [
               {
                "id": "idR7A6FGeq",
                "key": "off",
                "val": 1
               },
               {
                "id": "idEefMAiFA",
                "key": "on",
                "val": 2
               }
              ]
             }
            },
            "systemjs_options": null
           },
           "nodeType": "Scope",
           "props": {},
           "type": "node"
          }
         ],
         "instanceArgs": {
          "namespace": "html",
          "tag": "div"
         },
         "nodeType": "DOM",
         "props": {
          "className": "interact-widget"
         },
         "type": "node"
        },
        {
         "children": [
          {
           "children": [
            {
             "children": [
              {
               "children": [
                {
                 "children": [
                  "include_Fos"
                 ],
                 "instanceArgs": {
                  "namespace": "html",
                  "tag": "label"
                 },
                 "nodeType": "DOM",
                 "props": {
                  "className": "interact ",
                  "style": {
                   "padding": "5px 10px 0px 10px"
                  }
                 },
                 "type": "node"
                }
               ],
               "instanceArgs": {
                "namespace": "html",
                "tag": "div"
               },
               "nodeType": "DOM",
               "props": {
                "className": "interact-flex-row-left"
               },
               "type": "node"
              },
              {
               "children": [
                {
                 "children": [
                  {
                   "children": [
                    {
                     "children": [],
                     "instanceArgs": {
                      "namespace": "html",
                      "tag": "label"
                     },
                     "nodeType": "DOM",
                     "props": {
                      "attributes": {
                       "data-bind": "text : key"
                      }
                     },
                     "type": "node"
                    }
                   ],
                   "instanceArgs": {
                    "namespace": "html",
                    "tag": "span"
                   },
                   "nodeType": "DOM",
                   "props": {
                    "attributes": {
                     "data-bind": "click: function (){$root.update(val)}, css: {'is-primary is-selected' : $root.index() == val, 'interact-widget is-medium button ' : true}"
                    }
                   },
                   "type": "node"
                  }
                 ],
                 "instanceArgs": {
                  "namespace": "html",
                  "tag": "div"
                 },
                 "nodeType": "DOM",
                 "props": {
                  "attributes": {
                   "data-bind": "foreach : options_js"
                  },
                  "className": "buttons has-addons is-centered"
                 },
                 "type": "node"
                }
               ],
               "instanceArgs": {
                "namespace": "html",
                "tag": "div"
               },
               "nodeType": "DOM",
               "props": {
                "className": "interact-flex-row-center"
               },
               "type": "node"
              },
              {
               "children": [
                {
                 "children": [],
                 "instanceArgs": {
                  "namespace": "html",
                  "tag": "div"
                 },
                 "nodeType": "DOM",
                 "props": {},
                 "type": "node"
                }
               ],
               "instanceArgs": {
                "namespace": "html",
                "tag": "div"
               },
               "nodeType": "DOM",
               "props": {
                "className": "interact-flex-row-right"
               },
               "type": "node"
              }
             ],
             "instanceArgs": {
              "namespace": "html",
              "tag": "div"
             },
             "nodeType": "DOM",
             "props": {
              "className": "interact-flex-row interact-widget"
             },
             "type": "node"
            }
           ],
           "instanceArgs": {
            "handlers": {
             "index": [
              "(function (val){return (val!=this.model[\"index\"]()) ? (this.valueFromJulia[\"index\"]=true, this.model[\"index\"](val)) : undefined})"
             ],
             "options_js": [
              "(function (val){return (val!=this.model[\"options_js\"]()) ? (this.valueFromJulia[\"options_js\"]=true, this.model[\"options_js\"](val)) : undefined})"
             ]
            },
            "id": "17897294970163307353",
            "imports": {
             "data": [
              {
               "name": "knockout",
               "type": "js",
               "url": "/assetserver/0314215fc38f87455d25a217f081da9054de2922-knockout.js"
              },
              {
               "name": "knockout_punches",
               "type": "js",
               "url": "/assetserver/e7011e89f50940c046e57125bc6c6f723b775b34-knockout_punches.js"
              },
              {
               "name": null,
               "type": "js",
               "url": "/assetserver/58294179eb1f9db887a20c5fb63d45ade76535f4-all.js"
              },
              {
               "name": null,
               "type": "css",
               "url": "/assetserver/2ae45fa6992db70f10cf9c1e8cbfbca9bbb43bf2-style.css"
              },
              {
               "name": null,
               "type": "css",
               "url": "/assetserver/33262c934bcea44e33db6ed4c19b7f64ba19d81a-bulma_confined.min.css"
              }
             ],
             "type": "async_block"
            },
            "mount_callbacks": [
             "function () {\n    var handler = (function (ko, koPunches) {\n    ko.punches.enableAll();\n    ko.bindingHandlers.numericValue = {\n        init: function(element, valueAccessor, allBindings, data, context) {\n            var stringified = ko.observable(ko.unwrap(valueAccessor()));\n            stringified.subscribe(function(value) {\n                var val = parseFloat(value);\n                if (!isNaN(val)) {\n                    valueAccessor()(val);\n                }\n            });\n            valueAccessor().subscribe(function(value) {\n                var str = JSON.stringify(value);\n                if ((str == \"0\") && ([\"-0\", \"-0.\"].indexOf(stringified()) >= 0))\n                     return;\n                 if ([\"null\", \"\"].indexOf(str) >= 0)\n                     return;\n                stringified(str);\n            });\n            ko.applyBindingsToNode(\n                element,\n                {\n                    value: stringified,\n                    valueUpdate: allBindings.get('valueUpdate'),\n                },\n                context,\n            );\n        }\n    };\n    var json_data = {\"options_js\":WebIO.getval({\"name\":\"options_js\",\"scope\":\"17897294970163307353\",\"id\":\"116\",\"type\":\"observable\"}),\"index\":WebIO.getval({\"name\":\"index\",\"scope\":\"17897294970163307353\",\"id\":\"115\",\"type\":\"observable\"})};\n    var self = this;\n    function AppViewModel() {\n        for (var key in json_data) {\n            var el = json_data[key];\n            this[key] = Array.isArray(el) ? ko.observableArray(el) : ko.observable(el);\n        }\n        [this[\"update\"]=function (val) {this.index(val)}]\n        \n        [this[\"options_js\"].subscribe((function (val){!(this.valueFromJulia[\"options_js\"]) ? (WebIO.setval({\"name\":\"options_js\",\"scope\":\"17897294970163307353\",\"id\":\"116\",\"type\":\"observable\"},val)) : undefined; return this.valueFromJulia[\"options_js\"]=false}),self),this[\"index\"].subscribe((function (val){!(this.valueFromJulia[\"index\"]) ? (WebIO.setval({\"name\":\"index\",\"scope\":\"17897294970163307353\",\"id\":\"115\",\"type\":\"observable\"},val)) : undefined; return this.valueFromJulia[\"index\"]=false}),self)]\n        \n    }\n    self.model = new AppViewModel();\n    self.valueFromJulia = {};\n    for (var key in json_data) {\n        self.valueFromJulia[key] = false;\n    }\n    ko.applyBindings(self.model, self.dom);\n}\n);\n    (WebIO.importBlock({\"data\":[{\"name\":\"knockout\",\"type\":\"js\",\"url\":\"/assetserver/0314215fc38f87455d25a217f081da9054de2922-knockout.js\"},{\"name\":\"knockout_punches\",\"type\":\"js\",\"url\":\"/assetserver/e7011e89f50940c046e57125bc6c6f723b775b34-knockout_punches.js\"}],\"type\":\"async_block\"})).then((imports) => handler.apply(this, imports));\n}\n"
            ],
            "observables": {
             "index": {
              "id": "115",
              "sync": true,
              "value": 1
             },
             "options_js": {
              "id": "116",
              "sync": false,
              "value": [
               {
                "id": "id3XLmRk0Q",
                "key": "off",
                "val": 1
               },
               {
                "id": "idR1Ij7Anq",
                "key": "on",
                "val": 2
               }
              ]
             }
            },
            "systemjs_options": null
           },
           "nodeType": "Scope",
           "props": {},
           "type": "node"
          }
         ],
         "instanceArgs": {
          "namespace": "html",
          "tag": "div"
         },
         "nodeType": "DOM",
         "props": {
          "className": "interact-widget"
         },
         "type": "node"
        },
        {
         "children": [
          {
           "children": [
            {
             "children": [
              {
               "children": [
                {
                 "children": [
                  "colorbar_scale"
                 ],
                 "instanceArgs": {
                  "namespace": "html",
                  "tag": "label"
                 },
                 "nodeType": "DOM",
                 "props": {
                  "className": "interact ",
                  "style": {
                   "padding": "5px 10px 0px 10px"
                  }
                 },
                 "type": "node"
                }
               ],
               "instanceArgs": {
                "namespace": "html",
                "tag": "div"
               },
               "nodeType": "DOM",
               "props": {
                "className": "interact-flex-row-left"
               },
               "type": "node"
              },
              {
               "children": [
                {
                 "children": [
                  {
                   "children": [
                    {
                     "children": [],
                     "instanceArgs": {
                      "namespace": "html",
                      "tag": "label"
                     },
                     "nodeType": "DOM",
                     "props": {
                      "attributes": {
                       "data-bind": "text : key"
                      }
                     },
                     "type": "node"
                    }
                   ],
                   "instanceArgs": {
                    "namespace": "html",
                    "tag": "span"
                   },
                   "nodeType": "DOM",
                   "props": {
                    "attributes": {
                     "data-bind": "click: function (){$root.update(val)}, css: {'is-primary is-selected' : $root.index() == val, 'interact-widget is-medium button ' : true}"
                    }
                   },
                   "type": "node"
                  }
                 ],
                 "instanceArgs": {
                  "namespace": "html",
                  "tag": "div"
                 },
                 "nodeType": "DOM",
                 "props": {
                  "attributes": {
                   "data-bind": "foreach : options_js"
                  },
                  "className": "buttons has-addons is-centered"
                 },
                 "type": "node"
                }
               ],
               "instanceArgs": {
                "namespace": "html",
                "tag": "div"
               },
               "nodeType": "DOM",
               "props": {
                "className": "interact-flex-row-center"
               },
               "type": "node"
              },
              {
               "children": [
                {
                 "children": [],
                 "instanceArgs": {
                  "namespace": "html",
                  "tag": "div"
                 },
                 "nodeType": "DOM",
                 "props": {},
                 "type": "node"
                }
               ],
               "instanceArgs": {
                "namespace": "html",
                "tag": "div"
               },
               "nodeType": "DOM",
               "props": {
                "className": "interact-flex-row-right"
               },
               "type": "node"
              }
             ],
             "instanceArgs": {
              "namespace": "html",
              "tag": "div"
             },
             "nodeType": "DOM",
             "props": {
              "className": "interact-flex-row interact-widget"
             },
             "type": "node"
            }
           ],
           "instanceArgs": {
            "handlers": {
             "index": [
              "(function (val){return (val!=this.model[\"index\"]()) ? (this.valueFromJulia[\"index\"]=true, this.model[\"index\"](val)) : undefined})"
             ],
             "options_js": [
              "(function (val){return (val!=this.model[\"options_js\"]()) ? (this.valueFromJulia[\"options_js\"]=true, this.model[\"options_js\"](val)) : undefined})"
             ]
            },
            "id": "8806014308974700987",
            "imports": {
             "data": [
              {
               "name": "knockout",
               "type": "js",
               "url": "/assetserver/0314215fc38f87455d25a217f081da9054de2922-knockout.js"
              },
              {
               "name": "knockout_punches",
               "type": "js",
               "url": "/assetserver/e7011e89f50940c046e57125bc6c6f723b775b34-knockout_punches.js"
              },
              {
               "name": null,
               "type": "js",
               "url": "/assetserver/58294179eb1f9db887a20c5fb63d45ade76535f4-all.js"
              },
              {
               "name": null,
               "type": "css",
               "url": "/assetserver/2ae45fa6992db70f10cf9c1e8cbfbca9bbb43bf2-style.css"
              },
              {
               "name": null,
               "type": "css",
               "url": "/assetserver/33262c934bcea44e33db6ed4c19b7f64ba19d81a-bulma_confined.min.css"
              }
             ],
             "type": "async_block"
            },
            "mount_callbacks": [
             "function () {\n    var handler = (function (ko, koPunches) {\n    ko.punches.enableAll();\n    ko.bindingHandlers.numericValue = {\n        init: function(element, valueAccessor, allBindings, data, context) {\n            var stringified = ko.observable(ko.unwrap(valueAccessor()));\n            stringified.subscribe(function(value) {\n                var val = parseFloat(value);\n                if (!isNaN(val)) {\n                    valueAccessor()(val);\n                }\n            });\n            valueAccessor().subscribe(function(value) {\n                var str = JSON.stringify(value);\n                if ((str == \"0\") && ([\"-0\", \"-0.\"].indexOf(stringified()) >= 0))\n                     return;\n                 if ([\"null\", \"\"].indexOf(str) >= 0)\n                     return;\n                stringified(str);\n            });\n            ko.applyBindingsToNode(\n                element,\n                {\n                    value: stringified,\n                    valueUpdate: allBindings.get('valueUpdate'),\n                },\n                context,\n            );\n        }\n    };\n    var json_data = {\"options_js\":WebIO.getval({\"name\":\"options_js\",\"scope\":\"8806014308974700987\",\"id\":\"121\",\"type\":\"observable\"}),\"index\":WebIO.getval({\"name\":\"index\",\"scope\":\"8806014308974700987\",\"id\":\"120\",\"type\":\"observable\"})};\n    var self = this;\n    function AppViewModel() {\n        for (var key in json_data) {\n            var el = json_data[key];\n            this[key] = Array.isArray(el) ? ko.observableArray(el) : ko.observable(el);\n        }\n        [this[\"update\"]=function (val) {this.index(val)}]\n        \n        [this[\"options_js\"].subscribe((function (val){!(this.valueFromJulia[\"options_js\"]) ? (WebIO.setval({\"name\":\"options_js\",\"scope\":\"8806014308974700987\",\"id\":\"121\",\"type\":\"observable\"},val)) : undefined; return this.valueFromJulia[\"options_js\"]=false}),self),this[\"index\"].subscribe((function (val){!(this.valueFromJulia[\"index\"]) ? (WebIO.setval({\"name\":\"index\",\"scope\":\"8806014308974700987\",\"id\":\"120\",\"type\":\"observable\"},val)) : undefined; return this.valueFromJulia[\"index\"]=false}),self)]\n        \n    }\n    self.model = new AppViewModel();\n    self.valueFromJulia = {};\n    for (var key in json_data) {\n        self.valueFromJulia[key] = false;\n    }\n    ko.applyBindings(self.model, self.dom);\n}\n);\n    (WebIO.importBlock({\"data\":[{\"name\":\"knockout\",\"type\":\"js\",\"url\":\"/assetserver/0314215fc38f87455d25a217f081da9054de2922-knockout.js\"},{\"name\":\"knockout_punches\",\"type\":\"js\",\"url\":\"/assetserver/e7011e89f50940c046e57125bc6c6f723b775b34-knockout_punches.js\"}],\"type\":\"async_block\"})).then((imports) => handler.apply(this, imports));\n}\n"
            ],
            "observables": {
             "index": {
              "id": "120",
              "sync": true,
              "value": 1
             },
             "options_js": {
              "id": "121",
              "sync": false,
              "value": [
               {
                "id": "idIjpAharU",
                "key": "0.0-0.1",
                "val": 1
               },
               {
                "id": "idiw3mgaXo",
                "key": "0.0-1.0",
                "val": 2
               }
              ]
             }
            },
            "systemjs_options": null
           },
           "nodeType": "Scope",
           "props": {},
           "type": "node"
          }
         ],
         "instanceArgs": {
          "namespace": "html",
          "tag": "div"
         },
         "nodeType": "DOM",
         "props": {
          "className": "interact-widget"
         },
         "type": "node"
        },
        {
         "children": [
          {
           "children": [
            {
             "children": [
              {
               "children": [
                {
                 "children": [
                  "phase_space"
                 ],
                 "instanceArgs": {
                  "namespace": "html",
                  "tag": "label"
                 },
                 "nodeType": "DOM",
                 "props": {
                  "className": "interact ",
                  "style": {
                   "padding": "5px 10px 0px 10px"
                  }
                 },
                 "type": "node"
                }
               ],
               "instanceArgs": {
                "namespace": "html",
                "tag": "div"
               },
               "nodeType": "DOM",
               "props": {
                "className": "interact-flex-row-left"
               },
               "type": "node"
              },
              {
               "children": [
                {
                 "children": [
                  {
                   "children": [
                    {
                     "children": [],
                     "instanceArgs": {
                      "namespace": "html",
                      "tag": "label"
                     },
                     "nodeType": "DOM",
                     "props": {
                      "attributes": {
                       "data-bind": "text : key"
                      }
                     },
                     "type": "node"
                    }
                   ],
                   "instanceArgs": {
                    "namespace": "html",
                    "tag": "span"
                   },
                   "nodeType": "DOM",
                   "props": {
                    "attributes": {
                     "data-bind": "click: function (){$root.update(val)}, css: {'is-primary is-selected' : $root.index() == val, 'interact-widget is-medium button ' : true}"
                    }
                   },
                   "type": "node"
                  }
                 ],
                 "instanceArgs": {
                  "namespace": "html",
                  "tag": "div"
                 },
                 "nodeType": "DOM",
                 "props": {
                  "attributes": {
                   "data-bind": "foreach : options_js"
                  },
                  "className": "buttons has-addons is-centered"
                 },
                 "type": "node"
                }
               ],
               "instanceArgs": {
                "namespace": "html",
                "tag": "div"
               },
               "nodeType": "DOM",
               "props": {
                "className": "interact-flex-row-center"
               },
               "type": "node"
              },
              {
               "children": [
                {
                 "children": [],
                 "instanceArgs": {
                  "namespace": "html",
                  "tag": "div"
                 },
                 "nodeType": "DOM",
                 "props": {},
                 "type": "node"
                }
               ],
               "instanceArgs": {
                "namespace": "html",
                "tag": "div"
               },
               "nodeType": "DOM",
               "props": {
                "className": "interact-flex-row-right"
               },
               "type": "node"
              }
             ],
             "instanceArgs": {
              "namespace": "html",
              "tag": "div"
             },
             "nodeType": "DOM",
             "props": {
              "className": "interact-flex-row interact-widget"
             },
             "type": "node"
            }
           ],
           "instanceArgs": {
            "handlers": {
             "index": [
              "(function (val){return (val!=this.model[\"index\"]()) ? (this.valueFromJulia[\"index\"]=true, this.model[\"index\"](val)) : undefined})"
             ],
             "options_js": [
              "(function (val){return (val!=this.model[\"options_js\"]()) ? (this.valueFromJulia[\"options_js\"]=true, this.model[\"options_js\"](val)) : undefined})"
             ]
            },
            "id": "14285413945006531058",
            "imports": {
             "data": [
              {
               "name": "knockout",
               "type": "js",
               "url": "/assetserver/0314215fc38f87455d25a217f081da9054de2922-knockout.js"
              },
              {
               "name": "knockout_punches",
               "type": "js",
               "url": "/assetserver/e7011e89f50940c046e57125bc6c6f723b775b34-knockout_punches.js"
              },
              {
               "name": null,
               "type": "js",
               "url": "/assetserver/58294179eb1f9db887a20c5fb63d45ade76535f4-all.js"
              },
              {
               "name": null,
               "type": "css",
               "url": "/assetserver/2ae45fa6992db70f10cf9c1e8cbfbca9bbb43bf2-style.css"
              },
              {
               "name": null,
               "type": "css",
               "url": "/assetserver/33262c934bcea44e33db6ed4c19b7f64ba19d81a-bulma_confined.min.css"
              }
             ],
             "type": "async_block"
            },
            "mount_callbacks": [
             "function () {\n    var handler = (function (ko, koPunches) {\n    ko.punches.enableAll();\n    ko.bindingHandlers.numericValue = {\n        init: function(element, valueAccessor, allBindings, data, context) {\n            var stringified = ko.observable(ko.unwrap(valueAccessor()));\n            stringified.subscribe(function(value) {\n                var val = parseFloat(value);\n                if (!isNaN(val)) {\n                    valueAccessor()(val);\n                }\n            });\n            valueAccessor().subscribe(function(value) {\n                var str = JSON.stringify(value);\n                if ((str == \"0\") && ([\"-0\", \"-0.\"].indexOf(stringified()) >= 0))\n                     return;\n                 if ([\"null\", \"\"].indexOf(str) >= 0)\n                     return;\n                stringified(str);\n            });\n            ko.applyBindingsToNode(\n                element,\n                {\n                    value: stringified,\n                    valueUpdate: allBindings.get('valueUpdate'),\n                },\n                context,\n            );\n        }\n    };\n    var json_data = {\"options_js\":WebIO.getval({\"name\":\"options_js\",\"scope\":\"14285413945006531058\",\"id\":\"126\",\"type\":\"observable\"}),\"index\":WebIO.getval({\"name\":\"index\",\"scope\":\"14285413945006531058\",\"id\":\"125\",\"type\":\"observable\"})};\n    var self = this;\n    function AppViewModel() {\n        for (var key in json_data) {\n            var el = json_data[key];\n            this[key] = Array.isArray(el) ? ko.observableArray(el) : ko.observable(el);\n        }\n        [this[\"update\"]=function (val) {this.index(val)}]\n        \n        [this[\"options_js\"].subscribe((function (val){!(this.valueFromJulia[\"options_js\"]) ? (WebIO.setval({\"name\":\"options_js\",\"scope\":\"14285413945006531058\",\"id\":\"126\",\"type\":\"observable\"},val)) : undefined; return this.valueFromJulia[\"options_js\"]=false}),self),this[\"index\"].subscribe((function (val){!(this.valueFromJulia[\"index\"]) ? (WebIO.setval({\"name\":\"index\",\"scope\":\"14285413945006531058\",\"id\":\"125\",\"type\":\"observable\"},val)) : undefined; return this.valueFromJulia[\"index\"]=false}),self)]\n        \n    }\n    self.model = new AppViewModel();\n    self.valueFromJulia = {};\n    for (var key in json_data) {\n        self.valueFromJulia[key] = false;\n    }\n    ko.applyBindings(self.model, self.dom);\n}\n);\n    (WebIO.importBlock({\"data\":[{\"name\":\"knockout\",\"type\":\"js\",\"url\":\"/assetserver/0314215fc38f87455d25a217f081da9054de2922-knockout.js\"},{\"name\":\"knockout_punches\",\"type\":\"js\",\"url\":\"/assetserver/e7011e89f50940c046e57125bc6c6f723b775b34-knockout_punches.js\"}],\"type\":\"async_block\"})).then((imports) => handler.apply(this, imports));\n}\n"
            ],
            "observables": {
             "index": {
              "id": "125",
              "sync": true,
              "value": 1
             },
             "options_js": {
              "id": "126",
              "sync": false,
              "value": [
               {
                "id": "id7s3vHtm6",
                "key": "(E,pm,Rm)",
                "val": 1
               },
               {
                "id": "idgUFm9JtQ",
                "key": "(E,μ,Pϕ;σ)",
                "val": 2
               }
              ]
             }
            },
            "systemjs_options": null
           },
           "nodeType": "Scope",
           "props": {},
           "type": "node"
          }
         ],
         "instanceArgs": {
          "namespace": "html",
          "tag": "div"
         },
         "nodeType": "DOM",
         "props": {
          "className": "interact-widget"
         },
         "type": "node"
        },
        {
         "children": [
          {
           "children": [
            {
             "children": [
              {
               "children": [
                {
                 "children": [
                  "Ed"
                 ],
                 "instanceArgs": {
                  "namespace": "html",
                  "tag": "label"
                 },
                 "nodeType": "DOM",
                 "props": {
                  "className": "interact ",
                  "style": {
                   "padding": "5px 10px 0px 10px"
                  }
                 },
                 "type": "node"
                }
               ],
               "instanceArgs": {
                "namespace": "html",
                "tag": "div"
               },
               "nodeType": "DOM",
               "props": {
                "className": "interact-flex-row-left"
               },
               "type": "node"
              },
              {
               "children": [
                {
                 "children": [],
                 "instanceArgs": {
                  "namespace": "html",
                  "tag": "input"
                 },
                 "nodeType": "DOM",
                 "props": {
                  "attributes": {
                   "data-bind": "numericValue: index, valueUpdate: 'input', event: {change: function (){this.changes(this.changes()+1)}}",
                   "orient": "horizontal",
                   "type": "range"
                  },
                  "className": "slider slider is-fullwidth",
                  "max": 19,
                  "min": 1,
                  "step": 1,
                  "style": {}
                 },
                 "type": "node"
                }
               ],
               "instanceArgs": {
                "namespace": "html",
                "tag": "div"
               },
               "nodeType": "DOM",
               "props": {
                "className": "interact-flex-row-center"
               },
               "type": "node"
              },
              {
               "children": [
                {
                 "children": [],
                 "instanceArgs": {
                  "namespace": "html",
                  "tag": "p"
                 },
                 "nodeType": "DOM",
                 "props": {
                  "attributes": {
                   "data-bind": "text: formatted_val"
                  }
                 },
                 "type": "node"
                }
               ],
               "instanceArgs": {
                "namespace": "html",
                "tag": "div"
               },
               "nodeType": "DOM",
               "props": {
                "className": "interact-flex-row-right"
               },
               "type": "node"
              }
             ],
             "instanceArgs": {
              "namespace": "html",
              "tag": "div"
             },
             "nodeType": "DOM",
             "props": {
              "className": "interact-flex-row interact-widget"
             },
             "type": "node"
            }
           ],
           "instanceArgs": {
            "handlers": {
             "changes": [
              "(function (val){return (val!=this.model[\"changes\"]()) ? (this.valueFromJulia[\"changes\"]=true, this.model[\"changes\"](val)) : undefined})"
             ],
             "index": [
              "(function (val){return (val!=this.model[\"index\"]()) ? (this.valueFromJulia[\"index\"]=true, this.model[\"index\"](val)) : undefined})"
             ]
            },
            "id": "17459934805941558468",
            "imports": {
             "data": [
              {
               "name": "knockout",
               "type": "js",
               "url": "/assetserver/0314215fc38f87455d25a217f081da9054de2922-knockout.js"
              },
              {
               "name": "knockout_punches",
               "type": "js",
               "url": "/assetserver/e7011e89f50940c046e57125bc6c6f723b775b34-knockout_punches.js"
              },
              {
               "name": null,
               "type": "js",
               "url": "/assetserver/58294179eb1f9db887a20c5fb63d45ade76535f4-all.js"
              },
              {
               "name": null,
               "type": "css",
               "url": "/assetserver/2ae45fa6992db70f10cf9c1e8cbfbca9bbb43bf2-style.css"
              },
              {
               "name": null,
               "type": "css",
               "url": "/assetserver/33262c934bcea44e33db6ed4c19b7f64ba19d81a-bulma_confined.min.css"
              }
             ],
             "type": "async_block"
            },
            "mount_callbacks": [
             "function () {\n    var handler = (function (ko, koPunches) {\n    ko.punches.enableAll();\n    ko.bindingHandlers.numericValue = {\n        init: function(element, valueAccessor, allBindings, data, context) {\n            var stringified = ko.observable(ko.unwrap(valueAccessor()));\n            stringified.subscribe(function(value) {\n                var val = parseFloat(value);\n                if (!isNaN(val)) {\n                    valueAccessor()(val);\n                }\n            });\n            valueAccessor().subscribe(function(value) {\n                var str = JSON.stringify(value);\n                if ((str == \"0\") && ([\"-0\", \"-0.\"].indexOf(stringified()) >= 0))\n                     return;\n                 if ([\"null\", \"\"].indexOf(str) >= 0)\n                     return;\n                stringified(str);\n            });\n            ko.applyBindingsToNode(\n                element,\n                {\n                    value: stringified,\n                    valueUpdate: allBindings.get('valueUpdate'),\n                },\n                context,\n            );\n        }\n    };\n    var json_data = {\"formatted_vals\":[\"4025.0\",\"4075.0\",\"4125.0\",\"4175.0\",\"4225.0\",\"4275.0\",\"4325.0\",\"4375.0\",\"4425.0\",\"4475.0\",\"4525.0\",\"4575.0\",\"4625.0\",\"4675.0\",\"4725.0\",\"4775.0\",\"4825.0\",\"4875.0\",\"4925.0\"],\"changes\":WebIO.getval({\"name\":\"changes\",\"scope\":\"17459934805941558468\",\"id\":\"129\",\"type\":\"observable\"}),\"index\":WebIO.getval({\"name\":\"index\",\"scope\":\"17459934805941558468\",\"id\":\"128\",\"type\":\"observable\"})};\n    var self = this;\n    function AppViewModel() {\n        for (var key in json_data) {\n            var el = json_data[key];\n            this[key] = Array.isArray(el) ? ko.observableArray(el) : ko.observable(el);\n        }\n        \n        [this[\"formatted_val\"]=ko.computed(    function(){\n        return this.formatted_vals()[parseInt(this.index())-(1)];\n    }\n,this)]\n        [this[\"changes\"].subscribe((function (val){!(this.valueFromJulia[\"changes\"]) ? (WebIO.setval({\"name\":\"changes\",\"scope\":\"17459934805941558468\",\"id\":\"129\",\"type\":\"observable\"},val)) : undefined; return this.valueFromJulia[\"changes\"]=false}),self),this[\"index\"].subscribe((function (val){!(this.valueFromJulia[\"index\"]) ? (WebIO.setval({\"name\":\"index\",\"scope\":\"17459934805941558468\",\"id\":\"128\",\"type\":\"observable\"},val)) : undefined; return this.valueFromJulia[\"index\"]=false}),self)]\n        \n    }\n    self.model = new AppViewModel();\n    self.valueFromJulia = {};\n    for (var key in json_data) {\n        self.valueFromJulia[key] = false;\n    }\n    ko.applyBindings(self.model, self.dom);\n}\n);\n    (WebIO.importBlock({\"data\":[{\"name\":\"knockout\",\"type\":\"js\",\"url\":\"/assetserver/0314215fc38f87455d25a217f081da9054de2922-knockout.js\"},{\"name\":\"knockout_punches\",\"type\":\"js\",\"url\":\"/assetserver/e7011e89f50940c046e57125bc6c6f723b775b34-knockout_punches.js\"}],\"type\":\"async_block\"})).then((imports) => handler.apply(this, imports));\n}\n"
            ],
            "observables": {
             "changes": {
              "id": "129",
              "sync": false,
              "value": 0
             },
             "index": {
              "id": "128",
              "sync": true,
              "value": 10
             }
            },
            "systemjs_options": null
           },
           "nodeType": "Scope",
           "props": {},
           "type": "node"
          }
         ],
         "instanceArgs": {
          "namespace": "html",
          "tag": "div"
         },
         "nodeType": "DOM",
         "props": {
          "className": "field interact-widget"
         },
         "type": "node"
        },
        {
         "children": [
          {
           "children": [
            {
             "children": [
              {
               "children": [
                {
                 "children": [
                  "E"
                 ],
                 "instanceArgs": {
                  "namespace": "html",
                  "tag": "label"
                 },
                 "nodeType": "DOM",
                 "props": {
                  "className": "interact ",
                  "style": {
                   "padding": "5px 10px 0px 10px"
                  }
                 },
                 "type": "node"
                }
               ],
               "instanceArgs": {
                "namespace": "html",
                "tag": "div"
               },
               "nodeType": "DOM",
               "props": {
                "className": "interact-flex-row-left"
               },
               "type": "node"
              },
              {
               "children": [
                {
                 "children": [],
                 "instanceArgs": {
                  "namespace": "html",
                  "tag": "input"
                 },
                 "nodeType": "DOM",
                 "props": {
                  "attributes": {
                   "data-bind": "numericValue: index, valueUpdate: 'input', event: {change: function (){this.changes(this.changes()+1)}}",
                   "orient": "horizontal",
                   "type": "range"
                  },
                  "className": "slider slider is-fullwidth",
                  "max": 50,
                  "min": 1,
                  "step": 1,
                  "style": {}
                 },
                 "type": "node"
                }
               ],
               "instanceArgs": {
                "namespace": "html",
                "tag": "div"
               },
               "nodeType": "DOM",
               "props": {
                "className": "interact-flex-row-center"
               },
               "type": "node"
              },
              {
               "children": [
                {
                 "children": [],
                 "instanceArgs": {
                  "namespace": "html",
                  "tag": "p"
                 },
                 "nodeType": "DOM",
                 "props": {
                  "attributes": {
                   "data-bind": "text: formatted_val"
                  }
                 },
                 "type": "node"
                }
               ],
               "instanceArgs": {
                "namespace": "html",
                "tag": "div"
               },
               "nodeType": "DOM",
               "props": {
                "className": "interact-flex-row-right"
               },
               "type": "node"
              }
             ],
             "instanceArgs": {
              "namespace": "html",
              "tag": "div"
             },
             "nodeType": "DOM",
             "props": {
              "className": "interact-flex-row interact-widget"
             },
             "type": "node"
            }
           ],
           "instanceArgs": {
            "handlers": {
             "changes": [
              "(function (val){return (val!=this.model[\"changes\"]()) ? (this.valueFromJulia[\"changes\"]=true, this.model[\"changes\"](val)) : undefined})"
             ],
             "index": [
              "(function (val){return (val!=this.model[\"index\"]()) ? (this.valueFromJulia[\"index\"]=true, this.model[\"index\"](val)) : undefined})"
             ]
            },
            "id": "9825452884093374038",
            "imports": {
             "data": [
              {
               "name": "knockout",
               "type": "js",
               "url": "/assetserver/0314215fc38f87455d25a217f081da9054de2922-knockout.js"
              },
              {
               "name": "knockout_punches",
               "type": "js",
               "url": "/assetserver/e7011e89f50940c046e57125bc6c6f723b775b34-knockout_punches.js"
              },
              {
               "name": null,
               "type": "js",
               "url": "/assetserver/58294179eb1f9db887a20c5fb63d45ade76535f4-all.js"
              },
              {
               "name": null,
               "type": "css",
               "url": "/assetserver/2ae45fa6992db70f10cf9c1e8cbfbca9bbb43bf2-style.css"
              },
              {
               "name": null,
               "type": "css",
               "url": "/assetserver/33262c934bcea44e33db6ed4c19b7f64ba19d81a-bulma_confined.min.css"
              }
             ],
             "type": "async_block"
            },
            "mount_callbacks": [
             "function () {\n    var handler = (function (ko, koPunches) {\n    ko.punches.enableAll();\n    ko.bindingHandlers.numericValue = {\n        init: function(element, valueAccessor, allBindings, data, context) {\n            var stringified = ko.observable(ko.unwrap(valueAccessor()));\n            stringified.subscribe(function(value) {\n                var val = parseFloat(value);\n                if (!isNaN(val)) {\n                    valueAccessor()(val);\n                }\n            });\n            valueAccessor().subscribe(function(value) {\n                var str = JSON.stringify(value);\n                if ((str == \"0\") && ([\"-0\", \"-0.\"].indexOf(stringified()) >= 0))\n                     return;\n                 if ([\"null\", \"\"].indexOf(str) >= 0)\n                     return;\n                stringified(str);\n            });\n            ko.applyBindingsToNode(\n                element,\n                {\n                    value: stringified,\n                    valueUpdate: allBindings.get('valueUpdate'),\n                },\n                context,\n            );\n        }\n    };\n    var json_data = {\"formatted_vals\":[\"0.0\",\"81.6327\",\"163.265\",\"244.898\",\"326.531\",\"408.163\",\"489.796\",\"571.429\",\"653.061\",\"734.694\",\"816.327\",\"897.959\",\"979.592\",\"1061.22\",\"1142.86\",\"1224.49\",\"1306.12\",\"1387.76\",\"1469.39\",\"1551.02\",\"1632.65\",\"1714.29\",\"1795.92\",\"1877.55\",\"1959.18\",\"2040.82\",\"2122.45\",\"2204.08\",\"2285.71\",\"2367.35\",\"2448.98\",\"2530.61\",\"2612.24\",\"2693.88\",\"2775.51\",\"2857.14\",\"2938.78\",\"3020.41\",\"3102.04\",\"3183.67\",\"3265.31\",\"3346.94\",\"3428.57\",\"3510.2\",\"3591.84\",\"3673.47\",\"3755.1\",\"3836.73\",\"3918.37\",\"4000.0\"],\"changes\":WebIO.getval({\"name\":\"changes\",\"scope\":\"9825452884093374038\",\"id\":\"132\",\"type\":\"observable\"}),\"index\":WebIO.getval({\"name\":\"index\",\"scope\":\"9825452884093374038\",\"id\":\"131\",\"type\":\"observable\"})};\n    var self = this;\n    function AppViewModel() {\n        for (var key in json_data) {\n            var el = json_data[key];\n            this[key] = Array.isArray(el) ? ko.observableArray(el) : ko.observable(el);\n        }\n        \n        [this[\"formatted_val\"]=ko.computed(    function(){\n        return this.formatted_vals()[parseInt(this.index())-(1)];\n    }\n,this)]\n        [this[\"changes\"].subscribe((function (val){!(this.valueFromJulia[\"changes\"]) ? (WebIO.setval({\"name\":\"changes\",\"scope\":\"9825452884093374038\",\"id\":\"132\",\"type\":\"observable\"},val)) : undefined; return this.valueFromJulia[\"changes\"]=false}),self),this[\"index\"].subscribe((function (val){!(this.valueFromJulia[\"index\"]) ? (WebIO.setval({\"name\":\"index\",\"scope\":\"9825452884093374038\",\"id\":\"131\",\"type\":\"observable\"},val)) : undefined; return this.valueFromJulia[\"index\"]=false}),self)]\n        \n    }\n    self.model = new AppViewModel();\n    self.valueFromJulia = {};\n    for (var key in json_data) {\n        self.valueFromJulia[key] = false;\n    }\n    ko.applyBindings(self.model, self.dom);\n}\n);\n    (WebIO.importBlock({\"data\":[{\"name\":\"knockout\",\"type\":\"js\",\"url\":\"/assetserver/0314215fc38f87455d25a217f081da9054de2922-knockout.js\"},{\"name\":\"knockout_punches\",\"type\":\"js\",\"url\":\"/assetserver/e7011e89f50940c046e57125bc6c6f723b775b34-knockout_punches.js\"}],\"type\":\"async_block\"})).then((imports) => handler.apply(this, imports));\n}\n"
            ],
            "observables": {
             "changes": {
              "id": "132",
              "sync": false,
              "value": 0
             },
             "index": {
              "id": "131",
              "sync": true,
              "value": 25
             }
            },
            "systemjs_options": null
           },
           "nodeType": "Scope",
           "props": {},
           "type": "node"
          }
         ],
         "instanceArgs": {
          "namespace": "html",
          "tag": "div"
         },
         "nodeType": "DOM",
         "props": {
          "className": "field interact-widget"
         },
         "type": "node"
        },
        {
         "children": [
          {
           "children": [
            {
             "children": [
              {
               "children": [
                {
                 "children": [
                  "pm"
                 ],
                 "instanceArgs": {
                  "namespace": "html",
                  "tag": "label"
                 },
                 "nodeType": "DOM",
                 "props": {
                  "className": "interact ",
                  "style": {
                   "padding": "5px 10px 0px 10px"
                  }
                 },
                 "type": "node"
                }
               ],
               "instanceArgs": {
                "namespace": "html",
                "tag": "div"
               },
               "nodeType": "DOM",
               "props": {
                "className": "interact-flex-row-left"
               },
               "type": "node"
              },
              {
               "children": [
                {
                 "children": [],
                 "instanceArgs": {
                  "namespace": "html",
                  "tag": "input"
                 },
                 "nodeType": "DOM",
                 "props": {
                  "attributes": {
                   "data-bind": "numericValue: index, valueUpdate: 'input', event: {change: function (){this.changes(this.changes()+1)}}",
                   "orient": "horizontal",
                   "type": "range"
                  },
                  "className": "slider slider is-fullwidth",
                  "max": 50,
                  "min": 1,
                  "step": 1,
                  "style": {}
                 },
                 "type": "node"
                }
               ],
               "instanceArgs": {
                "namespace": "html",
                "tag": "div"
               },
               "nodeType": "DOM",
               "props": {
                "className": "interact-flex-row-center"
               },
               "type": "node"
              },
              {
               "children": [
                {
                 "children": [],
                 "instanceArgs": {
                  "namespace": "html",
                  "tag": "p"
                 },
                 "nodeType": "DOM",
                 "props": {
                  "attributes": {
                   "data-bind": "text: formatted_val"
                  }
                 },
                 "type": "node"
                }
               ],
               "instanceArgs": {
                "namespace": "html",
                "tag": "div"
               },
               "nodeType": "DOM",
               "props": {
                "className": "interact-flex-row-right"
               },
               "type": "node"
              }
             ],
             "instanceArgs": {
              "namespace": "html",
              "tag": "div"
             },
             "nodeType": "DOM",
             "props": {
              "className": "interact-flex-row interact-widget"
             },
             "type": "node"
            }
           ],
           "instanceArgs": {
            "handlers": {
             "changes": [
              "(function (val){return (val!=this.model[\"changes\"]()) ? (this.valueFromJulia[\"changes\"]=true, this.model[\"changes\"](val)) : undefined})"
             ],
             "index": [
              "(function (val){return (val!=this.model[\"index\"]()) ? (this.valueFromJulia[\"index\"]=true, this.model[\"index\"](val)) : undefined})"
             ]
            },
            "id": "17650277609722783127",
            "imports": {
             "data": [
              {
               "name": "knockout",
               "type": "js",
               "url": "/assetserver/0314215fc38f87455d25a217f081da9054de2922-knockout.js"
              },
              {
               "name": "knockout_punches",
               "type": "js",
               "url": "/assetserver/e7011e89f50940c046e57125bc6c6f723b775b34-knockout_punches.js"
              },
              {
               "name": null,
               "type": "js",
               "url": "/assetserver/58294179eb1f9db887a20c5fb63d45ade76535f4-all.js"
              },
              {
               "name": null,
               "type": "css",
               "url": "/assetserver/2ae45fa6992db70f10cf9c1e8cbfbca9bbb43bf2-style.css"
              },
              {
               "name": null,
               "type": "css",
               "url": "/assetserver/33262c934bcea44e33db6ed4c19b7f64ba19d81a-bulma_confined.min.css"
              }
             ],
             "type": "async_block"
            },
            "mount_callbacks": [
             "function () {\n    var handler = (function (ko, koPunches) {\n    ko.punches.enableAll();\n    ko.bindingHandlers.numericValue = {\n        init: function(element, valueAccessor, allBindings, data, context) {\n            var stringified = ko.observable(ko.unwrap(valueAccessor()));\n            stringified.subscribe(function(value) {\n                var val = parseFloat(value);\n                if (!isNaN(val)) {\n                    valueAccessor()(val);\n                }\n            });\n            valueAccessor().subscribe(function(value) {\n                var str = JSON.stringify(value);\n                if ((str == \"0\") && ([\"-0\", \"-0.\"].indexOf(stringified()) >= 0))\n                     return;\n                 if ([\"null\", \"\"].indexOf(str) >= 0)\n                     return;\n                stringified(str);\n            });\n            ko.applyBindingsToNode(\n                element,\n                {\n                    value: stringified,\n                    valueUpdate: allBindings.get('valueUpdate'),\n                },\n                context,\n            );\n        }\n    };\n    var json_data = {\"formatted_vals\":[\"-1.0\",\"-0.959184\",\"-0.918367\",\"-0.877551\",\"-0.836735\",\"-0.795918\",\"-0.755102\",\"-0.714286\",\"-0.673469\",\"-0.632653\",\"-0.591837\",\"-0.55102\",\"-0.510204\",\"-0.469388\",\"-0.428571\",\"-0.387755\",\"-0.346939\",\"-0.306122\",\"-0.265306\",\"-0.22449\",\"-0.183673\",\"-0.142857\",\"-0.102041\",\"-0.0612245\",\"-0.0204082\",\"0.0204082\",\"0.0612245\",\"0.102041\",\"0.142857\",\"0.183673\",\"0.22449\",\"0.265306\",\"0.306122\",\"0.346939\",\"0.387755\",\"0.428571\",\"0.469388\",\"0.510204\",\"0.55102\",\"0.591837\",\"0.632653\",\"0.673469\",\"0.714286\",\"0.755102\",\"0.795918\",\"0.836735\",\"0.877551\",\"0.918367\",\"0.959184\",\"1.0\"],\"changes\":WebIO.getval({\"name\":\"changes\",\"scope\":\"17650277609722783127\",\"id\":\"135\",\"type\":\"observable\"}),\"index\":WebIO.getval({\"name\":\"index\",\"scope\":\"17650277609722783127\",\"id\":\"134\",\"type\":\"observable\"})};\n    var self = this;\n    function AppViewModel() {\n        for (var key in json_data) {\n            var el = json_data[key];\n            this[key] = Array.isArray(el) ? ko.observableArray(el) : ko.observable(el);\n        }\n        \n        [this[\"formatted_val\"]=ko.computed(    function(){\n        return this.formatted_vals()[parseInt(this.index())-(1)];\n    }\n,this)]\n        [this[\"changes\"].subscribe((function (val){!(this.valueFromJulia[\"changes\"]) ? (WebIO.setval({\"name\":\"changes\",\"scope\":\"17650277609722783127\",\"id\":\"135\",\"type\":\"observable\"},val)) : undefined; return this.valueFromJulia[\"changes\"]=false}),self),this[\"index\"].subscribe((function (val){!(this.valueFromJulia[\"index\"]) ? (WebIO.setval({\"name\":\"index\",\"scope\":\"17650277609722783127\",\"id\":\"134\",\"type\":\"observable\"},val)) : undefined; return this.valueFromJulia[\"index\"]=false}),self)]\n        \n    }\n    self.model = new AppViewModel();\n    self.valueFromJulia = {};\n    for (var key in json_data) {\n        self.valueFromJulia[key] = false;\n    }\n    ko.applyBindings(self.model, self.dom);\n}\n);\n    (WebIO.importBlock({\"data\":[{\"name\":\"knockout\",\"type\":\"js\",\"url\":\"/assetserver/0314215fc38f87455d25a217f081da9054de2922-knockout.js\"},{\"name\":\"knockout_punches\",\"type\":\"js\",\"url\":\"/assetserver/e7011e89f50940c046e57125bc6c6f723b775b34-knockout_punches.js\"}],\"type\":\"async_block\"})).then((imports) => handler.apply(this, imports));\n}\n"
            ],
            "observables": {
             "changes": {
              "id": "135",
              "sync": false,
              "value": 0
             },
             "index": {
              "id": "134",
              "sync": true,
              "value": 25
             }
            },
            "systemjs_options": null
           },
           "nodeType": "Scope",
           "props": {},
           "type": "node"
          }
         ],
         "instanceArgs": {
          "namespace": "html",
          "tag": "div"
         },
         "nodeType": "DOM",
         "props": {
          "className": "field interact-widget"
         },
         "type": "node"
        },
        {
         "children": [
          {
           "children": [
            {
             "children": [
              {
               "children": [
                {
                 "children": [
                  "Rm"
                 ],
                 "instanceArgs": {
                  "namespace": "html",
                  "tag": "label"
                 },
                 "nodeType": "DOM",
                 "props": {
                  "className": "interact ",
                  "style": {
                   "padding": "5px 10px 0px 10px"
                  }
                 },
                 "type": "node"
                }
               ],
               "instanceArgs": {
                "namespace": "html",
                "tag": "div"
               },
               "nodeType": "DOM",
               "props": {
                "className": "interact-flex-row-left"
               },
               "type": "node"
              },
              {
               "children": [
                {
                 "children": [],
                 "instanceArgs": {
                  "namespace": "html",
                  "tag": "input"
                 },
                 "nodeType": "DOM",
                 "props": {
                  "attributes": {
                   "data-bind": "numericValue: index, valueUpdate: 'input', event: {change: function (){this.changes(this.changes()+1)}}",
                   "orient": "horizontal",
                   "type": "range"
                  },
                  "className": "slider slider is-fullwidth",
                  "max": 50,
                  "min": 1,
                  "step": 1,
                  "style": {}
                 },
                 "type": "node"
                }
               ],
               "instanceArgs": {
                "namespace": "html",
                "tag": "div"
               },
               "nodeType": "DOM",
               "props": {
                "className": "interact-flex-row-center"
               },
               "type": "node"
              },
              {
               "children": [
                {
                 "children": [],
                 "instanceArgs": {
                  "namespace": "html",
                  "tag": "p"
                 },
                 "nodeType": "DOM",
                 "props": {
                  "attributes": {
                   "data-bind": "text: formatted_val"
                  }
                 },
                 "type": "node"
                }
               ],
               "instanceArgs": {
                "namespace": "html",
                "tag": "div"
               },
               "nodeType": "DOM",
               "props": {
                "className": "interact-flex-row-right"
               },
               "type": "node"
              }
             ],
             "instanceArgs": {
              "namespace": "html",
              "tag": "div"
             },
             "nodeType": "DOM",
             "props": {
              "className": "interact-flex-row interact-widget"
             },
             "type": "node"
            }
           ],
           "instanceArgs": {
            "handlers": {
             "changes": [
              "(function (val){return (val!=this.model[\"changes\"]()) ? (this.valueFromJulia[\"changes\"]=true, this.model[\"changes\"](val)) : undefined})"
             ],
             "index": [
              "(function (val){return (val!=this.model[\"index\"]()) ? (this.valueFromJulia[\"index\"]=true, this.model[\"index\"](val)) : undefined})"
             ]
            },
            "id": "10520908209616695256",
            "imports": {
             "data": [
              {
               "name": "knockout",
               "type": "js",
               "url": "/assetserver/0314215fc38f87455d25a217f081da9054de2922-knockout.js"
              },
              {
               "name": "knockout_punches",
               "type": "js",
               "url": "/assetserver/e7011e89f50940c046e57125bc6c6f723b775b34-knockout_punches.js"
              },
              {
               "name": null,
               "type": "js",
               "url": "/assetserver/58294179eb1f9db887a20c5fb63d45ade76535f4-all.js"
              },
              {
               "name": null,
               "type": "css",
               "url": "/assetserver/2ae45fa6992db70f10cf9c1e8cbfbca9bbb43bf2-style.css"
              },
              {
               "name": null,
               "type": "css",
               "url": "/assetserver/33262c934bcea44e33db6ed4c19b7f64ba19d81a-bulma_confined.min.css"
              }
             ],
             "type": "async_block"
            },
            "mount_callbacks": [
             "function () {\n    var handler = (function (ko, koPunches) {\n    ko.punches.enableAll();\n    ko.bindingHandlers.numericValue = {\n        init: function(element, valueAccessor, allBindings, data, context) {\n            var stringified = ko.observable(ko.unwrap(valueAccessor()));\n            stringified.subscribe(function(value) {\n                var val = parseFloat(value);\n                if (!isNaN(val)) {\n                    valueAccessor()(val);\n                }\n            });\n            valueAccessor().subscribe(function(value) {\n                var str = JSON.stringify(value);\n                if ((str == \"0\") && ([\"-0\", \"-0.\"].indexOf(stringified()) >= 0))\n                     return;\n                 if ([\"null\", \"\"].indexOf(str) >= 0)\n                     return;\n                stringified(str);\n            });\n            ko.applyBindingsToNode(\n                element,\n                {\n                    value: stringified,\n                    valueUpdate: allBindings.get('valueUpdate'),\n                },\n                context,\n            );\n        }\n    };\n    var json_data = {\"formatted_vals\":[\"2.76723\",\"2.79017\",\"2.81311\",\"2.83606\",\"2.859\",\"2.88194\",\"2.90489\",\"2.92783\",\"2.95077\",\"2.97372\",\"2.99666\",\"3.0196\",\"3.04255\",\"3.06549\",\"3.08843\",\"3.11137\",\"3.13432\",\"3.15726\",\"3.1802\",\"3.20315\",\"3.22609\",\"3.24903\",\"3.27198\",\"3.29492\",\"3.31786\",\"3.34081\",\"3.36375\",\"3.38669\",\"3.40963\",\"3.43258\",\"3.45552\",\"3.47846\",\"3.50141\",\"3.52435\",\"3.54729\",\"3.57024\",\"3.59318\",\"3.61612\",\"3.63907\",\"3.66201\",\"3.68495\",\"3.7079\",\"3.73084\",\"3.75378\",\"3.77672\",\"3.79967\",\"3.82261\",\"3.84555\",\"3.8685\",\"3.89144\"],\"changes\":WebIO.getval({\"name\":\"changes\",\"scope\":\"10520908209616695256\",\"id\":\"138\",\"type\":\"observable\"}),\"index\":WebIO.getval({\"name\":\"index\",\"scope\":\"10520908209616695256\",\"id\":\"137\",\"type\":\"observable\"})};\n    var self = this;\n    function AppViewModel() {\n        for (var key in json_data) {\n            var el = json_data[key];\n            this[key] = Array.isArray(el) ? ko.observableArray(el) : ko.observable(el);\n        }\n        \n        [this[\"formatted_val\"]=ko.computed(    function(){\n        return this.formatted_vals()[parseInt(this.index())-(1)];\n    }\n,this)]\n        [this[\"changes\"].subscribe((function (val){!(this.valueFromJulia[\"changes\"]) ? (WebIO.setval({\"name\":\"changes\",\"scope\":\"10520908209616695256\",\"id\":\"138\",\"type\":\"observable\"},val)) : undefined; return this.valueFromJulia[\"changes\"]=false}),self),this[\"index\"].subscribe((function (val){!(this.valueFromJulia[\"index\"]) ? (WebIO.setval({\"name\":\"index\",\"scope\":\"10520908209616695256\",\"id\":\"137\",\"type\":\"observable\"},val)) : undefined; return this.valueFromJulia[\"index\"]=false}),self)]\n        \n    }\n    self.model = new AppViewModel();\n    self.valueFromJulia = {};\n    for (var key in json_data) {\n        self.valueFromJulia[key] = false;\n    }\n    ko.applyBindings(self.model, self.dom);\n}\n);\n    (WebIO.importBlock({\"data\":[{\"name\":\"knockout\",\"type\":\"js\",\"url\":\"/assetserver/0314215fc38f87455d25a217f081da9054de2922-knockout.js\"},{\"name\":\"knockout_punches\",\"type\":\"js\",\"url\":\"/assetserver/e7011e89f50940c046e57125bc6c6f723b775b34-knockout_punches.js\"}],\"type\":\"async_block\"})).then((imports) => handler.apply(this, imports));\n}\n"
            ],
            "observables": {
             "changes": {
              "id": "138",
              "sync": false,
              "value": 0
             },
             "index": {
              "id": "137",
              "sync": true,
              "value": 25
             }
            },
            "systemjs_options": null
           },
           "nodeType": "Scope",
           "props": {},
           "type": "node"
          }
         ],
         "instanceArgs": {
          "namespace": "html",
          "tag": "div"
         },
         "nodeType": "DOM",
         "props": {
          "className": "field interact-widget"
         },
         "type": "node"
        },
        {
         "children": [
          {
           "children": [
            {
             "children": [
              {
               "children": [
                {
                 "children": [
                  "irec"
                 ],
                 "instanceArgs": {
                  "namespace": "html",
                  "tag": "label"
                 },
                 "nodeType": "DOM",
                 "props": {
                  "className": "interact ",
                  "style": {
                   "padding": "5px 10px 0px 10px"
                  }
                 },
                 "type": "node"
                }
               ],
               "instanceArgs": {
                "namespace": "html",
                "tag": "div"
               },
               "nodeType": "DOM",
               "props": {
                "className": "interact-flex-row-left"
               },
               "type": "node"
              },
              {
               "children": [
                {
                 "children": [],
                 "instanceArgs": {
                  "namespace": "html",
                  "tag": "input"
                 },
                 "nodeType": "DOM",
                 "props": {
                  "attributes": {
                   "data-bind": "numericValue: index, valueUpdate: 'input', event: {change: function (){this.changes(this.changes()+1)}}",
                   "orient": "horizontal",
                   "type": "range"
                  },
                  "className": "slider slider is-fullwidth",
                  "max": 1,
                  "min": 1,
                  "step": 1,
                  "style": {}
                 },
                 "type": "node"
                }
               ],
               "instanceArgs": {
                "namespace": "html",
                "tag": "div"
               },
               "nodeType": "DOM",
               "props": {
                "className": "interact-flex-row-center"
               },
               "type": "node"
              },
              {
               "children": [
                {
                 "children": [],
                 "instanceArgs": {
                  "namespace": "html",
                  "tag": "p"
                 },
                 "nodeType": "DOM",
                 "props": {
                  "attributes": {
                   "data-bind": "text: formatted_val"
                  }
                 },
                 "type": "node"
                }
               ],
               "instanceArgs": {
                "namespace": "html",
                "tag": "div"
               },
               "nodeType": "DOM",
               "props": {
                "className": "interact-flex-row-right"
               },
               "type": "node"
              }
             ],
             "instanceArgs": {
              "namespace": "html",
              "tag": "div"
             },
             "nodeType": "DOM",
             "props": {
              "className": "interact-flex-row interact-widget"
             },
             "type": "node"
            }
           ],
           "instanceArgs": {
            "handlers": {
             "changes": [
              "(function (val){return (val!=this.model[\"changes\"]()) ? (this.valueFromJulia[\"changes\"]=true, this.model[\"changes\"](val)) : undefined})"
             ],
             "index": [
              "(function (val){return (val!=this.model[\"index\"]()) ? (this.valueFromJulia[\"index\"]=true, this.model[\"index\"](val)) : undefined})"
             ]
            },
            "id": "16235282034041118110",
            "imports": {
             "data": [
              {
               "name": "knockout",
               "type": "js",
               "url": "/assetserver/0314215fc38f87455d25a217f081da9054de2922-knockout.js"
              },
              {
               "name": "knockout_punches",
               "type": "js",
               "url": "/assetserver/e7011e89f50940c046e57125bc6c6f723b775b34-knockout_punches.js"
              },
              {
               "name": null,
               "type": "js",
               "url": "/assetserver/58294179eb1f9db887a20c5fb63d45ade76535f4-all.js"
              },
              {
               "name": null,
               "type": "css",
               "url": "/assetserver/2ae45fa6992db70f10cf9c1e8cbfbca9bbb43bf2-style.css"
              },
              {
               "name": null,
               "type": "css",
               "url": "/assetserver/33262c934bcea44e33db6ed4c19b7f64ba19d81a-bulma_confined.min.css"
              }
             ],
             "type": "async_block"
            },
            "mount_callbacks": [
             "function () {\n    var handler = (function (ko, koPunches) {\n    ko.punches.enableAll();\n    ko.bindingHandlers.numericValue = {\n        init: function(element, valueAccessor, allBindings, data, context) {\n            var stringified = ko.observable(ko.unwrap(valueAccessor()));\n            stringified.subscribe(function(value) {\n                var val = parseFloat(value);\n                if (!isNaN(val)) {\n                    valueAccessor()(val);\n                }\n            });\n            valueAccessor().subscribe(function(value) {\n                var str = JSON.stringify(value);\n                if ((str == \"0\") && ([\"-0\", \"-0.\"].indexOf(stringified()) >= 0))\n                     return;\n                 if ([\"null\", \"\"].indexOf(str) >= 0)\n                     return;\n                stringified(str);\n            });\n            ko.applyBindingsToNode(\n                element,\n                {\n                    value: stringified,\n                    valueUpdate: allBindings.get('valueUpdate'),\n                },\n                context,\n            );\n        }\n    };\n    var json_data = {\"formatted_vals\":[\"1\"],\"changes\":WebIO.getval({\"name\":\"changes\",\"scope\":\"16235282034041118110\",\"id\":\"141\",\"type\":\"observable\"}),\"index\":WebIO.getval({\"name\":\"index\",\"scope\":\"16235282034041118110\",\"id\":\"140\",\"type\":\"observable\"})};\n    var self = this;\n    function AppViewModel() {\n        for (var key in json_data) {\n            var el = json_data[key];\n            this[key] = Array.isArray(el) ? ko.observableArray(el) : ko.observable(el);\n        }\n        \n        [this[\"formatted_val\"]=ko.computed(    function(){\n        return this.formatted_vals()[parseInt(this.index())-(1)];\n    }\n,this)]\n        [this[\"changes\"].subscribe((function (val){!(this.valueFromJulia[\"changes\"]) ? (WebIO.setval({\"name\":\"changes\",\"scope\":\"16235282034041118110\",\"id\":\"141\",\"type\":\"observable\"},val)) : undefined; return this.valueFromJulia[\"changes\"]=false}),self),this[\"index\"].subscribe((function (val){!(this.valueFromJulia[\"index\"]) ? (WebIO.setval({\"name\":\"index\",\"scope\":\"16235282034041118110\",\"id\":\"140\",\"type\":\"observable\"},val)) : undefined; return this.valueFromJulia[\"index\"]=false}),self)]\n        \n    }\n    self.model = new AppViewModel();\n    self.valueFromJulia = {};\n    for (var key in json_data) {\n        self.valueFromJulia[key] = false;\n    }\n    ko.applyBindings(self.model, self.dom);\n}\n);\n    (WebIO.importBlock({\"data\":[{\"name\":\"knockout\",\"type\":\"js\",\"url\":\"/assetserver/0314215fc38f87455d25a217f081da9054de2922-knockout.js\"},{\"name\":\"knockout_punches\",\"type\":\"js\",\"url\":\"/assetserver/e7011e89f50940c046e57125bc6c6f723b775b34-knockout_punches.js\"}],\"type\":\"async_block\"})).then((imports) => handler.apply(this, imports));\n}\n"
            ],
            "observables": {
             "changes": {
              "id": "141",
              "sync": false,
              "value": 0
             },
             "index": {
              "id": "140",
              "sync": true,
              "value": 1
             }
            },
            "systemjs_options": null
           },
           "nodeType": "Scope",
           "props": {},
           "type": "node"
          }
         ],
         "instanceArgs": {
          "namespace": "html",
          "tag": "div"
         },
         "nodeType": "DOM",
         "props": {
          "className": "field interact-widget"
         },
         "type": "node"
        },
        {
         "children": [
          {
           "children": [
            {
             "children": [
              {
               "children": [
                {
                 "children": [
                  "save_plots"
                 ],
                 "instanceArgs": {
                  "namespace": "html",
                  "tag": "label"
                 },
                 "nodeType": "DOM",
                 "props": {
                  "className": "interact ",
                  "style": {
                   "padding": "5px 10px 0px 10px"
                  }
                 },
                 "type": "node"
                }
               ],
               "instanceArgs": {
                "namespace": "html",
                "tag": "div"
               },
               "nodeType": "DOM",
               "props": {
                "className": "interact-flex-row-left"
               },
               "type": "node"
              },
              {
               "children": [
                {
                 "children": [
                  {
                   "children": [
                    {
                     "children": [],
                     "instanceArgs": {
                      "namespace": "html",
                      "tag": "label"
                     },
                     "nodeType": "DOM",
                     "props": {
                      "attributes": {
                       "data-bind": "text : key"
                      }
                     },
                     "type": "node"
                    }
                   ],
                   "instanceArgs": {
                    "namespace": "html",
                    "tag": "span"
                   },
                   "nodeType": "DOM",
                   "props": {
                    "attributes": {
                     "data-bind": "click: function (){$root.update(val)}, css: {'is-primary is-selected' : $root.index() == val, 'interact-widget is-medium button ' : true}"
                    }
                   },
                   "type": "node"
                  }
                 ],
                 "instanceArgs": {
                  "namespace": "html",
                  "tag": "div"
                 },
                 "nodeType": "DOM",
                 "props": {
                  "attributes": {
                   "data-bind": "foreach : options_js"
                  },
                  "className": "buttons has-addons is-centered"
                 },
                 "type": "node"
                }
               ],
               "instanceArgs": {
                "namespace": "html",
                "tag": "div"
               },
               "nodeType": "DOM",
               "props": {
                "className": "interact-flex-row-center"
               },
               "type": "node"
              },
              {
               "children": [
                {
                 "children": [],
                 "instanceArgs": {
                  "namespace": "html",
                  "tag": "div"
                 },
                 "nodeType": "DOM",
                 "props": {},
                 "type": "node"
                }
               ],
               "instanceArgs": {
                "namespace": "html",
                "tag": "div"
               },
               "nodeType": "DOM",
               "props": {
                "className": "interact-flex-row-right"
               },
               "type": "node"
              }
             ],
             "instanceArgs": {
              "namespace": "html",
              "tag": "div"
             },
             "nodeType": "DOM",
             "props": {
              "className": "interact-flex-row interact-widget"
             },
             "type": "node"
            }
           ],
           "instanceArgs": {
            "handlers": {
             "index": [
              "(function (val){return (val!=this.model[\"index\"]()) ? (this.valueFromJulia[\"index\"]=true, this.model[\"index\"](val)) : undefined})"
             ],
             "options_js": [
              "(function (val){return (val!=this.model[\"options_js\"]()) ? (this.valueFromJulia[\"options_js\"]=true, this.model[\"options_js\"](val)) : undefined})"
             ]
            },
            "id": "11576845638025054878",
            "imports": {
             "data": [
              {
               "name": "knockout",
               "type": "js",
               "url": "/assetserver/0314215fc38f87455d25a217f081da9054de2922-knockout.js"
              },
              {
               "name": "knockout_punches",
               "type": "js",
               "url": "/assetserver/e7011e89f50940c046e57125bc6c6f723b775b34-knockout_punches.js"
              },
              {
               "name": null,
               "type": "js",
               "url": "/assetserver/58294179eb1f9db887a20c5fb63d45ade76535f4-all.js"
              },
              {
               "name": null,
               "type": "css",
               "url": "/assetserver/2ae45fa6992db70f10cf9c1e8cbfbca9bbb43bf2-style.css"
              },
              {
               "name": null,
               "type": "css",
               "url": "/assetserver/33262c934bcea44e33db6ed4c19b7f64ba19d81a-bulma_confined.min.css"
              }
             ],
             "type": "async_block"
            },
            "mount_callbacks": [
             "function () {\n    var handler = (function (ko, koPunches) {\n    ko.punches.enableAll();\n    ko.bindingHandlers.numericValue = {\n        init: function(element, valueAccessor, allBindings, data, context) {\n            var stringified = ko.observable(ko.unwrap(valueAccessor()));\n            stringified.subscribe(function(value) {\n                var val = parseFloat(value);\n                if (!isNaN(val)) {\n                    valueAccessor()(val);\n                }\n            });\n            valueAccessor().subscribe(function(value) {\n                var str = JSON.stringify(value);\n                if ((str == \"0\") && ([\"-0\", \"-0.\"].indexOf(stringified()) >= 0))\n                     return;\n                 if ([\"null\", \"\"].indexOf(str) >= 0)\n                     return;\n                stringified(str);\n            });\n            ko.applyBindingsToNode(\n                element,\n                {\n                    value: stringified,\n                    valueUpdate: allBindings.get('valueUpdate'),\n                },\n                context,\n            );\n        }\n    };\n    var json_data = {\"options_js\":WebIO.getval({\"name\":\"options_js\",\"scope\":\"11576845638025054878\",\"id\":\"146\",\"type\":\"observable\"}),\"index\":WebIO.getval({\"name\":\"index\",\"scope\":\"11576845638025054878\",\"id\":\"145\",\"type\":\"observable\"})};\n    var self = this;\n    function AppViewModel() {\n        for (var key in json_data) {\n            var el = json_data[key];\n            this[key] = Array.isArray(el) ? ko.observableArray(el) : ko.observable(el);\n        }\n        [this[\"update\"]=function (val) {this.index(val)}]\n        \n        [this[\"options_js\"].subscribe((function (val){!(this.valueFromJulia[\"options_js\"]) ? (WebIO.setval({\"name\":\"options_js\",\"scope\":\"11576845638025054878\",\"id\":\"146\",\"type\":\"observable\"},val)) : undefined; return this.valueFromJulia[\"options_js\"]=false}),self),this[\"index\"].subscribe((function (val){!(this.valueFromJulia[\"index\"]) ? (WebIO.setval({\"name\":\"index\",\"scope\":\"11576845638025054878\",\"id\":\"145\",\"type\":\"observable\"},val)) : undefined; return this.valueFromJulia[\"index\"]=false}),self)]\n        \n    }\n    self.model = new AppViewModel();\n    self.valueFromJulia = {};\n    for (var key in json_data) {\n        self.valueFromJulia[key] = false;\n    }\n    ko.applyBindings(self.model, self.dom);\n}\n);\n    (WebIO.importBlock({\"data\":[{\"name\":\"knockout\",\"type\":\"js\",\"url\":\"/assetserver/0314215fc38f87455d25a217f081da9054de2922-knockout.js\"},{\"name\":\"knockout_punches\",\"type\":\"js\",\"url\":\"/assetserver/e7011e89f50940c046e57125bc6c6f723b775b34-knockout_punches.js\"}],\"type\":\"async_block\"})).then((imports) => handler.apply(this, imports));\n}\n"
            ],
            "observables": {
             "index": {
              "id": "145",
              "sync": true,
              "value": 1
             },
             "options_js": {
              "id": "146",
              "sync": false,
              "value": [
               {
                "id": "idSTboigPC",
                "key": "off",
                "val": 1
               },
               {
                "id": "id0cjl0Ikh",
                "key": "on",
                "val": 2
               }
              ]
             }
            },
            "systemjs_options": null
           },
           "nodeType": "Scope",
           "props": {},
           "type": "node"
          }
         ],
         "instanceArgs": {
          "namespace": "html",
          "tag": "div"
         },
         "nodeType": "DOM",
         "props": {
          "className": "interact-widget"
         },
         "type": "node"
        },
        {
         "children": [
          {
           "children": [
            {
             "children": [
              {
               "children": [
                {
                 "children": [
                  "show_coordinate"
                 ],
                 "instanceArgs": {
                  "namespace": "html",
                  "tag": "label"
                 },
                 "nodeType": "DOM",
                 "props": {
                  "className": "interact ",
                  "style": {
                   "padding": "5px 10px 0px 10px"
                  }
                 },
                 "type": "node"
                }
               ],
               "instanceArgs": {
                "namespace": "html",
                "tag": "div"
               },
               "nodeType": "DOM",
               "props": {
                "className": "interact-flex-row-left"
               },
               "type": "node"
              },
              {
               "children": [
                {
                 "children": [
                  {
                   "children": [
                    {
                     "children": [],
                     "instanceArgs": {
                      "namespace": "html",
                      "tag": "label"
                     },
                     "nodeType": "DOM",
                     "props": {
                      "attributes": {
                       "data-bind": "text : key"
                      }
                     },
                     "type": "node"
                    }
                   ],
                   "instanceArgs": {
                    "namespace": "html",
                    "tag": "span"
                   },
                   "nodeType": "DOM",
                   "props": {
                    "attributes": {
                     "data-bind": "click: function (){$root.update(val)}, css: {'is-primary is-selected' : $root.index() == val, 'interact-widget is-medium button ' : true}"
                    }
                   },
                   "type": "node"
                  }
                 ],
                 "instanceArgs": {
                  "namespace": "html",
                  "tag": "div"
                 },
                 "nodeType": "DOM",
                 "props": {
                  "attributes": {
                   "data-bind": "foreach : options_js"
                  },
                  "className": "buttons has-addons is-centered"
                 },
                 "type": "node"
                }
               ],
               "instanceArgs": {
                "namespace": "html",
                "tag": "div"
               },
               "nodeType": "DOM",
               "props": {
                "className": "interact-flex-row-center"
               },
               "type": "node"
              },
              {
               "children": [
                {
                 "children": [],
                 "instanceArgs": {
                  "namespace": "html",
                  "tag": "div"
                 },
                 "nodeType": "DOM",
                 "props": {},
                 "type": "node"
                }
               ],
               "instanceArgs": {
                "namespace": "html",
                "tag": "div"
               },
               "nodeType": "DOM",
               "props": {
                "className": "interact-flex-row-right"
               },
               "type": "node"
              }
             ],
             "instanceArgs": {
              "namespace": "html",
              "tag": "div"
             },
             "nodeType": "DOM",
             "props": {
              "className": "interact-flex-row interact-widget"
             },
             "type": "node"
            }
           ],
           "instanceArgs": {
            "handlers": {
             "index": [
              "(function (val){return (val!=this.model[\"index\"]()) ? (this.valueFromJulia[\"index\"]=true, this.model[\"index\"](val)) : undefined})"
             ],
             "options_js": [
              "(function (val){return (val!=this.model[\"options_js\"]()) ? (this.valueFromJulia[\"options_js\"]=true, this.model[\"options_js\"](val)) : undefined})"
             ]
            },
            "id": "10266532590933521178",
            "imports": {
             "data": [
              {
               "name": "knockout",
               "type": "js",
               "url": "/assetserver/0314215fc38f87455d25a217f081da9054de2922-knockout.js"
              },
              {
               "name": "knockout_punches",
               "type": "js",
               "url": "/assetserver/e7011e89f50940c046e57125bc6c6f723b775b34-knockout_punches.js"
              },
              {
               "name": null,
               "type": "js",
               "url": "/assetserver/58294179eb1f9db887a20c5fb63d45ade76535f4-all.js"
              },
              {
               "name": null,
               "type": "css",
               "url": "/assetserver/2ae45fa6992db70f10cf9c1e8cbfbca9bbb43bf2-style.css"
              },
              {
               "name": null,
               "type": "css",
               "url": "/assetserver/33262c934bcea44e33db6ed4c19b7f64ba19d81a-bulma_confined.min.css"
              }
             ],
             "type": "async_block"
            },
            "mount_callbacks": [
             "function () {\n    var handler = (function (ko, koPunches) {\n    ko.punches.enableAll();\n    ko.bindingHandlers.numericValue = {\n        init: function(element, valueAccessor, allBindings, data, context) {\n            var stringified = ko.observable(ko.unwrap(valueAccessor()));\n            stringified.subscribe(function(value) {\n                var val = parseFloat(value);\n                if (!isNaN(val)) {\n                    valueAccessor()(val);\n                }\n            });\n            valueAccessor().subscribe(function(value) {\n                var str = JSON.stringify(value);\n                if ((str == \"0\") && ([\"-0\", \"-0.\"].indexOf(stringified()) >= 0))\n                     return;\n                 if ([\"null\", \"\"].indexOf(str) >= 0)\n                     return;\n                stringified(str);\n            });\n            ko.applyBindingsToNode(\n                element,\n                {\n                    value: stringified,\n                    valueUpdate: allBindings.get('valueUpdate'),\n                },\n                context,\n            );\n        }\n    };\n    var json_data = {\"options_js\":WebIO.getval({\"name\":\"options_js\",\"scope\":\"10266532590933521178\",\"id\":\"151\",\"type\":\"observable\"}),\"index\":WebIO.getval({\"name\":\"index\",\"scope\":\"10266532590933521178\",\"id\":\"150\",\"type\":\"observable\"})};\n    var self = this;\n    function AppViewModel() {\n        for (var key in json_data) {\n            var el = json_data[key];\n            this[key] = Array.isArray(el) ? ko.observableArray(el) : ko.observable(el);\n        }\n        [this[\"update\"]=function (val) {this.index(val)}]\n        \n        [this[\"options_js\"].subscribe((function (val){!(this.valueFromJulia[\"options_js\"]) ? (WebIO.setval({\"name\":\"options_js\",\"scope\":\"10266532590933521178\",\"id\":\"151\",\"type\":\"observable\"},val)) : undefined; return this.valueFromJulia[\"options_js\"]=false}),self),this[\"index\"].subscribe((function (val){!(this.valueFromJulia[\"index\"]) ? (WebIO.setval({\"name\":\"index\",\"scope\":\"10266532590933521178\",\"id\":\"150\",\"type\":\"observable\"},val)) : undefined; return this.valueFromJulia[\"index\"]=false}),self)]\n        \n    }\n    self.model = new AppViewModel();\n    self.valueFromJulia = {};\n    for (var key in json_data) {\n        self.valueFromJulia[key] = false;\n    }\n    ko.applyBindings(self.model, self.dom);\n}\n);\n    (WebIO.importBlock({\"data\":[{\"name\":\"knockout\",\"type\":\"js\",\"url\":\"/assetserver/0314215fc38f87455d25a217f081da9054de2922-knockout.js\"},{\"name\":\"knockout_punches\",\"type\":\"js\",\"url\":\"/assetserver/e7011e89f50940c046e57125bc6c6f723b775b34-knockout_punches.js\"}],\"type\":\"async_block\"})).then((imports) => handler.apply(this, imports));\n}\n"
            ],
            "observables": {
             "index": {
              "id": "150",
              "sync": true,
              "value": 1
             },
             "options_js": {
              "id": "151",
              "sync": false,
              "value": [
               {
                "id": "idMB2pNEqt",
                "key": "off",
                "val": 1
               },
               {
                "id": "idQZlIvnRB",
                "key": "on",
                "val": 2
               }
              ]
             }
            },
            "systemjs_options": null
           },
           "nodeType": "Scope",
           "props": {},
           "type": "node"
          }
         ],
         "instanceArgs": {
          "namespace": "html",
          "tag": "div"
         },
         "nodeType": "DOM",
         "props": {
          "className": "interact-widget"
         },
         "type": "node"
        },
        {
         "children": [
          {
           "children": [
            {
             "children": [
              {
               "children": [
                {
                 "children": [
                  "show_delta_signal"
                 ],
                 "instanceArgs": {
                  "namespace": "html",
                  "tag": "label"
                 },
                 "nodeType": "DOM",
                 "props": {
                  "className": "interact ",
                  "style": {
                   "padding": "5px 10px 0px 10px"
                  }
                 },
                 "type": "node"
                }
               ],
               "instanceArgs": {
                "namespace": "html",
                "tag": "div"
               },
               "nodeType": "DOM",
               "props": {
                "className": "interact-flex-row-left"
               },
               "type": "node"
              },
              {
               "children": [
                {
                 "children": [
                  {
                   "children": [
                    {
                     "children": [],
                     "instanceArgs": {
                      "namespace": "html",
                      "tag": "label"
                     },
                     "nodeType": "DOM",
                     "props": {
                      "attributes": {
                       "data-bind": "text : key"
                      }
                     },
                     "type": "node"
                    }
                   ],
                   "instanceArgs": {
                    "namespace": "html",
                    "tag": "span"
                   },
                   "nodeType": "DOM",
                   "props": {
                    "attributes": {
                     "data-bind": "click: function (){$root.update(val)}, css: {'is-primary is-selected' : $root.index() == val, 'interact-widget is-medium button ' : true}"
                    }
                   },
                   "type": "node"
                  }
                 ],
                 "instanceArgs": {
                  "namespace": "html",
                  "tag": "div"
                 },
                 "nodeType": "DOM",
                 "props": {
                  "attributes": {
                   "data-bind": "foreach : options_js"
                  },
                  "className": "buttons has-addons is-centered"
                 },
                 "type": "node"
                }
               ],
               "instanceArgs": {
                "namespace": "html",
                "tag": "div"
               },
               "nodeType": "DOM",
               "props": {
                "className": "interact-flex-row-center"
               },
               "type": "node"
              },
              {
               "children": [
                {
                 "children": [],
                 "instanceArgs": {
                  "namespace": "html",
                  "tag": "div"
                 },
                 "nodeType": "DOM",
                 "props": {},
                 "type": "node"
                }
               ],
               "instanceArgs": {
                "namespace": "html",
                "tag": "div"
               },
               "nodeType": "DOM",
               "props": {
                "className": "interact-flex-row-right"
               },
               "type": "node"
              }
             ],
             "instanceArgs": {
              "namespace": "html",
              "tag": "div"
             },
             "nodeType": "DOM",
             "props": {
              "className": "interact-flex-row interact-widget"
             },
             "type": "node"
            }
           ],
           "instanceArgs": {
            "handlers": {
             "index": [
              "(function (val){return (val!=this.model[\"index\"]()) ? (this.valueFromJulia[\"index\"]=true, this.model[\"index\"](val)) : undefined})"
             ],
             "options_js": [
              "(function (val){return (val!=this.model[\"options_js\"]()) ? (this.valueFromJulia[\"options_js\"]=true, this.model[\"options_js\"](val)) : undefined})"
             ]
            },
            "id": "2599302011589710818",
            "imports": {
             "data": [
              {
               "name": "knockout",
               "type": "js",
               "url": "/assetserver/0314215fc38f87455d25a217f081da9054de2922-knockout.js"
              },
              {
               "name": "knockout_punches",
               "type": "js",
               "url": "/assetserver/e7011e89f50940c046e57125bc6c6f723b775b34-knockout_punches.js"
              },
              {
               "name": null,
               "type": "js",
               "url": "/assetserver/58294179eb1f9db887a20c5fb63d45ade76535f4-all.js"
              },
              {
               "name": null,
               "type": "css",
               "url": "/assetserver/2ae45fa6992db70f10cf9c1e8cbfbca9bbb43bf2-style.css"
              },
              {
               "name": null,
               "type": "css",
               "url": "/assetserver/33262c934bcea44e33db6ed4c19b7f64ba19d81a-bulma_confined.min.css"
              }
             ],
             "type": "async_block"
            },
            "mount_callbacks": [
             "function () {\n    var handler = (function (ko, koPunches) {\n    ko.punches.enableAll();\n    ko.bindingHandlers.numericValue = {\n        init: function(element, valueAccessor, allBindings, data, context) {\n            var stringified = ko.observable(ko.unwrap(valueAccessor()));\n            stringified.subscribe(function(value) {\n                var val = parseFloat(value);\n                if (!isNaN(val)) {\n                    valueAccessor()(val);\n                }\n            });\n            valueAccessor().subscribe(function(value) {\n                var str = JSON.stringify(value);\n                if ((str == \"0\") && ([\"-0\", \"-0.\"].indexOf(stringified()) >= 0))\n                     return;\n                 if ([\"null\", \"\"].indexOf(str) >= 0)\n                     return;\n                stringified(str);\n            });\n            ko.applyBindingsToNode(\n                element,\n                {\n                    value: stringified,\n                    valueUpdate: allBindings.get('valueUpdate'),\n                },\n                context,\n            );\n        }\n    };\n    var json_data = {\"options_js\":WebIO.getval({\"name\":\"options_js\",\"scope\":\"2599302011589710818\",\"id\":\"156\",\"type\":\"observable\"}),\"index\":WebIO.getval({\"name\":\"index\",\"scope\":\"2599302011589710818\",\"id\":\"155\",\"type\":\"observable\"})};\n    var self = this;\n    function AppViewModel() {\n        for (var key in json_data) {\n            var el = json_data[key];\n            this[key] = Array.isArray(el) ? ko.observableArray(el) : ko.observable(el);\n        }\n        [this[\"update\"]=function (val) {this.index(val)}]\n        \n        [this[\"options_js\"].subscribe((function (val){!(this.valueFromJulia[\"options_js\"]) ? (WebIO.setval({\"name\":\"options_js\",\"scope\":\"2599302011589710818\",\"id\":\"156\",\"type\":\"observable\"},val)) : undefined; return this.valueFromJulia[\"options_js\"]=false}),self),this[\"index\"].subscribe((function (val){!(this.valueFromJulia[\"index\"]) ? (WebIO.setval({\"name\":\"index\",\"scope\":\"2599302011589710818\",\"id\":\"155\",\"type\":\"observable\"},val)) : undefined; return this.valueFromJulia[\"index\"]=false}),self)]\n        \n    }\n    self.model = new AppViewModel();\n    self.valueFromJulia = {};\n    for (var key in json_data) {\n        self.valueFromJulia[key] = false;\n    }\n    ko.applyBindings(self.model, self.dom);\n}\n);\n    (WebIO.importBlock({\"data\":[{\"name\":\"knockout\",\"type\":\"js\",\"url\":\"/assetserver/0314215fc38f87455d25a217f081da9054de2922-knockout.js\"},{\"name\":\"knockout_punches\",\"type\":\"js\",\"url\":\"/assetserver/e7011e89f50940c046e57125bc6c6f723b775b34-knockout_punches.js\"}],\"type\":\"async_block\"})).then((imports) => handler.apply(this, imports));\n}\n"
            ],
            "observables": {
             "index": {
              "id": "155",
              "sync": true,
              "value": 1
             },
             "options_js": {
              "id": "156",
              "sync": false,
              "value": [
               {
                "id": "idDy2WzX6M",
                "key": "off",
                "val": 1
               },
               {
                "id": "idiZNfXYTV",
                "key": "on",
                "val": 2
               }
              ]
             }
            },
            "systemjs_options": null
           },
           "nodeType": "Scope",
           "props": {},
           "type": "node"
          }
         ],
         "instanceArgs": {
          "namespace": "html",
          "tag": "div"
         },
         "nodeType": "DOM",
         "props": {
          "className": "interact-widget"
         },
         "type": "node"
        },
        {
         "children": [
          {
           "children": [],
           "instanceArgs": {
            "id": "162",
            "name": "obs-node"
           },
           "nodeType": "ObservableNode",
           "props": {},
           "type": "node"
          }
         ],
         "instanceArgs": {
          "handlers": {},
          "id": "14260771986686290208",
          "imports": {
           "data": [],
           "type": "async_block"
          },
          "mount_callbacks": [],
          "observables": {
           "obs-node": {
            "id": "162",
            "sync": false,
            "value": {
             "children": [
              {
               "children": [
                {
                 "children": [],
                 "instanceArgs": {
                  "namespace": "html",
                  "tag": "div"
                 },
                 "nodeType": "DOM",
                 "props": {
                  "style": {
                   "height": "1.0em",
                   "width": "0.0px"
                  }
                 },
                 "type": "node"
                },
                {
                 "children": [
                  {
                   "children": [],
                   "instanceArgs": {
                    "namespace": "html",
                    "tag": "div"
                   },
                   "nodeType": "DOM",
                   "props": {
                    "setInnerHtml": "<img src=\"data:image/png;base64,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\" />"
                   },
                   "type": "node"
                  },
                  {
                   "children": [],
                   "instanceArgs": {
                    "namespace": "html",
                    "tag": "div"
                   },
                   "nodeType": "DOM",
                   "props": {
                    "setInnerHtml": "<img src=\"data:image/png;base64,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\" />"
                   },
                   "type": "node"
                  }
                 ],
                 "instanceArgs": {
                  "namespace": "html",
                  "tag": "div"
                 },
                 "nodeType": "DOM",
                 "props": {
                  "style": {
                   "display": "flex",
                   "flex-direction": "row"
                  }
                 },
                 "type": "node"
                },
                {
                 "children": [
                  {
                   "children": [],
                   "instanceArgs": {
                    "namespace": "html",
                    "tag": "div"
                   },
                   "nodeType": "DOM",
                   "props": {
                    "setInnerHtml": "<img src=\"data:image/png;base64,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\" />"
                   },
                   "type": "node"
                  },
                  {
                   "children": [],
                   "instanceArgs": {
                    "namespace": "html",
                    "tag": "div"
                   },
                   "nodeType": "DOM",
                   "props": {
                    "setInnerHtml": "<img src=\"data:image/png;base64,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\" />"
                   },
                   "type": "node"
                  }
                 ],
                 "instanceArgs": {
                  "namespace": "html",
                  "tag": "div"
                 },
                 "nodeType": "DOM",
                 "props": {
                  "style": {
                   "display": "flex",
                   "flex-direction": "row"
                  }
                 },
                 "type": "node"
                }
               ],
               "instanceArgs": {
                "namespace": "html",
                "tag": "div"
               },
               "nodeType": "DOM",
               "props": {
                "style": {
                 "display": "flex",
                 "flex-direction": "column"
                }
               },
               "type": "node"
              }
             ],
             "instanceArgs": {
              "namespace": "html",
              "tag": "div"
             },
             "nodeType": "DOM",
             "props": {
              "className": "interact-flex-row interact-widget"
             },
             "type": "node"
            }
           }
          },
          "systemjs_options": null
         },
         "nodeType": "Scope",
         "props": {},
         "type": "node"
        }
       ],
       "instanceArgs": {
        "namespace": "html",
        "tag": "div"
       },
       "nodeType": "DOM",
       "props": {},
       "type": "node"
      },
      "text/html": [
       "<div\n",
       "    class=\"webio-mountpoint\"\n",
       "    data-webio-mountpoint=\"3179187090603837911\"\n",
       ">\n",
       "    <script>\n",
       "    (function(){\n",
       "    // Some integrations (namely, IJulia/Jupyter) use an alternate render pathway than\n",
       "    // just putting the html on the page. If WebIO isn't defined, then it's pretty likely\n",
       "    // that we're in one of those situations and the integration just isn't installed\n",
       "    // correctly.\n",
       "    if (typeof window.WebIO === \"undefined\") {\n",
       "        document\n",
       "            .querySelector('[data-webio-mountpoint=\"3179187090603837911\"]')\n",
       "            .innerHTML = (\n",
       "                '<div style=\"padding: 1em; background-color: #f8d6da; border: 1px solid #f5c6cb; font-weight: bold;\">' +\n",
       "                '<p><strong>WebIO not detected.</strong></p>' +\n",
       "                '<p>Please read ' +\n",
       "                '<a href=\"https://juliagizmos.github.io/WebIO.jl/latest/troubleshooting/not-detected/\" target=\"_blank\">the troubleshooting guide</a> ' +\n",
       "                'for more information on how to resolve this issue.</p>' +\n",
       "                '<p><a href=\"https://juliagizmos.github.io/WebIO.jl/latest/troubleshooting/not-detected/\" target=\"_blank\">https://juliagizmos.github.io/WebIO.jl/latest/troubleshooting/not-detected/</a></p>' +\n",
       "                '</div>'\n",
       "            );\n",
       "        return;\n",
       "    }\n",
       "    WebIO.mount(\n",
       "        document.querySelector('[data-webio-mountpoint=\"3179187090603837911\"]'),\n",
       "        {\"props\":{},\"nodeType\":\"DOM\",\"type\":\"node\",\"instanceArgs\":{\"namespace\":\"html\",\"tag\":\"div\"},\"children\":[{\"props\":{\"className\":\"interact-widget\"},\"nodeType\":\"DOM\",\"type\":\"node\",\"instanceArgs\":{\"namespace\":\"html\",\"tag\":\"div\"},\"children\":[{\"props\":{},\"nodeType\":\"Scope\",\"type\":\"node\",\"instanceArgs\":{\"imports\":{\"data\":[{\"name\":\"knockout\",\"type\":\"js\",\"url\":\"\\/assetserver\\/0314215fc38f87455d25a217f081da9054de2922-knockout.js\"},{\"name\":\"knockout_punches\",\"type\":\"js\",\"url\":\"\\/assetserver\\/e7011e89f50940c046e57125bc6c6f723b775b34-knockout_punches.js\"},{\"name\":null,\"type\":\"js\",\"url\":\"\\/assetserver\\/58294179eb1f9db887a20c5fb63d45ade76535f4-all.js\"},{\"name\":null,\"type\":\"css\",\"url\":\"\\/assetserver\\/2ae45fa6992db70f10cf9c1e8cbfbca9bbb43bf2-style.css\"},{\"name\":null,\"type\":\"css\",\"url\":\"\\/assetserver\\/33262c934bcea44e33db6ed4c19b7f64ba19d81a-bulma_confined.min.css\"}],\"type\":\"async_block\"},\"id\":\"4240772155633771846\",\"handlers\":{\"options_js\":[\"(function (val){return (val!=this.model[\\\"options_js\\\"]()) ? (this.valueFromJulia[\\\"options_js\\\"]=true, this.model[\\\"options_js\\\"](val)) : undefined})\"],\"index\":[\"(function (val){return (val!=this.model[\\\"index\\\"]()) ? (this.valueFromJulia[\\\"index\\\"]=true, this.model[\\\"index\\\"](val)) : undefined})\"]},\"systemjs_options\":null,\"mount_callbacks\":[\"function () {\\n    var handler = (function (ko, koPunches) {\\n    ko.punches.enableAll();\\n    ko.bindingHandlers.numericValue = {\\n        init: function(element, valueAccessor, allBindings, data, context) {\\n            var stringified = ko.observable(ko.unwrap(valueAccessor()));\\n            stringified.subscribe(function(value) {\\n                var val = parseFloat(value);\\n                if (!isNaN(val)) {\\n                    valueAccessor()(val);\\n                }\\n            });\\n            valueAccessor().subscribe(function(value) {\\n                var str = JSON.stringify(value);\\n                if ((str == \\\"0\\\") && ([\\\"-0\\\", \\\"-0.\\\"].indexOf(stringified()) >= 0))\\n                     return;\\n                 if ([\\\"null\\\", \\\"\\\"].indexOf(str) >= 0)\\n                     return;\\n                stringified(str);\\n            });\\n            ko.applyBindingsToNode(\\n                element,\\n                {\\n                    value: stringified,\\n                    valueUpdate: allBindings.get('valueUpdate'),\\n                },\\n                context,\\n            );\\n        }\\n    };\\n    var json_data = {\\\"options_js\\\":WebIO.getval({\\\"name\\\":\\\"options_js\\\",\\\"scope\\\":\\\"4240772155633771846\\\",\\\"id\\\":\\\"111\\\",\\\"type\\\":\\\"observable\\\"}),\\\"index\\\":WebIO.getval({\\\"name\\\":\\\"index\\\",\\\"scope\\\":\\\"4240772155633771846\\\",\\\"id\\\":\\\"110\\\",\\\"type\\\":\\\"observable\\\"})};\\n    var self = this;\\n    function AppViewModel() {\\n        for (var key in json_data) {\\n            var el = json_data[key];\\n            this[key] = Array.isArray(el) ? ko.observableArray(el) : ko.observable(el);\\n        }\\n        [this[\\\"update\\\"]=function (val) {this.index(val)}]\\n        \\n        [this[\\\"options_js\\\"].subscribe((function (val){!(this.valueFromJulia[\\\"options_js\\\"]) ? (WebIO.setval({\\\"name\\\":\\\"options_js\\\",\\\"scope\\\":\\\"4240772155633771846\\\",\\\"id\\\":\\\"111\\\",\\\"type\\\":\\\"observable\\\"},val)) : undefined; return this.valueFromJulia[\\\"options_js\\\"]=false}),self),this[\\\"index\\\"].subscribe((function (val){!(this.valueFromJulia[\\\"index\\\"]) ? (WebIO.setval({\\\"name\\\":\\\"index\\\",\\\"scope\\\":\\\"4240772155633771846\\\",\\\"id\\\":\\\"110\\\",\\\"type\\\":\\\"observable\\\"},val)) : undefined; return this.valueFromJulia[\\\"index\\\"]=false}),self)]\\n        \\n    }\\n    self.model = new AppViewModel();\\n    self.valueFromJulia = {};\\n    for (var key in json_data) {\\n        self.valueFromJulia[key] = false;\\n    }\\n    ko.applyBindings(self.model, self.dom);\\n}\\n);\\n    (WebIO.importBlock({\\\"data\\\":[{\\\"name\\\":\\\"knockout\\\",\\\"type\\\":\\\"js\\\",\\\"url\\\":\\\"\\/assetserver\\/0314215fc38f87455d25a217f081da9054de2922-knockout.js\\\"},{\\\"name\\\":\\\"knockout_punches\\\",\\\"type\\\":\\\"js\\\",\\\"url\\\":\\\"\\/assetserver\\/e7011e89f50940c046e57125bc6c6f723b775b34-knockout_punches.js\\\"}],\\\"type\\\":\\\"async_block\\\"})).then((imports) => handler.apply(this, imports));\\n}\\n\"],\"observables\":{\"options_js\":{\"sync\":false,\"id\":\"111\",\"value\":[{\"key\":\"off\",\"val\":1,\"id\":\"idR7A6FGeq\"},{\"key\":\"on\",\"val\":2,\"id\":\"idEefMAiFA\"}]},\"index\":{\"sync\":true,\"id\":\"110\",\"value\":1}}},\"children\":[{\"props\":{\"className\":\"interact-flex-row interact-widget\"},\"nodeType\":\"DOM\",\"type\":\"node\",\"instanceArgs\":{\"namespace\":\"html\",\"tag\":\"div\"},\"children\":[{\"props\":{\"className\":\"interact-flex-row-left\"},\"nodeType\":\"DOM\",\"type\":\"node\",\"instanceArgs\":{\"namespace\":\"html\",\"tag\":\"div\"},\"children\":[{\"props\":{\"className\":\"interact \",\"style\":{\"padding\":\"5px 10px 0px 10px\"}},\"nodeType\":\"DOM\",\"type\":\"node\",\"instanceArgs\":{\"namespace\":\"html\",\"tag\":\"label\"},\"children\":[\"tokamak_wall\"]}]},{\"props\":{\"className\":\"interact-flex-row-center\"},\"nodeType\":\"DOM\",\"type\":\"node\",\"instanceArgs\":{\"namespace\":\"html\",\"tag\":\"div\"},\"children\":[{\"props\":{\"attributes\":{\"data-bind\":\"foreach : options_js\"},\"className\":\"buttons has-addons is-centered\"},\"nodeType\":\"DOM\",\"type\":\"node\",\"instanceArgs\":{\"namespace\":\"html\",\"tag\":\"div\"},\"children\":[{\"props\":{\"attributes\":{\"data-bind\":\"click: function (){$root.update(val)}, css: {'is-primary is-selected' : $root.index() == val, 'interact-widget is-medium button ' : true}\"}},\"nodeType\":\"DOM\",\"type\":\"node\",\"instanceArgs\":{\"namespace\":\"html\",\"tag\":\"span\"},\"children\":[{\"props\":{\"attributes\":{\"data-bind\":\"text : key\"}},\"nodeType\":\"DOM\",\"type\":\"node\",\"instanceArgs\":{\"namespace\":\"html\",\"tag\":\"label\"},\"children\":[]}]}]}]},{\"props\":{\"className\":\"interact-flex-row-right\"},\"nodeType\":\"DOM\",\"type\":\"node\",\"instanceArgs\":{\"namespace\":\"html\",\"tag\":\"div\"},\"children\":[{\"props\":{},\"nodeType\":\"DOM\",\"type\":\"node\",\"instanceArgs\":{\"namespace\":\"html\",\"tag\":\"div\"},\"children\":[]}]}]}]}]},{\"props\":{\"className\":\"interact-widget\"},\"nodeType\":\"DOM\",\"type\":\"node\",\"instanceArgs\":{\"namespace\":\"html\",\"tag\":\"div\"},\"children\":[{\"props\":{},\"nodeType\":\"Scope\",\"type\":\"node\",\"instanceArgs\":{\"imports\":{\"data\":[{\"name\":\"knockout\",\"type\":\"js\",\"url\":\"\\/assetserver\\/0314215fc38f87455d25a217f081da9054de2922-knockout.js\"},{\"name\":\"knockout_punches\",\"type\":\"js\",\"url\":\"\\/assetserver\\/e7011e89f50940c046e57125bc6c6f723b775b34-knockout_punches.js\"},{\"name\":null,\"type\":\"js\",\"url\":\"\\/assetserver\\/58294179eb1f9db887a20c5fb63d45ade76535f4-all.js\"},{\"name\":null,\"type\":\"css\",\"url\":\"\\/assetserver\\/2ae45fa6992db70f10cf9c1e8cbfbca9bbb43bf2-style.css\"},{\"name\":null,\"type\":\"css\",\"url\":\"\\/assetserver\\/33262c934bcea44e33db6ed4c19b7f64ba19d81a-bulma_confined.min.css\"}],\"type\":\"async_block\"},\"id\":\"17897294970163307353\",\"handlers\":{\"options_js\":[\"(function (val){return (val!=this.model[\\\"options_js\\\"]()) ? (this.valueFromJulia[\\\"options_js\\\"]=true, this.model[\\\"options_js\\\"](val)) : undefined})\"],\"index\":[\"(function (val){return (val!=this.model[\\\"index\\\"]()) ? (this.valueFromJulia[\\\"index\\\"]=true, this.model[\\\"index\\\"](val)) : undefined})\"]},\"systemjs_options\":null,\"mount_callbacks\":[\"function () {\\n    var handler = (function (ko, koPunches) {\\n    ko.punches.enableAll();\\n    ko.bindingHandlers.numericValue = {\\n        init: function(element, valueAccessor, allBindings, data, context) {\\n            var stringified = ko.observable(ko.unwrap(valueAccessor()));\\n            stringified.subscribe(function(value) {\\n                var val = parseFloat(value);\\n                if (!isNaN(val)) {\\n                    valueAccessor()(val);\\n                }\\n            });\\n            valueAccessor().subscribe(function(value) {\\n                var str = JSON.stringify(value);\\n                if ((str == \\\"0\\\") && ([\\\"-0\\\", \\\"-0.\\\"].indexOf(stringified()) >= 0))\\n                     return;\\n                 if ([\\\"null\\\", \\\"\\\"].indexOf(str) >= 0)\\n                     return;\\n                stringified(str);\\n            });\\n            ko.applyBindingsToNode(\\n                element,\\n                {\\n                    value: stringified,\\n                    valueUpdate: allBindings.get('valueUpdate'),\\n                },\\n                context,\\n            );\\n        }\\n    };\\n    var json_data = {\\\"options_js\\\":WebIO.getval({\\\"name\\\":\\\"options_js\\\",\\\"scope\\\":\\\"17897294970163307353\\\",\\\"id\\\":\\\"116\\\",\\\"type\\\":\\\"observable\\\"}),\\\"index\\\":WebIO.getval({\\\"name\\\":\\\"index\\\",\\\"scope\\\":\\\"17897294970163307353\\\",\\\"id\\\":\\\"115\\\",\\\"type\\\":\\\"observable\\\"})};\\n    var self = this;\\n    function AppViewModel() {\\n        for (var key in json_data) {\\n            var el = json_data[key];\\n            this[key] = Array.isArray(el) ? ko.observableArray(el) : ko.observable(el);\\n        }\\n        [this[\\\"update\\\"]=function (val) {this.index(val)}]\\n        \\n        [this[\\\"options_js\\\"].subscribe((function (val){!(this.valueFromJulia[\\\"options_js\\\"]) ? (WebIO.setval({\\\"name\\\":\\\"options_js\\\",\\\"scope\\\":\\\"17897294970163307353\\\",\\\"id\\\":\\\"116\\\",\\\"type\\\":\\\"observable\\\"},val)) : undefined; return this.valueFromJulia[\\\"options_js\\\"]=false}),self),this[\\\"index\\\"].subscribe((function (val){!(this.valueFromJulia[\\\"index\\\"]) ? (WebIO.setval({\\\"name\\\":\\\"index\\\",\\\"scope\\\":\\\"17897294970163307353\\\",\\\"id\\\":\\\"115\\\",\\\"type\\\":\\\"observable\\\"},val)) : undefined; return this.valueFromJulia[\\\"index\\\"]=false}),self)]\\n        \\n    }\\n    self.model = new AppViewModel();\\n    self.valueFromJulia = {};\\n    for (var key in json_data) {\\n        self.valueFromJulia[key] = false;\\n    }\\n    ko.applyBindings(self.model, self.dom);\\n}\\n);\\n    (WebIO.importBlock({\\\"data\\\":[{\\\"name\\\":\\\"knockout\\\",\\\"type\\\":\\\"js\\\",\\\"url\\\":\\\"\\/assetserver\\/0314215fc38f87455d25a217f081da9054de2922-knockout.js\\\"},{\\\"name\\\":\\\"knockout_punches\\\",\\\"type\\\":\\\"js\\\",\\\"url\\\":\\\"\\/assetserver\\/e7011e89f50940c046e57125bc6c6f723b775b34-knockout_punches.js\\\"}],\\\"type\\\":\\\"async_block\\\"})).then((imports) => handler.apply(this, imports));\\n}\\n\"],\"observables\":{\"options_js\":{\"sync\":false,\"id\":\"116\",\"value\":[{\"key\":\"off\",\"val\":1,\"id\":\"id3XLmRk0Q\"},{\"key\":\"on\",\"val\":2,\"id\":\"idR1Ij7Anq\"}]},\"index\":{\"sync\":true,\"id\":\"115\",\"value\":1}}},\"children\":[{\"props\":{\"className\":\"interact-flex-row interact-widget\"},\"nodeType\":\"DOM\",\"type\":\"node\",\"instanceArgs\":{\"namespace\":\"html\",\"tag\":\"div\"},\"children\":[{\"props\":{\"className\":\"interact-flex-row-left\"},\"nodeType\":\"DOM\",\"type\":\"node\",\"instanceArgs\":{\"namespace\":\"html\",\"tag\":\"div\"},\"children\":[{\"props\":{\"className\":\"interact \",\"style\":{\"padding\":\"5px 10px 0px 10px\"}},\"nodeType\":\"DOM\",\"type\":\"node\",\"instanceArgs\":{\"namespace\":\"html\",\"tag\":\"label\"},\"children\":[\"include_Fos\"]}]},{\"props\":{\"className\":\"interact-flex-row-center\"},\"nodeType\":\"DOM\",\"type\":\"node\",\"instanceArgs\":{\"namespace\":\"html\",\"tag\":\"div\"},\"children\":[{\"props\":{\"attributes\":{\"data-bind\":\"foreach : options_js\"},\"className\":\"buttons has-addons is-centered\"},\"nodeType\":\"DOM\",\"type\":\"node\",\"instanceArgs\":{\"namespace\":\"html\",\"tag\":\"div\"},\"children\":[{\"props\":{\"attributes\":{\"data-bind\":\"click: function (){$root.update(val)}, css: {'is-primary is-selected' : $root.index() == val, 'interact-widget is-medium button ' : true}\"}},\"nodeType\":\"DOM\",\"type\":\"node\",\"instanceArgs\":{\"namespace\":\"html\",\"tag\":\"span\"},\"children\":[{\"props\":{\"attributes\":{\"data-bind\":\"text : key\"}},\"nodeType\":\"DOM\",\"type\":\"node\",\"instanceArgs\":{\"namespace\":\"html\",\"tag\":\"label\"},\"children\":[]}]}]}]},{\"props\":{\"className\":\"interact-flex-row-right\"},\"nodeType\":\"DOM\",\"type\":\"node\",\"instanceArgs\":{\"namespace\":\"html\",\"tag\":\"div\"},\"children\":[{\"props\":{},\"nodeType\":\"DOM\",\"type\":\"node\",\"instanceArgs\":{\"namespace\":\"html\",\"tag\":\"div\"},\"children\":[]}]}]}]}]},{\"props\":{\"className\":\"interact-widget\"},\"nodeType\":\"DOM\",\"type\":\"node\",\"instanceArgs\":{\"namespace\":\"html\",\"tag\":\"div\"},\"children\":[{\"props\":{},\"nodeType\":\"Scope\",\"type\":\"node\",\"instanceArgs\":{\"imports\":{\"data\":[{\"name\":\"knockout\",\"type\":\"js\",\"url\":\"\\/assetserver\\/0314215fc38f87455d25a217f081da9054de2922-knockout.js\"},{\"name\":\"knockout_punches\",\"type\":\"js\",\"url\":\"\\/assetserver\\/e7011e89f50940c046e57125bc6c6f723b775b34-knockout_punches.js\"},{\"name\":null,\"type\":\"js\",\"url\":\"\\/assetserver\\/58294179eb1f9db887a20c5fb63d45ade76535f4-all.js\"},{\"name\":null,\"type\":\"css\",\"url\":\"\\/assetserver\\/2ae45fa6992db70f10cf9c1e8cbfbca9bbb43bf2-style.css\"},{\"name\":null,\"type\":\"css\",\"url\":\"\\/assetserver\\/33262c934bcea44e33db6ed4c19b7f64ba19d81a-bulma_confined.min.css\"}],\"type\":\"async_block\"},\"id\":\"8806014308974700987\",\"handlers\":{\"options_js\":[\"(function (val){return (val!=this.model[\\\"options_js\\\"]()) ? (this.valueFromJulia[\\\"options_js\\\"]=true, this.model[\\\"options_js\\\"](val)) : undefined})\"],\"index\":[\"(function (val){return (val!=this.model[\\\"index\\\"]()) ? (this.valueFromJulia[\\\"index\\\"]=true, this.model[\\\"index\\\"](val)) : undefined})\"]},\"systemjs_options\":null,\"mount_callbacks\":[\"function () {\\n    var handler = (function (ko, koPunches) {\\n    ko.punches.enableAll();\\n    ko.bindingHandlers.numericValue = {\\n        init: function(element, valueAccessor, allBindings, data, context) {\\n            var stringified = ko.observable(ko.unwrap(valueAccessor()));\\n            stringified.subscribe(function(value) {\\n                var val = parseFloat(value);\\n                if (!isNaN(val)) {\\n                    valueAccessor()(val);\\n                }\\n            });\\n            valueAccessor().subscribe(function(value) {\\n                var str = JSON.stringify(value);\\n                if ((str == \\\"0\\\") && ([\\\"-0\\\", \\\"-0.\\\"].indexOf(stringified()) >= 0))\\n                     return;\\n                 if ([\\\"null\\\", \\\"\\\"].indexOf(str) >= 0)\\n                     return;\\n                stringified(str);\\n            });\\n            ko.applyBindingsToNode(\\n                element,\\n                {\\n                    value: stringified,\\n                    valueUpdate: allBindings.get('valueUpdate'),\\n                },\\n                context,\\n            );\\n        }\\n    };\\n    var json_data = {\\\"options_js\\\":WebIO.getval({\\\"name\\\":\\\"options_js\\\",\\\"scope\\\":\\\"8806014308974700987\\\",\\\"id\\\":\\\"121\\\",\\\"type\\\":\\\"observable\\\"}),\\\"index\\\":WebIO.getval({\\\"name\\\":\\\"index\\\",\\\"scope\\\":\\\"8806014308974700987\\\",\\\"id\\\":\\\"120\\\",\\\"type\\\":\\\"observable\\\"})};\\n    var self = this;\\n    function AppViewModel() {\\n        for (var key in json_data) {\\n            var el = json_data[key];\\n            this[key] = Array.isArray(el) ? ko.observableArray(el) : ko.observable(el);\\n        }\\n        [this[\\\"update\\\"]=function (val) {this.index(val)}]\\n        \\n        [this[\\\"options_js\\\"].subscribe((function (val){!(this.valueFromJulia[\\\"options_js\\\"]) ? (WebIO.setval({\\\"name\\\":\\\"options_js\\\",\\\"scope\\\":\\\"8806014308974700987\\\",\\\"id\\\":\\\"121\\\",\\\"type\\\":\\\"observable\\\"},val)) : undefined; return this.valueFromJulia[\\\"options_js\\\"]=false}),self),this[\\\"index\\\"].subscribe((function (val){!(this.valueFromJulia[\\\"index\\\"]) ? (WebIO.setval({\\\"name\\\":\\\"index\\\",\\\"scope\\\":\\\"8806014308974700987\\\",\\\"id\\\":\\\"120\\\",\\\"type\\\":\\\"observable\\\"},val)) : undefined; return this.valueFromJulia[\\\"index\\\"]=false}),self)]\\n        \\n    }\\n    self.model = new AppViewModel();\\n    self.valueFromJulia = {};\\n    for (var key in json_data) {\\n        self.valueFromJulia[key] = false;\\n    }\\n    ko.applyBindings(self.model, self.dom);\\n}\\n);\\n    (WebIO.importBlock({\\\"data\\\":[{\\\"name\\\":\\\"knockout\\\",\\\"type\\\":\\\"js\\\",\\\"url\\\":\\\"\\/assetserver\\/0314215fc38f87455d25a217f081da9054de2922-knockout.js\\\"},{\\\"name\\\":\\\"knockout_punches\\\",\\\"type\\\":\\\"js\\\",\\\"url\\\":\\\"\\/assetserver\\/e7011e89f50940c046e57125bc6c6f723b775b34-knockout_punches.js\\\"}],\\\"type\\\":\\\"async_block\\\"})).then((imports) => handler.apply(this, imports));\\n}\\n\"],\"observables\":{\"options_js\":{\"sync\":false,\"id\":\"121\",\"value\":[{\"key\":\"0.0-0.1\",\"val\":1,\"id\":\"idIjpAharU\"},{\"key\":\"0.0-1.0\",\"val\":2,\"id\":\"idiw3mgaXo\"}]},\"index\":{\"sync\":true,\"id\":\"120\",\"value\":1}}},\"children\":[{\"props\":{\"className\":\"interact-flex-row interact-widget\"},\"nodeType\":\"DOM\",\"type\":\"node\",\"instanceArgs\":{\"namespace\":\"html\",\"tag\":\"div\"},\"children\":[{\"props\":{\"className\":\"interact-flex-row-left\"},\"nodeType\":\"DOM\",\"type\":\"node\",\"instanceArgs\":{\"namespace\":\"html\",\"tag\":\"div\"},\"children\":[{\"props\":{\"className\":\"interact \",\"style\":{\"padding\":\"5px 10px 0px 10px\"}},\"nodeType\":\"DOM\",\"type\":\"node\",\"instanceArgs\":{\"namespace\":\"html\",\"tag\":\"label\"},\"children\":[\"colorbar_scale\"]}]},{\"props\":{\"className\":\"interact-flex-row-center\"},\"nodeType\":\"DOM\",\"type\":\"node\",\"instanceArgs\":{\"namespace\":\"html\",\"tag\":\"div\"},\"children\":[{\"props\":{\"attributes\":{\"data-bind\":\"foreach : options_js\"},\"className\":\"buttons has-addons is-centered\"},\"nodeType\":\"DOM\",\"type\":\"node\",\"instanceArgs\":{\"namespace\":\"html\",\"tag\":\"div\"},\"children\":[{\"props\":{\"attributes\":{\"data-bind\":\"click: function (){$root.update(val)}, css: {'is-primary is-selected' : $root.index() == val, 'interact-widget is-medium button ' : true}\"}},\"nodeType\":\"DOM\",\"type\":\"node\",\"instanceArgs\":{\"namespace\":\"html\",\"tag\":\"span\"},\"children\":[{\"props\":{\"attributes\":{\"data-bind\":\"text : key\"}},\"nodeType\":\"DOM\",\"type\":\"node\",\"instanceArgs\":{\"namespace\":\"html\",\"tag\":\"label\"},\"children\":[]}]}]}]},{\"props\":{\"className\":\"interact-flex-row-right\"},\"nodeType\":\"DOM\",\"type\":\"node\",\"instanceArgs\":{\"namespace\":\"html\",\"tag\":\"div\"},\"children\":[{\"props\":{},\"nodeType\":\"DOM\",\"type\":\"node\",\"instanceArgs\":{\"namespace\":\"html\",\"tag\":\"div\"},\"children\":[]}]}]}]}]},{\"props\":{\"className\":\"interact-widget\"},\"nodeType\":\"DOM\",\"type\":\"node\",\"instanceArgs\":{\"namespace\":\"html\",\"tag\":\"div\"},\"children\":[{\"props\":{},\"nodeType\":\"Scope\",\"type\":\"node\",\"instanceArgs\":{\"imports\":{\"data\":[{\"name\":\"knockout\",\"type\":\"js\",\"url\":\"\\/assetserver\\/0314215fc38f87455d25a217f081da9054de2922-knockout.js\"},{\"name\":\"knockout_punches\",\"type\":\"js\",\"url\":\"\\/assetserver\\/e7011e89f50940c046e57125bc6c6f723b775b34-knockout_punches.js\"},{\"name\":null,\"type\":\"js\",\"url\":\"\\/assetserver\\/58294179eb1f9db887a20c5fb63d45ade76535f4-all.js\"},{\"name\":null,\"type\":\"css\",\"url\":\"\\/assetserver\\/2ae45fa6992db70f10cf9c1e8cbfbca9bbb43bf2-style.css\"},{\"name\":null,\"type\":\"css\",\"url\":\"\\/assetserver\\/33262c934bcea44e33db6ed4c19b7f64ba19d81a-bulma_confined.min.css\"}],\"type\":\"async_block\"},\"id\":\"14285413945006531058\",\"handlers\":{\"options_js\":[\"(function (val){return (val!=this.model[\\\"options_js\\\"]()) ? (this.valueFromJulia[\\\"options_js\\\"]=true, this.model[\\\"options_js\\\"](val)) : undefined})\"],\"index\":[\"(function (val){return (val!=this.model[\\\"index\\\"]()) ? (this.valueFromJulia[\\\"index\\\"]=true, this.model[\\\"index\\\"](val)) : undefined})\"]},\"systemjs_options\":null,\"mount_callbacks\":[\"function () {\\n    var handler = (function (ko, koPunches) {\\n    ko.punches.enableAll();\\n    ko.bindingHandlers.numericValue = {\\n        init: function(element, valueAccessor, allBindings, data, context) {\\n            var stringified = ko.observable(ko.unwrap(valueAccessor()));\\n            stringified.subscribe(function(value) {\\n                var val = parseFloat(value);\\n                if (!isNaN(val)) {\\n                    valueAccessor()(val);\\n                }\\n            });\\n            valueAccessor().subscribe(function(value) {\\n                var str = JSON.stringify(value);\\n                if ((str == \\\"0\\\") && ([\\\"-0\\\", \\\"-0.\\\"].indexOf(stringified()) >= 0))\\n                     return;\\n                 if ([\\\"null\\\", \\\"\\\"].indexOf(str) >= 0)\\n                     return;\\n                stringified(str);\\n            });\\n            ko.applyBindingsToNode(\\n                element,\\n                {\\n                    value: stringified,\\n                    valueUpdate: allBindings.get('valueUpdate'),\\n                },\\n                context,\\n            );\\n        }\\n    };\\n    var json_data = {\\\"options_js\\\":WebIO.getval({\\\"name\\\":\\\"options_js\\\",\\\"scope\\\":\\\"14285413945006531058\\\",\\\"id\\\":\\\"126\\\",\\\"type\\\":\\\"observable\\\"}),\\\"index\\\":WebIO.getval({\\\"name\\\":\\\"index\\\",\\\"scope\\\":\\\"14285413945006531058\\\",\\\"id\\\":\\\"125\\\",\\\"type\\\":\\\"observable\\\"})};\\n    var self = this;\\n    function AppViewModel() {\\n        for (var key in json_data) {\\n            var el = json_data[key];\\n            this[key] = Array.isArray(el) ? ko.observableArray(el) : ko.observable(el);\\n        }\\n        [this[\\\"update\\\"]=function (val) {this.index(val)}]\\n        \\n        [this[\\\"options_js\\\"].subscribe((function (val){!(this.valueFromJulia[\\\"options_js\\\"]) ? (WebIO.setval({\\\"name\\\":\\\"options_js\\\",\\\"scope\\\":\\\"14285413945006531058\\\",\\\"id\\\":\\\"126\\\",\\\"type\\\":\\\"observable\\\"},val)) : undefined; return this.valueFromJulia[\\\"options_js\\\"]=false}),self),this[\\\"index\\\"].subscribe((function (val){!(this.valueFromJulia[\\\"index\\\"]) ? (WebIO.setval({\\\"name\\\":\\\"index\\\",\\\"scope\\\":\\\"14285413945006531058\\\",\\\"id\\\":\\\"125\\\",\\\"type\\\":\\\"observable\\\"},val)) : undefined; return this.valueFromJulia[\\\"index\\\"]=false}),self)]\\n        \\n    }\\n    self.model = new AppViewModel();\\n    self.valueFromJulia = {};\\n    for (var key in json_data) {\\n        self.valueFromJulia[key] = false;\\n    }\\n    ko.applyBindings(self.model, self.dom);\\n}\\n);\\n    (WebIO.importBlock({\\\"data\\\":[{\\\"name\\\":\\\"knockout\\\",\\\"type\\\":\\\"js\\\",\\\"url\\\":\\\"\\/assetserver\\/0314215fc38f87455d25a217f081da9054de2922-knockout.js\\\"},{\\\"name\\\":\\\"knockout_punches\\\",\\\"type\\\":\\\"js\\\",\\\"url\\\":\\\"\\/assetserver\\/e7011e89f50940c046e57125bc6c6f723b775b34-knockout_punches.js\\\"}],\\\"type\\\":\\\"async_block\\\"})).then((imports) => handler.apply(this, imports));\\n}\\n\"],\"observables\":{\"options_js\":{\"sync\":false,\"id\":\"126\",\"value\":[{\"key\":\"(E,pm,Rm)\",\"val\":1,\"id\":\"id7s3vHtm6\"},{\"key\":\"(E,μ,Pϕ;σ)\",\"val\":2,\"id\":\"idgUFm9JtQ\"}]},\"index\":{\"sync\":true,\"id\":\"125\",\"value\":1}}},\"children\":[{\"props\":{\"className\":\"interact-flex-row interact-widget\"},\"nodeType\":\"DOM\",\"type\":\"node\",\"instanceArgs\":{\"namespace\":\"html\",\"tag\":\"div\"},\"children\":[{\"props\":{\"className\":\"interact-flex-row-left\"},\"nodeType\":\"DOM\",\"type\":\"node\",\"instanceArgs\":{\"namespace\":\"html\",\"tag\":\"div\"},\"children\":[{\"props\":{\"className\":\"interact \",\"style\":{\"padding\":\"5px 10px 0px 10px\"}},\"nodeType\":\"DOM\",\"type\":\"node\",\"instanceArgs\":{\"namespace\":\"html\",\"tag\":\"label\"},\"children\":[\"phase_space\"]}]},{\"props\":{\"className\":\"interact-flex-row-center\"},\"nodeType\":\"DOM\",\"type\":\"node\",\"instanceArgs\":{\"namespace\":\"html\",\"tag\":\"div\"},\"children\":[{\"props\":{\"attributes\":{\"data-bind\":\"foreach : options_js\"},\"className\":\"buttons has-addons is-centered\"},\"nodeType\":\"DOM\",\"type\":\"node\",\"instanceArgs\":{\"namespace\":\"html\",\"tag\":\"div\"},\"children\":[{\"props\":{\"attributes\":{\"data-bind\":\"click: function (){$root.update(val)}, css: {'is-primary is-selected' : $root.index() == val, 'interact-widget is-medium button ' : true}\"}},\"nodeType\":\"DOM\",\"type\":\"node\",\"instanceArgs\":{\"namespace\":\"html\",\"tag\":\"span\"},\"children\":[{\"props\":{\"attributes\":{\"data-bind\":\"text : key\"}},\"nodeType\":\"DOM\",\"type\":\"node\",\"instanceArgs\":{\"namespace\":\"html\",\"tag\":\"label\"},\"children\":[]}]}]}]},{\"props\":{\"className\":\"interact-flex-row-right\"},\"nodeType\":\"DOM\",\"type\":\"node\",\"instanceArgs\":{\"namespace\":\"html\",\"tag\":\"div\"},\"children\":[{\"props\":{},\"nodeType\":\"DOM\",\"type\":\"node\",\"instanceArgs\":{\"namespace\":\"html\",\"tag\":\"div\"},\"children\":[]}]}]}]}]},{\"props\":{\"className\":\"field interact-widget\"},\"nodeType\":\"DOM\",\"type\":\"node\",\"instanceArgs\":{\"namespace\":\"html\",\"tag\":\"div\"},\"children\":[{\"props\":{},\"nodeType\":\"Scope\",\"type\":\"node\",\"instanceArgs\":{\"imports\":{\"data\":[{\"name\":\"knockout\",\"type\":\"js\",\"url\":\"\\/assetserver\\/0314215fc38f87455d25a217f081da9054de2922-knockout.js\"},{\"name\":\"knockout_punches\",\"type\":\"js\",\"url\":\"\\/assetserver\\/e7011e89f50940c046e57125bc6c6f723b775b34-knockout_punches.js\"},{\"name\":null,\"type\":\"js\",\"url\":\"\\/assetserver\\/58294179eb1f9db887a20c5fb63d45ade76535f4-all.js\"},{\"name\":null,\"type\":\"css\",\"url\":\"\\/assetserver\\/2ae45fa6992db70f10cf9c1e8cbfbca9bbb43bf2-style.css\"},{\"name\":null,\"type\":\"css\",\"url\":\"\\/assetserver\\/33262c934bcea44e33db6ed4c19b7f64ba19d81a-bulma_confined.min.css\"}],\"type\":\"async_block\"},\"id\":\"17459934805941558468\",\"handlers\":{\"changes\":[\"(function (val){return (val!=this.model[\\\"changes\\\"]()) ? (this.valueFromJulia[\\\"changes\\\"]=true, this.model[\\\"changes\\\"](val)) : undefined})\"],\"index\":[\"(function (val){return (val!=this.model[\\\"index\\\"]()) ? (this.valueFromJulia[\\\"index\\\"]=true, this.model[\\\"index\\\"](val)) : undefined})\"]},\"systemjs_options\":null,\"mount_callbacks\":[\"function () {\\n    var handler = (function (ko, koPunches) {\\n    ko.punches.enableAll();\\n    ko.bindingHandlers.numericValue = {\\n        init: function(element, valueAccessor, allBindings, data, context) {\\n            var stringified = ko.observable(ko.unwrap(valueAccessor()));\\n            stringified.subscribe(function(value) {\\n                var val = parseFloat(value);\\n                if (!isNaN(val)) {\\n                    valueAccessor()(val);\\n                }\\n            });\\n            valueAccessor().subscribe(function(value) {\\n                var str = JSON.stringify(value);\\n                if ((str == \\\"0\\\") && ([\\\"-0\\\", \\\"-0.\\\"].indexOf(stringified()) >= 0))\\n                     return;\\n                 if ([\\\"null\\\", \\\"\\\"].indexOf(str) >= 0)\\n                     return;\\n                stringified(str);\\n            });\\n            ko.applyBindingsToNode(\\n                element,\\n                {\\n                    value: stringified,\\n                    valueUpdate: allBindings.get('valueUpdate'),\\n                },\\n                context,\\n            );\\n        }\\n    };\\n    var json_data = {\\\"formatted_vals\\\":[\\\"4025.0\\\",\\\"4075.0\\\",\\\"4125.0\\\",\\\"4175.0\\\",\\\"4225.0\\\",\\\"4275.0\\\",\\\"4325.0\\\",\\\"4375.0\\\",\\\"4425.0\\\",\\\"4475.0\\\",\\\"4525.0\\\",\\\"4575.0\\\",\\\"4625.0\\\",\\\"4675.0\\\",\\\"4725.0\\\",\\\"4775.0\\\",\\\"4825.0\\\",\\\"4875.0\\\",\\\"4925.0\\\"],\\\"changes\\\":WebIO.getval({\\\"name\\\":\\\"changes\\\",\\\"scope\\\":\\\"17459934805941558468\\\",\\\"id\\\":\\\"129\\\",\\\"type\\\":\\\"observable\\\"}),\\\"index\\\":WebIO.getval({\\\"name\\\":\\\"index\\\",\\\"scope\\\":\\\"17459934805941558468\\\",\\\"id\\\":\\\"128\\\",\\\"type\\\":\\\"observable\\\"})};\\n    var self = this;\\n    function AppViewModel() {\\n        for (var key in json_data) {\\n            var el = json_data[key];\\n            this[key] = Array.isArray(el) ? ko.observableArray(el) : ko.observable(el);\\n        }\\n        \\n        [this[\\\"formatted_val\\\"]=ko.computed(    function(){\\n        return this.formatted_vals()[parseInt(this.index())-(1)];\\n    }\\n,this)]\\n        [this[\\\"changes\\\"].subscribe((function (val){!(this.valueFromJulia[\\\"changes\\\"]) ? (WebIO.setval({\\\"name\\\":\\\"changes\\\",\\\"scope\\\":\\\"17459934805941558468\\\",\\\"id\\\":\\\"129\\\",\\\"type\\\":\\\"observable\\\"},val)) : undefined; return this.valueFromJulia[\\\"changes\\\"]=false}),self),this[\\\"index\\\"].subscribe((function (val){!(this.valueFromJulia[\\\"index\\\"]) ? (WebIO.setval({\\\"name\\\":\\\"index\\\",\\\"scope\\\":\\\"17459934805941558468\\\",\\\"id\\\":\\\"128\\\",\\\"type\\\":\\\"observable\\\"},val)) : undefined; return this.valueFromJulia[\\\"index\\\"]=false}),self)]\\n        \\n    }\\n    self.model = new AppViewModel();\\n    self.valueFromJulia = {};\\n    for (var key in json_data) {\\n        self.valueFromJulia[key] = false;\\n    }\\n    ko.applyBindings(self.model, self.dom);\\n}\\n);\\n    (WebIO.importBlock({\\\"data\\\":[{\\\"name\\\":\\\"knockout\\\",\\\"type\\\":\\\"js\\\",\\\"url\\\":\\\"\\/assetserver\\/0314215fc38f87455d25a217f081da9054de2922-knockout.js\\\"},{\\\"name\\\":\\\"knockout_punches\\\",\\\"type\\\":\\\"js\\\",\\\"url\\\":\\\"\\/assetserver\\/e7011e89f50940c046e57125bc6c6f723b775b34-knockout_punches.js\\\"}],\\\"type\\\":\\\"async_block\\\"})).then((imports) => handler.apply(this, imports));\\n}\\n\"],\"observables\":{\"changes\":{\"sync\":false,\"id\":\"129\",\"value\":0},\"index\":{\"sync\":true,\"id\":\"128\",\"value\":10}}},\"children\":[{\"props\":{\"className\":\"interact-flex-row interact-widget\"},\"nodeType\":\"DOM\",\"type\":\"node\",\"instanceArgs\":{\"namespace\":\"html\",\"tag\":\"div\"},\"children\":[{\"props\":{\"className\":\"interact-flex-row-left\"},\"nodeType\":\"DOM\",\"type\":\"node\",\"instanceArgs\":{\"namespace\":\"html\",\"tag\":\"div\"},\"children\":[{\"props\":{\"className\":\"interact \",\"style\":{\"padding\":\"5px 10px 0px 10px\"}},\"nodeType\":\"DOM\",\"type\":\"node\",\"instanceArgs\":{\"namespace\":\"html\",\"tag\":\"label\"},\"children\":[\"Ed\"]}]},{\"props\":{\"className\":\"interact-flex-row-center\"},\"nodeType\":\"DOM\",\"type\":\"node\",\"instanceArgs\":{\"namespace\":\"html\",\"tag\":\"div\"},\"children\":[{\"props\":{\"max\":19,\"min\":1,\"attributes\":{\"type\":\"range\",\"data-bind\":\"numericValue: index, valueUpdate: 'input', event: {change: function (){this.changes(this.changes()+1)}}\",\"orient\":\"horizontal\"},\"step\":1,\"className\":\"slider slider is-fullwidth\",\"style\":{}},\"nodeType\":\"DOM\",\"type\":\"node\",\"instanceArgs\":{\"namespace\":\"html\",\"tag\":\"input\"},\"children\":[]}]},{\"props\":{\"className\":\"interact-flex-row-right\"},\"nodeType\":\"DOM\",\"type\":\"node\",\"instanceArgs\":{\"namespace\":\"html\",\"tag\":\"div\"},\"children\":[{\"props\":{\"attributes\":{\"data-bind\":\"text: formatted_val\"}},\"nodeType\":\"DOM\",\"type\":\"node\",\"instanceArgs\":{\"namespace\":\"html\",\"tag\":\"p\"},\"children\":[]}]}]}]}]},{\"props\":{\"className\":\"field interact-widget\"},\"nodeType\":\"DOM\",\"type\":\"node\",\"instanceArgs\":{\"namespace\":\"html\",\"tag\":\"div\"},\"children\":[{\"props\":{},\"nodeType\":\"Scope\",\"type\":\"node\",\"instanceArgs\":{\"imports\":{\"data\":[{\"name\":\"knockout\",\"type\":\"js\",\"url\":\"\\/assetserver\\/0314215fc38f87455d25a217f081da9054de2922-knockout.js\"},{\"name\":\"knockout_punches\",\"type\":\"js\",\"url\":\"\\/assetserver\\/e7011e89f50940c046e57125bc6c6f723b775b34-knockout_punches.js\"},{\"name\":null,\"type\":\"js\",\"url\":\"\\/assetserver\\/58294179eb1f9db887a20c5fb63d45ade76535f4-all.js\"},{\"name\":null,\"type\":\"css\",\"url\":\"\\/assetserver\\/2ae45fa6992db70f10cf9c1e8cbfbca9bbb43bf2-style.css\"},{\"name\":null,\"type\":\"css\",\"url\":\"\\/assetserver\\/33262c934bcea44e33db6ed4c19b7f64ba19d81a-bulma_confined.min.css\"}],\"type\":\"async_block\"},\"id\":\"9825452884093374038\",\"handlers\":{\"changes\":[\"(function (val){return (val!=this.model[\\\"changes\\\"]()) ? (this.valueFromJulia[\\\"changes\\\"]=true, this.model[\\\"changes\\\"](val)) : undefined})\"],\"index\":[\"(function (val){return (val!=this.model[\\\"index\\\"]()) ? (this.valueFromJulia[\\\"index\\\"]=true, this.model[\\\"index\\\"](val)) : undefined})\"]},\"systemjs_options\":null,\"mount_callbacks\":[\"function () {\\n    var handler = (function (ko, koPunches) {\\n    ko.punches.enableAll();\\n    ko.bindingHandlers.numericValue = {\\n        init: function(element, valueAccessor, allBindings, data, context) {\\n            var stringified = ko.observable(ko.unwrap(valueAccessor()));\\n            stringified.subscribe(function(value) {\\n                var val = parseFloat(value);\\n                if (!isNaN(val)) {\\n                    valueAccessor()(val);\\n                }\\n            });\\n            valueAccessor().subscribe(function(value) {\\n                var str = JSON.stringify(value);\\n                if ((str == \\\"0\\\") && ([\\\"-0\\\", \\\"-0.\\\"].indexOf(stringified()) >= 0))\\n                     return;\\n                 if ([\\\"null\\\", \\\"\\\"].indexOf(str) >= 0)\\n                     return;\\n                stringified(str);\\n            });\\n            ko.applyBindingsToNode(\\n                element,\\n                {\\n                    value: stringified,\\n                    valueUpdate: allBindings.get('valueUpdate'),\\n                },\\n                context,\\n            );\\n        }\\n    };\\n    var json_data = {\\\"formatted_vals\\\":[\\\"0.0\\\",\\\"81.6327\\\",\\\"163.265\\\",\\\"244.898\\\",\\\"326.531\\\",\\\"408.163\\\",\\\"489.796\\\",\\\"571.429\\\",\\\"653.061\\\",\\\"734.694\\\",\\\"816.327\\\",\\\"897.959\\\",\\\"979.592\\\",\\\"1061.22\\\",\\\"1142.86\\\",\\\"1224.49\\\",\\\"1306.12\\\",\\\"1387.76\\\",\\\"1469.39\\\",\\\"1551.02\\\",\\\"1632.65\\\",\\\"1714.29\\\",\\\"1795.92\\\",\\\"1877.55\\\",\\\"1959.18\\\",\\\"2040.82\\\",\\\"2122.45\\\",\\\"2204.08\\\",\\\"2285.71\\\",\\\"2367.35\\\",\\\"2448.98\\\",\\\"2530.61\\\",\\\"2612.24\\\",\\\"2693.88\\\",\\\"2775.51\\\",\\\"2857.14\\\",\\\"2938.78\\\",\\\"3020.41\\\",\\\"3102.04\\\",\\\"3183.67\\\",\\\"3265.31\\\",\\\"3346.94\\\",\\\"3428.57\\\",\\\"3510.2\\\",\\\"3591.84\\\",\\\"3673.47\\\",\\\"3755.1\\\",\\\"3836.73\\\",\\\"3918.37\\\",\\\"4000.0\\\"],\\\"changes\\\":WebIO.getval({\\\"name\\\":\\\"changes\\\",\\\"scope\\\":\\\"9825452884093374038\\\",\\\"id\\\":\\\"132\\\",\\\"type\\\":\\\"observable\\\"}),\\\"index\\\":WebIO.getval({\\\"name\\\":\\\"index\\\",\\\"scope\\\":\\\"9825452884093374038\\\",\\\"id\\\":\\\"131\\\",\\\"type\\\":\\\"observable\\\"})};\\n    var self = this;\\n    function AppViewModel() {\\n        for (var key in json_data) {\\n            var el = json_data[key];\\n            this[key] = Array.isArray(el) ? ko.observableArray(el) : ko.observable(el);\\n        }\\n        \\n        [this[\\\"formatted_val\\\"]=ko.computed(    function(){\\n        return this.formatted_vals()[parseInt(this.index())-(1)];\\n    }\\n,this)]\\n        [this[\\\"changes\\\"].subscribe((function (val){!(this.valueFromJulia[\\\"changes\\\"]) ? (WebIO.setval({\\\"name\\\":\\\"changes\\\",\\\"scope\\\":\\\"9825452884093374038\\\",\\\"id\\\":\\\"132\\\",\\\"type\\\":\\\"observable\\\"},val)) : undefined; return this.valueFromJulia[\\\"changes\\\"]=false}),self),this[\\\"index\\\"].subscribe((function (val){!(this.valueFromJulia[\\\"index\\\"]) ? (WebIO.setval({\\\"name\\\":\\\"index\\\",\\\"scope\\\":\\\"9825452884093374038\\\",\\\"id\\\":\\\"131\\\",\\\"type\\\":\\\"observable\\\"},val)) : undefined; return this.valueFromJulia[\\\"index\\\"]=false}),self)]\\n        \\n    }\\n    self.model = new AppViewModel();\\n    self.valueFromJulia = {};\\n    for (var key in json_data) {\\n        self.valueFromJulia[key] = false;\\n    }\\n    ko.applyBindings(self.model, self.dom);\\n}\\n);\\n    (WebIO.importBlock({\\\"data\\\":[{\\\"name\\\":\\\"knockout\\\",\\\"type\\\":\\\"js\\\",\\\"url\\\":\\\"\\/assetserver\\/0314215fc38f87455d25a217f081da9054de2922-knockout.js\\\"},{\\\"name\\\":\\\"knockout_punches\\\",\\\"type\\\":\\\"js\\\",\\\"url\\\":\\\"\\/assetserver\\/e7011e89f50940c046e57125bc6c6f723b775b34-knockout_punches.js\\\"}],\\\"type\\\":\\\"async_block\\\"})).then((imports) => handler.apply(this, imports));\\n}\\n\"],\"observables\":{\"changes\":{\"sync\":false,\"id\":\"132\",\"value\":0},\"index\":{\"sync\":true,\"id\":\"131\",\"value\":25}}},\"children\":[{\"props\":{\"className\":\"interact-flex-row interact-widget\"},\"nodeType\":\"DOM\",\"type\":\"node\",\"instanceArgs\":{\"namespace\":\"html\",\"tag\":\"div\"},\"children\":[{\"props\":{\"className\":\"interact-flex-row-left\"},\"nodeType\":\"DOM\",\"type\":\"node\",\"instanceArgs\":{\"namespace\":\"html\",\"tag\":\"div\"},\"children\":[{\"props\":{\"className\":\"interact \",\"style\":{\"padding\":\"5px 10px 0px 10px\"}},\"nodeType\":\"DOM\",\"type\":\"node\",\"instanceArgs\":{\"namespace\":\"html\",\"tag\":\"label\"},\"children\":[\"E\"]}]},{\"props\":{\"className\":\"interact-flex-row-center\"},\"nodeType\":\"DOM\",\"type\":\"node\",\"instanceArgs\":{\"namespace\":\"html\",\"tag\":\"div\"},\"children\":[{\"props\":{\"max\":50,\"min\":1,\"attributes\":{\"type\":\"range\",\"data-bind\":\"numericValue: index, valueUpdate: 'input', event: {change: function (){this.changes(this.changes()+1)}}\",\"orient\":\"horizontal\"},\"step\":1,\"className\":\"slider slider is-fullwidth\",\"style\":{}},\"nodeType\":\"DOM\",\"type\":\"node\",\"instanceArgs\":{\"namespace\":\"html\",\"tag\":\"input\"},\"children\":[]}]},{\"props\":{\"className\":\"interact-flex-row-right\"},\"nodeType\":\"DOM\",\"type\":\"node\",\"instanceArgs\":{\"namespace\":\"html\",\"tag\":\"div\"},\"children\":[{\"props\":{\"attributes\":{\"data-bind\":\"text: formatted_val\"}},\"nodeType\":\"DOM\",\"type\":\"node\",\"instanceArgs\":{\"namespace\":\"html\",\"tag\":\"p\"},\"children\":[]}]}]}]}]},{\"props\":{\"className\":\"field interact-widget\"},\"nodeType\":\"DOM\",\"type\":\"node\",\"instanceArgs\":{\"namespace\":\"html\",\"tag\":\"div\"},\"children\":[{\"props\":{},\"nodeType\":\"Scope\",\"type\":\"node\",\"instanceArgs\":{\"imports\":{\"data\":[{\"name\":\"knockout\",\"type\":\"js\",\"url\":\"\\/assetserver\\/0314215fc38f87455d25a217f081da9054de2922-knockout.js\"},{\"name\":\"knockout_punches\",\"type\":\"js\",\"url\":\"\\/assetserver\\/e7011e89f50940c046e57125bc6c6f723b775b34-knockout_punches.js\"},{\"name\":null,\"type\":\"js\",\"url\":\"\\/assetserver\\/58294179eb1f9db887a20c5fb63d45ade76535f4-all.js\"},{\"name\":null,\"type\":\"css\",\"url\":\"\\/assetserver\\/2ae45fa6992db70f10cf9c1e8cbfbca9bbb43bf2-style.css\"},{\"name\":null,\"type\":\"css\",\"url\":\"\\/assetserver\\/33262c934bcea44e33db6ed4c19b7f64ba19d81a-bulma_confined.min.css\"}],\"type\":\"async_block\"},\"id\":\"17650277609722783127\",\"handlers\":{\"changes\":[\"(function (val){return (val!=this.model[\\\"changes\\\"]()) ? (this.valueFromJulia[\\\"changes\\\"]=true, this.model[\\\"changes\\\"](val)) : undefined})\"],\"index\":[\"(function (val){return (val!=this.model[\\\"index\\\"]()) ? (this.valueFromJulia[\\\"index\\\"]=true, this.model[\\\"index\\\"](val)) : undefined})\"]},\"systemjs_options\":null,\"mount_callbacks\":[\"function () {\\n    var handler = (function (ko, koPunches) {\\n    ko.punches.enableAll();\\n    ko.bindingHandlers.numericValue = {\\n        init: function(element, valueAccessor, allBindings, data, context) {\\n            var stringified = ko.observable(ko.unwrap(valueAccessor()));\\n            stringified.subscribe(function(value) {\\n                var val = parseFloat(value);\\n                if (!isNaN(val)) {\\n                    valueAccessor()(val);\\n                }\\n            });\\n            valueAccessor().subscribe(function(value) {\\n                var str = JSON.stringify(value);\\n                if ((str == \\\"0\\\") && ([\\\"-0\\\", \\\"-0.\\\"].indexOf(stringified()) >= 0))\\n                     return;\\n                 if ([\\\"null\\\", \\\"\\\"].indexOf(str) >= 0)\\n                     return;\\n                stringified(str);\\n            });\\n            ko.applyBindingsToNode(\\n                element,\\n                {\\n                    value: stringified,\\n                    valueUpdate: allBindings.get('valueUpdate'),\\n                },\\n                context,\\n            );\\n        }\\n    };\\n    var json_data = {\\\"formatted_vals\\\":[\\\"-1.0\\\",\\\"-0.959184\\\",\\\"-0.918367\\\",\\\"-0.877551\\\",\\\"-0.836735\\\",\\\"-0.795918\\\",\\\"-0.755102\\\",\\\"-0.714286\\\",\\\"-0.673469\\\",\\\"-0.632653\\\",\\\"-0.591837\\\",\\\"-0.55102\\\",\\\"-0.510204\\\",\\\"-0.469388\\\",\\\"-0.428571\\\",\\\"-0.387755\\\",\\\"-0.346939\\\",\\\"-0.306122\\\",\\\"-0.265306\\\",\\\"-0.22449\\\",\\\"-0.183673\\\",\\\"-0.142857\\\",\\\"-0.102041\\\",\\\"-0.0612245\\\",\\\"-0.0204082\\\",\\\"0.0204082\\\",\\\"0.0612245\\\",\\\"0.102041\\\",\\\"0.142857\\\",\\\"0.183673\\\",\\\"0.22449\\\",\\\"0.265306\\\",\\\"0.306122\\\",\\\"0.346939\\\",\\\"0.387755\\\",\\\"0.428571\\\",\\\"0.469388\\\",\\\"0.510204\\\",\\\"0.55102\\\",\\\"0.591837\\\",\\\"0.632653\\\",\\\"0.673469\\\",\\\"0.714286\\\",\\\"0.755102\\\",\\\"0.795918\\\",\\\"0.836735\\\",\\\"0.877551\\\",\\\"0.918367\\\",\\\"0.959184\\\",\\\"1.0\\\"],\\\"changes\\\":WebIO.getval({\\\"name\\\":\\\"changes\\\",\\\"scope\\\":\\\"17650277609722783127\\\",\\\"id\\\":\\\"135\\\",\\\"type\\\":\\\"observable\\\"}),\\\"index\\\":WebIO.getval({\\\"name\\\":\\\"index\\\",\\\"scope\\\":\\\"17650277609722783127\\\",\\\"id\\\":\\\"134\\\",\\\"type\\\":\\\"observable\\\"})};\\n    var self = this;\\n    function AppViewModel() {\\n        for (var key in json_data) {\\n            var el = json_data[key];\\n            this[key] = Array.isArray(el) ? ko.observableArray(el) : ko.observable(el);\\n        }\\n        \\n        [this[\\\"formatted_val\\\"]=ko.computed(    function(){\\n        return this.formatted_vals()[parseInt(this.index())-(1)];\\n    }\\n,this)]\\n        [this[\\\"changes\\\"].subscribe((function (val){!(this.valueFromJulia[\\\"changes\\\"]) ? (WebIO.setval({\\\"name\\\":\\\"changes\\\",\\\"scope\\\":\\\"17650277609722783127\\\",\\\"id\\\":\\\"135\\\",\\\"type\\\":\\\"observable\\\"},val)) : undefined; return this.valueFromJulia[\\\"changes\\\"]=false}),self),this[\\\"index\\\"].subscribe((function (val){!(this.valueFromJulia[\\\"index\\\"]) ? (WebIO.setval({\\\"name\\\":\\\"index\\\",\\\"scope\\\":\\\"17650277609722783127\\\",\\\"id\\\":\\\"134\\\",\\\"type\\\":\\\"observable\\\"},val)) : undefined; return this.valueFromJulia[\\\"index\\\"]=false}),self)]\\n        \\n    }\\n    self.model = new AppViewModel();\\n    self.valueFromJulia = {};\\n    for (var key in json_data) {\\n        self.valueFromJulia[key] = false;\\n    }\\n    ko.applyBindings(self.model, self.dom);\\n}\\n);\\n    (WebIO.importBlock({\\\"data\\\":[{\\\"name\\\":\\\"knockout\\\",\\\"type\\\":\\\"js\\\",\\\"url\\\":\\\"\\/assetserver\\/0314215fc38f87455d25a217f081da9054de2922-knockout.js\\\"},{\\\"name\\\":\\\"knockout_punches\\\",\\\"type\\\":\\\"js\\\",\\\"url\\\":\\\"\\/assetserver\\/e7011e89f50940c046e57125bc6c6f723b775b34-knockout_punches.js\\\"}],\\\"type\\\":\\\"async_block\\\"})).then((imports) => handler.apply(this, imports));\\n}\\n\"],\"observables\":{\"changes\":{\"sync\":false,\"id\":\"135\",\"value\":0},\"index\":{\"sync\":true,\"id\":\"134\",\"value\":25}}},\"children\":[{\"props\":{\"className\":\"interact-flex-row interact-widget\"},\"nodeType\":\"DOM\",\"type\":\"node\",\"instanceArgs\":{\"namespace\":\"html\",\"tag\":\"div\"},\"children\":[{\"props\":{\"className\":\"interact-flex-row-left\"},\"nodeType\":\"DOM\",\"type\":\"node\",\"instanceArgs\":{\"namespace\":\"html\",\"tag\":\"div\"},\"children\":[{\"props\":{\"className\":\"interact \",\"style\":{\"padding\":\"5px 10px 0px 10px\"}},\"nodeType\":\"DOM\",\"type\":\"node\",\"instanceArgs\":{\"namespace\":\"html\",\"tag\":\"label\"},\"children\":[\"pm\"]}]},{\"props\":{\"className\":\"interact-flex-row-center\"},\"nodeType\":\"DOM\",\"type\":\"node\",\"instanceArgs\":{\"namespace\":\"html\",\"tag\":\"div\"},\"children\":[{\"props\":{\"max\":50,\"min\":1,\"attributes\":{\"type\":\"range\",\"data-bind\":\"numericValue: index, valueUpdate: 'input', event: {change: function (){this.changes(this.changes()+1)}}\",\"orient\":\"horizontal\"},\"step\":1,\"className\":\"slider slider is-fullwidth\",\"style\":{}},\"nodeType\":\"DOM\",\"type\":\"node\",\"instanceArgs\":{\"namespace\":\"html\",\"tag\":\"input\"},\"children\":[]}]},{\"props\":{\"className\":\"interact-flex-row-right\"},\"nodeType\":\"DOM\",\"type\":\"node\",\"instanceArgs\":{\"namespace\":\"html\",\"tag\":\"div\"},\"children\":[{\"props\":{\"attributes\":{\"data-bind\":\"text: formatted_val\"}},\"nodeType\":\"DOM\",\"type\":\"node\",\"instanceArgs\":{\"namespace\":\"html\",\"tag\":\"p\"},\"children\":[]}]}]}]}]},{\"props\":{\"className\":\"field interact-widget\"},\"nodeType\":\"DOM\",\"type\":\"node\",\"instanceArgs\":{\"namespace\":\"html\",\"tag\":\"div\"},\"children\":[{\"props\":{},\"nodeType\":\"Scope\",\"type\":\"node\",\"instanceArgs\":{\"imports\":{\"data\":[{\"name\":\"knockout\",\"type\":\"js\",\"url\":\"\\/assetserver\\/0314215fc38f87455d25a217f081da9054de2922-knockout.js\"},{\"name\":\"knockout_punches\",\"type\":\"js\",\"url\":\"\\/assetserver\\/e7011e89f50940c046e57125bc6c6f723b775b34-knockout_punches.js\"},{\"name\":null,\"type\":\"js\",\"url\":\"\\/assetserver\\/58294179eb1f9db887a20c5fb63d45ade76535f4-all.js\"},{\"name\":null,\"type\":\"css\",\"url\":\"\\/assetserver\\/2ae45fa6992db70f10cf9c1e8cbfbca9bbb43bf2-style.css\"},{\"name\":null,\"type\":\"css\",\"url\":\"\\/assetserver\\/33262c934bcea44e33db6ed4c19b7f64ba19d81a-bulma_confined.min.css\"}],\"type\":\"async_block\"},\"id\":\"10520908209616695256\",\"handlers\":{\"changes\":[\"(function (val){return (val!=this.model[\\\"changes\\\"]()) ? (this.valueFromJulia[\\\"changes\\\"]=true, this.model[\\\"changes\\\"](val)) : undefined})\"],\"index\":[\"(function (val){return (val!=this.model[\\\"index\\\"]()) ? (this.valueFromJulia[\\\"index\\\"]=true, this.model[\\\"index\\\"](val)) : undefined})\"]},\"systemjs_options\":null,\"mount_callbacks\":[\"function () {\\n    var handler = (function (ko, koPunches) {\\n    ko.punches.enableAll();\\n    ko.bindingHandlers.numericValue = {\\n        init: function(element, valueAccessor, allBindings, data, context) {\\n            var stringified = ko.observable(ko.unwrap(valueAccessor()));\\n            stringified.subscribe(function(value) {\\n                var val = parseFloat(value);\\n                if (!isNaN(val)) {\\n                    valueAccessor()(val);\\n                }\\n            });\\n            valueAccessor().subscribe(function(value) {\\n                var str = JSON.stringify(value);\\n                if ((str == \\\"0\\\") && ([\\\"-0\\\", \\\"-0.\\\"].indexOf(stringified()) >= 0))\\n                     return;\\n                 if ([\\\"null\\\", \\\"\\\"].indexOf(str) >= 0)\\n                     return;\\n                stringified(str);\\n            });\\n            ko.applyBindingsToNode(\\n                element,\\n                {\\n                    value: stringified,\\n                    valueUpdate: allBindings.get('valueUpdate'),\\n                },\\n                context,\\n            );\\n        }\\n    };\\n    var json_data = {\\\"formatted_vals\\\":[\\\"2.76723\\\",\\\"2.79017\\\",\\\"2.81311\\\",\\\"2.83606\\\",\\\"2.859\\\",\\\"2.88194\\\",\\\"2.90489\\\",\\\"2.92783\\\",\\\"2.95077\\\",\\\"2.97372\\\",\\\"2.99666\\\",\\\"3.0196\\\",\\\"3.04255\\\",\\\"3.06549\\\",\\\"3.08843\\\",\\\"3.11137\\\",\\\"3.13432\\\",\\\"3.15726\\\",\\\"3.1802\\\",\\\"3.20315\\\",\\\"3.22609\\\",\\\"3.24903\\\",\\\"3.27198\\\",\\\"3.29492\\\",\\\"3.31786\\\",\\\"3.34081\\\",\\\"3.36375\\\",\\\"3.38669\\\",\\\"3.40963\\\",\\\"3.43258\\\",\\\"3.45552\\\",\\\"3.47846\\\",\\\"3.50141\\\",\\\"3.52435\\\",\\\"3.54729\\\",\\\"3.57024\\\",\\\"3.59318\\\",\\\"3.61612\\\",\\\"3.63907\\\",\\\"3.66201\\\",\\\"3.68495\\\",\\\"3.7079\\\",\\\"3.73084\\\",\\\"3.75378\\\",\\\"3.77672\\\",\\\"3.79967\\\",\\\"3.82261\\\",\\\"3.84555\\\",\\\"3.8685\\\",\\\"3.89144\\\"],\\\"changes\\\":WebIO.getval({\\\"name\\\":\\\"changes\\\",\\\"scope\\\":\\\"10520908209616695256\\\",\\\"id\\\":\\\"138\\\",\\\"type\\\":\\\"observable\\\"}),\\\"index\\\":WebIO.getval({\\\"name\\\":\\\"index\\\",\\\"scope\\\":\\\"10520908209616695256\\\",\\\"id\\\":\\\"137\\\",\\\"type\\\":\\\"observable\\\"})};\\n    var self = this;\\n    function AppViewModel() {\\n        for (var key in json_data) {\\n            var el = json_data[key];\\n            this[key] = Array.isArray(el) ? ko.observableArray(el) : ko.observable(el);\\n        }\\n        \\n        [this[\\\"formatted_val\\\"]=ko.computed(    function(){\\n        return this.formatted_vals()[parseInt(this.index())-(1)];\\n    }\\n,this)]\\n        [this[\\\"changes\\\"].subscribe((function (val){!(this.valueFromJulia[\\\"changes\\\"]) ? (WebIO.setval({\\\"name\\\":\\\"changes\\\",\\\"scope\\\":\\\"10520908209616695256\\\",\\\"id\\\":\\\"138\\\",\\\"type\\\":\\\"observable\\\"},val)) : undefined; return this.valueFromJulia[\\\"changes\\\"]=false}),self),this[\\\"index\\\"].subscribe((function (val){!(this.valueFromJulia[\\\"index\\\"]) ? (WebIO.setval({\\\"name\\\":\\\"index\\\",\\\"scope\\\":\\\"10520908209616695256\\\",\\\"id\\\":\\\"137\\\",\\\"type\\\":\\\"observable\\\"},val)) : undefined; return this.valueFromJulia[\\\"index\\\"]=false}),self)]\\n        \\n    }\\n    self.model = new AppViewModel();\\n    self.valueFromJulia = {};\\n    for (var key in json_data) {\\n        self.valueFromJulia[key] = false;\\n    }\\n    ko.applyBindings(self.model, self.dom);\\n}\\n);\\n    (WebIO.importBlock({\\\"data\\\":[{\\\"name\\\":\\\"knockout\\\",\\\"type\\\":\\\"js\\\",\\\"url\\\":\\\"\\/assetserver\\/0314215fc38f87455d25a217f081da9054de2922-knockout.js\\\"},{\\\"name\\\":\\\"knockout_punches\\\",\\\"type\\\":\\\"js\\\",\\\"url\\\":\\\"\\/assetserver\\/e7011e89f50940c046e57125bc6c6f723b775b34-knockout_punches.js\\\"}],\\\"type\\\":\\\"async_block\\\"})).then((imports) => handler.apply(this, imports));\\n}\\n\"],\"observables\":{\"changes\":{\"sync\":false,\"id\":\"138\",\"value\":0},\"index\":{\"sync\":true,\"id\":\"137\",\"value\":25}}},\"children\":[{\"props\":{\"className\":\"interact-flex-row interact-widget\"},\"nodeType\":\"DOM\",\"type\":\"node\",\"instanceArgs\":{\"namespace\":\"html\",\"tag\":\"div\"},\"children\":[{\"props\":{\"className\":\"interact-flex-row-left\"},\"nodeType\":\"DOM\",\"type\":\"node\",\"instanceArgs\":{\"namespace\":\"html\",\"tag\":\"div\"},\"children\":[{\"props\":{\"className\":\"interact \",\"style\":{\"padding\":\"5px 10px 0px 10px\"}},\"nodeType\":\"DOM\",\"type\":\"node\",\"instanceArgs\":{\"namespace\":\"html\",\"tag\":\"label\"},\"children\":[\"Rm\"]}]},{\"props\":{\"className\":\"interact-flex-row-center\"},\"nodeType\":\"DOM\",\"type\":\"node\",\"instanceArgs\":{\"namespace\":\"html\",\"tag\":\"div\"},\"children\":[{\"props\":{\"max\":50,\"min\":1,\"attributes\":{\"type\":\"range\",\"data-bind\":\"numericValue: index, valueUpdate: 'input', event: {change: function (){this.changes(this.changes()+1)}}\",\"orient\":\"horizontal\"},\"step\":1,\"className\":\"slider slider is-fullwidth\",\"style\":{}},\"nodeType\":\"DOM\",\"type\":\"node\",\"instanceArgs\":{\"namespace\":\"html\",\"tag\":\"input\"},\"children\":[]}]},{\"props\":{\"className\":\"interact-flex-row-right\"},\"nodeType\":\"DOM\",\"type\":\"node\",\"instanceArgs\":{\"namespace\":\"html\",\"tag\":\"div\"},\"children\":[{\"props\":{\"attributes\":{\"data-bind\":\"text: formatted_val\"}},\"nodeType\":\"DOM\",\"type\":\"node\",\"instanceArgs\":{\"namespace\":\"html\",\"tag\":\"p\"},\"children\":[]}]}]}]}]},{\"props\":{\"className\":\"field interact-widget\"},\"nodeType\":\"DOM\",\"type\":\"node\",\"instanceArgs\":{\"namespace\":\"html\",\"tag\":\"div\"},\"children\":[{\"props\":{},\"nodeType\":\"Scope\",\"type\":\"node\",\"instanceArgs\":{\"imports\":{\"data\":[{\"name\":\"knockout\",\"type\":\"js\",\"url\":\"\\/assetserver\\/0314215fc38f87455d25a217f081da9054de2922-knockout.js\"},{\"name\":\"knockout_punches\",\"type\":\"js\",\"url\":\"\\/assetserver\\/e7011e89f50940c046e57125bc6c6f723b775b34-knockout_punches.js\"},{\"name\":null,\"type\":\"js\",\"url\":\"\\/assetserver\\/58294179eb1f9db887a20c5fb63d45ade76535f4-all.js\"},{\"name\":null,\"type\":\"css\",\"url\":\"\\/assetserver\\/2ae45fa6992db70f10cf9c1e8cbfbca9bbb43bf2-style.css\"},{\"name\":null,\"type\":\"css\",\"url\":\"\\/assetserver\\/33262c934bcea44e33db6ed4c19b7f64ba19d81a-bulma_confined.min.css\"}],\"type\":\"async_block\"},\"id\":\"16235282034041118110\",\"handlers\":{\"changes\":[\"(function (val){return (val!=this.model[\\\"changes\\\"]()) ? (this.valueFromJulia[\\\"changes\\\"]=true, this.model[\\\"changes\\\"](val)) : undefined})\"],\"index\":[\"(function (val){return (val!=this.model[\\\"index\\\"]()) ? (this.valueFromJulia[\\\"index\\\"]=true, this.model[\\\"index\\\"](val)) : undefined})\"]},\"systemjs_options\":null,\"mount_callbacks\":[\"function () {\\n    var handler = (function (ko, koPunches) {\\n    ko.punches.enableAll();\\n    ko.bindingHandlers.numericValue = {\\n        init: function(element, valueAccessor, allBindings, data, context) {\\n            var stringified = ko.observable(ko.unwrap(valueAccessor()));\\n            stringified.subscribe(function(value) {\\n                var val = parseFloat(value);\\n                if (!isNaN(val)) {\\n                    valueAccessor()(val);\\n                }\\n            });\\n            valueAccessor().subscribe(function(value) {\\n                var str = JSON.stringify(value);\\n                if ((str == \\\"0\\\") && ([\\\"-0\\\", \\\"-0.\\\"].indexOf(stringified()) >= 0))\\n                     return;\\n                 if ([\\\"null\\\", \\\"\\\"].indexOf(str) >= 0)\\n                     return;\\n                stringified(str);\\n            });\\n            ko.applyBindingsToNode(\\n                element,\\n                {\\n                    value: stringified,\\n                    valueUpdate: allBindings.get('valueUpdate'),\\n                },\\n                context,\\n            );\\n        }\\n    };\\n    var json_data = {\\\"formatted_vals\\\":[\\\"1\\\"],\\\"changes\\\":WebIO.getval({\\\"name\\\":\\\"changes\\\",\\\"scope\\\":\\\"16235282034041118110\\\",\\\"id\\\":\\\"141\\\",\\\"type\\\":\\\"observable\\\"}),\\\"index\\\":WebIO.getval({\\\"name\\\":\\\"index\\\",\\\"scope\\\":\\\"16235282034041118110\\\",\\\"id\\\":\\\"140\\\",\\\"type\\\":\\\"observable\\\"})};\\n    var self = this;\\n    function AppViewModel() {\\n        for (var key in json_data) {\\n            var el = json_data[key];\\n            this[key] = Array.isArray(el) ? ko.observableArray(el) : ko.observable(el);\\n        }\\n        \\n        [this[\\\"formatted_val\\\"]=ko.computed(    function(){\\n        return this.formatted_vals()[parseInt(this.index())-(1)];\\n    }\\n,this)]\\n        [this[\\\"changes\\\"].subscribe((function (val){!(this.valueFromJulia[\\\"changes\\\"]) ? (WebIO.setval({\\\"name\\\":\\\"changes\\\",\\\"scope\\\":\\\"16235282034041118110\\\",\\\"id\\\":\\\"141\\\",\\\"type\\\":\\\"observable\\\"},val)) : undefined; return this.valueFromJulia[\\\"changes\\\"]=false}),self),this[\\\"index\\\"].subscribe((function (val){!(this.valueFromJulia[\\\"index\\\"]) ? (WebIO.setval({\\\"name\\\":\\\"index\\\",\\\"scope\\\":\\\"16235282034041118110\\\",\\\"id\\\":\\\"140\\\",\\\"type\\\":\\\"observable\\\"},val)) : undefined; return this.valueFromJulia[\\\"index\\\"]=false}),self)]\\n        \\n    }\\n    self.model = new AppViewModel();\\n    self.valueFromJulia = {};\\n    for (var key in json_data) {\\n        self.valueFromJulia[key] = false;\\n    }\\n    ko.applyBindings(self.model, self.dom);\\n}\\n);\\n    (WebIO.importBlock({\\\"data\\\":[{\\\"name\\\":\\\"knockout\\\",\\\"type\\\":\\\"js\\\",\\\"url\\\":\\\"\\/assetserver\\/0314215fc38f87455d25a217f081da9054de2922-knockout.js\\\"},{\\\"name\\\":\\\"knockout_punches\\\",\\\"type\\\":\\\"js\\\",\\\"url\\\":\\\"\\/assetserver\\/e7011e89f50940c046e57125bc6c6f723b775b34-knockout_punches.js\\\"}],\\\"type\\\":\\\"async_block\\\"})).then((imports) => handler.apply(this, imports));\\n}\\n\"],\"observables\":{\"changes\":{\"sync\":false,\"id\":\"141\",\"value\":0},\"index\":{\"sync\":true,\"id\":\"140\",\"value\":1}}},\"children\":[{\"props\":{\"className\":\"interact-flex-row interact-widget\"},\"nodeType\":\"DOM\",\"type\":\"node\",\"instanceArgs\":{\"namespace\":\"html\",\"tag\":\"div\"},\"children\":[{\"props\":{\"className\":\"interact-flex-row-left\"},\"nodeType\":\"DOM\",\"type\":\"node\",\"instanceArgs\":{\"namespace\":\"html\",\"tag\":\"div\"},\"children\":[{\"props\":{\"className\":\"interact \",\"style\":{\"padding\":\"5px 10px 0px 10px\"}},\"nodeType\":\"DOM\",\"type\":\"node\",\"instanceArgs\":{\"namespace\":\"html\",\"tag\":\"label\"},\"children\":[\"irec\"]}]},{\"props\":{\"className\":\"interact-flex-row-center\"},\"nodeType\":\"DOM\",\"type\":\"node\",\"instanceArgs\":{\"namespace\":\"html\",\"tag\":\"div\"},\"children\":[{\"props\":{\"max\":1,\"min\":1,\"attributes\":{\"type\":\"range\",\"data-bind\":\"numericValue: index, valueUpdate: 'input', event: {change: function (){this.changes(this.changes()+1)}}\",\"orient\":\"horizontal\"},\"step\":1,\"className\":\"slider slider is-fullwidth\",\"style\":{}},\"nodeType\":\"DOM\",\"type\":\"node\",\"instanceArgs\":{\"namespace\":\"html\",\"tag\":\"input\"},\"children\":[]}]},{\"props\":{\"className\":\"interact-flex-row-right\"},\"nodeType\":\"DOM\",\"type\":\"node\",\"instanceArgs\":{\"namespace\":\"html\",\"tag\":\"div\"},\"children\":[{\"props\":{\"attributes\":{\"data-bind\":\"text: formatted_val\"}},\"nodeType\":\"DOM\",\"type\":\"node\",\"instanceArgs\":{\"namespace\":\"html\",\"tag\":\"p\"},\"children\":[]}]}]}]}]},{\"props\":{\"className\":\"interact-widget\"},\"nodeType\":\"DOM\",\"type\":\"node\",\"instanceArgs\":{\"namespace\":\"html\",\"tag\":\"div\"},\"children\":[{\"props\":{},\"nodeType\":\"Scope\",\"type\":\"node\",\"instanceArgs\":{\"imports\":{\"data\":[{\"name\":\"knockout\",\"type\":\"js\",\"url\":\"\\/assetserver\\/0314215fc38f87455d25a217f081da9054de2922-knockout.js\"},{\"name\":\"knockout_punches\",\"type\":\"js\",\"url\":\"\\/assetserver\\/e7011e89f50940c046e57125bc6c6f723b775b34-knockout_punches.js\"},{\"name\":null,\"type\":\"js\",\"url\":\"\\/assetserver\\/58294179eb1f9db887a20c5fb63d45ade76535f4-all.js\"},{\"name\":null,\"type\":\"css\",\"url\":\"\\/assetserver\\/2ae45fa6992db70f10cf9c1e8cbfbca9bbb43bf2-style.css\"},{\"name\":null,\"type\":\"css\",\"url\":\"\\/assetserver\\/33262c934bcea44e33db6ed4c19b7f64ba19d81a-bulma_confined.min.css\"}],\"type\":\"async_block\"},\"id\":\"11576845638025054878\",\"handlers\":{\"options_js\":[\"(function (val){return (val!=this.model[\\\"options_js\\\"]()) ? (this.valueFromJulia[\\\"options_js\\\"]=true, this.model[\\\"options_js\\\"](val)) : undefined})\"],\"index\":[\"(function (val){return (val!=this.model[\\\"index\\\"]()) ? (this.valueFromJulia[\\\"index\\\"]=true, this.model[\\\"index\\\"](val)) : undefined})\"]},\"systemjs_options\":null,\"mount_callbacks\":[\"function () {\\n    var handler = (function (ko, koPunches) {\\n    ko.punches.enableAll();\\n    ko.bindingHandlers.numericValue = {\\n        init: function(element, valueAccessor, allBindings, data, context) {\\n            var stringified = ko.observable(ko.unwrap(valueAccessor()));\\n            stringified.subscribe(function(value) {\\n                var val = parseFloat(value);\\n                if (!isNaN(val)) {\\n                    valueAccessor()(val);\\n                }\\n            });\\n            valueAccessor().subscribe(function(value) {\\n                var str = JSON.stringify(value);\\n                if ((str == \\\"0\\\") && ([\\\"-0\\\", \\\"-0.\\\"].indexOf(stringified()) >= 0))\\n                     return;\\n                 if ([\\\"null\\\", \\\"\\\"].indexOf(str) >= 0)\\n                     return;\\n                stringified(str);\\n            });\\n            ko.applyBindingsToNode(\\n                element,\\n                {\\n                    value: stringified,\\n                    valueUpdate: allBindings.get('valueUpdate'),\\n                },\\n                context,\\n            );\\n        }\\n    };\\n    var json_data = {\\\"options_js\\\":WebIO.getval({\\\"name\\\":\\\"options_js\\\",\\\"scope\\\":\\\"11576845638025054878\\\",\\\"id\\\":\\\"146\\\",\\\"type\\\":\\\"observable\\\"}),\\\"index\\\":WebIO.getval({\\\"name\\\":\\\"index\\\",\\\"scope\\\":\\\"11576845638025054878\\\",\\\"id\\\":\\\"145\\\",\\\"type\\\":\\\"observable\\\"})};\\n    var self = this;\\n    function AppViewModel() {\\n        for (var key in json_data) {\\n            var el = json_data[key];\\n            this[key] = Array.isArray(el) ? ko.observableArray(el) : ko.observable(el);\\n        }\\n        [this[\\\"update\\\"]=function (val) {this.index(val)}]\\n        \\n        [this[\\\"options_js\\\"].subscribe((function (val){!(this.valueFromJulia[\\\"options_js\\\"]) ? (WebIO.setval({\\\"name\\\":\\\"options_js\\\",\\\"scope\\\":\\\"11576845638025054878\\\",\\\"id\\\":\\\"146\\\",\\\"type\\\":\\\"observable\\\"},val)) : undefined; return this.valueFromJulia[\\\"options_js\\\"]=false}),self),this[\\\"index\\\"].subscribe((function (val){!(this.valueFromJulia[\\\"index\\\"]) ? (WebIO.setval({\\\"name\\\":\\\"index\\\",\\\"scope\\\":\\\"11576845638025054878\\\",\\\"id\\\":\\\"145\\\",\\\"type\\\":\\\"observable\\\"},val)) : undefined; return this.valueFromJulia[\\\"index\\\"]=false}),self)]\\n        \\n    }\\n    self.model = new AppViewModel();\\n    self.valueFromJulia = {};\\n    for (var key in json_data) {\\n        self.valueFromJulia[key] = false;\\n    }\\n    ko.applyBindings(self.model, self.dom);\\n}\\n);\\n    (WebIO.importBlock({\\\"data\\\":[{\\\"name\\\":\\\"knockout\\\",\\\"type\\\":\\\"js\\\",\\\"url\\\":\\\"\\/assetserver\\/0314215fc38f87455d25a217f081da9054de2922-knockout.js\\\"},{\\\"name\\\":\\\"knockout_punches\\\",\\\"type\\\":\\\"js\\\",\\\"url\\\":\\\"\\/assetserver\\/e7011e89f50940c046e57125bc6c6f723b775b34-knockout_punches.js\\\"}],\\\"type\\\":\\\"async_block\\\"})).then((imports) => handler.apply(this, imports));\\n}\\n\"],\"observables\":{\"options_js\":{\"sync\":false,\"id\":\"146\",\"value\":[{\"key\":\"off\",\"val\":1,\"id\":\"idSTboigPC\"},{\"key\":\"on\",\"val\":2,\"id\":\"id0cjl0Ikh\"}]},\"index\":{\"sync\":true,\"id\":\"145\",\"value\":1}}},\"children\":[{\"props\":{\"className\":\"interact-flex-row interact-widget\"},\"nodeType\":\"DOM\",\"type\":\"node\",\"instanceArgs\":{\"namespace\":\"html\",\"tag\":\"div\"},\"children\":[{\"props\":{\"className\":\"interact-flex-row-left\"},\"nodeType\":\"DOM\",\"type\":\"node\",\"instanceArgs\":{\"namespace\":\"html\",\"tag\":\"div\"},\"children\":[{\"props\":{\"className\":\"interact \",\"style\":{\"padding\":\"5px 10px 0px 10px\"}},\"nodeType\":\"DOM\",\"type\":\"node\",\"instanceArgs\":{\"namespace\":\"html\",\"tag\":\"label\"},\"children\":[\"save_plots\"]}]},{\"props\":{\"className\":\"interact-flex-row-center\"},\"nodeType\":\"DOM\",\"type\":\"node\",\"instanceArgs\":{\"namespace\":\"html\",\"tag\":\"div\"},\"children\":[{\"props\":{\"attributes\":{\"data-bind\":\"foreach : options_js\"},\"className\":\"buttons has-addons is-centered\"},\"nodeType\":\"DOM\",\"type\":\"node\",\"instanceArgs\":{\"namespace\":\"html\",\"tag\":\"div\"},\"children\":[{\"props\":{\"attributes\":{\"data-bind\":\"click: function (){$root.update(val)}, css: {'is-primary is-selected' : $root.index() == val, 'interact-widget is-medium button ' : true}\"}},\"nodeType\":\"DOM\",\"type\":\"node\",\"instanceArgs\":{\"namespace\":\"html\",\"tag\":\"span\"},\"children\":[{\"props\":{\"attributes\":{\"data-bind\":\"text : key\"}},\"nodeType\":\"DOM\",\"type\":\"node\",\"instanceArgs\":{\"namespace\":\"html\",\"tag\":\"label\"},\"children\":[]}]}]}]},{\"props\":{\"className\":\"interact-flex-row-right\"},\"nodeType\":\"DOM\",\"type\":\"node\",\"instanceArgs\":{\"namespace\":\"html\",\"tag\":\"div\"},\"children\":[{\"props\":{},\"nodeType\":\"DOM\",\"type\":\"node\",\"instanceArgs\":{\"namespace\":\"html\",\"tag\":\"div\"},\"children\":[]}]}]}]}]},{\"props\":{\"className\":\"interact-widget\"},\"nodeType\":\"DOM\",\"type\":\"node\",\"instanceArgs\":{\"namespace\":\"html\",\"tag\":\"div\"},\"children\":[{\"props\":{},\"nodeType\":\"Scope\",\"type\":\"node\",\"instanceArgs\":{\"imports\":{\"data\":[{\"name\":\"knockout\",\"type\":\"js\",\"url\":\"\\/assetserver\\/0314215fc38f87455d25a217f081da9054de2922-knockout.js\"},{\"name\":\"knockout_punches\",\"type\":\"js\",\"url\":\"\\/assetserver\\/e7011e89f50940c046e57125bc6c6f723b775b34-knockout_punches.js\"},{\"name\":null,\"type\":\"js\",\"url\":\"\\/assetserver\\/58294179eb1f9db887a20c5fb63d45ade76535f4-all.js\"},{\"name\":null,\"type\":\"css\",\"url\":\"\\/assetserver\\/2ae45fa6992db70f10cf9c1e8cbfbca9bbb43bf2-style.css\"},{\"name\":null,\"type\":\"css\",\"url\":\"\\/assetserver\\/33262c934bcea44e33db6ed4c19b7f64ba19d81a-bulma_confined.min.css\"}],\"type\":\"async_block\"},\"id\":\"10266532590933521178\",\"handlers\":{\"options_js\":[\"(function (val){return (val!=this.model[\\\"options_js\\\"]()) ? (this.valueFromJulia[\\\"options_js\\\"]=true, this.model[\\\"options_js\\\"](val)) : undefined})\"],\"index\":[\"(function (val){return (val!=this.model[\\\"index\\\"]()) ? (this.valueFromJulia[\\\"index\\\"]=true, this.model[\\\"index\\\"](val)) : undefined})\"]},\"systemjs_options\":null,\"mount_callbacks\":[\"function () {\\n    var handler = (function (ko, koPunches) {\\n    ko.punches.enableAll();\\n    ko.bindingHandlers.numericValue = {\\n        init: function(element, valueAccessor, allBindings, data, context) {\\n            var stringified = ko.observable(ko.unwrap(valueAccessor()));\\n            stringified.subscribe(function(value) {\\n                var val = parseFloat(value);\\n                if (!isNaN(val)) {\\n                    valueAccessor()(val);\\n                }\\n            });\\n            valueAccessor().subscribe(function(value) {\\n                var str = JSON.stringify(value);\\n                if ((str == \\\"0\\\") && ([\\\"-0\\\", \\\"-0.\\\"].indexOf(stringified()) >= 0))\\n                     return;\\n                 if ([\\\"null\\\", \\\"\\\"].indexOf(str) >= 0)\\n                     return;\\n                stringified(str);\\n            });\\n            ko.applyBindingsToNode(\\n                element,\\n                {\\n                    value: stringified,\\n                    valueUpdate: allBindings.get('valueUpdate'),\\n                },\\n                context,\\n            );\\n        }\\n    };\\n    var json_data = {\\\"options_js\\\":WebIO.getval({\\\"name\\\":\\\"options_js\\\",\\\"scope\\\":\\\"10266532590933521178\\\",\\\"id\\\":\\\"151\\\",\\\"type\\\":\\\"observable\\\"}),\\\"index\\\":WebIO.getval({\\\"name\\\":\\\"index\\\",\\\"scope\\\":\\\"10266532590933521178\\\",\\\"id\\\":\\\"150\\\",\\\"type\\\":\\\"observable\\\"})};\\n    var self = this;\\n    function AppViewModel() {\\n        for (var key in json_data) {\\n            var el = json_data[key];\\n            this[key] = Array.isArray(el) ? ko.observableArray(el) : ko.observable(el);\\n        }\\n        [this[\\\"update\\\"]=function (val) {this.index(val)}]\\n        \\n        [this[\\\"options_js\\\"].subscribe((function (val){!(this.valueFromJulia[\\\"options_js\\\"]) ? (WebIO.setval({\\\"name\\\":\\\"options_js\\\",\\\"scope\\\":\\\"10266532590933521178\\\",\\\"id\\\":\\\"151\\\",\\\"type\\\":\\\"observable\\\"},val)) : undefined; return this.valueFromJulia[\\\"options_js\\\"]=false}),self),this[\\\"index\\\"].subscribe((function (val){!(this.valueFromJulia[\\\"index\\\"]) ? (WebIO.setval({\\\"name\\\":\\\"index\\\",\\\"scope\\\":\\\"10266532590933521178\\\",\\\"id\\\":\\\"150\\\",\\\"type\\\":\\\"observable\\\"},val)) : undefined; return this.valueFromJulia[\\\"index\\\"]=false}),self)]\\n        \\n    }\\n    self.model = new AppViewModel();\\n    self.valueFromJulia = {};\\n    for (var key in json_data) {\\n        self.valueFromJulia[key] = false;\\n    }\\n    ko.applyBindings(self.model, self.dom);\\n}\\n);\\n    (WebIO.importBlock({\\\"data\\\":[{\\\"name\\\":\\\"knockout\\\",\\\"type\\\":\\\"js\\\",\\\"url\\\":\\\"\\/assetserver\\/0314215fc38f87455d25a217f081da9054de2922-knockout.js\\\"},{\\\"name\\\":\\\"knockout_punches\\\",\\\"type\\\":\\\"js\\\",\\\"url\\\":\\\"\\/assetserver\\/e7011e89f50940c046e57125bc6c6f723b775b34-knockout_punches.js\\\"}],\\\"type\\\":\\\"async_block\\\"})).then((imports) => handler.apply(this, imports));\\n}\\n\"],\"observables\":{\"options_js\":{\"sync\":false,\"id\":\"151\",\"value\":[{\"key\":\"off\",\"val\":1,\"id\":\"idMB2pNEqt\"},{\"key\":\"on\",\"val\":2,\"id\":\"idQZlIvnRB\"}]},\"index\":{\"sync\":true,\"id\":\"150\",\"value\":1}}},\"children\":[{\"props\":{\"className\":\"interact-flex-row interact-widget\"},\"nodeType\":\"DOM\",\"type\":\"node\",\"instanceArgs\":{\"namespace\":\"html\",\"tag\":\"div\"},\"children\":[{\"props\":{\"className\":\"interact-flex-row-left\"},\"nodeType\":\"DOM\",\"type\":\"node\",\"instanceArgs\":{\"namespace\":\"html\",\"tag\":\"div\"},\"children\":[{\"props\":{\"className\":\"interact \",\"style\":{\"padding\":\"5px 10px 0px 10px\"}},\"nodeType\":\"DOM\",\"type\":\"node\",\"instanceArgs\":{\"namespace\":\"html\",\"tag\":\"label\"},\"children\":[\"show_coordinate\"]}]},{\"props\":{\"className\":\"interact-flex-row-center\"},\"nodeType\":\"DOM\",\"type\":\"node\",\"instanceArgs\":{\"namespace\":\"html\",\"tag\":\"div\"},\"children\":[{\"props\":{\"attributes\":{\"data-bind\":\"foreach : options_js\"},\"className\":\"buttons has-addons is-centered\"},\"nodeType\":\"DOM\",\"type\":\"node\",\"instanceArgs\":{\"namespace\":\"html\",\"tag\":\"div\"},\"children\":[{\"props\":{\"attributes\":{\"data-bind\":\"click: function (){$root.update(val)}, css: {'is-primary is-selected' : $root.index() == val, 'interact-widget is-medium button ' : true}\"}},\"nodeType\":\"DOM\",\"type\":\"node\",\"instanceArgs\":{\"namespace\":\"html\",\"tag\":\"span\"},\"children\":[{\"props\":{\"attributes\":{\"data-bind\":\"text : key\"}},\"nodeType\":\"DOM\",\"type\":\"node\",\"instanceArgs\":{\"namespace\":\"html\",\"tag\":\"label\"},\"children\":[]}]}]}]},{\"props\":{\"className\":\"interact-flex-row-right\"},\"nodeType\":\"DOM\",\"type\":\"node\",\"instanceArgs\":{\"namespace\":\"html\",\"tag\":\"div\"},\"children\":[{\"props\":{},\"nodeType\":\"DOM\",\"type\":\"node\",\"instanceArgs\":{\"namespace\":\"html\",\"tag\":\"div\"},\"children\":[]}]}]}]}]},{\"props\":{\"className\":\"interact-widget\"},\"nodeType\":\"DOM\",\"type\":\"node\",\"instanceArgs\":{\"namespace\":\"html\",\"tag\":\"div\"},\"children\":[{\"props\":{},\"nodeType\":\"Scope\",\"type\":\"node\",\"instanceArgs\":{\"imports\":{\"data\":[{\"name\":\"knockout\",\"type\":\"js\",\"url\":\"\\/assetserver\\/0314215fc38f87455d25a217f081da9054de2922-knockout.js\"},{\"name\":\"knockout_punches\",\"type\":\"js\",\"url\":\"\\/assetserver\\/e7011e89f50940c046e57125bc6c6f723b775b34-knockout_punches.js\"},{\"name\":null,\"type\":\"js\",\"url\":\"\\/assetserver\\/58294179eb1f9db887a20c5fb63d45ade76535f4-all.js\"},{\"name\":null,\"type\":\"css\",\"url\":\"\\/assetserver\\/2ae45fa6992db70f10cf9c1e8cbfbca9bbb43bf2-style.css\"},{\"name\":null,\"type\":\"css\",\"url\":\"\\/assetserver\\/33262c934bcea44e33db6ed4c19b7f64ba19d81a-bulma_confined.min.css\"}],\"type\":\"async_block\"},\"id\":\"2599302011589710818\",\"handlers\":{\"options_js\":[\"(function (val){return (val!=this.model[\\\"options_js\\\"]()) ? (this.valueFromJulia[\\\"options_js\\\"]=true, this.model[\\\"options_js\\\"](val)) : undefined})\"],\"index\":[\"(function (val){return (val!=this.model[\\\"index\\\"]()) ? (this.valueFromJulia[\\\"index\\\"]=true, this.model[\\\"index\\\"](val)) : undefined})\"]},\"systemjs_options\":null,\"mount_callbacks\":[\"function () {\\n    var handler = (function (ko, koPunches) {\\n    ko.punches.enableAll();\\n    ko.bindingHandlers.numericValue = {\\n        init: function(element, valueAccessor, allBindings, data, context) {\\n            var stringified = ko.observable(ko.unwrap(valueAccessor()));\\n            stringified.subscribe(function(value) {\\n                var val = parseFloat(value);\\n                if (!isNaN(val)) {\\n                    valueAccessor()(val);\\n                }\\n            });\\n            valueAccessor().subscribe(function(value) {\\n                var str = JSON.stringify(value);\\n                if ((str == \\\"0\\\") && ([\\\"-0\\\", \\\"-0.\\\"].indexOf(stringified()) >= 0))\\n                     return;\\n                 if ([\\\"null\\\", \\\"\\\"].indexOf(str) >= 0)\\n                     return;\\n                stringified(str);\\n            });\\n            ko.applyBindingsToNode(\\n                element,\\n                {\\n                    value: stringified,\\n                    valueUpdate: allBindings.get('valueUpdate'),\\n                },\\n                context,\\n            );\\n        }\\n    };\\n    var json_data = {\\\"options_js\\\":WebIO.getval({\\\"name\\\":\\\"options_js\\\",\\\"scope\\\":\\\"2599302011589710818\\\",\\\"id\\\":\\\"156\\\",\\\"type\\\":\\\"observable\\\"}),\\\"index\\\":WebIO.getval({\\\"name\\\":\\\"index\\\",\\\"scope\\\":\\\"2599302011589710818\\\",\\\"id\\\":\\\"155\\\",\\\"type\\\":\\\"observable\\\"})};\\n    var self = this;\\n    function AppViewModel() {\\n        for (var key in json_data) {\\n            var el = json_data[key];\\n            this[key] = Array.isArray(el) ? ko.observableArray(el) : ko.observable(el);\\n        }\\n        [this[\\\"update\\\"]=function (val) {this.index(val)}]\\n        \\n        [this[\\\"options_js\\\"].subscribe((function (val){!(this.valueFromJulia[\\\"options_js\\\"]) ? (WebIO.setval({\\\"name\\\":\\\"options_js\\\",\\\"scope\\\":\\\"2599302011589710818\\\",\\\"id\\\":\\\"156\\\",\\\"type\\\":\\\"observable\\\"},val)) : undefined; return this.valueFromJulia[\\\"options_js\\\"]=false}),self),this[\\\"index\\\"].subscribe((function (val){!(this.valueFromJulia[\\\"index\\\"]) ? (WebIO.setval({\\\"name\\\":\\\"index\\\",\\\"scope\\\":\\\"2599302011589710818\\\",\\\"id\\\":\\\"155\\\",\\\"type\\\":\\\"observable\\\"},val)) : undefined; return this.valueFromJulia[\\\"index\\\"]=false}),self)]\\n        \\n    }\\n    self.model = new AppViewModel();\\n    self.valueFromJulia = {};\\n    for (var key in json_data) {\\n        self.valueFromJulia[key] = false;\\n    }\\n    ko.applyBindings(self.model, self.dom);\\n}\\n);\\n    (WebIO.importBlock({\\\"data\\\":[{\\\"name\\\":\\\"knockout\\\",\\\"type\\\":\\\"js\\\",\\\"url\\\":\\\"\\/assetserver\\/0314215fc38f87455d25a217f081da9054de2922-knockout.js\\\"},{\\\"name\\\":\\\"knockout_punches\\\",\\\"type\\\":\\\"js\\\",\\\"url\\\":\\\"\\/assetserver\\/e7011e89f50940c046e57125bc6c6f723b775b34-knockout_punches.js\\\"}],\\\"type\\\":\\\"async_block\\\"})).then((imports) => handler.apply(this, imports));\\n}\\n\"],\"observables\":{\"options_js\":{\"sync\":false,\"id\":\"156\",\"value\":[{\"key\":\"off\",\"val\":1,\"id\":\"idDy2WzX6M\"},{\"key\":\"on\",\"val\":2,\"id\":\"idiZNfXYTV\"}]},\"index\":{\"sync\":true,\"id\":\"155\",\"value\":1}}},\"children\":[{\"props\":{\"className\":\"interact-flex-row interact-widget\"},\"nodeType\":\"DOM\",\"type\":\"node\",\"instanceArgs\":{\"namespace\":\"html\",\"tag\":\"div\"},\"children\":[{\"props\":{\"className\":\"interact-flex-row-left\"},\"nodeType\":\"DOM\",\"type\":\"node\",\"instanceArgs\":{\"namespace\":\"html\",\"tag\":\"div\"},\"children\":[{\"props\":{\"className\":\"interact \",\"style\":{\"padding\":\"5px 10px 0px 10px\"}},\"nodeType\":\"DOM\",\"type\":\"node\",\"instanceArgs\":{\"namespace\":\"html\",\"tag\":\"label\"},\"children\":[\"show_delta_signal\"]}]},{\"props\":{\"className\":\"interact-flex-row-center\"},\"nodeType\":\"DOM\",\"type\":\"node\",\"instanceArgs\":{\"namespace\":\"html\",\"tag\":\"div\"},\"children\":[{\"props\":{\"attributes\":{\"data-bind\":\"foreach : options_js\"},\"className\":\"buttons has-addons is-centered\"},\"nodeType\":\"DOM\",\"type\":\"node\",\"instanceArgs\":{\"namespace\":\"html\",\"tag\":\"div\"},\"children\":[{\"props\":{\"attributes\":{\"data-bind\":\"click: function (){$root.update(val)}, css: {'is-primary is-selected' : $root.index() == val, 'interact-widget is-medium button ' : true}\"}},\"nodeType\":\"DOM\",\"type\":\"node\",\"instanceArgs\":{\"namespace\":\"html\",\"tag\":\"span\"},\"children\":[{\"props\":{\"attributes\":{\"data-bind\":\"text : key\"}},\"nodeType\":\"DOM\",\"type\":\"node\",\"instanceArgs\":{\"namespace\":\"html\",\"tag\":\"label\"},\"children\":[]}]}]}]},{\"props\":{\"className\":\"interact-flex-row-right\"},\"nodeType\":\"DOM\",\"type\":\"node\",\"instanceArgs\":{\"namespace\":\"html\",\"tag\":\"div\"},\"children\":[{\"props\":{},\"nodeType\":\"DOM\",\"type\":\"node\",\"instanceArgs\":{\"namespace\":\"html\",\"tag\":\"div\"},\"children\":[]}]}]}]}]},{\"props\":{},\"nodeType\":\"Scope\",\"type\":\"node\",\"instanceArgs\":{\"imports\":{\"data\":[],\"type\":\"async_block\"},\"id\":\"17354551437578273161\",\"handlers\":{},\"systemjs_options\":null,\"mount_callbacks\":[],\"observables\":{\"obs-node\":{\"sync\":false,\"id\":\"160\",\"value\":{\"props\":{\"className\":\"interact-flex-row interact-widget\"},\"nodeType\":\"DOM\",\"type\":\"node\",\"instanceArgs\":{\"namespace\":\"html\",\"tag\":\"div\"},\"children\":[{\"props\":{\"style\":{\"display\":\"flex\",\"flex-direction\":\"column\"}},\"nodeType\":\"DOM\",\"type\":\"node\",\"instanceArgs\":{\"namespace\":\"html\",\"tag\":\"div\"},\"children\":[{\"props\":{\"style\":{\"height\":\"1.0em\",\"width\":\"0.0px\"}},\"nodeType\":\"DOM\",\"type\":\"node\",\"instanceArgs\":{\"namespace\":\"html\",\"tag\":\"div\"},\"children\":[]},{\"props\":{\"style\":{\"display\":\"flex\",\"flex-direction\":\"row\"}},\"nodeType\":\"DOM\",\"type\":\"node\",\"instanceArgs\":{\"namespace\":\"html\",\"tag\":\"div\"},\"children\":[{\"props\":{\"setInnerHtml\":\"<img src=\\\"data:image\\/png;base64,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\\\" \\/>\"},\"nodeType\":\"DOM\",\"type\":\"node\",\"instanceArgs\":{\"namespace\":\"html\",\"tag\":\"div\"},\"children\":[]},{\"props\":{\"setInnerHtml\":\"<img src=\\\"data:image\\/png;base64,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\\\" \\/>\"},\"nodeType\":\"DOM\",\"type\":\"node\",\"instanceArgs\":{\"namespace\":\"html\",\"tag\":\"div\"},\"children\":[]}]},{\"props\":{\"style\":{\"display\":\"flex\",\"flex-direction\":\"row\"}},\"nodeType\":\"DOM\",\"type\":\"node\",\"instanceArgs\":{\"namespace\":\"html\",\"tag\":\"div\"},\"children\":[{\"props\":{\"setInnerHtml\":\"<img src=\\\"data:image\\/png;base64,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\\\" \\/>\"},\"nodeType\":\"DOM\",\"type\":\"node\",\"instanceArgs\":{\"namespace\":\"html\",\"tag\":\"div\"},\"children\":[]},{\"props\":{\"setInnerHtml\":\"<img src=\\\"data:image\\/png;base64,iVBORw0KGgoAAAANSUhEUgAAAlgAAAGQCAIAAAD9V4nPAAAABmJLR0QA\\/wD\\/AP+gvaeTAAAgAElEQVR4nOzdd0AUR\\/s48Lk7qvReFBVFxW5EI4pdFLtRo1iwG43dqG+ixsSoiV0j2BN7b1GxRERUREFEkCZKEZDej3JcL\\/v7Y37vvvvdvTvaUeSez1\\/Hw+7c3N7ePjuzs7MsgiAQAAAAoK3YjV0BAAAAoDFxfvvtt8auA\\/gy5OXlvX\\/\\/vqyszMzMTEdHp46liUSi9+\\/fp6en6+vrGxkZaaSGNDKZLDMzMykpiSAIExMTFotV5SoBAQH79u0zNzdv06ZNfVRJSwgEgoSEhKysLGNjYwMDgxqtW1paGhcXx+Vy1exmUqn08+fPiYmJfD7f0tKyOt\\/slyU3Nzc1NTUzM1NXV7dGvw65XJ6VlZWUlMTlcg0MDNRs\\/NLS0o8fP2ZlZenr67do0UITtf6SEeALcenSJV3VYmJialpgWlraoUOHfHx8OnfuzGazEUJhYWFKl4yPjx88eDC5z5iZmf32229SqZS6TEFBgdIdzMzMjFaaSCRat24d+dtjs9leXl5paWlVVlgqlV68eHHt2rUDBw7ER4elS5cqXZLP569evZp6BDE3N\\/\\/1119pdWbauXMnQujkyZNVVkYVgUBgbm6OEPr48aOqZRYuXIgQ+vXXX2v9Lk2WVCr95ZdfTExM8GbX19dfsmQJj8erzrpcLtfHx4dMfubm5rt371YoFNRlLl68OG7cOH19ffKbtbW13blzZ5XfrFIZGRnUfVVXV9fGxmbw4MHHjx+vXYF1N2vWLFtbW2qtnJycjh07VuWKRUVFw4YNMzY2pq7bs2fPgIAA6mLZ2dmbN2\\/u1KkTdbFBgwZFRETU22f6AtT1vB40GLlcLpVKra2tu3XrxvxvLRpV\\/v7+P\\/zwA0KIw+Gw2WyFQqF0sQ8fPnh4eFRUVIwePXrUqFEVFRXnzp377bffCgoKjh07RlvYzMysb9++aiqmUCimTp368OHDVq1abdiwwdLSMigo6MGDB0OGDImIiLC3t1dT4crKyjlz5uDX6tsZ06dPf\\/jwoZ2d3Zo1a5ycnD59+nTq1Knt27cXFBScOHFCzYp1Z2hoOH369L\\/++uvChQs4rdLw+fybN2+yWKy5c+fWa00axdq1a48ePers7LxlyxZ9ff3z58\\/\\/9ddfWVlZDx8+VN9uk0ql48ePDwsL69+\\/\\/8yZM3k83rFjxzZu3Mjn87dv304utmHDhoKCgn79+rm7u1tYWMTHx9+9e3fz5s3Jyclnz56tXZ11dXWHDBmCX2dnZ4eEhISEhDx48OD+\\/fsN39Z88uSJlZXV6NGjW7VqpVAoYmJiHj9+vHz58oKCAvW9dxUVFSEhIX369OnRo4ejo2NFRcXLly8jIyPHjRt3586dCRMm4MVevHixc+dOU1PTadOmubq68vn8R48evXz5csiQIc+ePXN3d2+ID9kENXYmBtV1\\/vx5hNDkyZM1VeDz58\\/9\\/PxCQ0P5fH7v3r2RihbhqFGjEELLly8nI1wut23btrTlcYuwX79+6t\\/0xo0bCCFHR8eioiIyuH79eoTQwoUL1a\\/L5\\/O3bt167969nJwcPz8\\/pKJF+PbtW4SQqalpZmYmGYyJidHV1WWz2bm5uWreou4tQoIgXr9+jRBq2bKlTCZj\\/hd\\/j8OGDavLWzRNkZGRLBbL3t6+sLAQR4RC4VdffYUQun79uvp1jx8\\/jhAaNGiQRCLBkYyMDHNzcx0dneTkZHKxtWvXvnv3jrpicHCwrq4uQqgWbRrcIrS0tKQGHz58iFul\\/v7+NS2w7vLz82mRW7duIYT09fXLy8vVrCgSibhcLi34008\\/IYR69OhBRp4+fXrw4EFqUVKpdMaMGQihgQMH1rn6XypIhF8MjSdCKlWJsLS0lM1ms1is4uJiavzIkSMIoblz55KRaibC6dOnI4T27t1LDVZUVOjp6RkYGFRUVFSzwmoS4aVLlxBCo0ePpsV79uyJEAoODlZTrNJEKBQKIyMjIyMjqV18mZmZFy5c2Lt3799\\/\\/009UmNdunRBCNF6pbBhw4YhhC5cuKD+A9LIZLLIyMgPHz4QBFFYWHjhwoX9+\\/ffunVLIBDQloyNjY2KiiIIQiAQ3Lp16+DBg9euXePz+eQC4eHhR44cOXLkSGJiYo3qUKXvv\\/8eIbR7925q8J9\\/\\/kEIeXp6ql8X74FPnz6lBvFxfPPmzerXnTRpEkJo\\/\\/79Na2w0kRIEMS0adMQQqtXr6YG4+PjIyMjFQqFSCS6c+fOwYMHr1y5Qt0lIiMjjx49evjw4ffv39e0Juq1atUKIYS\\/1hrJyclBCOnq6qpfLC0tDSHEZrPJsxBtA4nwi1H9RPjrr78uX75czTUqJlWJMCYmBjduaPGQkBCEkJ2dHRmpZiLs06cPQujff\\/+lxTt27IgQun\\/\\/fjUrrCYRPnv2TOnpbfv27RFCzKRFxUyEXC4XXx9dvXq1XC4nCEIkEi1ZsoTD4ZDdKiwWa\\/HixWKxmFxr7969CKEZM2bQyk9PT2ez2aamptTMVB1cLhch1Lt376tXrxoaGpJv3bp168jISOqSDg4O+vr6kZGRLVu2JBdr1apVUlJSeXn52LFjySCHwzl69Ch13YKCguXLl69atapGdSN16NABIUS7XM3j8XR0dHR1danbh6akpITFYhkZGdGuzAUHByOE+vbtq\\/59lyxZghDas2dPTSusKhHiSwa0Lgr86d69e4e7QzB7e\\/u4uLjKysopU6aQQTabvW\\/fPuq6ZWVly5cvX758eS0uPcrlcjwgiNlYrFJiYiJCqE2bNuoX4\\/P5eDcWiUQ1fYvmARLhF6P6idDZ2RkhFBgYWP3CVSXC9+\\/fI4Ssra1p8cDAQPybJ1uKOBHa2dl5eXl17dq1X79+y5Ytox2jCYLAFyHu3LlDi+NRmrTGhBpqEqFUKu3SpQubzaZ2beGetyrbJbREmJ6e7urqyuFwDh8+jCMKhWLy5Mk40T548CAxMTEwMHDQoEEIoWXLlpHl5Ofn6+rqGhgY0Hqrtm7dihD67rvvqvkxSTgRWltbGxoabt26NSUlJTEx8ccff2SxWLa2ttR+ZgcHBx0dnZYtWy5YsODp06dhYWGzZs1CCA0ePHjatGndu3e\\/efPmu3fvfH19DQwM9PT00tPTyXXxcZPD4dS0egRBiEQifHLA7MFzdHRECOHmrFKhoaEIIVdXV1o8KysLIWRiYqLmfaVSKT7Fef78eU3rrCoRDh06FCH0+++\\/U4M4EbZp02bmzJlPnjwJDw9fsGABQsjNzW3+\\/Pmurq7Xrl179+7dsWPHjIyMOBwO9fNmZ2fj34tQKKxRDSsrK9esWYMQ8vb2rumny8vLw9c1Dh48qH7J27dvI4R69epV07doNiARfjFwIrS0tHRnoGXH9u3bs1isJ0+eVL9wVYmQz+fr6ekhhFJSUqjxbdu24R82+WsnR40aGxuTw95YLNaOHTuoK86fPx8h9NNPP1GDWVlZeNjq+vXrq1lhNYmQIIjs7GwvLy82m92nT5\\/Jkyd3795dR0fH29u7tLRUfbHURBgbG9uyZUt9fX3q9a179+4hhDw8PKjX\\/8RiMc6X1LGvEydORAhRx\\/spFAp8yFY1OlcNnAgRQuvWraPGFy9ejBDatGkTGXFwcKDlWqlUis8zHB0dqV1569atQwj5+vqSkaSkJBaLVWVPmlJkLxxtnCdBEN27d0cIvXjxQtW6d+7cwVuVFhcIBFXmj02bNiGE3N3dme9bJWYiLC0t3bJlC0LI0NAwIyODujBOhDNnziQjCoXC1dUVn6BQz3h++eUXhNAff\\/xBRnJyclgsVvWbXIsXL3Zzc+vWrZuRkZG5ufmGDRuq31br37+\\/m5tbp06ddHV1W7dufeTIEfXLFxcX467XK1euVPMtmh+4of4LU1FRkcCQnJxMXebTp08KhcLT07Pub9eiRQvcAFq1ahXuP0EIxcXF\\/fnnn\\/g1eagyNDQ8cuRIbm4uj8crKCjgcrlbtmzhcDi\\/\\/PILPt\\/EZs+ejRA6evRoVFQUjgiFwpUrV+Ixq+Rb1L3anTt3NjExiYyMvHPnTnx8vKWlpYuLC3XYvXqBgYEDBw4UCoVBQUH4uiZ28eJFhNDmzZupXaN6enqLFy+Wy+WPHz8mg7i5gE9fsODg4NTU1E6dOtV6bB6LxcLZi4THGVG3MEZdTEdHx8PDAyH03XffUYfX4y7f9PR0MtKxY0eFQiGRSGpRN6FQiBAyNTVljrTE95NUVlZWuS4tbmhoiM\\/DVK3777\\/\\/7tmzx8TE5Ny5c7Ue4VlaWmppaWlpaWlmZmZhYfH777+7uro+evSodevWzIWpG5bFYuHOgPnz51tYWJBxPAaVumEdHR0VCoVCoajmHpibm5uWlpaamsrn8+VyeWlpKflDq1J6enpaWlpaWppUKpVKpUVFRTKZTNXCMpls3rx52dnZ06dPnzlzZjXfovmB2ye+MBMmTGAe9erVwYMHw8LCAgICOnfuPHDgwLKysufPnzs5OXE4nJKSEvLAamJismLFCnItCwuLHTt2GBkZbdq06cCBA+QVFE9Pz6VLl548edLDw2Po0KFWVlahoaFZWVlff\\/11REQE7S6o2uHz+R4eHh8\\/ftywYcOaNWtatmyZnp6+Y8eOP\\/7448WLF8HBwdQcptT169dDQkJat2796NEjfPGSFB0djRB68OABvkpKSkpKQgh9\\/vyZjIwfP97e3v7Nmzfx8fG4SXTu3DmE0KJFi2p9yLa2tqZe+UMIderUydDQMDk5WSqV4sGTCCEOh4ObniQbGxu8MDOo6gZQNS5dukS92aZ3797dunXDh3ilGauiogIhRL20SYPXZZ4GSSQSnJWVrhsaGjp9+nQdHZ2bN2\\/SPlqN6OjouLm5IYTKy8sTExN5PF7Hjh1xHwkTbX\\/A21BpsBYblvTw4UP8IiUlZcuWLadPn3779m1kZCT5FauRl5eHEJLL5W\\/fvl27du22bdsyMjKU3luiUCgWLFjw8OHDAQMGnDlzpta1bQ4au0kKqqtRRo1i+fn5q1atat26NYvFsra2Xrx4cUZGBofDYbFYZWVlaopNTU1FCOno6OBhJphCoTh9+nTfvn3xzBceHh5PnjzBN9VVeTGDpKZrdPfu3Qih6dOnU4MKhWLgwIEIocuXL6spFneN4gPZmDFjmD1y1tbWCCELFWhdvhs2bEAI\\/fjjjwRB8Hg8Y2NjHR0d9fdvqIK7Rrt27cr8F264kF1zeLAMbRk8+oN2aRbf5sEc0VMl3I9N2rVrF0EQlZWVOMEzxwHhGqqZ8+H58+cIoW7dutHiubm5CCEDAwNmt2dYWJixsbGenl71B1gxMbtGKyoqpk6dihDy8fGhLYy7RmmjXXA\\/6sWLF6nB+Ph4hND48eNrXTEqmUz29ddfV7nrKlVcXGxhYcFisZhjxBQKBe5X79evX\\/VHazdX0DUKqmZnZ+fn55eRkaFQKIqKiv7+++\\/i4mK5XN6xY0czMzP1KyKEZDIZtbeNxWItXLgwIiJCKBQKhcJXr155enriUTl4TGkdRUREIIS8vLyoQRaLNXr0aITQmzdvqixh27Ztc+fOffTo0ZgxY2hNHDxnyrt377jK4BxMwgea8+fPy2Sy69evV1ZWjhkzBl\\/Dqx1mI4MgiMLCQjabrZHGdDXdv3\\/\\/AQW+2cDIyAi3VsmBIZhEIikoKGCz2TiRKIVbVDk5OcT\\/fQYALqpDhw60NvTbt2\\/HjBkjEomuXr06fvx4zX0yZGJicvHixbZt2166dOnJkycaLLnWOBzOyJEjEUJxcXE1XdfKyqpPnz7Ef3MziSCIVatWnTp1ys3NLSAggJwJSGtBIgS1ge\\/Vw0dANWJjYxFC1tbW6ieCSUhIiI6ObtWq1YABA+peN7lcjv572YkKR\\/B\\/1eNwOGfOnFm4cGFwcPCYMWNwzx6Gbw8PCwurTk06derUr1+\\/goKCwMBA3C+KLxzWWnFxcWZmJjWSkJAgEonwyIi6lFwjY8eOHUdBdsPiC2b4ngdSaGioWCx2c3NTM6Glo6Oji4tLaWkpvl2HhO+EoU7vhxCKiYnBJyjnz5+n3rSgKYaGhr\\/\\/\\/jtCaP369aqmW2pg+ASoprO2YoWFhcx1N27cePTo0R49ejx+\\/BhfwdVykAibofPnz\\/v5+eGh5\\/Xh5cuXR48eNTc3p14UZDZWBALBzz\\/\\/jBAaN26cmtL4fD4e4rhx40bq1bt79+75+fnV4iwYd\\/NevnyZmvMEAgGe1AZfDaoSh8M5derUmjVrXr16NXz48JKSEhzHmWznzp08Ho+2ilgsZg4zwdOKbtu2LTQ01NbWtu7NlwMHDjD\\/\\/Pbbb+tYLFZWVubn54dnS6gFHx8fhJCvry91O+Aa4n9hfD7fz8\\/Pz8+P+gXhBfbv309GKisr8Xx41HXj4uI8PT1LS0vPnTuHbwupDzNmzHB1dY2Pj8ezAdSd0o\\/MVFxczNyF0tPT8ahafFMHFhoa6ufnh7uUsby8PILxTL3AwMD4+Hh9ff3+\\/fuTwU2bNu3du9fV1TUwMNDKyqq2n6lZgcEyX5jY2NiVK1cy43PmzOnXrx9+vW3btvT09M6dOzs5OakpqrCwEI\\/zRgjhdsaePXtwZ+aIESPIoZIvX77ctGnThAkT2rdvL5VKg4ODz549SxDEqVOnqFODzp07F9+v3bZtWzx84+TJk1lZWTY2NtS5IhFCw4YN69mzZ69evczNzZOSkv7666+0tLSJEycuW7aMutjx48cDAgIOHz7co0cPMrh371583TEhIQEhFBISsnTpUoSQoaHhoUOH8DJLlizx8\\/N7\\/fr1iBEjVq5c2bJly7S0tAMHDqSkpLRr187b27vqrYwQQojFYh06dMjExOT333\\/39PQMDAy0sbEZP3787NmzL1++3Ldv37Vr1\\/bs2VNfXz89PT0sLOzChQvh4eG0USozZsz44YcfcG+tj49PHdttNjY2p06d0tfXnz17tkKhOHPmzLlz5xwdHfElwLorKChYs2YNh8NRuo9VaezYsaNGjQoMDBwzZsyPP\\/5oYGBw8uTJhw8fdunSBd\\/zjpWXl+N747777jtyFMzatWvPnTt35coVQ0PDefPmVVRU\\/PHHH58\\/f54xYwY5yBaPhS4pKWnXrt3Lly9fvnxJffchQ4ZoKjVyOJwtW7b4+Phs27Zt6tSptGuitVBWVoY\\/Mm0qBpoHDx789NNP3t7enTp1cnR05HK5UVFRFy5c4PP5kydPpibCu3fv7t+\\/f+nSpXiiIoTQ77\\/\\/\\/vTp06lTpzo7O1tZWeXl5T1\\/\\/vzOnTsKhWLr1q3koNaLFy\\/iDvxOnTr9+uuvtAps374dHwG0TuNdngQ1Qx2Iz4STE1bNG+ppN11QrV27llwsIiKCdvh2dnZmTh5GTodNNWzYMOY8XrQ2mZ6e3o8\\/\\/sicdgRf0iPvZMfwbQBMtGdcvHv3jpo+scGDB6empqrfJkqnWMMHDldXV3wRSyaT\\/frrr7TJxNlstoeHBznHJhXZoImNjVX\\/7mqQM8vcvn2bejnQxcUlPj6eumRdBsvU5YZ6rLS0lJzfGevXrx\\/thjx8xyFCiDY\\/XGJiIu1bmzlzJnXojZrbAND\\/nQ63mlTdUI\\/fC98jSN5FWpfBMtW8oT4gIAAP1KIyNjb+z3\\/+Q1sRj8OiDhY7cOAAc+Z9e3v748ePU1fct2+fmm2In1mmhVgEPKH+C8Hj8fLz81X9197enrzi\\/fnzZ6lU2qpVKzUD1hFCUqlUVfepmZkZtc+koqIiLCwsOztbR0enQ4cO\\/fv3V3qOXFhYGBUVVVhYKBQKLS0t+\\/Tp065dO+ZieE79jx8\\/VlZW2tvbDxkyROlVitzcXD6fb2trSx2Pk5ubKxKJmAuz2WzqxFdYdHR0bGysSCQyNjZ2c3Pr3Lmz0g9LVVZWxuVyra2tafe0ZWRkyOVyPDQUR3g8XmhoaEZGhr6+voODQ69evVSdSldUVBQXF7NYLHyCUjv4XrfevXtHRUWVlZUFBQWVlJS0bdt22LBh+E47alUVCgXtvUpKSsrLy+3s7KjHSrFYnJOTQ50AAT\\/nj8Viubi41LqqCKH3799HRUXJZDI8xxBtqItcLseTW7q4uND+pVAowsLCEhMT9fT03N3dabclIITwikqZmpriMb3Vh59YqXTnQQgVFxdXVFSYmJjg5JSVlSWVSp2dnal15nK5ZWVltra21LMTiUSSnZ3dokULsstEzUemUSgU8fHxqamphYWFurq6zs7O\\/fr1Y2a44uLi0tJSc3NzauKUSCRRUVGfP38uLy83NDR0dXV1c3OjPdOxvLyc7OdncnJyasiLzU0HJEIAvgDURNjYdQGguYHBMgAAALQaJEIAAABaDUaNAvAFMDQ03L17t5aO6AOgnsE1QgAAAFoNukYBAABoNUiEAAAAtBokQgAAAFoNEiEAAACtBokQAACAVoNECAAAQKs1z0S4a9cusVjc2LVQAm5WaRhN5DFyzR5s54aBJ4Zu7Fo0Z80zEfr5+ZWWljZ2LegIghAIBI1dC63A5\\/MbuwpaAbZzwxCLxdV5oDSoteaZCAEAAIBqgkQIAABAq0EiBAAAoNUgEQIAANBqkAgBAABoNUiEAAAAtBokQgAAAFoNEiEAAACtBokQAACAVtNp7AoAAEDTlZ6e7u3t3biTyeH51VgsViPWoYnYsmXLN998o\\/FiIRECAIBKubm5Eonk9OnTjV0RgI4cOZKYmFgfJUMiBAAAdYyNjd3c3Bq7FgDZ29vXU8lwjRAAAIBWg0QIAABAq0EiBAAAoNUgEQIAANBqkAgBAABoNUiEAADwZZBKpfieQo0UhW+OlMvlMplMI2WqQRCERCKp73epNUiEAADwZejbt29wcLBGiho7duytW7cQQocPH160aBFzgbZt28bGxtai5IEDB96\\/f58WjIyM7NKlC37t7+9fWVlZi5LrDyRCAAD4Mhw4cKBbt26aLXP8+PGrVq3SbJlMLi4uR48exa8XLFiQn59f3+9YI3BDPQAAfBlSUlLat29vY2Pz4MEDPT293Nzc4ODgbt26rV69Wk9P7+LFi23bth00aBBe+NKlS23atBk0aNCdO3eCg4MrKirc3NyWLFmip6dHLbO4uDgvL69Pnz4IoczMzCNHjpSXlyttIyKEZDLZqVOnIiMjW7ZsuXz5cjs7O4TQtWvXHB0dY2NjIyIi9u\\/fjxCqrKzcvn17ZmbmuHHjJk+ejBASCoVJSUleXl5nz54VCoX79u2zsLCYPXt29+7d63WLVRO0CAEAoAYUCoWoGpjTkxIEUZ0V1VyxO3HiRHp6OkLo2bNnixYtSktLmzx58q1bt7Zu3YoQEolEO3bswEuKRKLVq1dbW1sjhEJDQwcPHjxt2rQnT54sXbqUVmZ4ePjdu3cRQhUVFf379zcwMJgwYcIvv\\/xSUlLCrMDcuXP\\/+eefSZMmiUQiNze38vJyhNCDBw98fHxKSkomTpyoq6uLEPr5559tbW29vLzWr19\\/7tw5hFBOTo6fnx9CyMXFhcPhdOvWzc3NzcLColbfgOZBixAAAGrg7t278fHxVS7WtWvXb7\\/9lhp58+bN48ePq1zR0tKyOn2V\\/fr12759O0LIwMDg559\\/3rVrl7e397p167KyspycnO7du9exY8fOnTsjhPbv3y+TyQoKCrZt2zZgwIAzZ84onb\\/74sWLPXv2xGX27NmzTZs2tAXS09Pv3r2bnZ1taWk5YcKEqKios2fPrl27FiE0YsSI3377jVxy5syZ33\\/\\/PUJIX19\\/06ZN8+fPJ\\/81aNAgPT29MWPGuLi4VPkZGwwkQgAAqAEPDw9mkmBq2bIlLdK1a1fcYFKvmu0kV1dX\\/MLGxobL5SKETE1NJ02adOnSpU2bNp0\\/f37evHkIIYVCsWLFiocPH7Zr105XV1ckEnG5XCsrK2aBKSkpvXr1wq+dnJxsbGyYC7Rt29bS0hL\\/2adPn+TkZPy6R48e1CV79uyJX3z11VcpKSmaGulafyARAgBADdjZ2eFrYzVlYmKiwcm72WwlF7bmzZu3cuXKhQsXhoSEXLp0CSEUGBgYFhaWlpamo6ODU6CqtGRmZlZcXIxfy+VyHo\\/HXKCsrIz8s7S0lEyoOjr\\/J5VUVFTgF2VlZaampk3\\/AVJwjRAAAJqJESNGCIXCFStWjB07Frcs+Xw+h8PBWfPQoUNq1h01atTt27cLCwsRQufOnRMKhbQFevTowWKx\\/vnnH4RQTk7OnTt3Ro8erbSos2fPisVihNDJkye9vLxo\\/7W2ts7Ozq7lJ6wfkAgBAODLoKurq7QhSGKz2XPmzPnnn3\\/Iy3Ljxo0zMTHp2LFj9+7dJRIJh8PBcR0dHVwUh8PB7TkPD4\\/vvvuuW7duvXv3fvr0aatWrWiFGxoaXrlyZf369b169erVq9e6desGDx6stBrdunXr1atXly5dXr9+vXfvXlwxslv4559\\/XrhwobW1tb+\\/f603hWaxmn7vbS04ODhER0fX38OraocgCIFAYGRk1NgVaf54PJ6JiUlj16L504btHBoa+tNPP7169aqxK1IneXl5LVq0MDMzq3JJPp\\/P5\\/NtbW3Vl2Ztba3+eqdQKCwrK3NwcKhxXVXbtGmTmZnZxo0bNVgmBtcIAQCgmat+QjIyMqryZL06pRkaGhoaGlbzTRsddI0CAED9kkqlzLEnoOmARAgAAPVCJpMdPXq0W7du+vr6pqamFhYW8+bN+\\/TpU2PXq04kEgmfz9dsmUKhUCQSabbMGoFECAAAmicQCIYNG7Zjxw4XF5fVq1dv2LBh8uTJ79+\\/79mzZ3Vuq1fqxx9\\/9Pb2pjYuN2\\/ePH36dOpdDRonkUj++usvcjTJ+fPnqTfIa8Svv\\/6Kb+RvLI1zjTAuLu7ChQsIoTlz5pC3XpJev34dEhJCjaxevdrQ0PDhw4fv37\\/HEV1d3XXr1jVMbQEAoKZWr16dk5OzaNEicm5PY2PjNm3atG7deurUqcnJyY6OjjUt88mTJ9nZ2bdu3VqwYAFCKDs7+8yZMwUFBXCJrQYAACAASURBVHj2snoiFAqXLl26aNEiPOJ0zJgxffv21exbLF68WP1o2PrWCO\\/9\\/v37gQMHWlpaWltbDx48mDlZkUgkKv2voKCgo0eP4j3pxo0bT548wfF6PQMCAIC6yMvLO3fu3Pjx42kzXCOEevXq1bZtW19f39qVPGvWrPPnz+PXFy5cmDFjBvmv2NhY3GRcs2YNOecLQigoKGjhwoXLli2LiYn55ZdfcHDXrl1xcXHr1q3z8fG5efMmufDnz59\\/+umn2bNn\\/\\/nnn1KpFCF07NgxhNDmzZs3btyYnZ2dm5tLNkgqKyt37do1e\\/bs77\\/\\/Pjw8nFbVoKCglStXzpgx4+eff8a36isUip07d5JPd7px4wZ+60+fPqWmpiKEJBLJwYMHZ82a5ePjg9+3YTRCIvT19V2wYAHerIsXL2be4zls2LDd\\/6Wnpzd\\/\\/nzy3pfx48fjeOO2owEAQI3g4OCWLVsqnckMIdSpU6dHjx7VruRBgwbl5OTgtHHx4sU5c+aQ\\/0pISOjZs+eqVas6dOgwaNAgPGv2ixcvfHx8vLy8Jk6cuHz58oMHD+KFjx8\\/vnjx4n79+k2YMGHp0qU4jaWnpw8YMKBNmzZLlix5+\\/Ytbnfi9t+IESM8PT1NTU1jY2Px\\/X9isbh\\/\\/\\/5paWmLFy\\/29PRk3iMfHx8\\/YsSIlStXSqXSkSNHKhQKNpvdoUOHb7\\/9try8PCIiYtWqVfipF8HBwbgXcM+ePUFBQcuXL1+0aBFOww2jEbpGX716hW+xRAiNGDECz9mqVE5OzpMnT6it\\/pcvX5aVlbm4uEybNk1fX7\\/e6woAADVXWFio5g5LU1NTPIFLLbBYLB8fn4sXL44cOdLKyqpTp07kv2bNmiWTyfLz8x0dHf39\\/Z8+fTp9+vQjR46sX7\\/e29sbISSTyagtyP\\/85z\\/Tpk1DCD1\\/\\/vzZs2fu7u779+9fuHDh8uXLEULu7u54FlMyEZINEuzGjRt6enp\\/\\/fWXqhnUfvjhB5FIVFBQ8P3331+5cuXTp08dO3acNm3a06dP58+fHx0dfeLECWdnZ+oq6enpXbp0+frrr\\/X09IYNG1a7TVQLjZAI8c2Y+LWtrW1eXp6qJc+dOzd48OD27dvjP11cXMrLy9ls9uHDh3fv3v3mzRtV97vweLxFixYZGBjgP93c3NSk2waDb6hv+tPuNQNCoZD2owX1QRu2s0gkqsWsI2ZmZmqGQQqFQlNT01pXaf78+cOGDcvKyqINWrl69eqmTZvatWtnbW2dkpKCD62fP3\\/Gs28jhMhnxGMdOnTALywtLfHFpg8fPmRkZAQEBOC4oaFhVlZW27ZtlVYjMTGxb9++ag5o27dvP336dOfOnU1NTSsrK\\/Py8jp27IgQ2r9\\/v729\\/ahRo\\/CjCqk2bNgwd+5cBwcHT0\\/PVatWDRw4kLaAVCoVCASqt40Senp6tKlQmRohEerp6ZEP3JJIJKoadgRBnDt3btu2bWSE7N3evHlz7969z549u3LlSqXr6uvrT5w40dzcHP\\/ZqlWrptB8JAhCLpc3hZo0e2r2K6BB2rCd9fT0anHy6u7unpmZKRQKld5UnpaWRj4+txbatGnj7Ox88+bNP\\/\\/8kxpfuXJlcHAwftTtmDFjcP62sbEhHwdPa3WQn4t8YWlpOWXKFNpDoMgZtGmsra0TExNVVTIzM\\/PPP\\/\\/MzMzELWMHBwfyfGLXrl09e\\/Z8+fJlXFwc7bEVXbp0iYyMzMzMvH79upeXV2pqKm2CMA6HU9NdrjrDcBohEbZs2ZLsTc7OzmY+rAR78eJFUVHRN998w\\/yXjo6Om5vb58+fVb2Fnp7epEmTmuAUaxwOp9mfQTcFsJ0bhjZs59qNZnR1dR0wYMCTJ08mTpxI+1dubm5cXNzJkyfrUqu\\/\\/\\/67pKQEt7RwhCAIiUSC2xiRkZHPnj3Ds11Pnz79wIEDY8aMMTY23r17t\\/pip0+f\\/uuvv06dOhWPaI2KinJzczMxMTEwMEhLSyNbkNiECRN+++23N2\\/e9OvXjyCI\\/Px86owzYrGYIAhcnwsXLpDJ+Pnz52fPnn337t3jx4+\\/\\/fbbqKgoah9ybGxs165dW7du\\/f333+\\/cuZPH49EO42w2uz52uUYYLDNp0qRr167h19evX580aRJ+HRgYSH0m8pkzZ2bPnt2iRQsyQn7lpaWlz549o51KAABA03H+\\/Pnc3Nxbt24VFRXhiFQqffv27aVLl7Zt2\\/bVV1\\/VokxTU1M8DLVdu3b40h2LxbKwsGCz2SwWa+\\/evcOHD+\\/evfuPP\\/44ZcoUfG1o7ty506ZNGzx48ODBg728vIyNjXFRZmZmZEYxMDDALVdvb++lS5f27du3W7dujo6OmzZtwm+xe\\/fu0aNHt2\\/fPj4+Xl9fH1+TcnFxwcNWXV1dnZycyKM61qFDBx8fnw4dOnTp0iUoKKh\\/\\/\\/46OjolJSUrVqy4fPmyvb39vHnzBg8ejPv5yPnYTp061bJly169erm6uq5Zs4aWeusR0eCKioo6deo0fPhwT0\\/Pjh07FhYW4riRkVFgYCB+XVZW1qJFi6ioKOqKJiYmXl5e33zzja2t7bRp02Qymaq3sLe3z8vLq7+PUDsKhaKysrKxa6EVKioqGrsKWkEbtvOrV688PDxqt25eXp63tzeHwzE3N7ezs9PR0Wnfvv0\\/\\/\\/yj2RpSicXi0tJSVf89e\\/bssGHDqlNOaWmpRCKp5puWlZXh9h8Tn8+v6UFPKpUWFxfL5XLmvzZu3Lhr164alVZNjdA1am1tHRMT8+LFC4TQkCFDyCEtb968IZ\\/7zGazX716RTtpSkpKio2NlUgku3btIp\\/ODAAATZO9vf21a9cqKipiYmKEQmG7du3qu4mjp6dHu3OxsrJy\\/PjxAwcOLCws9Pf3v3HjRnXKIQdYVIeah1pQu\\/SqSUdHR9VtJ\\/WncWaWMTAwYD6tsWvXruRrExMTZteBg4ODZh\\/qAQAA9c3U1PSrr74SCAQNf3xHCBkZGe3bty8xMbF37947duyws7Nr+Do0fTDXKAAA1AuJRLJ379527dqZmpra29ubmZlNmzbtw4cPdSlToVCoGsapFIvF6tu375w5c6ZMmaLBLFheXq6popoCeB4hAABoHo\\/HGzFiRE5OzoABA6ZOnaqrq1tSUhITE+Pm5nbt2jVykGBNHTt2LCsra8+ePSKRaMKECQghFovl4ODg4+MzcuRIjX4CdVasWDF16lTmjYBfKEiEAACgecuXLy8tLV2wYAH5JHdHR0dHR8c2bdrMnDkzMTGxdevWNS1TLBbv2rXr3bt3CCG5XB4UFHTv3j0bG5uIiIjx48e\\/ePHC3d1dwx9DhZ9++mnmzJmQCAEAACiXk5Nz9erVlStXklmQ1LVr18TERF9f3wMHDtS0WH9\\/\\/27dulF7OLt37962bVt3d\\/c7d+48ffoUJ8Kffvpp8uTJZ86cyc\\/PX7JkydChQ3\\/\\/\\/feEhITx48cvXbqUWiBBEN9\\/\\/z014uvrGxsbGxERYWFhcf36dScnpz\\/++CM+Pv7w4cOGhoZbt27FU311796dxWKFhoZ6eHjU9FM0QXCNEAAANCw4OLhVq1YWFhZK\\/9uxY8fAwMBaFBsYGKh0ShqhUJienk4myMuXL\\/\\/www9TpkyZOXOmt7e3j49Pjx49Vq1atX379qdPn1JXZLFY0\\/4LIfTkyRM2m52SkrJ169bY2NiNGzfm5eVNnDjx2LFja9assbe3x3OWYgMHDqzdp2iCoEUIAAAaVlRURN66zmRiYkLeZV8jycnJQ4cOpUZ8fHwMDQ0TEhJGjBhBfRLFxo0bR48ejRA6ceJEr169Zs2ahRCaNm1aSEjIiBEjqCV4enoihEJDQ+\\/evRsUFITvvrCzs9u3bx9CiMViDRkyhMvlmpiYuLm57d+\\/n8\\/n4xvq27ZtGxMTU4tP0QRBIgQAAA2zsLAQCoWq\\/isQCNTce6eGRCKh9bUuW7bMxsbmxo0bHz58oM6JSj7VwczMjJw129zcXOmTXNPS0ry9vS9fvoznKaWubm5ubmVlhWdBMzQ01NfXLy8vx4lQX19fLBbX4lM0QdA1CgAAGjZgwIDMzEw+n6\\/0v2lpaUOGDKlFsY6OjrTnN3l4eIwaNervv\\/8mCIL6bFdqUlQ\\/aTiXyx07duwvv\\/yCm4bVXz0\\/P1\\/VTNFfHEiEAACgYR06dBg2bBieM5L2r6ysrLi4ONoTHqrJw8MjKiqKGWexWDt27Ni1a5fSBh+TVCpdunRpdna2RCKZPHny1KlTaYNoquPdu3fNY6QMgkQIAAD14ezZsyUlJdevX8\\/NzcURkUj0+vXrK1eu7Nu3j+yErJGZM2cGBARIJBKEEJvNbteuHfmkPU9PzyFDhty6dQsh1Lp1a3KiNTs7O\\/LxDhYWFnh2m\\/Ly8tOnTyOEcnJysrOzAwIC+vwXn883MTEhn\\/mgp6dHznyJEHJ2dsbvWFpaGh0dPW7cuFp8iqaoPiYwbXQw6baW04bJoJsCbdjOdZl0u7i4eOHChXp6ei1atLC0tGSz2d27d3\\/06FFd6jN\\/\\/vxLly7VpQSCIO7cuTN37ty6lLB3797NmzfXsRo11awm3QYAAG1gZWV1+vTpI0eOJCQkCAQCZ2dnJyenOpa5c+fOkJCQOhbSq1evOvZqWllZ0W5A\\/KJBIgQAgHpkaGjYp08fTZXm4OBAvZmvdshxpLW2cOHCOpbQpMA1QgAAAFoNEiEAAACtBokQAACAVoNECAAAQKtBIgQAAKDVYNQoAACoZGxsHBERYWlp2dgVAUgoFO7fv78+SoZECAAAKvXs2bOkpEQmkzViHcRiMYfDISeR0VosFsvc3Lw+Stb2LQsAAOqRU5Q1FpFIpKOjA4mw\\/sA1QgAAAFoNEiEAAACtBokQAACAVoNECAAAQKtBIgQAAKDVIBECAADQapAIAQAAaDVIhAAAALQaJEIAAABaDRIhAAAArQaJEAAAgFaDRAgAAECrQSIEAACg1SARAgAA0GqQCAEAAGg1SIQAAAC0GiRCAAAAWg0SIQAAAK0GiRAAAIBWg0QIAABAq0EiBAAAoNUgEQIAANBqkAgBAABoNZ3GrgAAAHwxRCJRYWEhh8NxcHBgs6Eh0UxAIgQAgKpJJJLHjx\\/HxMQoFAqEUI8ePSZPntzYlQKaAYkQAACqIJfLr1y5kpWV1bdvXxcXF6lUamlp2diVAhoDiRAAAKrw8uXLjIyMqVOnduvWrbHrAjQP+rgBAEAdkUj0+vXrrl27QhZsrhqnRRgdHR0UFGRtbe3t7d2iRQvafz99+hQdHU3+6eXlZWpqil8\\/f\\/48IiLC2dl56tSpHA6n4WoMANBWcXFxEolk0KBBapY5efJkr169+vXr12C1AhrUCC1Cf3\\/\\/kSNHlpeX37hxY+jQoTKZjLZAQEDAhg0bbv5XeXk5ju\\/fv3\\/BggUCgeDAgQOzZ89u8IoDALTRx48fbW1t7ezs1CxjbW39+PHj1NTUBqsV0KBGaBFu27btwIED8+bNk8lk3bt3v3fv3pQpU2jLDBw48PLly9SIUCjcvXv3gwcP3N3d161b5+TklJCQ0LVr1wasOABA68hksqysLHd3d\\/WLTZw4saio6Pbt299\\/\\/72JiUnD1A1oSkO3CIuKiqKjoydMmIAQ0tHRGT16dGBgIHOx3NzcM2fOBAQEiEQiHImKimKxWLjnwczMbNCgQUpXBAAADcrLy5PL5U5OTuoX09XVnT59ulQqvXfvHkEQDVM3oCkN3SLMy8vT09MjRx47ODiEhobSljEwMDAwMHj9+nVUVBSPxwsODm7ZsmVeXp69vT2LxcLL2Nvb5+XlqXoXgUCwfft2IyMj\\/Gf37t29vb3r4dPUDEEQYrFYRwdG6tY7sVisp6fX2LVo\\/rRhO+fn5yOELC0txWKx+iWNjIyGDx\\/++PHjyMjIHj16aLAOYrFYLpfL5XINlqk9dHV1q5z6oKEPyiwWiyAIgiBwSiNfUC1evHjx4sX4v5MnT96xY8eJEyfwiuQySlekvou5ubmxsTH+08DAoCnMAUEQBJvNbgo1afZgOzcMbdjOLi4uY8eONTc3r87CvXv3TkxMDA4O7tSpk6GhoabqwP4vTRUIaBo6ETo4OEilUi6Xa2VlhRDKy8tzcHBQtTCLxfLy8rp69SpeMT8\\/n8x\\/eXl5as65DA0NV69ebW9vXw+foPYIgtDV1dXV1W3sijR\\/sJ0bhjZsZwsLi759+1Z\\/+bFjx548efLly5fjxo3TVB3kcrmOjg50JtWfhj7FsLa2dnNz8\\/f3RwhJpdJHjx55eXkhhEQiUUJCAl4Gz2CEvXjxwsXFBSHk5ubGYrHCwsIQQmVlZa9evcIrAgBA02Fra9u3b993795xudzGrguorkY4xfjtt9\\/mzZv38ePH6OhoKyur8ePHI4Tev3\\/ft29fiUSiq6s7btw4Kysre3v7t2\\/fpqamvnr1CiFkYGCwZcuWGTNm+Pj4PH78+JtvvuncuXPDVx4AANQbPHhwdHR0cHAwczw8aJpYjTLA6cOHD0+ePLGzs\\/vmm28MDAwQQuXl5SEhIePHj2exWElJSeHh4Vwut3Xr1mPGjKHecR8WFvbmzRsXF5dx48ap6TF3cHCIjo5ugl2jAoGAHMID6g+Px4Mh7A0AtrMqz549e\\/Xq1bJly2xsbOpemkgkgq7RetU4ibC+QSLUcnCAbhiwnVURiUR\\/\\/vln165dJ06cqJHSIBHWKxiGBAAAyhEEceXKlYyMjJquaGBg4OnpaWtrWx+1AhoHpxgAAKCcSCRKSUlp3759mzZtarpujcaagsYFLUIAAFAO38MOfZLNHiRCAABQDt\\/KBXeyN3vwBQMAgHKQCLUEfMEAAKCcRgbVwxyhTR8kQgAAUE7NhMbVJJfL9+3bFxsbq5H6gHoCiRAAAOoLh8MxNTWNjo5u7IoAdSARAgCAcuRDcupSSNeuXTMzM\\/l8voYqBTQPEiEAACinkUTYqVMngiA+ffqkoUoBzYNECAAAyuFESH0eTi3Y2dmZmJhAImzKIBECAIBy+MaJOiZCFovl4uLy6dOnOpYD6g8kQgAAUI7D4aA6J0KEkIuLi0gkysvL00SlgOZBIgQAAOX09fW\\/\\/vprZ2fnOpbTunVrhFAtJu8GDQMSIQAAKMdiscaMGVP3h0gYGxtbWVllZmZqpFZA4yARAgBAvWvTpk1mZmazfP5rMwCJEAAA6p2Tk5NQKORyuY1dEaAEJEIAAKh3Dg4OCCEYL9M0QSIEAIB6Z2NjY2pqCl2jTRM8cBIAAFSKiIiws7OrxRPqadhs9g8\\/\\/KCRKgGNgxYhAACoFBoaGhcX19i1APULEiEAAKjEZrPhgYLNHiRCAABQicPhQCJs9iARAgCAShwOB+YIbfYgEQIAgEqa7RrNzc3l8XiaKg1oCiRCAABQSbNdo7du3QoODtZUaUBTIBECAIBKbDZbg12jLVq0KC8v11RpQFMgEQIAgEqabRGamppWVFRoqjSgKZAIAQBAJc22CE1MTOAaYRMEiRAAAFRis9kanBetRYsWIpEIhqE2NZAIAQBAJc22CA0NDRFCYrFYUwUCjYBECAAAKmn29gkDAwOEkFAo1FSBQCNg0m0AAFCpVatWJiYmmioNtwghETY1kAgBAEAlDw8PDZamp6eHEJJKpRosE9QdJEIAAFCOz+fHx8fz+fyePXtaW1vXvUAOh4MQgslLmxpIhACA2vjw4UN0dHSbNm369OmDL301M6dPn96zZ4+jo6OOjk52dvbYsWP37duHM1mtQSJsmiARAgBqprCwcPbs2WVlZVZWVmKxOC8vz9fX18vLq7HrpUkPHz48cuTI9OnTdXV1EUIEQYSGhv7888+7d++uS7GQCJum\\/yXCysrKoqKiaq7m5OSkowNJFABtNGXKFBcXl4EDB+I\\/BQLBypUrHz165OLi0rgV06C9e\\/cOHToUZ0GEEIvFGjBgwOXLl3fu3Mlm136wfYsWLTgcTrNsQH\\/R\\/pfMbt68uXDhwmqulpSU1LFjx\\/qpEgCg6UpMTBSLxc7OzmSkRYsWffr0OXHixP79+xuxYppVUFBgbm5OjbDZbBMTk+LiYltb21oXa2xsvHHjRmhFNDX\\/5\\/twdXXdunVrlevMmjWr3uoDAGjS0tLSLC0taUFbW9ukpKRGqU890dfXl0gkeJAnSSAQmJqa1rFkyIJN0P\\/5SmxsbGbMmFHlOrNnz663+gAAmjRra2uBQEAL8ng8Ozu7RqlPPfn222\\/Dw8O\\/\\/vprMpKZmdm2bVvo1WyW\\/pcIx44d6+bmVp11goODnZyc6q1KAICmy83NraioqLy83MzMDEcIgoiJifH19W3cimnWf\\/7znwkTJjx9+rRDhw66urqZmZmZmZmPHj1q7HqBesHS4HyyTYeDg0N0dLS9vX1jV+T\\/IAhCIBAYGRk1dkWaPx6Pp8HZQABNeHj4vHnzOnbsaGdnV1lZmZCQMGnSpN9\\/\\/72x66V5\\/v7+J06cKCsrW7Bgwfz582k9pQ1GJBLp6OhAn2r9gS0LAKgZd3f3yMjICxcuREREdO7cecuWLd26dWvsStWLSZMmyeXy3NzcJUuWaKRAgiDKysosLCw0UhrQFOWJUC6X37x509\\/fPzMzkzZRemRkZINUDADQdJmYmKxYsWLu3LnNvuWt2T6zDx8+\\/PPPPxs2bGjRooUGiwV1pDwRrl279siRIx07duzYsSOeJRYAALQQQRAsFktTpVVWVhIEUZc7EUF9UJIIxWLxyZMnt2zZsmPHjoavEAAANB2aTYRCoZDFYunr62uqQKARSk5MKisrpVLp5MmTG742AADQpCgUCg024Hg8npGRkQYzK9AIJV+wlZVVt27doqOjG742AADQpGg2EVZWVjb7q6pfIuXXCM+dOzd79mx9ff1Ro0bVZT4hVfh8flBQEEJoxIgRxsbGzAXS0tJiY2P19PQ8PDzIiY4+f\\/5cUlKCX7PZ7K+++krjFQMAACrNdo3yeDylRzzQuJQnwrZt23bq1GnOnDnMf9V9DFVhYWH\\/\\/v07derEZrPXrVsXFhZGm5Niz549f\\/75p4eHB5\\/Pnzt37r179\\/CzMbdu3RoeHt66dWuEkIGBwf379+tYEwAAqFIdH71ExePxHBwcNFUa0BTlifDbb7+NiIhYuHBh+\\/btNbgTYEeOHOnZs+ft27cRQtOnTz98+DDtVtxvv\\/32hx9+wPeubtq0aevWrbj5iBBatmzZ2rVrNVsfAABQZcSIEZp6apJUKq2srISbCJsgJYmQy+UGBwefP39+7ty59fGW9+7d27hxI349bdq0HTt20BJh+\\/btydetW7cOCQkh\\/8zNzX3+\\/Hm7du3atGlTH3UDAAAqDc6hyuVyEULMKctBo1OSCDkcDovF6tq1az29ZXZ2dqtWrfBrJyennJwcVUtWVlb6+vquX7+erNiLFy8iIyPfvXs3derUU6dOqeq7F4vFFy5cIOeJb9eu3YgRIzT6IWqDIAi5XA7P5GwAsJ0bBmznGikuLkYImZub13SjyeVyFosFY01rh81mV7nplCRCMzOz0aNH379\\/v5pzcNeUTCYju1s5HI5EIlG6mFQqnTVrVq9evRYvXowjJ0+exM\\/JzMvLc3Nzu379uqpnZUil0tjYWHIqAIFAMHjwYA1\\/jJojCEIqlUql0sauSPMH27lhwHauEZwIjY2Na7rRpFIpQRDNcl7oBqCrq1vlBT7l1wgXLVq0cuXKgoKCUaNG0Qb7enp61rFaDg4ORUVF+HVhYaGjoyNzGZlMNmvWLBaLdfHiRTKZk0+LdnBwGDVqVFRUlKpEaGxsfODAgSY46bZCoYDHuDQAqVQK27kBwHaukZKSElNT09o90RAm3a5XyrfsihUrCgoKTpw4ceLECdq\\/6n5WMnjw4CdPnkycOBEhFBQURLbV+Hy+gYEBh8ORy+Xz58+vqKjw9\\/cnkx+VQqGIj49XOqgVAACaJj6f37Jly8auBVBCeSIMDAysvx6PtWvXuru7W1tbs9nss2fPhoaG4ridnd2dO3dGjhz5xx9\\/3Lx5c9myZb\\/99htCyMTE5Oeff0YIDRkyZOTIkSYmJvfu3SsrK5s\\/f3491RAAALD79+\\/b2Ni4u7vXvaipU6dqfBA+0AjlibBHjx7195adO3cODw+\\/dOkSQigsLKxLly44fvDgQVdXV4TQ8OHDqb2a5DTtK1asiIuL43K5M2bMmDVrFjzYDwBQ39LT02UymUaKgidONFnwYN6GAw\\/mbTDwYN6GoQ3b+dChQ87OzpMmTWrEOsCDeevb\\/+bQe\\/LkyY8\\/\\/liddcaPH6\\/mngcAAGg2NDvXKGia\\/vcFZ2dnh4eHV2edR48e8fn8eqsSAAA0FQqFAi7sNXv\\/p60dHR3du3fvKtdRKBT1Vh8AAGhCNNIiJAiioKCgqV2sAaT\\/JUJnZ+exY8dWZ50OHTo0+wsDAACAEJLL5XVPhAkJCf\\/8888PP\\/xQu5sIQX37XyIcOnTo0KFDG68mAADQ5GikRZicnGxkZATthyZL+RccEhKSnJxMC5IPEQQAAC1BEEQdEyFBEGlpae3bt4fJQpss5V\\/w9OnTe\\/TocfXqVWrw8+fPI0eObJBaAQBAk6BQKOqYwPLy8vh8PvWhOqCpUXmm0717dx8fn3379jVkbQAAoEmp+xPqP378yGazXVxcNFUloHEq79Dcs2dPfHz8unXrEhMTT5w4oXTOTwAAAOolJia2bdsWppVpytRNVbBmzZpWrVrNmTMnMzPz1q1bDVYnAABoCvDEW3VpERYWFhYXF\\/fr109zlQKaV8VF4KlTpz579iwuLm7gwIEZGRkNUycAAGgKWCzW8OHD8RzItRMfH89mszt37qzBWgGNq3o0lLu7e1hYmEwmmzZtWgNUCAAAmo5BgwbZ2dnVbl2CIOLi4lxcXGCG4SZOeSIcPHiwpaUl+Wf79u3DwsI8PDwsLCwaqmIAAPBlS0tLq6io6NmzZ2NXBFRB+TXCGzdu0CIWFhaBgYH1Xx8AAGgm3r17Z2hoA4tL9QAAIABJREFU2KlTp8auCKgCzKoOAACaJxAIEhMTe\\/fuDXN2N33wgCsAANA8fX19Dw8PjTzaHtQ3aBECAIBK4eHhiYmJtViRw+EMHz4cbh\\/8IkAiBAAAlaKjo+Pi4hq7FqB+QSIEAACVDA0NhUJhY9cC1C9IhAAAoFKLFi0EAkFj1wLUL0iEAACgkpGRUWVlZfWXFwqF0dHReG428KWARAgAACqZmZkJBAKpVFrN5QMCAv7999\\/qLw+aAkiEAACgkrm5OUKotLS0OgunpqbGxcV5eHjo6enVc72AJkEiBAAAlWxtbRFChYWFVS4pFosfPHhgY2MzaNCg+q8X0CRIhAAAoJK1tbWOjk5ubm6VS96\\/f7+iomLixIkwlcwXBxIhAACoxGazW7Zs+fnzZ\\/WLRUREJCQkDB8+vFWrVg1SL6BJkAgBAECdDh065OXllZWVqVogOTk5ICDA1dV1wIABDVkxoCmQCAEAQJ2uXbuyWKyoqCil\\/01JSbl586ajo+OUKVPq8ix70IggEQIAgDrm5uZdunR5+\\/Yt8+7AyMjI69ev29jYzJ49W1dXt1GqB+oOnj4BAABVGD16dFpaGrXBJ5FIbt26lZKS0qFDh6lTp+rr6zdi9UAdQSIEAIAqGBsb9+jRgxoRCARlZWWjR4\\/++uuvoUf0SweJEAAAaszc3Hz58uWNXQugGXCNEAAAgFaDRAgAAECrQSIEAACg1SARAgAA0GqQCAEAoKkQCATVfNJFE1RYWMh8\\/lR+fr5MJmMG5XJ5rd8oJydHs098hEQIAABNxdu3b+\\/evdvYtailW7duxcTE0ILXr19\\/\\/\\/49LXj58uWPHz\\/W7l24XO6pU6dKSkpqt7pSkAgBAKCpIAgiJyenLq2lRkQQRGZmZnWCCoUiKyurdu+C0yq0CAEAoNmSy+V5eXmNXYtaUpreqh+sjoSEhNqtqIa2J8LU1NRr167RgklJSbdu3aIFExIS7ty5QwvGxsbev3+fFoyMjAwICKAFw8PDnz9\\/Tgu+fPnyxYsXtODz589fvnxJCwYGBr59+5YW\\/Pfff6Ojo2nBe\\/fuxcfH04K3b99OTEykBW\\/cuPHp0yda8PLly8wnzpw\\/fz4nJ4cWPH36dH5+Pi34119\\/FRcXUyMEQRw\\/fpw2c79MJjt27BiPx6MGxWLxsWPHBAIBNSgQCI4fPy4Wi6lBHo934sQJ2oWH0tLSkydPKhQKarCoqOjUqVO0k8e8vLwzZ87QgllZWRcuXKB9nPT09KtXr9KCKSkpN27coAU\\/fvzI3D3i4uKYu8e7d+8ePXpEC0ZERAQFBdGCoaGhzN3jxYsXYWFhtGBQUFBERAQtGBAQ8O7dO1rwwYMHzN3j7t27zIPLzZs3k5OTacGrV6+mp6fTghcvXmQe1M6ePct8ht\\/ff\\/9dVFREjRAEceLECS6XSw0qFIrjx4+Xl5dTg1Kp9NixY3w+nxoUiUTHjh0TiUTUYGVl5fHjxyUSCTVYXl5+4sQJWkurpKTkr7\\/+ou0JBQUFp0+fpgVzcnLOnz9P+zgZGRmXL1+mBVNTU69fv04LJiUl3b59mxZMSEjw9\\/dHytC2Z3R0NHP3UHVIYR49nj17Fh4eTgsGBgZGRkbSgv\\/++y+zb9Pf35+5e9y+fTspKYlZ8\\/LyctrvGiFUXFwsFAppwYKCAtp3dPr06YKCAtpiJ0+epPaCFhUVVechyTWl7YmwoqIiKSmJ9jssLy\\/\\/8OED7essKyuLi4ujLVlaWhoTE8NcMjIykvaLLS0tjYqKoh2mS0tLw8PDaZeXuVzuy5cvaatzuVzmXqs0WFJSwpwmv7i4mBksKipiHiiLioqYybWwsJD5SygsLGT+ZvLz82NjY6kRuVxeWFhI+81IpdKioiLalQOJRFJUVPThwwdqUCQSFRYW0rK4QCAoKCigJWw+n5+fn087glRWVubk5NDOr3k8XlZWFu0kgMfjpaen036HFRUVycnJtO+3vLz848ePtMN0WVlZQkIC7YddVlYWGxtLO0yXlZVFR0fTvvTS0tLY2FjawRfvXej\\/4nK5zCBenblkXFwcLVhSUsIMFhcXM\\/cEpUHmt4aD1dw9CgoKmFeGCgoKaN+vTCYrLCxUunukpKRQgyKRqKioKDU1lRoUCoXMXY7P5xcUFND66Ph8fl5eXnZ2NjVYWVmZnZ1N2xN4PN7nz59p16UqKio+ffpE2xPKy8uTkpJov1+8ezD3hPfv3zNHlyBGIiwrK4uPj2fuHszvQumeoGr3YAaV7h6q9hnmGRXG7AhFytp\\/CoWCdnpdUFBA+\\/kjhPLz86n7DPMja4S2J0KMufUJgmAGEULMQ4NCoWDmGLlczjwKCASCjIwMWlAkEjG\\/WqlU+urVK1qwsLCQdjaNEMrNzWWOMcvMzGSelKWlpTFPylJSUmiNLYRQYmIic5QX7QCEffjwgdlTn5CQwAwy2xZIRReH0h1daVBplZS+kdIg8xyiRm\\/E3D3kcnlaWhozyGyLS6VSZpUqKyuZHWJlZWXML72oqIj5bLzc3NzKykpaMCsri3bwRQh9\\/vyZefBNT0+nHbsRQp8+fWKunpKSUs3vV+nuoXRJpVu4jl+60r2r+u9e\\/R2JuTpBEMy+FoVCwdw9ZDIZs4WNlKUNgUDA7JXhcrkVFRW0YElJCe18HSGUn5\\/PXDInJ4fWAYMQyszMZB4T0tPTmceE1NRU2pm9qspXP6j0u6AG66NfFEEixKpz8MU\\/6ejoaGrvCt4P3r17R+4QBEHg41FUVBR5FCCD1LNUkUiEd03qEVmhUOBdMzIykkxmcrkc5zBqlWQyGQ5S9wypVCoSiWhZXCKRiMVihULBPHbLZDJqlWQymVwul0gkzN2xuLiYmnElEolCoeDxeMzUXlpayuwTy8jIoLaW8OE1JyeHWiYOqsri1F8sPo7Tjko4WOUPSSwW43yTkpJCO5dHKrJ4HQ\\/TSn+6SoPU1QmCwJmpyk8kl8vxxqEFhUKhQqGgHZEJgpDJZMwjMvPMjyAIpVmcx+NRW0t4xHxpaSmtSxwhxOfzqUd5giAIgsjNzSUzLh4YghDKzMxkZtz8\\/HxqCwz\\/7pQefD99+sT81lRlccRA25Fw+VVu9noNVlZWMk9wlS6pNI\\/WJWErPZ+TSqXMKyYikaiajb\\/qB\\/Py8pg\\/\\/6ysLHysy8vLKykpMTAwYBZVR5AIEUKooKCA+jPGv\\/Ps7GzyQCmVSnELTyAQkMeLz58\\/v3nzBiHE4\\/GSkpIIgoiPjz9+\\/DjucCgtLcU\\/2piYmKNHj+K1kpOTJRJJcnLyzZs3Dxw4gLt0cnNzc3Nz5XJ5ZGSkn58f3gtlMllISIhMJnvz5o2fnx\\/e4fDBVyqVvn792tfXF+cbHJRIJKGhob6+vrgDHQfFYnFISMihQ4fwGSL14JuWloY\\/MnlAT0lJOXbsGE7Y1KM8mYTIX9eHDx+OHj2KzxCpZZJZhBrERZG\\/LoIgoqKi\\/v77b3IVHIyIiDh9+jR+TV0dd78oFAqye+TTp0\\/4si61tZSUlHTz5k3EaC3hd8\\/Nzc3IyHj9+vWFCxf27t0bHByM34jZKFSaxdPS0pij+KhtcbLOSltLtCyOKW2L40OVQqGIjo4+cuQITkJqjp4ymSwiIsLPzw8fpHBQKpWGh4f7+vriHj\\/q6qWlpTjxVJnaIyMj8bZVmu+Tk5Nzc3OfPn165syZ48eP43xT5UlAYGCgQqEgCCIlJSUzMzMgIODQoUNnz57FH5nWvUmrkkQiwZdgxWIx89xLaWtJaRZX2loqKCggW0sSieTZs2eoflpLSncPpdsNVbu1pDQRNm4Wz8\\/PZ3Y55ObmMjdIdnZ2dTYI3mcyMjLwV8M8v6k7SIT\\/H\\/mTox5zyWBQUBB5cooHraSmpl65coVs5Tx\\/\\/vzIkSO3b9+mdmQFBQUdPnzY39+fXFcikezfv\\/\\/q1auZmZn9+\\/cnl3z48KGvr29ISAh1X4mOjj506FBAQAD5K+Vyuf\\/++++hQ4cCAwPJfrCCggIcfPr0KfnTzc7ODggI+PPPP+Pj48mD+OfPn\\/FaIpGIvEqflpZWUFBw48aN69ev9+jRw8TEBCGUkpKCP5pCoSAH\\/qSkpHC53EuXLt28eZOs0ocPH3CdpVJpYGAgDpIZUSwWkxf5U1JS8vLyTp8+\\/e+\\/\\/5KdtO\\/fv8\\/Jyfn7778fP35MHmLIo2d5eXloaCgZlMvlgYGBly9fJpsUKSkpMpns0aNH165dI8skE3Zubi55vfPcuXNxcXGtW7f29PSkbmFmhmMe+iUSCfPgS10yJiYGH4h5PB5zABF1jyLR2uJkhUNDQ\\/38\\/J4+ferm5ta9e3ekorWUnp6Oz3tCQ0M9PDw6dOiAEEpLS3v16pWvr++bN2\\/Iz0VtLQUGBuJDttIjclZWFs6dycnJAQEB+DGz6enp5E6Fm3QIoeDg4NOnT+fm5vbu3RvvMEjFMfHjx4949wgPDydHe927d+\\/ixYtlZWXDhw9fv349Dr548YLZtYv3BLFYfOnSJfKstPpHZFVZXNXqCoXixo0b+PymRq0lZjZS2lri8\\/nM06zy8nKloz+q2VpiNtQQowMGS0tLYybsT58+VTNhV79XWaFQMD+mVCpl9vzjS7xqyiTrdvfu3XPnzuFvRE9Pj\\/mmdQSJ8P8jD76pqankIRUH09LSqEPysrKyQkNDr127Rj3rKSoqYu5PzBFQCCE2mz1mzJg1a9bY2NiQwdzc3H79+nl7e1OPBbiXksVisdn\\/+5revn1rZmbm7OzMZrMtLCzIYIsWLYYOHUrdfZOSkiZOnDh06FDyJ0F2fz169EgikRgbG+N3OXnypEQiWb58+dChQ\\/F7SaVSfJiOiIgQiUT4oaPp6enHjh3T1dW1tLQ0NzfX0dFBCAkEAnwUePnyJfmE7oqKCvwzfvHiBdmPEf\\/\\/2jvzsKiOrOHf3he6aaCBZmt2GgSCCwKiiBARl6i4K1HcYozxncybyT7Llyczz7wzk8kes5rNRJOYBKNGRXEDFwQBQXBBUDbZG5pm7737++N8U999b6MhaiTS5\\/eHT3uoe2\\/dqrp1qk6dOnXp0qeffqpQKCIiItzd3UkRff75535+fmFhYUTY3NwMs7qjR486OzuDsKGh4dNPP62qqpJIJCRlZWXlp59+euPGDbFYTIRXr16tqKj49ttvd+zYQT8ozsXFJSkpqbKykqQcHBy0V1HDrmzZOxBRtG76xIkT5J4j75HthTab7fz584mJiU8\\/\\/fTUqVOhhIedLZnN5tLS0tTU1N\\/\\/\\/vfx8fFQ8gaDoby8PC0tLSMjQ6\\/Xu7m5UbTZUm1t7fXr111cXCiK6uvrs2+cNptt165dxcXF2dnZs2bNgtZltVqvXLlSX1+fk5Pz5ptvQr3YbLYnn3wyKysLEkAVNzY22s+WdDpddXX1hQsXjh49SnQzm81+5plnVq1aNX78eJFIBMLOzs4dO3YwOvrOzs7GxsadO3daLJZHH30UhCNfvaNrccKwFXTx4kWbzXbgwIGurq45c+bcJuXP6gPSD4xcYQ97z2FtiQzjOUVRvb299DkuCH+ReZM8yGazQebvcrmaGrG\\/zLDCuro6g8FQU1Ozb9++1157jf5eFEVxOJzly5fb3+cuwfMI\\/x9dXV0dHR0KhYLePbW1tVVVVdnvhbB3ZaYoatgGYS+0WCwhISFms5nhTcPhcI4ePcrogk0mk0QiEYlEpAlyudzk5OTvv\\/9eKBTStSa4qtKvFQqFYWFh77\\/\\/Pl14+fJlqVRaWVkpkUhIH+Hs7JyZmWmz2fLy8khPVFRUJJFI8vPzLRYLDCStVqunp6e\\/v\\/+1a9fc3d1Jv1ZZWWm1WgsLC+kPysvLUygUJSUlpF8wmUyhoaFxcXHbt2+nW\\/nDwsL8\\/Pz27t0L\\/T5w\\/PhxgUBAX7Wy2WwGg2HixIl5eXlkhtTR0REWFubj43Pq1Cmi7xsbG\\/v6+ng8nslkEolEZFjT0tLywQcfaLVa+oNKS0v9\\/PwuXrxIVB1ocalUWl5eTuro8uXLUVFRHh4edGFHR0ddXV1lZeXg4CDRATU1NcnJyWq1uqysjPjaNTY2DgwMDAwMlJWVEV87GHJxOJySkhKSUiqVdnV17dq1q7Ozk1TQlStX2Gx2Y2NjY2MjUWBKpVIoFB49erSxsZFMKVQq1fjx47dv3x4SEkL6ssrKSq1Wm5+fb7Vae3p62Gy21Wq9fv26WCyuqqqqqqoi43eDwXD48GEej1dcXEy615ycHMqOlpYWsVhcUFAwZ86ckydP6vV6UNgKheLq1atVVVWkjuy3mlgslo6OjsDAQIbcZDJ98cUX0dHR9NHJzp07eTxedHQ02ccC5k2dTldVVUVaCDiDgEMvuRy0OMkSqQuj0QizCnJ5c3Pz559\\/3tzcHBAQcOLECRDCbInNZttsNrpl3mazsVgsq9VKTK9Xr17V6\\/Varba7u5vU2rVr1+RyeUtLS0tLC\\/l+a2pqUlJSGC9+\\/fr1pKQkhlCtVhsMBsbB95cuXTKbzS0tLa2trWQ1p6ysTCqVgpAYn6qrq6VS6Y0bN2pra4lbbHV1tVAoBCExJh85ckQoFPb29vb19ZGPuqamxsfHh5GlmpoaDw8PsNOQJldTUxMfH89IeSudN2XKFFgHIc2jqakpNjaWnsxoNL722mv2phoWi2Wz2Xg83p49e+xvfpew7u3+\\/N8I3t7e5eXlXl5eP5uyvLz8p59+gt9JSUkzZsx4\\/fXX7Qe2HA7nHsZ6cHV1HRoaYjwFOu67vzm96w8JCbGfTNATECIjI9va2u5DkEMul2tvn7EHGn1wcHB9fT2jiSoUimGn2ow0arVaKBTavymLxYqMjKSvXbFYLJFIRJ86ODk5DQ0NMS6\\/Tc7pRcpisby9ve1NQxKJZHBwUCAQ0O2cYWFhzc3N9pmkKEogEHC5XHtPzmHh8\\/kwDpDJZImJiWDYHLY5sVgsHx+flpaWWyUYtnm4uLj09\\/dbLBaoF8i5s7NzS0vL5s2b33rrLRg\\/3eahfn5+kZGRx44dg4FRbGzs\\/PnzKYqy2Wx\\/+9vfIBm5nDwFYLPZgYGBQUFBREXxeDz4Hom1FoRWqzU4OBgGRuRyLpdLEoNkxYoVERERR44cKSkpoT+Ix+PBe5Fdd+vXr\\/f399+3bx99\\/0BoaCg4s9A\\/4dDQUDc3N9i5QdqnXC739va+du2axWIhD3rqqadgsl5QUABDahaL9fzzz8PkOD8\\/n2R+9erVUMglJSVkWOPu7i4UCunBNtlstre3t1QqtV8TJQ3jNrBYrPDw8OrqapFIxOVyYdXDw8PjySefBIPK559\\/DorN29vby8uroqLC399fo9FApYeGhq5evRpu9f7774N6FolEzz\\/\\/PFz+9ttvg1lbKpVu2bJl\\/\\/79N2\\/eNJlMUClubm6bN2+uqam5evWqff4ZuLi49PT0ODk5DQ4Obt26lW5Uu0tGxzSq0+kKCwvtJ+8EcDwpLS1lqJ+enp5z587Z9zL3hCtXrgzrwgBfHdiUGNCNlrdCoVBQFEW\\/XKvVQndAF5IexP5BLBZLJpPZP5qYDQEOh8NIU1tbCzZMJycnIoRujs\\/ni8ViIrx69eqttKBYLCY2z1sB9lv7TFIUxRjS3kYL0i+HQbdOp2NoQYahGHBxcRGJRPQHdXR0cDgcsnxF8PLycnd3ZxiIxo0b5+TkRL9cp9M99thjjHveKufBwcEcDoekBMdI6NTol5tMptjYWMbrNDQ0eHt7U8NVusFgGFYLMl6fw+FkZGSEhobCf3t7e3Nzcylac6LD4\\/GgD4UEpMDp9xzWEwE8SFNTU0k+r1+\\/XlZWFhkZSV+ZvtVIbuHChRs3bpwyZQqxVF+8eFGr1TY2NtLNLSKRaPr06ZTdIpBQKIyLi6N7kLq6usbHx1utVkYV\\/+53v4uLi2P4r4aFhQkEgrlz5xJJTU3NoUOHiouLGZe7u7svXrwYagQ4ePDgtm3bGLvompqauru7RSIRfZm\\/tra2uLiYMRMaP378wMCAq6srfcIHvlp06OuR9DL85ptvPvroo3PnztEtxhqNprm52cXFhayMiESi1NTUYUeH9lrQz8+PzWY\\/9NBDsK4MT6+uro6NjX3qqaeIhd9+Ry9FUW1tbb29vevXr1+3bp1EIoHGMOxuHJ1OZx8LtL+\\/\\/4MPPtDpdFu2bCGfRnd392uvvTZsxA94NcYdVCrV5s2b7VPeJaNgGr106dKcOXNCQkLq6uoWLFjw4YcfMhLo9fp58+a1tbU5OTmBExdUz5EjR9asWRMTE3Pp0qWXXnqJLLPfJWS2p9VqwSuJgclk4nA4EomEYeeUSCReXl72K+oMOjo6pFKpWCymX24ymVxcXOz9gIedxXp4eNhP3MPCwhgme3gL+nBeKBQaDAaxWGyv3dPS0uy3KoLRjCFMT0+3j4TCAEZqzs7O9hsS7B9N3WJ2pVAoent7yWzAZrORUfCwQlJxIpGIlC1JCZuyQQKGLIqi3Nzcuru7GQqGfPBgBIOVkpycHLANMmYnjKdQFKXVasFGTS89FxcXnU5Hf3eDwWDvpAp7YPh8Pt1aS1GUVCodGBiwf25QUJBer6ev38yaNYtsCAFgDDGspcdkMtH7LBaLNXXqVIqiKioqSJnw+fzFixe3t7fn5+eTEu7t7Q0PD2exWENDQwKBAN7LZrMN+71wOJygoKD6+nq6nS04OPjatWtWqxXuabFY3nvvPVJccM++vj5YaWa02KGhIRKrBVKq1Wq1Ws3n8z09Pfv6+kBoMpm2bdtG7kkyX1tbu379eigQSEmM24ytdW1tbf\\/zP\\/9D0doM6FRfX1+j0djV1UVcwCiKguUA8hSbzbZq1arw8PCysrLc3FzQQNB3bdiw4dKlS6TcLl++7OXlNTg4WFdXR2rq3LlzlZWVLS0tjOm4r69vV1cXfXRis9k4HE5gYCBx4BocHNy1a5eTk5NSqWQ078DAwKioqKqqqsbGRshnc3PzhAkTFi5cSA9\\/4+zsPGfOHBhJk3zm5eVpNJre3l66SvP09Kyvry8vL9dqtUlJSWVlZd3d3fn5+Xw+H4yr5I0KCwudnZ17enqGhoaIkMViBQYG5ufn0+v3VsY2sF7QbVoymUyhUAy7MnWXjIJp9JFHHomLi3vllVc0Gk1UVNTevXvpAyuKoj7++OPPPvusoKCAx+MtXbo0PDz8H\\/\\/4h81mU6lUf\\/vb3zIzM69duxYbG1tbW3sr4+cvNY0yOg65XH6Xoc1DQ0Pb29sZXnA\\/26XenpGnHBahUEg+Jx6Pp1AoGAE1bgX5MG6PVCq1d2m7FdHR0XcfIWJYtU0nMTHR3d39wIED9kUnEomsVit5L5VKFRQUlJube2eF\\/LM5GQnu7u7d3d30+wxraeTxeGaz+faZFIlE0DExMunj49PT02M0Gm02G7mzs7Pz0NAQfVyyatWq48ePd3V10UuDvOPtlwnGjRu3cOFCPp\\/\\/6quvcrlce1+VYSH39Pb2DggIuHjxov3EFDJAUiqVSl9f3+7u7pqaGnqWyG965mNiYgYGBurq6ka4xgEz19sUMpgTTSZTT0+PTCYD41ZgYOC6devKyspKSkp4PB7MDnk83vjx45uamrq6un69UNpCoTA8PLy+vr6vr08mk+l0OqPR6OLi8vvf\\/57FYu3Zs4d4d1MUNXv27KCgoO+++45uBAoODoYYpz9rSh11oGYfbNNoX1\\/fkSNHNmzYQFGUXC5fsGABbP+i88MPP2RlZYE5bsOGDbDYXl5e3t7evmzZMoqiIiIiYmNjbxWm7w5gtHj7ac0vRavVMkxYEolk2O9q5N3usCnd3NzojpG3gd6zmEym5ubmEV44Ei1I3dosNiz3JE4S+bC5XG5AQACsu9BxcnKCEb190TGma7W1tWBRpKcctnw4HI69bfbutSBFUV1dXeQ+YJW191YQCoX0VbFbodPp7LVgfHw8m82GLpIsxa1bty4+Pp4xO9+9e7d9uZG8MXpzPp9PLxCNRiMQCA4dOgQOzyN47\\/91z7a2NvuomPQMkJRNTU1FRUXgnThnzhzyLIvFAvmhZ76yshJ01QhVEb2QORyOr69vcHAwI8HEiRPHjx9PUdTEiRNB2NDQsGfPnuLi4o6ODjLKFAqFpaWl3d3dbDabvhjxi7C\\/kMViwZoLoNfrh4aG0tLSxo0b5+LiAiUAYT+NRiOEvyCJT548uX37dsZSSF1d3bCbLu6GCRMmBAQE3PHlXl5eDNMoRVESiQTUx73lfptGW1tbWSyWUqmE\\/wYGBtqHIrt58ybxKAsMDGxqarLZbE1NTX5+fmSxKigo6DbBy00m0+nTp0nP6O3tHRUVNcIcKhQKDw+Pu+yp7SeU9kPju5xGuLu7d3V1MW7r6uo6QoeXmJiY+vr6kc\\/hGMB6NV1y+12ud\\/yyYMy8fRoWi9Xc3AyrDvT5661MKGKx2Gg0qlQqYhQl\\/SN9GjGsvrnLQb1MJpNKpYy5OIvF4vF49D5IIBDw+fxhA\\/JRFCWRSOy33DHw8fHR6XSkMVitVrqCkUgkUVFR58+fLy4uvnbtGmOexGazWSzWCN902bJlBw4cgMZgtVrVavW2bdvguSPx9LH352Kz2V5eXvaO\\/vYmB09PT6FQePPmzZycnGF1NmGELlp0PDw8zGazVqt1cXF57LHHqqur6+rq6M04JyeHz+d3d3fTnRivXbsmk8lsNptUKh0aGrJYLCaTicViwcjjZweLU6ZMaWtr43K5er2eHiIAPnN6NdlsNlgUJK8mk8nc3d3pe15tNtu2bdvsX\\/yeOOVR\\/\\/tjkclkMTExFy5cEIvFZI0W\\/Ml\\/0T2Dg4OJ7whDfwNDQ0O\\/xj7C+60Ih4aGeDweGUIKhUL7r0Wn05GlVKFQCAsbjPcXCAS3+cyGhobeffddkn7KlCl\\/+tOfhk057M6nYaOM3iX2NXqX0whobXq9Hla2QDjsFo5hsY+iS\\/0S6+uwhe\\/s7GwfzxC445e91Q3pmEymKVOmBAcHf\\/PNN4wKHVZn+Pr63rhxw36+IhYyTk2BAAAgAElEQVSLpVLpz7qk3grQXozOGtyUSHH19vYOa28wGo1cLjcoKAhil5B6dHZ2NhgM9JeSSCTgnWivqLy8vMh2\\/mEdypydncHx6ubNm5AAdgUwbvWzlUVvJ\\/v37x8cHHR3d+\\/r6wNdfvuhmLe3N31F096r2Wq1ghYMCAigDwXsB22wn+fmzZs\\/22h\\/VgvSfWXB0zI2Nra9vV2r1Wo0mp07d8JojF4yvb29fD6fw+EoFIqenh6oYrPZDINgktvbDBBZLBaXy5VIJKTEYLAilUqH9cKzr3EulyuTyeCJpaWlwy5C3\\/7FRwKLxXJ1dfX29ib7MlUqVXNzM30U3tvbC6de0IX04hrWG5k+zIWhQ11dHRnNd3d3x8TEMHoqq9UKzsNDQ0M\\/OxwEhEIhYw3envutCL28vGAWD5N9jUZD99EiaciMqqurSy6X8\\/l8Ly8v+sxAo9GEhITc6ikymSw7O3ska4QMn0ZqZD3vCLnjadAv2q1Bf8Rdrvje5eV3WXTDKi3yJd9+hbW2tpboADabzWaz4cJhPxXYlWwf7XNoaGiEa1oAuISQ\\/1osFvvH6fX6n61K4t3D2G3N4XB4PB5DAcB+xGHv097ezlhWlMlkcXFxp0+fBhUVFRV19epVKKg7Pg2OoiiBQCCRSGAoBgqA4aiZmJhYWlqqVCp1Ol17ezu94kZy0h60\\/2Gj+SxZskQsFu\\/Zs0en0w0NDY1wnZvg7u5Or2WY+27cuHFgYGD37t2QTyirI0eOgBncarVCLXO5XF9f356eHjKUgZT20d1GCKzU2o8b2Gx2SEhIe3v7z7rHE717D1EqlUFBQS0tLWSMAj7DJOAndYsIAICPj4\\/BYGDkavbs2ZMmTdq2bRu96c6bN08qlRKfHWjnCxYs6OnpISdJgRYUCoWBgYHErRQ+E7FYDCFB7gn3e43Qy8tLqVSS9zxz5kxcXBwjTXx8PElw9uxZ2K0ZExPT1dUFLdJqtZ47d85+F+edYa8L7xV3PA16QM+nvktuY7FhsVj2m0MkEgk4PVIU1dnZSYxpMplsJNtaqLuO1cRms+kjzWF9WEZelSKRiOFFbLFYNBqNQqGwfx3owekSCNnD2A8QEhLC4XBIOywsLOzt7R35OhCPx\\/P19bWfOuv1eobm4\\/P5dM+FK1eumEymurq6trY2RpkMu\\/ZJURSHwyHbOYgzsL03xI8\\/\\/rhr1y7okYeGhuwD2t0KeAu5XE7fqWK1Wi0WyyeffLJnzx76FiMocIlEQi95s9kMsRpGvvZJRyQSTZ06lXGtQCCw33TU399fXl7+K20SYzzdXtjW1nb69GnGTB08QhlVKRQK7b\\/KoaEhe93c1NT03nvvES0IU5SysrLs7OygoCB6ymHPU4yIiBg3btxI3+qOuN+KkM1mP\\/300\\/\\/93\\/994MCB\\/\\/N\\/\\/s+NGzdgM+bFixflcjmM4rdu3bpr166PPvpo9+7d\\/\\/znP59++mmKouRy+dq1azds2JCTk7Np0yYfHx\\/7AA13htFovJsV3V+KfdMZOYztbrcBjDZ3\\/CBqZFskRw6fz3d2dr69gYJuAGT0FzabzWw2M959YGCARCKlo9VqxWLxbXor8mp34xrg5ORUW1tL9l0BUqk0KirKvuQZHiUURclksqioKHomdTqdXq\\/38PBgtMb29nb7EZWrqytjFynsKGDs+CwrKzt+\\/PiwW2Dp3KqsTCZTe3v77cfdsLMTDgukvwuXyx1W4RkMBvsuPjAwcOrUqSTz4CKh0+nsY3oNm\\/OtW7du3LiRvAX84HA4crmcpITyr66ubmtr8\\/X1pd8BPK3ojQEKvLe31960+LPuVCB\\/6KGHtmzZsmrVKiJxd3dPS0sjQzdSGvamcghNPuwHSBeSZkYXkrEdQxgZGfnkk08uXbqU8XTG\\/Tkczu2tqaSOWCyW2WwOCwuLiYmhJ9Dr9fHx8Vu2bCHNmMVi3bx5E3akwOUJCQkcDgc2AjQ1NYGQy+XSyxOEIImMjAwNDSV\\/\\/dltzXfAKGyo\\/8Mf\\/vDcc899+eWXXV1dZ8+ehTGsu7v7xo0bofKioqJyc3MLCwv379+\\/c+fOWbNmwYXvvvvu3LlzP\\/vsMzc3N\\/B0vyf58fT0hOjGd0xUVNTIJ+l3PNuLj4+fNGnSsDtk7RM7Ozvb956MrvP23OUSJpfLpX+KNputr6\\/P\\/hvjcrn2obbi4uJIrArA3d39qaeeAp9hOt7e3gyLQkpKSmpqqk6nY3wtSqWSePdZrVYul2vfKwEikYjeUVIUNX78+NTUVLpEIpGEhoZyOBz6jESpVD7zzDPLli0j29spipJKpQsWLHjmmWfo6i08PPzpp59eunQpve7YbHZycvITTzzBiDglk8ni4+PpyiwuLi4lJaW\\/v5\\/+Cdhstu7ubvsFTpFIZL+65uLiQl84IJ07l8ulOygqlUp\\/f\\/9hV7kEAkFCQgJFC1Dp6emZlpYGw1OTyWQ2m9va2pRKZVJSkn3DY3y8jY2NTU1NcXFxUJsw4WOz2fZOg2A2nDZtGsyeIec5OTk7duxwcXGBUgLh7373O6FQSKbIZE8Fm82m15rNZmtsbGxvb6e7ufJ4vPT0dPockaIoDoejVCqVSiVR8LdaSlAoFEuWLFEoFHTfFrVa\\/frrrxcWFiqVSqLDOBwOGGDpBRIUFLR69Woul0uv9NDQ0FWrVnE4HBKE1mKxREZGLl++nM1mkzGi0WiMioqaMWMG3AduC1spPD09x40bR5+Awl99fX3JiMFisfD5fKVSOXny5OTkZPq7i8XihQsXrly5krzRnDlzVq5cmZ6eTh\\/gzp07d+7cuQqFYvLkySSlwWBgsVgrVqyAsAZXr14VCATd3d3t7e0rVqyAOPhgUBkYGJDL5VlZWdOmTSMl7OTkJBaL\\/fz84EH3ytmHzihsqGexWJs2bdq0aRNd6OfnR+KrUhSVmJjI2FxIUZRAIHjxxRd\\/jSzd6qhlBmKx2M3NjbEsoVAowsLCRnJcpFAoHNYP6jbQFwtJ4G+6Y6RAIGhubgbzF\\/2ztD8cjqIoEoFz5Bm4M2QyWWho6NWrV8miwrAPTU1N5XK5DAfdefPm2Wy2Y8eO0YXz58+vqalhnIq8evVqtVpND4fNZrNjY2PLysroQ10Oh5OZmdnS0kJPKRQKo6OjyXkIgFgsnj17dmdnJ\\/3kbldXVycnJ0Y0EKPRWFtbyxjTsNnszs7OoqIi+rESHh4efD7\\/888\\/Bwd6UvuVlZVnzpwBZQYVFxUVpVKpcnJy6AUSGRkZHBxcUFBAd4OqrKwsLS0dyYKuXC738PAAEyIZQslksgULFuTl5dFTymSyvr6+KVOmNDc3EyPzsOuIEDzBx8eHvqLp6+ublpZ2\\/fp1epjQFStWCIXC\\/fv30xeP4XJG5tevX+\\/j49Pe3k5\\/TavVau9e8eSTT\\/b19WVnZ9MLHwL0ZGZmXr16lYSqIR4udB566CFXV9f+\\/v7m5mb6mQ++vr4xMTG1tbWw+gVHqcjlcnoeLBaLVqvl8\\/lms9n+O+JwOK6uruS7s1gsZ86coUd6EwqFaWlpbDa7ublZo9HAOqVUKvX3929qahocHHRycoL1Qq1W+\\/3334O7KRQXRVEajSY7Ozs1NXXq1KkdHR1gumxvb6+urk5PTzcYDCS4wZUrV1gs1iOPPBIbG7t9+3ZYlDWZTMXFxQUFBfS6gFqAaIJEOH36dIiDY7PZLly4AGvAISEhixYtEolENpuN7EjW6\\/X5+fnnz58fdhKpUqlIg4+Ojp47dy6Px9PpdAcOHICWExcXB0q0v7+fhOzw8\\/Nbs2YNh8NhtE+KosLCwtRq9T1x\\/7EHY43+\\/1ijv0EYcTXh\\/ITu7u5z584RIQRMGhoautXBZoSoqKjZs2efOHGC3tH\\/Iry9vTs7O+ltEUJrDmu+owOurT4+Pq2trfQ92jBXoHd\\/bDbbxcUlOjq6sLCQ9DXDuh2x2Wy5XB4REXHu3Dn6yQaMlDDs9fLymjRpUltbG2hTYj3z8vIiIxsQghMgYxrEYrEYoUf5fP7kyZP9\\/Px++OEHeCN4tFQqnT17dmlpKX0DgEwmW7Vq1aFDh8izxGJxVFQUWfYml3t6ekql0mEP52PEjYQ5N8NCAPYlUm7QX\\/v5+SkUigsXLtCF3t7e\\/f39I\\/G78\\/Pz6+npoaeE4J+RkZHFxcWgTiDOJ5vNpqsHeFBISEh0dPSpU6fotczwIXRzc+vp6bGvYgj+6eHhQTRKYmJiUVGRzWbjcrlWq5VcQo8XAfj7+8fFxbm5ufX29pLA37AHw83NzdfXlzH8FQgEnp6eDN0vEAhI0HkOhwNe7h4eHu7u7nSVHxgYuGTJErVavWvXLopm5QsMDJRKpdDkeDweGDyDgoJEIhHZNiYUCuPj46dMmVJVVXXgwAFSPgkJCQkJCRUVFUS1z5kzB2bh9CCl8+fPnzRpUnd397Zt2yAZi8XKyMiAPY7Hjh2j9xUMYmNj09PT+Xx+R0fHRx99BMKZM2cmJSXZbLbKysrDhw\\/DmJI8mqKo3bt3M04Qo0cgWbx4cUxMjNVqLS4uPn78OHyYK1asGDduHMTiOXnyJNTa6tWrQ0NDLRZLQUFBfn4+fETr1q0LDAy8fv36Dz\\/8wOfzQQ0\\/\\/vjjME7avn079R\\/9fW831OPpE7+A2+wu8PX1bWtrY3zJHA4nPDycsRlDqVTaD7RVKhX93PCIiIj29nZnZ2e6DScmJiYjI6O3t5cenjE+Pv7q1auurq70rxpiVYNPI8lwampqcnIywxc\\/JiZm\\/PjxBoOBfkRAaGjojRs34F8iTEpKSkhIaGxszM7OJsIZM2bExcXV1tbCoanAtGnTwLv62LFjRC3NmjUrJibmzJkzdBe71NTUuro60AQk5YoVK1QqVX5+Pr1LdXJymjBhglqtrq6uJinXr1+vVCoPHTpEnxyIxeLJkyfX1dWRg2A4HM5jjz3m5eWl1WrJRNNms7m5uSUnJ9ODhIlEohkzZhQVFYF2IQ\\/y9PRcuXLl3r17iRpzc3PbtGmTSCSiezZarVY\\/P7+VK1d2dHTQj6EJCAhYvnw5Oe2Poig\\/P7\\/o6Oj8\\/Hy9Xk\\/GOj4+PosWLWpqajp48CC51sfHJyEhAXrepqamnTt3UhQVGBiYmprq7Oz84YcfisVimFuEhIQkJyfX19efOnUK9phSFBUWFjZ79mywk1dVVUFKk8kUHx\\/P4XAYB4ZQFCWTycaNG2cymYjWnDFjRlBQ0FdffRUVFQVmj8TExOnTp4PRsrq6GhQhhG65cePGjBkzBgcHwY\\/fYrE88sgjYCJramoCfcDhcFQq1fXr19PT04uLi0E7+vv7m0wmvV4\\/c+bM+vp66Gfnz58\\/fvx4UHjnz58HPVdYWBgQEDB+\\/PjIyMhvv\\/0Wyj8lJcXT09PNzc3NzW3Hjh2wBpmamqpWqyG6GHnB9PT0gIAAsJc2NTXBWRwLFy4k5sE333xzYGCAy+VOmjTJbDb39\\/eTAQ2Xy50\\/f76\\/v79IJLp8+TIoQolEAkYIkUjk7+8PJhyz2ezl5bVy5UoXFxe9Xl9eXm6z2SQSycKFC\\/39\\/W02GxzoTVGUQqHYsGEDqFsy1PD19V27di2s9hFfEpVKRVQREUZFRU2aNMlms12\\/fp001\\/Hjx4MWhJSgCAMCAsLCwsrLy\\/v6+kJDQyHzTk5O8BRPT0+6nUmtVh86dEitVgcEBDAcRAcGBsjnBkGYZ86cOXHixH\\/\\/+98kTVNT06FDhwYHBwMCAkif1tDQkJOTYzAYAgICyOCvrq7u0KFDVqvVyckJXh\\/62Ly8vLi4uMHBQfqQXaFQSKXSe+jVTwcV4S9gWC3o4+OjVqtNJhNdC0KsSDc3N7ou8ff3v3nzJmMID0K6azJFUQ0NDXq93mAwGI1GsjkPAkbk5ubSJ2QwqD9\\/\\/jw9+hTMusBhjwidnJwuXboEJ\\/oSYXBwcF9fH8MO2dzcDAYcimab9fX1LSkpgfCkROjv73\\/p0iUwYhDhuHHj3NzcvvvuO2dn5\\/j4eBi6uru7f\\/\\/999Alkb47Ly8PCs3d3T0yMvL06dPwIK1WyxjGbt26dWBg4MMPP\\/T19fXz84N+BAYfpMumKIrFYj3xxBM9PT1gyYQHwbTPZrPt27cvODi4o6NDq9XCEtfBgwfNZjNUAUVROp0uNzc3ISGhpqYmICBAo9E0NjY6Oztv2LChpKSEbhIXCoUikchoNO7bty8hIaGqqqq3t9fDw2P9+vUmk2n\\/\\/v3JyckVFRVardbb23vt2rU6ne7gwYNTpkyBjWKtra1g0M7IyAgMDHznnXcoipLJZCUlJfBqpNK9vLyIMwIZFSkUCnd3959++gmChoBQLpcXFxdfuXIlNDQ0ISHh66+\\/pijK09MT5tx1dXVkwjRhwoTu7u66ujqVSkW6ufDw8OTkZG9vbxaL1draCqX68MMPJyUlbd++PTY2lmyF9PX1BS1YUlJCjBBggNm8ebOnp2dVVRUowoULF0KPbDKZyIxh3LhxVVVV6enp8fHxWq0WrNOVlZWBgYELFiwQCoWk74PFYzhdkrzmxo0bIRwHfRtJXFycWCyG82DJ1oivvvoKfNTpn210dDT80Gg0MNJis9mQSdiwAW0Yjnv08fEJCAiIi4s7e\\/bszZs3BQKBSqW6fPnymTNniAlUIBBMnz69vLy8tLR0ypQpPj4+TU1NLi4uGzduhFVqoVDo5eXV1tYmkUj8\\/PwuXLhQUFBgNpshJIVYLGaz2efPny8oKCBLuUQ\\/0Sudvg5HtqBwudzm5uZDhw7BNBdyRV8d9\\/f3BwU5MDCQn58fGhqalZXF5\\/OvXbvG8Prx8\\/MDO0RlZWVeXl50dPTy5cuNRiNpIXD6Unl5OQlUIpFIli5dCgvqHh4e4NlUUFDQ1dU1efLkhx9+uK2tDRRhfn5+V1dXQkJCSkpKY2MjKEII4weetPDtA9euXdNoNGvWrLl+\\/TpdEbJYrLCwMPr3fg9BRfjzkLEwnWnTphUXF5tMpq6uLvv4ztCmoWXMnDmzvLwcVoap\\/5zWC1vESABl0IIQasBgMECfBUK9Xk8WJGpra2GwLBQKzWaz2WwGRQtOeo8++uiuXbusViu5nM\\/nr1y5cteuXRAfGfoIoVC4fPlymFscPXoUhGKxOC4uDgxQZAFAIpHMnz9\\/9+7dFEXt27cPBowymWz27Nkwg9yzZw9c7urqOnPmTDJZzM\\/PHxoaysrKcnFxAUW4e\\/du6GIUCsW0adN+\\/PFH6j\\/+OGw2e\\/HixVarFT6GAwcOwFHa\\/v7+kydPhpQsFuvw4cMcDmfx4sUajQa0xffff3\\/9+nUej+ft7Q0qlsViOTk5wcF1kZGRYWFhJA5fYWGhRqMJDw+HEjMajceOHZNKpWazOTMz85NPPunu7ubz+evXr798+bLFYpHJZGC8MhqNH330UW9vr1wunzdvHpQbcOTIET6fz+PxwPFPLBZzOJz9+\\/dLJBKj0QjrPU5OTmw2++DBg3K5fNasWdXV1XD2iFQqXbFiBTjLQCdCDgRWqVQrV67ctm0b3ZYI5iNYMaqpqSkvLzeZTHK5vK+vTywW9\\/b2gkbhcDhz5syRyWT0Ray2trYffviBDNQqKirgQfTBfkhICPiADAwMEJODVCq9cOFCT0+PSCTq7u6m37O6uvrIkSMzZsyANpOQkDBr1iwWi9Xd3U1Wd2DiZTQav\\/nmGzItu3LlCixfURTl5+cH2U5LS5syZYper\\/\\/qq6\\/II44fP97Q0AARAEjmwdejr6\\/vq6++Ig4m586da29vb2pqMhqNxBnk2WefdXJyOnjwIJfLnTt3Lj1wfGdn51dffSUSiQYHB61Wa15eXmNjY0tLi9lshkCdQqHwmWeeIRqlu7v75s2ber3+vffe0+v1Pj4+Go1GLpeD4uFwOMnJyXl5eWazGUZLQqGQro2CgoLa2to0Gs27774Lgc5jY2OPHj1aUlLS2dn5zjvvcLlcV1dXGDrT9x6Ul5cfOnSIEVyppKQkNzcXdp1XV1dXVlZOnjxZKBQOawLl8\\/kKhaKtrc1sNq9YsYKcOKFQKBg7T5RKJShCq9WalZVFXNhgTFZaWnrs2DE\\/P7\\/MzMze3l5YTpo2bRpxK1MqldDdcbncxx9\\/HJalfH19QQ0LBIInnnjC09MTUsK0TygUbtmypbW19aefflq6dOmPP\\/4Ike3y8\\/OnTJkiFosZOysoivr1FCGeUM+E4eLP5XKrq6sZTqGTJk1KS0sLDw+naC74bDZ76dKlpKkBSUlJSUlJKpWKnpLL5WZmZkLUN5PJBN6VPB7v0UcfjYiIoF8uEAjWrFkD97RYLNBDiUSitWvXQishvUZGRkZQUJC\\/vz+5lsViLVmyBI5noyjK3d1dJpOxWKxly5YFBwdDo4RQpWw2e\\/ny5YmJieDMBiNuDoezcuVKlUoF3Rmk5\\/F4q1atioiIgDkBWJP4fH5mZmZERAQMY9VqdWlpaXx8fHBwsJubG8xIIPqBUCj09vbev38\\/vDIUy\\/Tp0318fHx8fOByWIOUyWSwrgDVUVVVVVdXl5aWJpfLAwIC4HK1Wm21WsVicXNzM\\/HqhA1YHh4eixYtIh+SWq0+efIkn8\\/Py8uD4T+Hw0lPT+\\/t7Z05c+aBAwegoxGJRCaT6dy5cywWq6CgAPzWrFYrFNHixYuDg4NJ\\/AeijS5cuEC8T69evXrp0iW9Xl9RUTFlyhQQVlRU1NXVTZs27YsvvgDdJpfLH3\\/8cdCCg4ODUJjOzs7+\\/v7gm8dms6FwgFOnTp06deqRRx6BXp4cptHf379mzRrwefbz83N2dk5ISJDL5Vwul8TG7Onp+eabb4xGo5+fH1Slm5tbamqqr68vjOjp7a2lpWX79u08Hg+KTqfTnTx50mAwaLVaOJkPkjU3N+\\/Zs0ehUBQVFUFdBAQEsFisGzdufPLJJwqFgoTBNBgMO3fubGxsnDBhArSW2bNnx8bGwlZgiIdOUVRQUNDQ0NCOHTt4PN6mTZvgc7NarYsWLUpNTe3s7IyPjydqr7e3d8eOHXK5fNOmTaBvCgoKtFqt0WgcN27cli1boBnz+fwzZ85cvnx59erVDz30ELm8o6Njx44dYWFha9euhae0tLSIRCKz2RwXFwdC4uhPUZTZbIbRntVqnTx5ckZGxs2bN5OTkxctWkTK7aGHHjIajWfPnoU2Q8doNMLI0mq1zpgx4\\/e\\/\\/31CQoLZbIbewGq1zpw5Mzk5uaWlJSMjg+6oWVpaeujQocWLF9N9m4uKinJzc5cvXw5mUrFYvGnTJqlUeu7cuVWrVpHQlUBfX9\\/3338PQ+2oqCh618TQMd3d3cRcOWHCBKIFu7q64KsUCARr167NzMwsLy8\\/cuQIY9dQW1sbWfJISEgALdjS0vLFF19AQ01MTIQO5ObNm1988QWMw5KSkvr7+3\\/66aeFCxdGR0dDgsuXL\\/f19YGnpLOzMyOAcHBw8M\\/GiLkzUBH+f3g83sKFC2fPnk0XwhICvdH7+\\/vPmzePoplZKIricDjLly+PioqiC1Uq1cMPP0xRFL0JgsILCQkhPR2MmNasWRMYGEhPKRQK165dq1QqQVhRUdHV1SUWi9etW+ft7U1POX36dHguXZiamgqqmgh7e3vT09NBJ8HTwX9v7ty5gYGBAoEAUsJUZsGCBX5+fmCOIMJFixZ5eXnRhSwWa+nSpR4eHhwOB+588uRJV1dXcImm\\/vPJwbKNwWCoq6tbuXIl6PvW1lYfHx\\/4+NlsNmwwMJlMPB4vMzPTycmJy+WCtjhx4kRQUBD41gsEAtBGMAgwGo1r1qxJTk5WKBQ2m+3EiRNOTk6LFi3i8XgymczNzc1qte7duxeO\\/tmwYQN4r\\/F4vJKSErFYnJubOzAw8Oijj1IUZTab9+3bB8cYbdq0KSUlBbZj9vf3JyUlweAXVrz0ej34NfD5\\/Mcffzw5OZnFYg0ODh46dIiiKJFItHnzZnC96+vrO3z4sEQi+f77711dXTMzMymKAo+Y\\/v7+3Nzcd955B0x8YrG4tbV1\\/vz54LVPau3kyZP5+fkymezgwYPQIxuNRthVmZWV5e\\/vD92WVqu1WCykJ4XL9Xr9119\\/PTAwMHHixPXr18PYC1Zb+\\/r61q9fHx0dTdRbRUXFjh07oqOjV69eDRV07tw5nU7n6uq6YcMGFxcXqMru7u5vv\\/3WZDJ1d3cnJyfDCYKQePfu3UlJSUuWLIENJDDDa21tnTNnTkZGBjQPHx+fjo6Ozz77rLCwcMmSJZDP\\/v7+HTt2ODk5rVmzRiAQwBvNnDmztrb22LFjixcvnjt3LpR\\/d3f3F198oVAoVqxYIRAIIPOhoaHglBsVFSUQCCBlZWXlqVOnVq5c6enpKRKJoHdua2v78ssvo6KiFixYIJVK3d3duVxuSkpKfX19YmLi3Llz3dzcyJzSZDIVFRW9++67Fy9eFAgEYrFYoVBkZ2dPnz49JSXFx8cHNi309fV9+eWX4LuUmJhIemq9Xn\\/q1Km33367sbGRzWZ7eHjExsYaDIa8vLy33367paUFAmfbbLacnJxFixaNHz+e6Kfz588fOXJk2bJlUVFRRHj27NkTJ07AYU9QREqlsrq6+vTp09ClkM7HarUWFBS89957RqMRDkBmQO5pNpvz8\\/M\\/+OADoVBI38LR0dGRnZ39wQcfgPChhx7icDgff\\/xxV1fX5s2byWqlwWA4fPjwp59+Sg5HpCgKFgI+\\/\\/xzX19f4vw\\/NDS0f\\/\\/+L7\\/8MigoCGKhdHR0fPfddzNmzADjP2SpvLw8MTGReLEyFDaPx7PfbXVP4Lzyyiu\\/xn1HlzfeeGPLli0j2dsH\\/scURSkUiqysrJCQEHd395KSErDj+fj4gJXAxcWltLQUzjJdt24dfACurq7FxcVms5nL5a5cuRK0jouLC6zYeXh4wGYgiqLgzGuLxcLj8UDhgbCwsNBqtQqFwqysLBjNgdBms4nF4rVr10KPL5FIwINDIpGsW7cOhk4gpCgqPDx8\\/vz50F5FIhHYmqKiokhIfoFAcOHChaMJF6QAABluSURBVN7e3gkTJhD9xOVyL168aDQa4+LiYNcRUFVVZTQap06dSsahNpvtypUrRqMRXGNAaLFYICUslYPQaDRWV1ebTKbMzEzyYej1+urqahj\\/xsXFrVq1ytPTE3xcrVbr6tWrSTUNDAzU1tYajcZly5aR5t7X1wf2sTVr1pDPQ6vVwmqrl5fX2rVroY\\/r6upqbm6Ge8pkMqgjtVrd0tIyMDCgVCrXrl0rl8vZbHZLS0t7ezsolZkzZ86bN08ul9fU1HR3d+t0upCQkKysLJg937x5U61WKxSKxYsXw9QHmgcE9Y+MjHz00UdBYdfU1HR0dJhMppiYmJUrV8JBSFVVVWq1Gup9yZIlSUlJbm5upaWlXC63tbV13759FEXNmzdv9uzZ4DYSFRVFNBm0GY1GA6ssCoVi4cKFDz\\/8cGFhoV6vB6sA9PgwITAYDPPmzSOmKmgera2tOp1uzpw5Dz\\/8MGzLKysra2trGxoaWr9+PQy3uVxuVVWVVqutrKycP3\\/+tGnTWCwWn88vKSkxGo3u7u7r1q2DaT2Xyy0rK4MzCsLDw1evXq1QKIRC4cWLF9vb22\\/cuLFixYoJEybAhPXSpUt1dXUGg2HVqlXQQZvN5itXruh0uqNHjwYHB2dmZnp7exsMhuvXr1+\\/ft3T0zMzMxPmYXq9vqampqGhobOzMysrC2a3AwMDDQ0N1dXVgYGBy5Ytg2lfX18fBMAES3heXt6lS5fgmPUbN25kZGQQEwucZ3vlypUJEyaQT6Orq6ulpeXy5cvx8fFg2qUoqqOjA6x8e\\/bsaWtrS05OzsjIUKvV7e3tly9ffvjhh2Hax2Kx4HClixcvurm5rVu37vLly7AZbmhoaHBwcM+ePX19fWlpaY888khtbS2EkN27d+\\/g4GB6evq8efOqq6s7Ozurq6uXLl0KYxSBQHD58uXOzs7a2lrSpUCtaTSahoYGUHgURTk5OYFltampiXQpMpmsqKiIw+EUFRU1NjbOnz9\\/5syZnp6ehYWFvr6+9JiU0GbYbPaZM2c6OjoWLVo0Y8aMa9euDQwMSKXSioqKo0ePuru7L1myJDY2tqioSKfTnT179qGHHlq+fDmE9SguLmaxWHAs88qVKxMTE0tKSmDLx7Fjx8xm88qVK2NjY\\/l8PmxbAmtWZmbmhAkTuFxuRUVFQ0PD+PHjyTZxq9V6+fJlkUhEKpeiKJPJdPXq1djYWLIfVK\\/Xw+pGXFwcY6Pn3eDoa4TQ9OEzAKXF5\\/NjYmJKSkoSExNnzpwJVcJmsyMjIysrKzMzM8mOYw6HExERcfny5VWrVpFGxufzVSpVXV1dZmYm2eUKs6X6+volS5aQATiMblpaWrKysojBTSgUKpXKrq6utWvXgsKjKEoikYCz+7p168jWV5lMBgmWLFlChnLu7u6urq5CoXDRokVE6OXlJZFIXF1d6WNDpVIpEokUCsWcOXOIMDw8nMfjBQQEEH1J\\/ecEdpVKRdeXISEhMACn24JgdJ+UlETfJw5jOrlcDi5z5J4URc2cOZPuAA0pU1JS6OGUgoKC8vLy5s6dS98IHBQUdPbs2aioqIyMDGLCCg4OPn\\/+\\/COPPKJUKonfQXBwcFlZ2aRJk+bNm0e+rrCwsOrq6rCwsPnz55O93tHR0W1tbVOnTk1LSyNFB563ixcvJtfC8XLFxcWpqalJSUkkZXBwcFtb26xZs+j7X4OCgtRq9eTJk9PS0qAxwGT64sWLbDZ79erVZMAbEhLS1NQElgYAYnDX1NSEhYUlJyeTIvX3929ra1u7di0xP\\/J4PD8\\/P4vFQo\\/x4ezs7OXl1dfXt3z5cjKq8PHxcXFxgdOXSHlGRkbm5uYaDIYNGzaQreLu7u4SiQRGY6S78fb2hqhac+bMAd3W399PzoTZtGkTaZzgPwmbRsiu8MDAQBaL1d7evnr1amK5ValUhw4d8vf3X7FiBSlkKBYnJ6cVK1aQz02lUuXl5alUKnrbDg4OPnHiRGRkJIwFp06dev78eVhCTk1NpRdIcHBwYWFhbGwsvW0HBQXBl04PUxUUFHTx4sWLFy+mpaXFxMTAACgoKOjKlStz586lR3YMDg6uqalJSkp6+OGHWSxWSkrKoUOHJk6cWF9ff\\/36dVDDxPZ7+vRpOGA1LCyMCDs7O8FNmv70ioqKzMxM+sFP4L25evVqeriWoKCg2trarKws0jYkEgkc2AtuKWDV5HK5DJMpRVF8Pt\\/Hx+fmzZvTpk1LSkqCrk+pVLa3t1+6dCk6OvrJJ58k36abm5tWq6XnUy6XOzs7NzQ0pKamxsXFQRHB9LS+vn7mzJmxsbFktz6fz6+vr09PT4dBEqSE5k1v8LDkMW3aNHrgQ2gz9KlqWFjYz54TfifYxiLgpjWSlDqdDqLX0xkcHGxubmYIBwYG7O\\/Z19cHMYXp9PT0qNVqhlCr1arVajh2nKDRaDQaDSNlZ2enVqtlCNVqNZgx6bS3t0MAQDqtra2Mp9hstpaWlqGhIYYQXFUZQjj9gCFsaGiA01zp1NfXm0wmhrCurs5isTCEtbW19ilra2shCADBarXeuHFjWCHj2mFTWiyWuro6+E2KBTalMC43Go32QoPB0NDQwBDq9Xo4BYwOxHpmCAcGBlpaWhjC\\/v5+e2Fvb6\\/95T09PZ2dnQxhd3e3fZPr6urq7u5mCNVqdW9vL0PY0dFhL2xra+vv72cIh20zcLwAQ3jz5k26EMq5sbFRr9czUt6qzdgLwTeKIYR4BQzhrZoHQ2gwGOzbjMViqa2tZQiHbR4mk8n+nnC8ESOlXq+nC61W6wcffPDWW2+9\\/\\/77jMsHBwftW9fIu5SOjg77lFqt1r7NaDQae2FnZ6d976FWqxkNqbKy8pVXXoEtfXRaW1vt+5mWlhZGQzp79uwrr7xy8eJFRkpGmwHArsAQ1tfX27cE+y7lvffee+WVV+z72LvB0TfU309sNtvQ0NA9nM4jt6K\\/v58Rfhr5NcByZlBVVfX99997eXk98cQT9\\/C2er2ey+X+Sn4ihJ6ennfeeQc21N\\/B5eAIAxvq73ne6ECUgAf7hHoEQZCxSkREhP25cg8KLi4udzOs8fHxuctA\\/yOE4Zl\\/T3D0NUIEQZB7BYvFmjNnDj2MxoNFQkLCHStyLpcbHx9PPBt+Pfz9\\/aOjo+\\/hYYQUxhq9n6Bp9L6BJrv7A5bz\\/eH+mEYdGTSNIgiCIA4NKkIEQRDEoUFFiCAIgjg0qAgRBEEQhwYVIYIgCOLQoCJEEARBHBpUhAiCIIhDg4oQQRAEcWhQESIIgiAODSpCBEEQxKFBRYggCII4NKgIEQRBEIcGFSGCIAji0KAiRBAEQRwaVIQIgiCIQ4OKEEEQBHFoUBEiCIIgDg0qQgRBEMShQUWIIAiCODSoCBEEQRCHBhUhgiAI4tCgIkQQBEEcGlSECIIgiEODihBBEARxaFARIgiCIA4NKkIEQRDEoUFFiCAIgjg0qAgRBEEQhwYVIYIgCOLQoCJEEARBHBpUhAiCIIhDg4oQQRAEcWhQESIIgiAODSpCBEEQxKFBRYggCII4NKgIEQRBEIdm1BRhd3e3RqO5TYKurq6+vr77lh8EQRDEMRkFRWg0GpcvXx4eHj5u3Lhly5YZjUZGgu+++87f3z8iIsLf33\\/69OnNzc0gX7duHes\\/SCSS+55xBEEQZAwyCorws88+q6+vb\\/oPn3zyCSOBXC7Pycnp6upSq9Wenp7PPvss+dNbb71ls9lsNtvAwMD9zTWCIAgyNhkFRfj1119v3rxZKBQKBILNmzd\\/\\/fXXjARpaWnR0dEURfH5\\/EceeaS2tpb+V7PZfP\\/yiiAIgox1RkER1tXVqVQq+K1Sqerr62+V0maz7d69Oz09nUj++Mc\\/SqXSoKCgHTt23OYRVqu1sbGx7j\\/cfjESQRAEcWS4v8ZNz549u3\\/\\/foaQw+H861\\/\\/oiiqv79fJBKB0MnJqbe391b3+etf\\/9re3v7nP\\/8Z\\/vvSSy999NFHQqEwNzd36dKlISEh06dPH\\/bC3t7e5cuXczgc+G9KSsq77757ly9199hsNp1OZ7VaRzsjYx+0nN8fsJzvD3q9nsvlcrm\\/Snc95hEKhTwe7\\/ZpfpWSlUgkPj4+DCGb\\/f9mn56enj09PfBbq9UqFIphb\\/LGG298++23p06dcnJyAsm4cePgx5w5cxYuXHjkyJFbKUJXV9fi4mIvL6+7fJF7i81m43A45HWQXxWpVDraWXAIsJzvAzweDxXhr8qvUrITJkyYMGHCrf4aExNTUlIye\\/ZsiqKKi4tjYmLs07z77rvbtm07derUrZRZb28vmVYiCIIgyB0zCkOMrVu3rl69eurUqWw2++233\\/7qq69AnpSU9MYbbyQkJOzatevZZ5\\/95z\\/\\/WVxcXFxcLBQKFyxYQFHUX\\/7yl\\/T0dCcnpwMHDpw+ffrtt9++\\/5lHEARBxhijoAhnzZr1xhtvvPLKKxRFvfbaazA1pCgqODhYLBZTFKXX6xcvXgxakKIoV1dXUIS9vb1\\/\\/vOfTSZTaGjo2bNniccNgiAIgtwxLJvNNtp5uPd4e3uXl5f\\/BtcIh4aGcI3wPtDf349rV\\/cBLOf7AzrL\\/NpgrFEEQRDEoUFFiCAIgjg0qAgRBEEQhwYVIYIgCOLQoCJEEARBHBpUhAiCIIhDg4oQQRAEcWhQESIIgiAODSpCBEEQxKFBRYggCII4NKgIEQRBEIcGFSGCIAji0KAiRBAEQRwaVIQIgiCIQ4OKEEEQBHFoUBEiCIIgDg0qQgRBEMShQUWIIAiCODSoCBEEQRCHBhUhgiAI4tCgIkQQBEEcGlSECIIgiEODihBBEARxaFARIgiCIA4NKkIEQRDEoUFFiCAIgjg0qAgRBEEQhwYVIYIgCOLQoCJEEARBHBpUhAiCIIhDg4oQQRAEcWhQESIIgiAODSpCBEEQxKFBRYggCII4NKgIEQRBEIcGFeH9Q6PRFBUVjXYuxj42my03N3e0c+EQ5OXlGQyG0c7F2KeysrKpqWm0czGWQUV4\\/ygoKHj77bdHOxdjn56enscff3y0c+EQ\\/PGPf7x+\\/fpo52Ls8\\/nnn+fk5Ix2LsYyqAjvHzabbbSzgCDIAwn2Hr8qqAgRBEEQhwYVIYIgCOLQsMbkjFsikcTGxvL5\\/NHOyP+is7OztbV1\\/Pjxo52RMY7ZbC4oKJgxY8ZoZ2TsU1hYGBMT4+TkNNoZGeNcu3ZNIpH4+fmNdkYeSBYvXrx169bbp+Hen6zcZz7\\/\\/HM3N7fRzgUTg8Gg0Wh8fHxGOyNjn\\/r6+qCgoNHOxdinsbFRqVSy2WhY+nXp7OwUiUQSiWS0M\\/JAMpKuYGzOCBEEQRBkhOBQDkEQBHFoUBEiCIIgDg0qQgRBEMShQUWIIAiCODRj02t01Glubj5\\/\\/rzJZEpISLiVz1JLS8uJEyfkcnl6ejqPx7vPORwb6HS6goKC1tbWoKCgpKQkFovFSKBWqysrK8l\\/J02a9Bt0J\\/7to9Vqi4uLW1tbPT09U1NTxWKxfRqLxXL8+PH29vYZM2YEBgbe9zyOBUwm08WLF2tqajgczq26jnPnzg0NDcFvNze3SZMm3d88jk3Qa\\/Tes3\\/\\/\\/o0bN6akpAgEgkOHDr355puPPfYYI01hYeH8+fMzMjKqq6u5XO7x48dRF94Bcrk8Ojo6ODj47NmzISEhBw8e5HL\\/19juxx9\\/3LRpU2xsLPz31VdfxY7jDtiyZUtDQ4NSqayurq6rqysoKAgICKAnsNls8+fP7+jomDhx4t69e7\\/99ttZs2aNVm4fXI4ePfrHP\\/4xOjraaDTm5OS8\\/vrr9lFzVSqVi4uLTCajKGrSpEmvvvrqaOR0zGFD7jVtbW0DAwPw+7vvvnN3d7dPM2vWrH\\/\\/+982m81oNI4bNy47O\\/u+ZnGscOPGDfjR19fn7u6ek5PDSLBnz56UlJT7nq+xzOzZs19++WWG8Pjx40qlcnBw0Gazbd++PT4+fjSyNqb4+uuvg4KC7OVhYWFFRUX3Pz9jG1wjvPd4eXmRWBve3t4mk8n2v6fder3++PHjS5cupSiKx+MtXLjw4MGDo5DRB5+QkBD4IZVKJRKJ0Wi0TzM4OJibm1taWmoyme5v7sYgNptNp9O5u7sz5AcPHpw7dy6YTJctW1ZcXNzR0TEaGRw7DA4O2pczUFlZeezYsba2tvucpTEMrhH+ilit1r\\/\\/\\/e8bN25krF21tbXZbDZfX1\\/4r6+vb1lZ2WhkcOywc+dOiqLS0tLs\\/6TT6d5\\/\\/\\/1r165xudycnBxcvrozDhw48O677zY0NKSkpDzxxBOMv7a0tERHR8NvV1dXkUjU0tKiUCjuezYfeHQ63cKFC4eGhnp6evbu3WufQCaTZWdnWyyWoqKiv\\/71r88+++z9z+TYA2eEvyLPPPNMf3\\/\\/3\\/\\/+d4bcYrFQFEUCU3E4HLPZfL8zN4Y4ffr0s88++80339gHvczIyLh06dJPP\\/107dq1CRMmvPDCC6OSwzHAxIkTX3jhhaeeeurgwYP5+fmMv1osFnqgNS6Xi036zuDz+S+++OIf\\/vAHFxeXf\\/\\/73\\/YJioqKcnNzjx8\\/fvLkyT\\/96U83bty4\\/5kce+CM8NfipZdeOnPmzIkTJ+xd7Ly8vCiK6uzshLijHR0dGID0jikqKlq+fPk333yTmJho\\/1cOhwM\\/2Gz2ihUrUBHeMX5+fn5+frNmzRoaGnrrrbfS09Ppf\\/X29lar1fB7aGiov78fm\\/SdweFwwLCRmJjo5+f3j3\\/8w9PTk5EAfsTHxwcGBlZUVISGho5CRscWOCP8VXj55ZcPHz589OhRFxcXItTr9X19fRRFSSSSyZMn5+bmgvzo0aMpKSmjks8HnfLy8sWLF3\\/22Wd0o6jNZtNoNFarlZG4rKxMqVTe3wyOQTo7O8FlkaIojUYDM7+UlJTjx49DmR89elSlUhHLP3JndHZ2cjgcCLQ9MDAwODjISKBWq5ubm7FJ3xNw+8S9Z8+ePcuWLVu8eLGHhwdIXn\\/9dalU+uqrr+bk5Jw6dYqiqH379m3atOmFF164cuVKQUFBRUUFnmXzSzEajV5eXr6+vlOnTgXJ8uXL09LSWltbfX19GxoaAgICfve733G5XD8\\/vytXrmRnZx88eBCPZ7oD0tLS4uPj3dzcLl26tHfv3hMnTsTFxVEUxWKxCgsLp0yZYjKZYmNjw8PDExMTX3\\/99X\\/+85\\/r1q0b7Vw\\/ePzjH\\/+or69XqVTd3d07d+5cvXo17I7IysqSSqUffPBBaWnp3\\/72t\\/j4eKvVunPnzpiYmOzsbPvts8gvhfPKK6+Mdh7GGiwWKyYmJjQ01Oc\\/TJo0icvlOjs7R0dHq1QqiqIiIiKSkpIuX74cGBj4\\/vvvkyE2MnJsNptcLk9ISCDlHBERoVAoOBxOYGBgfHw8n8\\/38fHRaDRdXV1hYWHbtm3DwyDvjJCQkI6Ojp6enoiIiA8\\/\\/DA8PBzkvr6+iYmJTk5OHA7n0Ucf7e7u7urqev755xctWjS6GX5ACQoKGhoaam9vd3Z2fvbZZ8n+Yzc3twkTJvj7+zs7O7PZbLVazWazN2zY8Je\\/\\/AW14D0BZ4QIgiCIQ4NrhAiCIIhDg4oQQRAEcWhQESIIgiAODSpCBEEQxKFBRYggCII4NKgIEQRBEIcGQ6whyNhh3759vb29FEXFxMRMnDjxDu5QVVVVXFxMURSfz8\\/MzLzH+UOQ3yS4jxBBfqPU1taSkJ5cLtfX13fixInPPfect7f3rS5RqVR9fX2hoaFr167dvHnzHTz0hx9+eOeddxoaGgYGBnp6eu4w6wjyQIGKEEF+o1y7dm3cuHHz5s1LTk62WCxVVVW7d+\\/29fW9dOmSVCod9hKVSjV9+vTPPvvsLh\\/94osvfvzxx6gIEQcBTaMI8psmNTX1ueeeg98xMTEvvPDC4cOHV6xYcQe36u7uFgqF9ONQOjs75XI5\\/QQlBHFA8ANAkAeGpKQkiqJ+0RF0n332mZub27lz5yZNmiSXy6VS6eOPP242m\\/fu3atUKj09PV1cXD7++ONfLcsI8gCAM0IEeWCoqKigKCogIGDklxgMBq1Wu27dumeeeSYuLu7w4cMvv\\/yyxWIpLCx85513\\/Pz83nzzza1bt6akpJBQ2gjiaKAiRJDfNJWVlT\\/88IPJZLpy5QocoLFkyZJfepPnnnvuiSeeoChq8uTJ2dnZO3bsqKysjI6Opijqo48+ys7O\\/umnn55\\/\\/vl7n3sEeRBARYggv2l27ty5c+dO+B0SEnLs2DGRSPRLbzJ79mzyW6VSaTQa0IIURbm4uCgUiubm5nuSWwR5EME1QgT5TfPaa6\\/ZbDa9Xr9v376Ojo7\\/+q\\/\\/uoObuLq6kt8CgYD+X4qi+Hy+0Wi824wiyAMLKkIEeQAQCAQZGRn\\/+te\\/fvjhh4MHD452dhBkTIGKEEEeGLZs2RIWFvbiiy9ardbRzguCjB1QESLIAwOHw3nppZeuXr2anZ092nlBkLEDKkIEeZDIysoKDg7+61\\/\\/ipNCBLlXoNcogvxGiYiIsI+AyOPxamtrR36TrVu3bt26lS7ZtWsXI019ff2d5RBBxgY4I0SQMcWOHTv4fP7LL798Z5dv27aNz+e\\/\\/vrr9zZXCPJbBoNuI8jYoa6uzmAwUBTl7u7u4eFxB3fQarXt7e0URXE4HJVKdY\\/zhyC\\/SVARIgiCIA4NmkYRBEEQhwYVIYIgCOLQoCJEEARBHBpUhAiCIIhD838BBr9xHqeuKWkAAAAASUVORK5CYII=\\\" \\/>\"},\"nodeType\":\"DOM\",\"type\":\"node\",\"instanceArgs\":{\"namespace\":\"html\",\"tag\":\"div\"},\"children\":[]}]}]}]}}}},\"children\":[{\"props\":{},\"nodeType\":\"ObservableNode\",\"type\":\"node\",\"instanceArgs\":{\"id\":\"160\",\"name\":\"obs-node\"},\"children\":[]}]}]},\n",
       "        window,\n",
       "    );\n",
       "    })()\n",
       "    </script>\n",
       "</div>\n"
      ],
      "text/plain": [
       "Node{WebIO.DOM}(WebIO.DOM(:html, :div), Any[Node{WebIO.DOM}(WebIO.DOM(:html, :div), Any[Scope(Node{WebIO.DOM}(WebIO.DOM(:html, :div), Any[Node{WebIO.DOM}(WebIO.DOM(:html, :div), Any[Node{WebIO.DOM}(WebIO.DOM(:html, :label), Any[\"tokamak_wall\"], Dict{Symbol, Any}(:className => \"interact \", :style => Dict{Any, Any}(:padding => \"5px 10px 0px 10px\")))], Dict{Symbol, Any}(:className => \"interact-flex-row-left\")), Node{WebIO.DOM}(WebIO.DOM(:html, :div), Any[Node{WebIO.DOM}(WebIO.DOM(:html, :div), Any[Node{WebIO.DOM}(WebIO.DOM(:html, :span), Any[Node{WebIO.DOM}(WebIO.DOM(:html, :label), Any[], Dict{Symbol, Any}(:attributes => Dict(\"data-bind\" => \"text : key\")))], Dict{Symbol, Any}(:attributes => Dict(\"data-bind\" => \"click: function (){\\$root.update(val)}, css: {'is-primary is-selected' : \\$root.index() == val, 'interact-widget is-medium button ' : true}\")))], Dict{Symbol, Any}(:attributes => (\"data-bind\" => \"foreach : options_js\"), :className => \"buttons has-addons is-centered\"))], Dict{Symbol, Any}(:className => \"interact-flex-row-center\")), Node{WebIO.DOM}(WebIO.DOM(:html, :div), Any[Node{WebIO.DOM}(WebIO.DOM(:html, :div), Any[], Dict{Symbol, Any}())], Dict{Symbol, Any}(:className => \"interact-flex-row-right\"))], Dict{Symbol, Any}(:className => \"interact-flex-row interact-widget\")), Dict{String, Tuple{AbstractObservable, Union{Nothing, Bool}}}(\"options_js\" => (Observable(OrderedDict[OrderedDict{String, Any}(\"key\" => \"off\", \"val\" => 1, \"id\" => \"idR7A6FGeq\"), OrderedDict{String, Any}(\"key\" => \"on\", \"val\" => 2, \"id\" => \"idEefMAiFA\")]), nothing), \"index\" => (Observable{Any}(1), nothing)), Set{String}(), nothing, Asset[Asset(\"js\", \"knockout\", \"/home/henrikj/.julia/packages/Knockout/HReiN/src/../assets/knockout.js\"), Asset(\"js\", \"knockout_punches\", \"/home/henrikj/.julia/packages/Knockout/HReiN/src/../assets/knockout_punches.js\"), Asset(\"js\", nothing, \"/home/henrikj/.julia/packages/InteractBase/8TTmI/src/../assets/all.js\"), Asset(\"css\", nothing, \"/home/henrikj/.julia/packages/InteractBase/8TTmI/src/../assets/style.css\"), Asset(\"css\", nothing, \"/home/henrikj/.julia/packages/Interact/PENUy/src/../assets/bulma_confined.min.css\")], Dict{Any, Any}(\"options_js\" => Any[WebIO.JSString(\"(function (val){return (val!=this.model[\\\"options_js\\\"]()) ? (this.valueFromJulia[\\\"options_js\\\"]=true, this.model[\\\"options_js\\\"](val)) : undefined})\")], \"index\" => Any[WebIO.JSString(\"(function (val){return (val!=this.model[\\\"index\\\"]()) ? (this.valueFromJulia[\\\"index\\\"]=true, this.model[\\\"index\\\"](val)) : undefined})\")]), WebIO.ConnectionPool(Channel{Any}(32), Set{AbstractConnection}(), Base.GenericCondition{ReentrantLock}(Base.IntrusiveLinkedList{Task}(Task (runnable, started) @0x00007f455ca841a0, Task (runnable, started) @0x00007f455ca841a0), ReentrantLock(nothing, 0x00000000, 0x00, Base.GenericCondition{Base.Threads.SpinLock}(Base.IntrusiveLinkedList{Task}(nothing, nothing), Base.Threads.SpinLock(0)), (139935279231280, 139935279232880, 429510868319)))), WebIO.JSString[WebIO.JSString(\"function () {\\n    var handler = (function (ko, koPunches) {\\n    ko.punches.enableAll();\\n    ko.bindingHandlers.numericValue = {\\n        init: function(element, valueAccessor, allBindings, data, context) {\\n            var stringified = ko.observable(ko.unwrap(valueAccessor()));\\n            stringified.subscribe(function(value) {\\n                var val = parseFloat(value);\\n                if (!isNaN(val)) {\\n                    valueAccessor()(val);\\n                }\\n            });\\n            valueAccessor().subscribe(function(value) {\\n                var str = JSON.stringify(value);\\n                if ((str == \\\"0\\\") && ([\\\"-0\\\", \\\"-0.\\\"].indexOf(stringified()) >= 0))\\n                     return;\\n                 if ([\\\"null\\\", \\\"\\\"].indexOf(str) >= 0)\\n                     return;\\n                stringified(str);\\n            });\\n            ko.applyBindingsToNode(\\n                element,\\n                {\\n                    value: stringified,\\n                    valueUpdate: allBindings.get('valueUpdate'),\\n                },\\n                context,\\n            );\\n        }\\n    };\\n    var json_data = {\\\"options_js\\\":WebIO.getval({\\\"name\\\":\\\"options_js\\\",\\\"scope\\\":\\\"4240772155633771846\\\",\\\"id\\\":\\\"111\\\",\\\"type\\\":\\\"observable\\\"}),\\\"index\\\":WebIO.getval({\\\"name\\\":\\\"index\\\",\\\"scope\\\":\\\"4240772155633771846\\\",\\\"id\\\":\\\"110\\\",\\\"type\\\":\\\"observable\\\"})};\\n    var self = this;\\n    function AppViewModel() {\\n        for (var key in json_data) {\\n            var el = json_data[key];\\n            this[key] = Array.isArray(el) ? ko.observableArray(el) : ko.observable(el);\\n        }\\n        [this[\\\"update\\\"]=function (val) {this.index(val)}]\\n        \\n        [this[\\\"options_js\\\"].subscribe((function (val){!(this.valueFromJulia[\\\"options_js\\\"]) ? (WebIO.setval({\\\"name\\\":\\\"options_js\\\",\\\"scope\\\":\\\"4240772155633771846\\\",\\\"id\\\":\\\"111\\\",\\\"type\\\":\\\"observable\\\"},val)) : undefined; return this.valueFromJulia[\\\"options_js\\\"]=false}),self),this[\\\"index\\\"].subscribe((function (val){!(this.valueFromJulia[\\\"index\\\"]) ? (WebIO.setval({\\\"name\\\":\\\"index\\\",\\\"scope\\\":\\\"4240772155633771846\\\",\\\"id\\\":\\\"110\\\",\\\"type\\\":\\\"observable\\\"},val)) : undefined; return this.valueFromJulia[\\\"index\\\"]=false}),self)]\\n        \\n    }\\n    self.model = new AppViewModel();\\n    self.valueFromJulia = {};\\n    for (var key in json_data) {\\n        self.valueFromJulia[key] = false;\\n    }\\n    ko.applyBindings(self.model, self.dom);\\n}\\n);\\n    (WebIO.importBlock({\\\"data\\\":[{\\\"name\\\":\\\"knockout\\\",\\\"type\\\":\\\"js\\\",\\\"url\\\":\\\"/assetserver/0314215fc38f87455d25a217f081da9054de2922-knockout.js\\\"},{\\\"name\\\":\\\"knockout_punches\\\",\\\"type\\\":\\\"js\\\",\\\"url\\\":\\\"/assetserver/e7011e89f50940c046e57125bc6c6f723b775b34-knockout_punches.js\\\"}],\\\"type\\\":\\\"async_block\\\"})).then((imports) => handler.apply(this, imports));\\n}\\n\")])], Dict{Symbol, Any}(:className => \"interact-widget\")), Node{WebIO.DOM}(WebIO.DOM(:html, :div), Any[Scope(Node{WebIO.DOM}(WebIO.DOM(:html, :div), Any[Node{WebIO.DOM}(WebIO.DOM(:html, :div), Any[Node{WebIO.DOM}(WebIO.DOM(:html, :label), Any[\"include_Fos\"], Dict{Symbol, Any}(:className => \"interact \", :style => Dict{Any, Any}(:padding => \"5px 10px 0px 10px\")))], Dict{Symbol, Any}(:className => \"interact-flex-row-left\")), Node{WebIO.DOM}(WebIO.DOM(:html, :div), Any[Node{WebIO.DOM}(WebIO.DOM(:html, :div), Any[Node{WebIO.DOM}(WebIO.DOM(:html, :span), Any[Node{WebIO.DOM}(WebIO.DOM(:html, :label), Any[], Dict{Symbol, Any}(:attributes => Dict(\"data-bind\" => \"text : key\")))], Dict{Symbol, Any}(:attributes => Dict(\"data-bind\" => \"click: function (){\\$root.update(val)}, css: {'is-primary is-selected' : \\$root.index() == val, 'interact-widget is-medium button ' : true}\")))], Dict{Symbol, Any}(:attributes => (\"data-bind\" => \"foreach : options_js\"), :className => \"buttons has-addons is-centered\"))], Dict{Symbol, Any}(:className => \"interact-flex-row-center\")), Node{WebIO.DOM}(WebIO.DOM(:html, :div), Any[Node{WebIO.DOM}(WebIO.DOM(:html, :div), Any[], Dict{Symbol, Any}())], Dict{Symbol, Any}(:className => \"interact-flex-row-right\"))], Dict{Symbol, Any}(:className => \"interact-flex-row interact-widget\")), Dict{String, Tuple{AbstractObservable, Union{Nothing, Bool}}}(\"options_js\" => (Observable(OrderedDict[OrderedDict{String, Any}(\"key\" => \"off\", \"val\" => 1, \"id\" => \"id3XLmRk0Q\"), OrderedDict{String, Any}(\"key\" => \"on\", \"val\" => 2, \"id\" => \"idR1Ij7Anq\")]), nothing), \"index\" => (Observable{Any}(1), nothing)), Set{String}(), nothing, Asset[Asset(\"js\", \"knockout\", \"/home/henrikj/.julia/packages/Knockout/HReiN/src/../assets/knockout.js\"), Asset(\"js\", \"knockout_punches\", \"/home/henrikj/.julia/packages/Knockout/HReiN/src/../assets/knockout_punches.js\"), Asset(\"js\", nothing, \"/home/henrikj/.julia/packages/InteractBase/8TTmI/src/../assets/all.js\"), Asset(\"css\", nothing, \"/home/henrikj/.julia/packages/InteractBase/8TTmI/src/../assets/style.css\"), Asset(\"css\", nothing, \"/home/henrikj/.julia/packages/Interact/PENUy/src/../assets/bulma_confined.min.css\")], Dict{Any, Any}(\"options_js\" => Any[WebIO.JSString(\"(function (val){return (val!=this.model[\\\"options_js\\\"]()) ? (this.valueFromJulia[\\\"options_js\\\"]=true, this.model[\\\"options_js\\\"](val)) : undefined})\")], \"index\" => Any[WebIO.JSString(\"(function (val){return (val!=this.model[\\\"index\\\"]()) ? (this.valueFromJulia[\\\"index\\\"]=true, this.model[\\\"index\\\"](val)) : undefined})\")]), WebIO.ConnectionPool(Channel{Any}(32), Set{AbstractConnection}(), Base.GenericCondition{ReentrantLock}(Base.IntrusiveLinkedList{Task}(Task (runnable, started) @0x00007f455ca84330, Task (runnable, started) @0x00007f455ca84330), ReentrantLock(nothing, 0x00000000, 0x00, Base.GenericCondition{Base.Threads.SpinLock}(Base.IntrusiveLinkedList{Task}(nothing, nothing), Base.Threads.SpinLock(0)), (4582573823774440420, -4640798213080335392, 5)))), WebIO.JSString[WebIO.JSString(\"function () {\\n    var handler = (function (ko, koPunches) {\\n    ko.punches.enableAll();\\n    ko.bindingHandlers.numericValue = {\\n        init: function(element, valueAccessor, allBindings, data, context) {\\n            var stringified = ko.observable(ko.unwrap(valueAccessor()));\\n            stringified.subscribe(function(value) {\\n                var val = parseFloat(value);\\n                if (!isNaN(val)) {\\n                    valueAccessor()(val);\\n                }\\n            });\\n            valueAccessor().subscribe(function(value) {\\n                var str = JSON.stringify(value);\\n                if ((str == \\\"0\\\") && ([\\\"-0\\\", \\\"-0.\\\"].indexOf(stringified()) >= 0))\\n                     return;\\n                 if ([\\\"null\\\", \\\"\\\"].indexOf(str) >= 0)\\n                     return;\\n                stringified(str);\\n            });\\n            ko.applyBindingsToNode(\\n                element,\\n                {\\n                    value: stringified,\\n                    valueUpdate: allBindings.get('valueUpdate'),\\n                },\\n                context,\\n            );\\n        }\\n    };\\n    var json_data = {\\\"options_js\\\":WebIO.getval({\\\"name\\\":\\\"options_js\\\",\\\"scope\\\":\\\"17897294970163307353\\\",\\\"id\\\":\\\"116\\\",\\\"type\\\":\\\"observable\\\"}),\\\"index\\\":WebIO.getval({\\\"name\\\":\\\"index\\\",\\\"scope\\\":\\\"17897294970163307353\\\",\\\"id\\\":\\\"115\\\",\\\"type\\\":\\\"observable\\\"})};\\n    var self = this;\\n    function AppViewModel() {\\n        for (var key in json_data) {\\n            var el = json_data[key];\\n            this[key] = Array.isArray(el) ? ko.observableArray(el) : ko.observable(el);\\n        }\\n        [this[\\\"update\\\"]=function (val) {this.index(val)}]\\n        \\n        [this[\\\"options_js\\\"].subscribe((function (val){!(this.valueFromJulia[\\\"options_js\\\"]) ? (WebIO.setval({\\\"name\\\":\\\"options_js\\\",\\\"scope\\\":\\\"17897294970163307353\\\",\\\"id\\\":\\\"116\\\",\\\"type\\\":\\\"observable\\\"},val)) : undefined; return this.valueFromJulia[\\\"options_js\\\"]=false}),self),this[\\\"index\\\"].subscribe((function (val){!(this.valueFromJulia[\\\"index\\\"]) ? (WebIO.setval({\\\"name\\\":\\\"index\\\",\\\"scope\\\":\\\"17897294970163307353\\\",\\\"id\\\":\\\"115\\\",\\\"type\\\":\\\"observable\\\"},val)) : undefined; return this.valueFromJulia[\\\"index\\\"]=false}),self)]\\n        \\n    }\\n    self.model = new AppViewModel();\\n    self.valueFromJulia = {};\\n    for (var key in json_data) {\\n        self.valueFromJulia[key] = false;\\n    }\\n    ko.applyBindings(self.model, self.dom);\\n}\\n);\\n    (WebIO.importBlock({\\\"data\\\":[{\\\"name\\\":\\\"knockout\\\",\\\"type\\\":\\\"js\\\",\\\"url\\\":\\\"/assetserver/0314215fc38f87455d25a217f081da9054de2922-knockout.js\\\"},{\\\"name\\\":\\\"knockout_punches\\\",\\\"type\\\":\\\"js\\\",\\\"url\\\":\\\"/assetserver/e7011e89f50940c046e57125bc6c6f723b775b34-knockout_punches.js\\\"}],\\\"type\\\":\\\"async_block\\\"})).then((imports) => handler.apply(this, imports));\\n}\\n\")])], Dict{Symbol, Any}(:className => \"interact-widget\")), Node{WebIO.DOM}(WebIO.DOM(:html, :div), Any[Scope(Node{WebIO.DOM}(WebIO.DOM(:html, :div), Any[Node{WebIO.DOM}(WebIO.DOM(:html, :div), Any[Node{WebIO.DOM}(WebIO.DOM(:html, :label), Any[\"colorbar_scale\"], Dict{Symbol, Any}(:className => \"interact \", :style => Dict{Any, Any}(:padding => \"5px 10px 0px 10px\")))], Dict{Symbol, Any}(:className => \"interact-flex-row-left\")), Node{WebIO.DOM}(WebIO.DOM(:html, :div), Any[Node{WebIO.DOM}(WebIO.DOM(:html, :div), Any[Node{WebIO.DOM}(WebIO.DOM(:html, :span), Any[Node{WebIO.DOM}(WebIO.DOM(:html, :label), Any[], Dict{Symbol, Any}(:attributes => Dict(\"data-bind\" => \"text : key\")))], Dict{Symbol, Any}(:attributes => Dict(\"data-bind\" => \"click: function (){\\$root.update(val)}, css: {'is-primary is-selected' : \\$root.index() == val, 'interact-widget is-medium button ' : true}\")))], Dict{Symbol, Any}(:attributes => (\"data-bind\" => \"foreach : options_js\"), :className => \"buttons has-addons is-centered\"))], Dict{Symbol, Any}(:className => \"interact-flex-row-center\")), Node{WebIO.DOM}(WebIO.DOM(:html, :div), Any[Node{WebIO.DOM}(WebIO.DOM(:html, :div), Any[], Dict{Symbol, Any}())], Dict{Symbol, Any}(:className => \"interact-flex-row-right\"))], Dict{Symbol, Any}(:className => \"interact-flex-row interact-widget\")), Dict{String, Tuple{AbstractObservable, Union{Nothing, Bool}}}(\"options_js\" => (Observable(OrderedDict[OrderedDict{String, Any}(\"key\" => \"0.0-0.1\", \"val\" => 1, \"id\" => \"idIjpAharU\"), OrderedDict{String, Any}(\"key\" => \"0.0-1.0\", \"val\" => 2, \"id\" => \"idiw3mgaXo\")]), nothing), \"index\" => (Observable{Any}(1), nothing)), Set{String}(), nothing, Asset[Asset(\"js\", \"knockout\", \"/home/henrikj/.julia/packages/Knockout/HReiN/src/../assets/knockout.js\"), Asset(\"js\", \"knockout_punches\", \"/home/henrikj/.julia/packages/Knockout/HReiN/src/../assets/knockout_punches.js\"), Asset(\"js\", nothing, \"/home/henrikj/.julia/packages/InteractBase/8TTmI/src/../assets/all.js\"), Asset(\"css\", nothing, \"/home/henrikj/.julia/packages/InteractBase/8TTmI/src/../assets/style.css\"), Asset(\"css\", nothing, \"/home/henrikj/.julia/packages/Interact/PENUy/src/../assets/bulma_confined.min.css\")], Dict{Any, Any}(\"options_js\" => Any[WebIO.JSString(\"(function (val){return (val!=this.model[\\\"options_js\\\"]()) ? (this.valueFromJulia[\\\"options_js\\\"]=true, this.model[\\\"options_js\\\"](val)) : undefined})\")], \"index\" => Any[WebIO.JSString(\"(function (val){return (val!=this.model[\\\"index\\\"]()) ? (this.valueFromJulia[\\\"index\\\"]=true, this.model[\\\"index\\\"](val)) : undefined})\")]), WebIO.ConnectionPool(Channel{Any}(32), Set{AbstractConnection}(), Base.GenericCondition{ReentrantLock}(Base.IntrusiveLinkedList{Task}(Task (runnable, started) @0x00007f455ca844c0, Task (runnable, started) @0x00007f455ca844c0), ReentrantLock(nothing, 0x00000000, 0x00, Base.GenericCondition{Base.Threads.SpinLock}(Base.IntrusiveLinkedList{Task}(nothing, nothing), Base.Threads.SpinLock(0)), (4580430316437496287, 4580430316437496287, 139939229161648)))), WebIO.JSString[WebIO.JSString(\"function () {\\n    var handler = (function (ko, koPunches) {\\n    ko.punches.enableAll();\\n    ko.bindingHandlers.numericValue = {\\n        init: function(element, valueAccessor, allBindings, data, context) {\\n            var stringified = ko.observable(ko.unwrap(valueAccessor()));\\n            stringified.subscribe(function(value) {\\n                var val = parseFloat(value);\\n                if (!isNaN(val)) {\\n                    valueAccessor()(val);\\n                }\\n            });\\n            valueAccessor().subscribe(function(value) {\\n                var str = JSON.stringify(value);\\n                if ((str == \\\"0\\\") && ([\\\"-0\\\", \\\"-0.\\\"].indexOf(stringified()) >= 0))\\n                     return;\\n                 if ([\\\"null\\\", \\\"\\\"].indexOf(str) >= 0)\\n                     return;\\n                stringified(str);\\n            });\\n            ko.applyBindingsToNode(\\n                element,\\n                {\\n                    value: stringified,\\n                    valueUpdate: allBindings.get('valueUpdate'),\\n                },\\n                context,\\n            );\\n        }\\n    };\\n    var json_data = {\\\"options_js\\\":WebIO.getval({\\\"name\\\":\\\"options_js\\\",\\\"scope\\\":\\\"8806014308974700987\\\",\\\"id\\\":\\\"121\\\",\\\"type\\\":\\\"observable\\\"}),\\\"index\\\":WebIO.getval({\\\"name\\\":\\\"index\\\",\\\"scope\\\":\\\"8806014308974700987\\\",\\\"id\\\":\\\"120\\\",\\\"type\\\":\\\"observable\\\"})};\\n    var self = this;\\n    function AppViewModel() {\\n        for (var key in json_data) {\\n            var el = json_data[key];\\n            this[key] = Array.isArray(el) ? ko.observableArray(el) : ko.observable(el);\\n        }\\n        [this[\\\"update\\\"]=function (val) {this.index(val)}]\\n        \\n        [this[\\\"options_js\\\"].subscribe((function (val){!(this.valueFromJulia[\\\"options_js\\\"]) ? (WebIO.setval({\\\"name\\\":\\\"options_js\\\",\\\"scope\\\":\\\"8806014308974700987\\\",\\\"id\\\":\\\"121\\\",\\\"type\\\":\\\"observable\\\"},val)) : undefined; return this.valueFromJulia[\\\"options_js\\\"]=false}),self),this[\\\"index\\\"].subscribe((function (val){!(this.valueFromJulia[\\\"index\\\"]) ? (WebIO.setval({\\\"name\\\":\\\"index\\\",\\\"scope\\\":\\\"8806014308974700987\\\",\\\"id\\\":\\\"120\\\",\\\"type\\\":\\\"observable\\\"},val)) : undefined; return this.valueFromJulia[\\\"index\\\"]=false}),self)]\\n        \\n    }\\n    self.model = new AppViewModel();\\n    self.valueFromJulia = {};\\n    for (var key in json_data) {\\n        self.valueFromJulia[key] = false;\\n    }\\n    ko.applyBindings(self.model, self.dom);\\n}\\n);\\n    (WebIO.importBlock({\\\"data\\\":[{\\\"name\\\":\\\"knockout\\\",\\\"type\\\":\\\"js\\\",\\\"url\\\":\\\"/assetserver/0314215fc38f87455d25a217f081da9054de2922-knockout.js\\\"},{\\\"name\\\":\\\"knockout_punches\\\",\\\"type\\\":\\\"js\\\",\\\"url\\\":\\\"/assetserver/e7011e89f50940c046e57125bc6c6f723b775b34-knockout_punches.js\\\"}],\\\"type\\\":\\\"async_block\\\"})).then((imports) => handler.apply(this, imports));\\n}\\n\")])], Dict{Symbol, Any}(:className => \"interact-widget\")), Node{WebIO.DOM}(WebIO.DOM(:html, :div), Any[Scope(Node{WebIO.DOM}(WebIO.DOM(:html, :div), Any[Node{WebIO.DOM}(WebIO.DOM(:html, :div), Any[Node{WebIO.DOM}(WebIO.DOM(:html, :label), Any[\"phase_space\"], Dict{Symbol, Any}(:className => \"interact \", :style => Dict{Any, Any}(:padding => \"5px 10px 0px 10px\")))], Dict{Symbol, Any}(:className => \"interact-flex-row-left\")), Node{WebIO.DOM}(WebIO.DOM(:html, :div), Any[Node{WebIO.DOM}(WebIO.DOM(:html, :div), Any[Node{WebIO.DOM}(WebIO.DOM(:html, :span), Any[Node{WebIO.DOM}(WebIO.DOM(:html, :label), Any[], Dict{Symbol, Any}(:attributes => Dict(\"data-bind\" => \"text : key\")))], Dict{Symbol, Any}(:attributes => Dict(\"data-bind\" => \"click: function (){\\$root.update(val)}, css: {'is-primary is-selected' : \\$root.index() == val, 'interact-widget is-medium button ' : true}\")))], Dict{Symbol, Any}(:attributes => (\"data-bind\" => \"foreach : options_js\"), :className => \"buttons has-addons is-centered\"))], Dict{Symbol, Any}(:className => \"interact-flex-row-center\")), Node{WebIO.DOM}(WebIO.DOM(:html, :div), Any[Node{WebIO.DOM}(WebIO.DOM(:html, :div), Any[], Dict{Symbol, Any}())], Dict{Symbol, Any}(:className => \"interact-flex-row-right\"))], Dict{Symbol, Any}(:className => \"interact-flex-row interact-widget\")), Dict{String, Tuple{AbstractObservable, Union{Nothing, Bool}}}(\"options_js\" => (Observable(OrderedDict[OrderedDict{String, Any}(\"key\" => \"(E,pm,Rm)\", \"val\" => 1, \"id\" => \"id7s3vHtm6\"), OrderedDict{String, Any}(\"key\" => \"(E,μ,Pϕ;σ)\", \"val\" => 2, \"id\" => \"idgUFm9JtQ\")]), nothing), \"index\" => (Observable{Any}(1), nothing)), Set{String}(), nothing, Asset[Asset(\"js\", \"knockout\", \"/home/henrikj/.julia/packages/Knockout/HReiN/src/../assets/knockout.js\"), Asset(\"js\", \"knockout_punches\", \"/home/henrikj/.julia/packages/Knockout/HReiN/src/../assets/knockout_punches.js\"), Asset(\"js\", nothing, \"/home/henrikj/.julia/packages/InteractBase/8TTmI/src/../assets/all.js\"), Asset(\"css\", nothing, \"/home/henrikj/.julia/packages/InteractBase/8TTmI/src/../assets/style.css\"), Asset(\"css\", nothing, \"/home/henrikj/.julia/packages/Interact/PENUy/src/../assets/bulma_confined.min.css\")], Dict{Any, Any}(\"options_js\" => Any[WebIO.JSString(\"(function (val){return (val!=this.model[\\\"options_js\\\"]()) ? (this.valueFromJulia[\\\"options_js\\\"]=true, this.model[\\\"options_js\\\"](val)) : undefined})\")], \"index\" => Any[WebIO.JSString(\"(function (val){return (val!=this.model[\\\"index\\\"]()) ? (this.valueFromJulia[\\\"index\\\"]=true, this.model[\\\"index\\\"](val)) : undefined})\")]), WebIO.ConnectionPool(Channel{Any}(32), Set{AbstractConnection}(), Base.GenericCondition{ReentrantLock}(Base.IntrusiveLinkedList{Task}(Task (runnable, started) @0x00007f455ca847e0, Task (runnable, started) @0x00007f455ca847e0), ReentrantLock(nothing, 0x00000000, 0x00, Base.GenericCondition{Base.Threads.SpinLock}(Base.IntrusiveLinkedList{Task}(nothing, nothing), Base.Threads.SpinLock(0)), (0, 0, 432095795792)))), WebIO.JSString[WebIO.JSString(\"function () {\\n    var handler = (function (ko, koPunches) {\\n    ko.punches.enableAll();\\n    ko.bindingHandlers.numericValue = {\\n        init: function(element, valueAccessor, allBindings, data, context) {\\n            var stringified = ko.observable(ko.unwrap(valueAccessor()));\\n            stringified.subscribe(function(value) {\\n                var val = parseFloat(value);\\n                if (!isNaN(val)) {\\n                    valueAccessor()(val);\\n                }\\n            });\\n            valueAccessor().subscribe(function(value) {\\n                var str = JSON.stringify(value);\\n                if ((str == \\\"0\\\") && ([\\\"-0\\\", \\\"-0.\\\"].indexOf(stringified()) >= 0))\\n                     return;\\n                 if ([\\\"null\\\", \\\"\\\"].indexOf(str) >= 0)\\n                     return;\\n                stringified(str);\\n            });\\n            ko.applyBindingsToNode(\\n                element,\\n                {\\n                    value: stringified,\\n                    valueUpdate: allBindings.get('valueUpdate'),\\n                },\\n                context,\\n            );\\n        }\\n    };\\n    var json_data = {\\\"options_js\\\":WebIO.getval({\\\"name\\\":\\\"options_js\\\",\\\"scope\\\":\\\"14285413945006531058\\\",\\\"id\\\":\\\"126\\\",\\\"type\\\":\\\"observable\\\"}),\\\"index\\\":WebIO.getval({\\\"name\\\":\\\"index\\\",\\\"scope\\\":\\\"14285413945006531058\\\",\\\"id\\\":\\\"125\\\",\\\"type\\\":\\\"observable\\\"})};\\n    var self = this;\\n    function AppViewModel() {\\n        for (var key in json_data) {\\n            var el = json_data[key];\\n            this[key] = Array.isArray(el) ? ko.observableArray(el) : ko.observable(el);\\n        }\\n        [this[\\\"update\\\"]=function (val) {this.index(val)}]\\n        \\n        [this[\\\"options_js\\\"].subscribe((function (val){!(this.valueFromJulia[\\\"options_js\\\"]) ? (WebIO.setval({\\\"name\\\":\\\"options_js\\\",\\\"scope\\\":\\\"14285413945006531058\\\",\\\"id\\\":\\\"126\\\",\\\"type\\\":\\\"observable\\\"},val)) : undefined; return this.valueFromJulia[\\\"options_js\\\"]=false}),self),this[\\\"index\\\"].subscribe((function (val){!(this.valueFromJulia[\\\"index\\\"]) ? (WebIO.setval({\\\"name\\\":\\\"index\\\",\\\"scope\\\":\\\"14285413945006531058\\\",\\\"id\\\":\\\"125\\\",\\\"type\\\":\\\"observable\\\"},val)) : undefined; return this.valueFromJulia[\\\"index\\\"]=false}),self)]\\n        \\n    }\\n    self.model = new AppViewModel();\\n    self.valueFromJulia = {};\\n    for (var key in json_data) {\\n        self.valueFromJulia[key] = false;\\n    }\\n    ko.applyBindings(self.model, self.dom);\\n}\\n);\\n    (WebIO.importBlock({\\\"data\\\":[{\\\"name\\\":\\\"knockout\\\",\\\"type\\\":\\\"js\\\",\\\"url\\\":\\\"/assetserver/0314215fc38f87455d25a217f081da9054de2922-knockout.js\\\"},{\\\"name\\\":\\\"knockout_punches\\\",\\\"type\\\":\\\"js\\\",\\\"url\\\":\\\"/assetserver/e7011e89f50940c046e57125bc6c6f723b775b34-knockout_punches.js\\\"}],\\\"type\\\":\\\"async_block\\\"})).then((imports) => handler.apply(this, imports));\\n}\\n\")])], Dict{Symbol, Any}(:className => \"interact-widget\")), Node{WebIO.DOM}(WebIO.DOM(:html, :div), Any[Scope(Node{WebIO.DOM}(WebIO.DOM(:html, :div), Any[Node{WebIO.DOM}(WebIO.DOM(:html, :div), Any[Node{WebIO.DOM}(WebIO.DOM(:html, :label), Any[\"Ed\"], Dict{Symbol, Any}(:className => \"interact \", :style => Dict{Any, Any}(:padding => \"5px 10px 0px 10px\")))], Dict{Symbol, Any}(:className => \"interact-flex-row-left\")), Node{WebIO.DOM}(WebIO.DOM(:html, :div), Any[Node{WebIO.DOM}(WebIO.DOM(:html, :input), Any[], Dict{Symbol, Any}(:max => 19, :min => 1, :attributes => Dict{Any, Any}(:type => \"range\", Symbol(\"data-bind\") => \"numericValue: index, valueUpdate: 'input', event: {change: function (){this.changes(this.changes()+1)}}\", \"orient\" => \"horizontal\"), :step => 1, :className => \"slider slider is-fullwidth\", :style => Dict{Any, Any}()))], Dict{Symbol, Any}(:className => \"interact-flex-row-center\")), Node{WebIO.DOM}(WebIO.DOM(:html, :div), Any[Node{WebIO.DOM}(WebIO.DOM(:html, :p), Any[], Dict{Symbol, Any}(:attributes => Dict(\"data-bind\" => \"text: formatted_val\")))], Dict{Symbol, Any}(:className => \"interact-flex-row-right\"))], Dict{Symbol, Any}(:className => \"interact-flex-row interact-widget\")), Dict{String, Tuple{AbstractObservable, Union{Nothing, Bool}}}(\"changes\" => (Observable(0), nothing), \"index\" => (Observable{Any}(10), nothing)), Set{String}(), nothing, Asset[Asset(\"js\", \"knockout\", \"/home/henrikj/.julia/packages/Knockout/HReiN/src/../assets/knockout.js\"), Asset(\"js\", \"knockout_punches\", \"/home/henrikj/.julia/packages/Knockout/HReiN/src/../assets/knockout_punches.js\"), Asset(\"js\", nothing, \"/home/henrikj/.julia/packages/InteractBase/8TTmI/src/../assets/all.js\"), Asset(\"css\", nothing, \"/home/henrikj/.julia/packages/InteractBase/8TTmI/src/../assets/style.css\"), Asset(\"css\", nothing, \"/home/henrikj/.julia/packages/Interact/PENUy/src/../assets/bulma_confined.min.css\")], Dict{Any, Any}(\"changes\" => Any[WebIO.JSString(\"(function (val){return (val!=this.model[\\\"changes\\\"]()) ? (this.valueFromJulia[\\\"changes\\\"]=true, this.model[\\\"changes\\\"](val)) : undefined})\")], \"index\" => Any[WebIO.JSString(\"(function (val){return (val!=this.model[\\\"index\\\"]()) ? (this.valueFromJulia[\\\"index\\\"]=true, this.model[\\\"index\\\"](val)) : undefined})\")]), WebIO.ConnectionPool(Channel{Any}(32), Set{AbstractConnection}(), Base.GenericCondition{ReentrantLock}(Base.IntrusiveLinkedList{Task}(Task (runnable, started) @0x00007f455ca84970, Task (runnable, started) @0x00007f455ca84970), ReentrantLock(nothing, 0x00000000, 0x00, Base.GenericCondition{Base.Threads.SpinLock}(Base.IntrusiveLinkedList{Task}(nothing, nothing), Base.Threads.SpinLock(0)), (0, -7948008165747130368, 139935827045984)))), WebIO.JSString[WebIO.JSString(\"function () {\\n    var handler = (function (ko, koPunches) {\\n    ko.punches.enableAll();\\n    ko.bindingHandlers.numericValue = {\\n        init: function(element, valueAccessor, allBindings, data, context) {\\n            var stringified = ko.observable(ko.unwrap(valueAccessor()));\\n            stringified.subscribe(function(value) {\\n                var val = parseFloat(value);\\n                if (!isNaN(val)) {\\n                    valueAccessor()(val);\\n                }\\n            });\\n            valueAccessor().subscribe(function(value) {\\n                var str = JSON.stringify(value);\\n                if ((str == \\\"0\\\") && ([\\\"-0\\\", \\\"-0.\\\"].indexOf(stringified()) >= 0))\\n                     return;\\n                 if ([\\\"null\\\", \\\"\\\"].indexOf(str) >= 0)\\n                     return;\\n                stringified(str);\\n            });\\n            ko.applyBindingsToNode(\\n                element,\\n                {\\n                    value: stringified,\\n                    valueUpdate: allBindings.get('valueUpdate'),\\n                },\\n                context,\\n            );\\n        }\\n    };\\n    var json_data = {\\\"formatted_vals\\\":[\\\"4025.0\\\",\\\"4075.0\\\",\\\"4125.0\\\",\\\"4175.0\\\",\\\"4225.0\\\",\\\"4275.0\\\",\\\"4325.0\\\",\\\"4375.0\\\",\\\"4425.0\\\",\\\"4475.0\\\",\\\"4525.0\\\",\\\"4575.0\\\",\\\"4625.0\\\",\\\"4675.0\\\",\\\"4725.0\\\",\\\"4775.0\\\",\\\"4825.0\\\",\\\"4875.0\\\",\\\"4925.0\\\"],\\\"changes\\\":WebIO.getval({\\\"name\\\":\\\"changes\\\",\\\"scope\\\":\\\"17459934805941558468\\\",\\\"id\\\":\\\"129\\\",\\\"type\\\":\\\"observable\\\"}),\\\"index\\\":WebIO.getval({\\\"name\\\":\\\"index\\\",\\\"scope\\\":\\\"17459934805941558468\\\",\\\"id\\\":\\\"128\\\",\\\"type\\\":\\\"observable\\\"})};\\n    var self = this;\\n    function AppViewModel() {\\n        for (var key in json_data) {\\n            var el = json_data[key];\\n            this[key] = Array.isArray(el) ? ko.observableArray(el) : ko.observable(el);\\n        }\\n        \\n        [this[\\\"formatted_val\\\"]=ko.computed(    function(){\\n        return this.formatted_vals()[parseInt(this.index())-(1)];\\n    }\\n,this)]\\n        [this[\\\"changes\\\"].subscribe((function (val){!(this.valueFromJulia[\\\"changes\\\"]) ? (WebIO.setval({\\\"name\\\":\\\"changes\\\",\\\"scope\\\":\\\"17459934805941558468\\\",\\\"id\\\":\\\"129\\\",\\\"type\\\":\\\"observable\\\"},val)) : undefined; return this.valueFromJulia[\\\"changes\\\"]=false}),self),this[\\\"index\\\"].subscribe((function (val){!(this.valueFromJulia[\\\"index\\\"]) ? (WebIO.setval({\\\"name\\\":\\\"index\\\",\\\"scope\\\":\\\"17459934805941558468\\\",\\\"id\\\":\\\"128\\\",\\\"type\\\":\\\"observable\\\"},val)) : undefined; return this.valueFromJulia[\\\"index\\\"]=false}),self)]\\n        \\n    }\\n    self.model = new AppViewModel();\\n    self.valueFromJulia = {};\\n    for (var key in json_data) {\\n        self.valueFromJulia[key] = false;\\n    }\\n    ko.applyBindings(self.model, self.dom);\\n}\\n);\\n    (WebIO.importBlock({\\\"data\\\":[{\\\"name\\\":\\\"knockout\\\",\\\"type\\\":\\\"js\\\",\\\"url\\\":\\\"/assetserver/0314215fc38f87455d25a217f081da9054de2922-knockout.js\\\"},{\\\"name\\\":\\\"knockout_punches\\\",\\\"type\\\":\\\"js\\\",\\\"url\\\":\\\"/assetserver/e7011e89f50940c046e57125bc6c6f723b775b34-knockout_punches.js\\\"}],\\\"type\\\":\\\"async_block\\\"})).then((imports) => handler.apply(this, imports));\\n}\\n\")])], Dict{Symbol, Any}(:className => \"field interact-widget\")), Node{WebIO.DOM}(WebIO.DOM(:html, :div), Any[Scope(Node{WebIO.DOM}(WebIO.DOM(:html, :div), Any[Node{WebIO.DOM}(WebIO.DOM(:html, :div), Any[Node{WebIO.DOM}(WebIO.DOM(:html, :label), Any[\"E\"], Dict{Symbol, Any}(:className => \"interact \", :style => Dict{Any, Any}(:padding => \"5px 10px 0px 10px\")))], Dict{Symbol, Any}(:className => \"interact-flex-row-left\")), Node{WebIO.DOM}(WebIO.DOM(:html, :div), Any[Node{WebIO.DOM}(WebIO.DOM(:html, :input), Any[], Dict{Symbol, Any}(:max => 50, :min => 1, :attributes => Dict{Any, Any}(:type => \"range\", Symbol(\"data-bind\") => \"numericValue: index, valueUpdate: 'input', event: {change: function (){this.changes(this.changes()+1)}}\", \"orient\" => \"horizontal\"), :step => 1, :className => \"slider slider is-fullwidth\", :style => Dict{Any, Any}()))], Dict{Symbol, Any}(:className => \"interact-flex-row-center\")), Node{WebIO.DOM}(WebIO.DOM(:html, :div), Any[Node{WebIO.DOM}(WebIO.DOM(:html, :p), Any[], Dict{Symbol, Any}(:attributes => Dict(\"data-bind\" => \"text: formatted_val\")))], Dict{Symbol, Any}(:className => \"interact-flex-row-right\"))], Dict{Symbol, Any}(:className => \"interact-flex-row interact-widget\")), Dict{String, Tuple{AbstractObservable, Union{Nothing, Bool}}}(\"changes\" => (Observable(0), nothing), \"index\" => (Observable{Any}(25), nothing)), Set{String}(), nothing, Asset[Asset(\"js\", \"knockout\", \"/home/henrikj/.julia/packages/Knockout/HReiN/src/../assets/knockout.js\"), Asset(\"js\", \"knockout_punches\", \"/home/henrikj/.julia/packages/Knockout/HReiN/src/../assets/knockout_punches.js\"), Asset(\"js\", nothing, \"/home/henrikj/.julia/packages/InteractBase/8TTmI/src/../assets/all.js\"), Asset(\"css\", nothing, \"/home/henrikj/.julia/packages/InteractBase/8TTmI/src/../assets/style.css\"), Asset(\"css\", nothing, \"/home/henrikj/.julia/packages/Interact/PENUy/src/../assets/bulma_confined.min.css\")], Dict{Any, Any}(\"changes\" => Any[WebIO.JSString(\"(function (val){return (val!=this.model[\\\"changes\\\"]()) ? (this.valueFromJulia[\\\"changes\\\"]=true, this.model[\\\"changes\\\"](val)) : undefined})\")], \"index\" => Any[WebIO.JSString(\"(function (val){return (val!=this.model[\\\"index\\\"]()) ? (this.valueFromJulia[\\\"index\\\"]=true, this.model[\\\"index\\\"](val)) : undefined})\")]), WebIO.ConnectionPool(Channel{Any}(32), Set{AbstractConnection}(), Base.GenericCondition{ReentrantLock}(Base.IntrusiveLinkedList{Task}(Task (runnable, started) @0x00007f455ca84b00, Task (runnable, started) @0x00007f455ca84b00), ReentrantLock(nothing, 0x00000000, 0x00, Base.GenericCondition{Base.Threads.SpinLock}(Base.IntrusiveLinkedList{Task}(nothing, nothing), Base.Threads.SpinLock(0)), (3761127339068908132, 3834644891207688499, 139938637611109)))), WebIO.JSString[WebIO.JSString(\"function () {\\n    var handler = (function (ko, koPunches) {\\n    ko.punches.enableAll();\\n    ko.bindingHandlers.numericValue = {\\n        init: function(element, valueAccessor, allBindings, data, context) {\\n            var stringified = ko.observable(ko.unwrap(valueAccessor()));\\n            stringified.subscribe(function(value) {\\n                var val = parseFloat(value);\\n                if (!isNaN(val)) {\\n                    valueAccessor()(val);\\n                }\\n            });\\n            valueAccessor().subscribe(function(value) {\\n                var str = JSON.stringify(value);\\n                if ((str == \\\"0\\\") && ([\\\"-0\\\", \\\"-0.\\\"].indexOf(stringified()) >= 0))\\n                     return;\\n                 if ([\\\"null\\\", \\\"\\\"].indexOf(str) >= 0)\\n                     return;\\n                stringified(str);\\n            });\\n            ko.applyBindingsToNode(\\n                element,\\n                {\\n                    value: stringified,\\n                    valueUpdate: allBindings.get('valueUpdate'),\\n                },\\n                context,\\n            );\\n        }\\n    };\\n    var json_data = {\\\"formatted_vals\\\":[\\\"0.0\\\",\\\"81.6327\\\",\\\"163.265\\\",\\\"244.898\\\",\\\"326.531\\\",\\\"408.163\\\",\\\"489.796\\\",\\\"571.429\\\",\\\"653.061\\\",\\\"734.694\\\",\\\"816.327\\\",\\\"897.959\\\",\\\"979.592\\\",\\\"1061.22\\\",\\\"1142.86\\\",\\\"1224.49\\\",\\\"1306.12\\\",\\\"1387.76\\\",\\\"1469.39\\\",\\\"1551.02\\\",\\\"1632.65\\\",\\\"1714.29\\\",\\\"1795.92\\\",\\\"1877.55\\\",\\\"1959.18\\\",\\\"2040.82\\\",\\\"2122.45\\\",\\\"2204.08\\\",\\\"2285.71\\\",\\\"2367.35\\\",\\\"2448.98\\\",\\\"2530.61\\\",\\\"2612.24\\\",\\\"2693.88\\\",\\\"2775.51\\\",\\\"2857.14\\\",\\\"2938.78\\\",\\\"3020.41\\\",\\\"3102.04\\\",\\\"3183.67\\\",\\\"3265.31\\\",\\\"3346.94\\\",\\\"3428.57\\\",\\\"3510.2\\\",\\\"3591.84\\\",\\\"3673.47\\\",\\\"3755.1\\\",\\\"3836.73\\\",\\\"3918.37\\\",\\\"4000.0\\\"],\\\"changes\\\":WebIO.getval({\\\"name\\\":\\\"changes\\\",\\\"scope\\\":\\\"9825452884093374038\\\",\\\"id\\\":\\\"132\\\",\\\"type\\\":\\\"observable\\\"}),\\\"index\\\":WebIO.getval({\\\"name\\\":\\\"index\\\",\\\"scope\\\":\\\"9825452884093374038\\\",\\\"id\\\":\\\"131\\\",\\\"type\\\":\\\"observable\\\"})};\\n    var self = this;\\n    function AppViewModel() {\\n        for (var key in json_data) {\\n            var el = json_data[key];\\n            this[key] = Array.isArray(el) ? ko.observableArray(el) : ko.observable(el);\\n        }\\n        \\n        [this[\\\"formatted_val\\\"]=ko.computed(    function(){\\n        return this.formatted_vals()[parseInt(this.index())-(1)];\\n    }\\n,this)]\\n        [this[\\\"changes\\\"].subscribe((function (val){!(this.valueFromJulia[\\\"changes\\\"]) ? (WebIO.setval({\\\"name\\\":\\\"changes\\\",\\\"scope\\\":\\\"9825452884093374038\\\",\\\"id\\\":\\\"132\\\",\\\"type\\\":\\\"observable\\\"},val)) : undefined; return this.valueFromJulia[\\\"changes\\\"]=false}),self),this[\\\"index\\\"].subscribe((function (val){!(this.valueFromJulia[\\\"index\\\"]) ? (WebIO.setval({\\\"name\\\":\\\"index\\\",\\\"scope\\\":\\\"9825452884093374038\\\",\\\"id\\\":\\\"131\\\",\\\"type\\\":\\\"observable\\\"},val)) : undefined; return this.valueFromJulia[\\\"index\\\"]=false}),self)]\\n        \\n    }\\n    self.model = new AppViewModel();\\n    self.valueFromJulia = {};\\n    for (var key in json_data) {\\n        self.valueFromJulia[key] = false;\\n    }\\n    ko.applyBindings(self.model, self.dom);\\n}\\n);\\n    (WebIO.importBlock({\\\"data\\\":[{\\\"name\\\":\\\"knockout\\\",\\\"type\\\":\\\"js\\\",\\\"url\\\":\\\"/assetserver/0314215fc38f87455d25a217f081da9054de2922-knockout.js\\\"},{\\\"name\\\":\\\"knockout_punches\\\",\\\"type\\\":\\\"js\\\",\\\"url\\\":\\\"/assetserver/e7011e89f50940c046e57125bc6c6f723b775b34-knockout_punches.js\\\"}],\\\"type\\\":\\\"async_block\\\"})).then((imports) => handler.apply(this, imports));\\n}\\n\")])], Dict{Symbol, Any}(:className => \"field interact-widget\")), Node{WebIO.DOM}(WebIO.DOM(:html, :div), Any[Scope(Node{WebIO.DOM}(WebIO.DOM(:html, :div), Any[Node{WebIO.DOM}(WebIO.DOM(:html, :div), Any[Node{WebIO.DOM}(WebIO.DOM(:html, :label), Any[\"pm\"], Dict{Symbol, Any}(:className => \"interact \", :style => Dict{Any, Any}(:padding => \"5px 10px 0px 10px\")))], Dict{Symbol, Any}(:className => \"interact-flex-row-left\")), Node{WebIO.DOM}(WebIO.DOM(:html, :div), Any[Node{WebIO.DOM}(WebIO.DOM(:html, :input), Any[], Dict{Symbol, Any}(:max => 50, :min => 1, :attributes => Dict{Any, Any}(:type => \"range\", Symbol(\"data-bind\") => \"numericValue: index, valueUpdate: 'input', event: {change: function (){this.changes(this.changes()+1)}}\", \"orient\" => \"horizontal\"), :step => 1, :className => \"slider slider is-fullwidth\", :style => Dict{Any, Any}()))], Dict{Symbol, Any}(:className => \"interact-flex-row-center\")), Node{WebIO.DOM}(WebIO.DOM(:html, :div), Any[Node{WebIO.DOM}(WebIO.DOM(:html, :p), Any[], Dict{Symbol, Any}(:attributes => Dict(\"data-bind\" => \"text: formatted_val\")))], Dict{Symbol, Any}(:className => \"interact-flex-row-right\"))], Dict{Symbol, Any}(:className => \"interact-flex-row interact-widget\")), Dict{String, Tuple{AbstractObservable, Union{Nothing, Bool}}}(\"changes\" => (Observable(0), nothing), \"index\" => (Observable{Any}(25), nothing)), Set{String}(), nothing, Asset[Asset(\"js\", \"knockout\", \"/home/henrikj/.julia/packages/Knockout/HReiN/src/../assets/knockout.js\"), Asset(\"js\", \"knockout_punches\", \"/home/henrikj/.julia/packages/Knockout/HReiN/src/../assets/knockout_punches.js\"), Asset(\"js\", nothing, \"/home/henrikj/.julia/packages/InteractBase/8TTmI/src/../assets/all.js\"), Asset(\"css\", nothing, \"/home/henrikj/.julia/packages/InteractBase/8TTmI/src/../assets/style.css\"), Asset(\"css\", nothing, \"/home/henrikj/.julia/packages/Interact/PENUy/src/../assets/bulma_confined.min.css\")], Dict{Any, Any}(\"changes\" => Any[WebIO.JSString(\"(function (val){return (val!=this.model[\\\"changes\\\"]()) ? (this.valueFromJulia[\\\"changes\\\"]=true, this.model[\\\"changes\\\"](val)) : undefined})\")], \"index\" => Any[WebIO.JSString(\"(function (val){return (val!=this.model[\\\"index\\\"]()) ? (this.valueFromJulia[\\\"index\\\"]=true, this.model[\\\"index\\\"](val)) : undefined})\")]), WebIO.ConnectionPool(Channel{Any}(32), Set{AbstractConnection}(), Base.GenericCondition{ReentrantLock}(Base.IntrusiveLinkedList{Task}(Task (runnable, started) @0x00007f455ca84c90, Task (runnable, started) @0x00007f455ca84c90), ReentrantLock(nothing, 0x00000000, 0x00, Base.GenericCondition{Base.Threads.SpinLock}(Base.IntrusiveLinkedList{Task}(nothing, nothing), Base.Threads.SpinLock(0)), (0, 0, 4613939063137047815)))), WebIO.JSString[WebIO.JSString(\"function () {\\n    var handler = (function (ko, koPunches) {\\n    ko.punches.enableAll();\\n    ko.bindingHandlers.numericValue = {\\n        init: function(element, valueAccessor, allBindings, data, context) {\\n            var stringified = ko.observable(ko.unwrap(valueAccessor()));\\n            stringified.subscribe(function(value) {\\n                var val = parseFloat(value);\\n                if (!isNaN(val)) {\\n                    valueAccessor()(val);\\n                }\\n            });\\n            valueAccessor().subscribe(function(value) {\\n                var str = JSON.stringify(value);\\n                if ((str == \\\"0\\\") && ([\\\"-0\\\", \\\"-0.\\\"].indexOf(stringified()) >= 0))\\n                     return;\\n                 if ([\\\"null\\\", \\\"\\\"].indexOf(str) >= 0)\\n                     return;\\n                stringified(str);\\n            });\\n            ko.applyBindingsToNode(\\n                element,\\n                {\\n                    value: stringified,\\n                    valueUpdate: allBindings.get('valueUpdate'),\\n                },\\n                context,\\n            );\\n        }\\n    };\\n    var json_data = {\\\"formatted_vals\\\":[\\\"-1.0\\\",\\\"-0.959184\\\",\\\"-0.918367\\\",\\\"-0.877551\\\",\\\"-0.836735\\\",\\\"-0.795918\\\",\\\"-0.755102\\\",\\\"-0.714286\\\",\\\"-0.673469\\\",\\\"-0.632653\\\",\\\"-0.591837\\\",\\\"-0.55102\\\",\\\"-0.510204\\\",\\\"-0.469388\\\",\\\"-0.428571\\\",\\\"-0.387755\\\",\\\"-0.346939\\\",\\\"-0.306122\\\",\\\"-0.265306\\\",\\\"-0.22449\\\",\\\"-0.183673\\\",\\\"-0.142857\\\",\\\"-0.102041\\\",\\\"-0.0612245\\\",\\\"-0.0204082\\\",\\\"0.0204082\\\",\\\"0.0612245\\\",\\\"0.102041\\\",\\\"0.142857\\\",\\\"0.183673\\\",\\\"0.22449\\\",\\\"0.265306\\\",\\\"0.306122\\\",\\\"0.346939\\\",\\\"0.387755\\\",\\\"0.428571\\\",\\\"0.469388\\\",\\\"0.510204\\\",\\\"0.55102\\\",\\\"0.591837\\\",\\\"0.632653\\\",\\\"0.673469\\\",\\\"0.714286\\\",\\\"0.755102\\\",\\\"0.795918\\\",\\\"0.836735\\\",\\\"0.877551\\\",\\\"0.918367\\\",\\\"0.959184\\\",\\\"1.0\\\"],\\\"changes\\\":WebIO.getval({\\\"name\\\":\\\"changes\\\",\\\"scope\\\":\\\"17650277609722783127\\\",\\\"id\\\":\\\"135\\\",\\\"type\\\":\\\"observable\\\"}),\\\"index\\\":WebIO.getval({\\\"name\\\":\\\"index\\\",\\\"scope\\\":\\\"17650277609722783127\\\",\\\"id\\\":\\\"134\\\",\\\"type\\\":\\\"observable\\\"})};\\n    var self = this;\\n    function AppViewModel() {\\n        for (var key in json_data) {\\n            var el = json_data[key];\\n            this[key] = Array.isArray(el) ? ko.observableArray(el) : ko.observable(el);\\n        }\\n        \\n        [this[\\\"formatted_val\\\"]=ko.computed(    function(){\\n        return this.formatted_vals()[parseInt(this.index())-(1)];\\n    }\\n,this)]\\n        [this[\\\"changes\\\"].subscribe((function (val){!(this.valueFromJulia[\\\"changes\\\"]) ? (WebIO.setval({\\\"name\\\":\\\"changes\\\",\\\"scope\\\":\\\"17650277609722783127\\\",\\\"id\\\":\\\"135\\\",\\\"type\\\":\\\"observable\\\"},val)) : undefined; return this.valueFromJulia[\\\"changes\\\"]=false}),self),this[\\\"index\\\"].subscribe((function (val){!(this.valueFromJulia[\\\"index\\\"]) ? (WebIO.setval({\\\"name\\\":\\\"index\\\",\\\"scope\\\":\\\"17650277609722783127\\\",\\\"id\\\":\\\"134\\\",\\\"type\\\":\\\"observable\\\"},val)) : undefined; return this.valueFromJulia[\\\"index\\\"]=false}),self)]\\n        \\n    }\\n    self.model = new AppViewModel();\\n    self.valueFromJulia = {};\\n    for (var key in json_data) {\\n        self.valueFromJulia[key] = false;\\n    }\\n    ko.applyBindings(self.model, self.dom);\\n}\\n);\\n    (WebIO.importBlock({\\\"data\\\":[{\\\"name\\\":\\\"knockout\\\",\\\"type\\\":\\\"js\\\",\\\"url\\\":\\\"/assetserver/0314215fc38f87455d25a217f081da9054de2922-knockout.js\\\"},{\\\"name\\\":\\\"knockout_punches\\\",\\\"type\\\":\\\"js\\\",\\\"url\\\":\\\"/assetserver/e7011e89f50940c046e57125bc6c6f723b775b34-knockout_punches.js\\\"}],\\\"type\\\":\\\"async_block\\\"})).then((imports) => handler.apply(this, imports));\\n}\\n\")])], Dict{Symbol, Any}(:className => \"field interact-widget\")), Node{WebIO.DOM}(WebIO.DOM(:html, :div), Any[Scope(Node{WebIO.DOM}(WebIO.DOM(:html, :div), Any[Node{WebIO.DOM}(WebIO.DOM(:html, :div), Any[Node{WebIO.DOM}(WebIO.DOM(:html, :label), Any[\"Rm\"], Dict{Symbol, Any}(:className => \"interact \", :style => Dict{Any, Any}(:padding => \"5px 10px 0px 10px\")))], Dict{Symbol, Any}(:className => \"interact-flex-row-left\")), Node{WebIO.DOM}(WebIO.DOM(:html, :div), Any[Node{WebIO.DOM}(WebIO.DOM(:html, :input), Any[], Dict{Symbol, Any}(:max => 50, :min => 1, :attributes => Dict{Any, Any}(:type => \"range\", Symbol(\"data-bind\") => \"numericValue: index, valueUpdate: 'input', event: {change: function (){this.changes(this.changes()+1)}}\", \"orient\" => \"horizontal\"), :step => 1, :className => \"slider slider is-fullwidth\", :style => Dict{Any, Any}()))], Dict{Symbol, Any}(:className => \"interact-flex-row-center\")), Node{WebIO.DOM}(WebIO.DOM(:html, :div), Any[Node{WebIO.DOM}(WebIO.DOM(:html, :p), Any[], Dict{Symbol, Any}(:attributes => Dict(\"data-bind\" => \"text: formatted_val\")))], Dict{Symbol, Any}(:className => \"interact-flex-row-right\"))], Dict{Symbol, Any}(:className => \"interact-flex-row interact-widget\")), Dict{String, Tuple{AbstractObservable, Union{Nothing, Bool}}}(\"changes\" => (Observable(0), nothing), \"index\" => (Observable{Any}(25), nothing)), Set{String}(), nothing, Asset[Asset(\"js\", \"knockout\", \"/home/henrikj/.julia/packages/Knockout/HReiN/src/../assets/knockout.js\"), Asset(\"js\", \"knockout_punches\", \"/home/henrikj/.julia/packages/Knockout/HReiN/src/../assets/knockout_punches.js\"), Asset(\"js\", nothing, \"/home/henrikj/.julia/packages/InteractBase/8TTmI/src/../assets/all.js\"), Asset(\"css\", nothing, \"/home/henrikj/.julia/packages/InteractBase/8TTmI/src/../assets/style.css\"), Asset(\"css\", nothing, \"/home/henrikj/.julia/packages/Interact/PENUy/src/../assets/bulma_confined.min.css\")], Dict{Any, Any}(\"changes\" => Any[WebIO.JSString(\"(function (val){return (val!=this.model[\\\"changes\\\"]()) ? (this.valueFromJulia[\\\"changes\\\"]=true, this.model[\\\"changes\\\"](val)) : undefined})\")], \"index\" => Any[WebIO.JSString(\"(function (val){return (val!=this.model[\\\"index\\\"]()) ? (this.valueFromJulia[\\\"index\\\"]=true, this.model[\\\"index\\\"](val)) : undefined})\")]), WebIO.ConnectionPool(Channel{Any}(32), Set{AbstractConnection}(), Base.GenericCondition{ReentrantLock}(Base.IntrusiveLinkedList{Task}(Task (runnable, started) @0x00007f455ca84e20, Task (runnable, started) @0x00007f455ca84e20), ReentrantLock(nothing, 0x00000000, 0x00, Base.GenericCondition{Base.Threads.SpinLock}(Base.IntrusiveLinkedList{Task}(nothing, nothing), Base.Threads.SpinLock(0)), (7017221086331876397, 7221914945576579128, 139939391930418)))), WebIO.JSString[WebIO.JSString(\"function () {\\n    var handler = (function (ko, koPunches) {\\n    ko.punches.enableAll();\\n    ko.bindingHandlers.numericValue = {\\n        init: function(element, valueAccessor, allBindings, data, context) {\\n            var stringified = ko.observable(ko.unwrap(valueAccessor()));\\n            stringified.subscribe(function(value) {\\n                var val = parseFloat(value);\\n                if (!isNaN(val)) {\\n                    valueAccessor()(val);\\n                }\\n            });\\n            valueAccessor().subscribe(function(value) {\\n                var str = JSON.stringify(value);\\n                if ((str == \\\"0\\\") && ([\\\"-0\\\", \\\"-0.\\\"].indexOf(stringified()) >= 0))\\n                     return;\\n                 if ([\\\"null\\\", \\\"\\\"].indexOf(str) >= 0)\\n                     return;\\n                stringified(str);\\n            });\\n            ko.applyBindingsToNode(\\n                element,\\n                {\\n                    value: stringified,\\n                    valueUpdate: allBindings.get('valueUpdate'),\\n                },\\n                context,\\n            );\\n        }\\n    };\\n    var json_data = {\\\"formatted_vals\\\":[\\\"2.76723\\\",\\\"2.79017\\\",\\\"2.81311\\\",\\\"2.83606\\\",\\\"2.859\\\",\\\"2.88194\\\",\\\"2.90489\\\",\\\"2.92783\\\",\\\"2.95077\\\",\\\"2.97372\\\",\\\"2.99666\\\",\\\"3.0196\\\",\\\"3.04255\\\",\\\"3.06549\\\",\\\"3.08843\\\",\\\"3.11137\\\",\\\"3.13432\\\",\\\"3.15726\\\",\\\"3.1802\\\",\\\"3.20315\\\",\\\"3.22609\\\",\\\"3.24903\\\",\\\"3.27198\\\",\\\"3.29492\\\",\\\"3.31786\\\",\\\"3.34081\\\",\\\"3.36375\\\",\\\"3.38669\\\",\\\"3.40963\\\",\\\"3.43258\\\",\\\"3.45552\\\",\\\"3.47846\\\",\\\"3.50141\\\",\\\"3.52435\\\",\\\"3.54729\\\",\\\"3.57024\\\",\\\"3.59318\\\",\\\"3.61612\\\",\\\"3.63907\\\",\\\"3.66201\\\",\\\"3.68495\\\",\\\"3.7079\\\",\\\"3.73084\\\",\\\"3.75378\\\",\\\"3.77672\\\",\\\"3.79967\\\",\\\"3.82261\\\",\\\"3.84555\\\",\\\"3.8685\\\",\\\"3.89144\\\"],\\\"changes\\\":WebIO.getval({\\\"name\\\":\\\"changes\\\",\\\"scope\\\":\\\"10520908209616695256\\\",\\\"id\\\":\\\"138\\\",\\\"type\\\":\\\"observable\\\"}),\\\"index\\\":WebIO.getval({\\\"name\\\":\\\"index\\\",\\\"scope\\\":\\\"10520908209616695256\\\",\\\"id\\\":\\\"137\\\",\\\"type\\\":\\\"observable\\\"})};\\n    var self = this;\\n    function AppViewModel() {\\n        for (var key in json_data) {\\n            var el = json_data[key];\\n            this[key] = Array.isArray(el) ? ko.observableArray(el) : ko.observable(el);\\n        }\\n        \\n        [this[\\\"formatted_val\\\"]=ko.computed(    function(){\\n        return this.formatted_vals()[parseInt(this.index())-(1)];\\n    }\\n,this)]\\n        [this[\\\"changes\\\"].subscribe((function (val){!(this.valueFromJulia[\\\"changes\\\"]) ? (WebIO.setval({\\\"name\\\":\\\"changes\\\",\\\"scope\\\":\\\"10520908209616695256\\\",\\\"id\\\":\\\"138\\\",\\\"type\\\":\\\"observable\\\"},val)) : undefined; return this.valueFromJulia[\\\"changes\\\"]=false}),self),this[\\\"index\\\"].subscribe((function (val){!(this.valueFromJulia[\\\"index\\\"]) ? (WebIO.setval({\\\"name\\\":\\\"index\\\",\\\"scope\\\":\\\"10520908209616695256\\\",\\\"id\\\":\\\"137\\\",\\\"type\\\":\\\"observable\\\"},val)) : undefined; return this.valueFromJulia[\\\"index\\\"]=false}),self)]\\n        \\n    }\\n    self.model = new AppViewModel();\\n    self.valueFromJulia = {};\\n    for (var key in json_data) {\\n        self.valueFromJulia[key] = false;\\n    }\\n    ko.applyBindings(self.model, self.dom);\\n}\\n);\\n    (WebIO.importBlock({\\\"data\\\":[{\\\"name\\\":\\\"knockout\\\",\\\"type\\\":\\\"js\\\",\\\"url\\\":\\\"/assetserver/0314215fc38f87455d25a217f081da9054de2922-knockout.js\\\"},{\\\"name\\\":\\\"knockout_punches\\\",\\\"type\\\":\\\"js\\\",\\\"url\\\":\\\"/assetserver/e7011e89f50940c046e57125bc6c6f723b775b34-knockout_punches.js\\\"}],\\\"type\\\":\\\"async_block\\\"})).then((imports) => handler.apply(this, imports));\\n}\\n\")])], Dict{Symbol, Any}(:className => \"field interact-widget\")), Node{WebIO.DOM}(WebIO.DOM(:html, :div), Any[Scope(Node{WebIO.DOM}(WebIO.DOM(:html, :div), Any[Node{WebIO.DOM}(WebIO.DOM(:html, :div), Any[Node{WebIO.DOM}(WebIO.DOM(:html, :label), Any[\"irec\"], Dict{Symbol, Any}(:className => \"interact \", :style => Dict{Any, Any}(:padding => \"5px 10px 0px 10px\")))], Dict{Symbol, Any}(:className => \"interact-flex-row-left\")), Node{WebIO.DOM}(WebIO.DOM(:html, :div), Any[Node{WebIO.DOM}(WebIO.DOM(:html, :input), Any[], Dict{Symbol, Any}(:max => 1, :min => 1, :attributes => Dict{Any, Any}(:type => \"range\", Symbol(\"data-bind\") => \"numericValue: index, valueUpdate: 'input', event: {change: function (){this.changes(this.changes()+1)}}\", \"orient\" => \"horizontal\"), :step => 1, :className => \"slider slider is-fullwidth\", :style => Dict{Any, Any}()))], Dict{Symbol, Any}(:className => \"interact-flex-row-center\")), Node{WebIO.DOM}(WebIO.DOM(:html, :div), Any[Node{WebIO.DOM}(WebIO.DOM(:html, :p), Any[], Dict{Symbol, Any}(:attributes => Dict(\"data-bind\" => \"text: formatted_val\")))], Dict{Symbol, Any}(:className => \"interact-flex-row-right\"))], Dict{Symbol, Any}(:className => \"interact-flex-row interact-widget\")), Dict{String, Tuple{AbstractObservable, Union{Nothing, Bool}}}(\"changes\" => (Observable(0), nothing), \"index\" => (Observable{Any}(1), nothing)), Set{String}(), nothing, Asset[Asset(\"js\", \"knockout\", \"/home/henrikj/.julia/packages/Knockout/HReiN/src/../assets/knockout.js\"), Asset(\"js\", \"knockout_punches\", \"/home/henrikj/.julia/packages/Knockout/HReiN/src/../assets/knockout_punches.js\"), Asset(\"js\", nothing, \"/home/henrikj/.julia/packages/InteractBase/8TTmI/src/../assets/all.js\"), Asset(\"css\", nothing, \"/home/henrikj/.julia/packages/InteractBase/8TTmI/src/../assets/style.css\"), Asset(\"css\", nothing, \"/home/henrikj/.julia/packages/Interact/PENUy/src/../assets/bulma_confined.min.css\")], Dict{Any, Any}(\"changes\" => Any[WebIO.JSString(\"(function (val){return (val!=this.model[\\\"changes\\\"]()) ? (this.valueFromJulia[\\\"changes\\\"]=true, this.model[\\\"changes\\\"](val)) : undefined})\")], \"index\" => Any[WebIO.JSString(\"(function (val){return (val!=this.model[\\\"index\\\"]()) ? (this.valueFromJulia[\\\"index\\\"]=true, this.model[\\\"index\\\"](val)) : undefined})\")]), WebIO.ConnectionPool(Channel{Any}(32), Set{AbstractConnection}(), Base.GenericCondition{ReentrantLock}(Base.IntrusiveLinkedList{Task}(Task (runnable, started) @0x00007f455ca84fb0, Task (runnable, started) @0x00007f455ca84fb0), ReentrantLock(nothing, 0x00000000, 0x00, Base.GenericCondition{Base.Threads.SpinLock}(Base.IntrusiveLinkedList{Task}(nothing, nothing), Base.Threads.SpinLock(0)), (0, -7948008165747130368, 144336173941)))), WebIO.JSString[WebIO.JSString(\"function () {\\n    var handler = (function (ko, koPunches) {\\n    ko.punches.enableAll();\\n    ko.bindingHandlers.numericValue = {\\n        init: function(element, valueAccessor, allBindings, data, context) {\\n            var stringified = ko.observable(ko.unwrap(valueAccessor()));\\n            stringified.subscribe(function(value) {\\n                var val = parseFloat(value);\\n                if (!isNaN(val)) {\\n                    valueAccessor()(val);\\n                }\\n            });\\n            valueAccessor().subscribe(function(value) {\\n                var str = JSON.stringify(value);\\n                if ((str == \\\"0\\\") && ([\\\"-0\\\", \\\"-0.\\\"].indexOf(stringified()) >= 0))\\n                     return;\\n                 if ([\\\"null\\\", \\\"\\\"].indexOf(str) >= 0)\\n                     return;\\n                stringified(str);\\n            });\\n            ko.applyBindingsToNode(\\n                element,\\n                {\\n                    value: stringified,\\n                    valueUpdate: allBindings.get('valueUpdate'),\\n                },\\n                context,\\n            );\\n        }\\n    };\\n    var json_data = {\\\"formatted_vals\\\":[\\\"1\\\"],\\\"changes\\\":WebIO.getval({\\\"name\\\":\\\"changes\\\",\\\"scope\\\":\\\"16235282034041118110\\\",\\\"id\\\":\\\"141\\\",\\\"type\\\":\\\"observable\\\"}),\\\"index\\\":WebIO.getval({\\\"name\\\":\\\"index\\\",\\\"scope\\\":\\\"16235282034041118110\\\",\\\"id\\\":\\\"140\\\",\\\"type\\\":\\\"observable\\\"})};\\n    var self = this;\\n    function AppViewModel() {\\n        for (var key in json_data) {\\n            var el = json_data[key];\\n            this[key] = Array.isArray(el) ? ko.observableArray(el) : ko.observable(el);\\n        }\\n        \\n        [this[\\\"formatted_val\\\"]=ko.computed(    function(){\\n        return this.formatted_vals()[parseInt(this.index())-(1)];\\n    }\\n,this)]\\n        [this[\\\"changes\\\"].subscribe((function (val){!(this.valueFromJulia[\\\"changes\\\"]) ? (WebIO.setval({\\\"name\\\":\\\"changes\\\",\\\"scope\\\":\\\"16235282034041118110\\\",\\\"id\\\":\\\"141\\\",\\\"type\\\":\\\"observable\\\"},val)) : undefined; return this.valueFromJulia[\\\"changes\\\"]=false}),self),this[\\\"index\\\"].subscribe((function (val){!(this.valueFromJulia[\\\"index\\\"]) ? (WebIO.setval({\\\"name\\\":\\\"index\\\",\\\"scope\\\":\\\"16235282034041118110\\\",\\\"id\\\":\\\"140\\\",\\\"type\\\":\\\"observable\\\"},val)) : undefined; return this.valueFromJulia[\\\"index\\\"]=false}),self)]\\n        \\n    }\\n    self.model = new AppViewModel();\\n    self.valueFromJulia = {};\\n    for (var key in json_data) {\\n        self.valueFromJulia[key] = false;\\n    }\\n    ko.applyBindings(self.model, self.dom);\\n}\\n);\\n    (WebIO.importBlock({\\\"data\\\":[{\\\"name\\\":\\\"knockout\\\",\\\"type\\\":\\\"js\\\",\\\"url\\\":\\\"/assetserver/0314215fc38f87455d25a217f081da9054de2922-knockout.js\\\"},{\\\"name\\\":\\\"knockout_punches\\\",\\\"type\\\":\\\"js\\\",\\\"url\\\":\\\"/assetserver/e7011e89f50940c046e57125bc6c6f723b775b34-knockout_punches.js\\\"}],\\\"type\\\":\\\"async_block\\\"})).then((imports) => handler.apply(this, imports));\\n}\\n\")])], Dict{Symbol, Any}(:className => \"field interact-widget\")), Node{WebIO.DOM}(WebIO.DOM(:html, :div), Any[Scope(Node{WebIO.DOM}(WebIO.DOM(:html, :div), Any[Node{WebIO.DOM}(WebIO.DOM(:html, :div), Any[Node{WebIO.DOM}(WebIO.DOM(:html, :label), Any[\"save_plots\"], Dict{Symbol, Any}(:className => \"interact \", :style => Dict{Any, Any}(:padding => \"5px 10px 0px 10px\")))], Dict{Symbol, Any}(:className => \"interact-flex-row-left\")), Node{WebIO.DOM}(WebIO.DOM(:html, :div), Any[Node{WebIO.DOM}(WebIO.DOM(:html, :div), Any[Node{WebIO.DOM}(WebIO.DOM(:html, :span), Any[Node{WebIO.DOM}(WebIO.DOM(:html, :label), Any[], Dict{Symbol, Any}(:attributes => Dict(\"data-bind\" => \"text : key\")))], Dict{Symbol, Any}(:attributes => Dict(\"data-bind\" => \"click: function (){\\$root.update(val)}, css: {'is-primary is-selected' : \\$root.index() == val, 'interact-widget is-medium button ' : true}\")))], Dict{Symbol, Any}(:attributes => (\"data-bind\" => \"foreach : options_js\"), :className => \"buttons has-addons is-centered\"))], Dict{Symbol, Any}(:className => \"interact-flex-row-center\")), Node{WebIO.DOM}(WebIO.DOM(:html, :div), Any[Node{WebIO.DOM}(WebIO.DOM(:html, :div), Any[], Dict{Symbol, Any}())], Dict{Symbol, Any}(:className => \"interact-flex-row-right\"))], Dict{Symbol, Any}(:className => \"interact-flex-row interact-widget\")), Dict{String, Tuple{AbstractObservable, Union{Nothing, Bool}}}(\"options_js\" => (Observable(OrderedDict[OrderedDict{String, Any}(\"key\" => \"off\", \"val\" => 1, \"id\" => \"idSTboigPC\"), OrderedDict{String, Any}(\"key\" => \"on\", \"val\" => 2, \"id\" => \"id0cjl0Ikh\")]), nothing), \"index\" => (Observable{Any}(1), nothing)), Set{String}(), nothing, Asset[Asset(\"js\", \"knockout\", \"/home/henrikj/.julia/packages/Knockout/HReiN/src/../assets/knockout.js\"), Asset(\"js\", \"knockout_punches\", \"/home/henrikj/.julia/packages/Knockout/HReiN/src/../assets/knockout_punches.js\"), Asset(\"js\", nothing, \"/home/henrikj/.julia/packages/InteractBase/8TTmI/src/../assets/all.js\"), Asset(\"css\", nothing, \"/home/henrikj/.julia/packages/InteractBase/8TTmI/src/../assets/style.css\"), Asset(\"css\", nothing, \"/home/henrikj/.julia/packages/Interact/PENUy/src/../assets/bulma_confined.min.css\")], Dict{Any, Any}(\"options_js\" => Any[WebIO.JSString(\"(function (val){return (val!=this.model[\\\"options_js\\\"]()) ? (this.valueFromJulia[\\\"options_js\\\"]=true, this.model[\\\"options_js\\\"](val)) : undefined})\")], \"index\" => Any[WebIO.JSString(\"(function (val){return (val!=this.model[\\\"index\\\"]()) ? (this.valueFromJulia[\\\"index\\\"]=true, this.model[\\\"index\\\"](val)) : undefined})\")]), WebIO.ConnectionPool(Channel{Any}(32), Set{AbstractConnection}(), Base.GenericCondition{ReentrantLock}(Base.IntrusiveLinkedList{Task}(Task (runnable, started) @0x00007f455ca85140, Task (runnable, started) @0x00007f455ca85140), ReentrantLock(nothing, 0x00000000, 0x00, Base.GenericCondition{Base.Threads.SpinLock}(Base.IntrusiveLinkedList{Task}(nothing, nothing), Base.Threads.SpinLock(0)), (4586093308756485418, 0, 139939221325792)))), WebIO.JSString[WebIO.JSString(\"function () {\\n    var handler = (function (ko, koPunches) {\\n    ko.punches.enableAll();\\n    ko.bindingHandlers.numericValue = {\\n        init: function(element, valueAccessor, allBindings, data, context) {\\n            var stringified = ko.observable(ko.unwrap(valueAccessor()));\\n            stringified.subscribe(function(value) {\\n                var val = parseFloat(value);\\n                if (!isNaN(val)) {\\n                    valueAccessor()(val);\\n                }\\n            });\\n            valueAccessor().subscribe(function(value) {\\n                var str = JSON.stringify(value);\\n                if ((str == \\\"0\\\") && ([\\\"-0\\\", \\\"-0.\\\"].indexOf(stringified()) >= 0))\\n                     return;\\n                 if ([\\\"null\\\", \\\"\\\"].indexOf(str) >= 0)\\n                     return;\\n                stringified(str);\\n            });\\n            ko.applyBindingsToNode(\\n                element,\\n                {\\n                    value: stringified,\\n                    valueUpdate: allBindings.get('valueUpdate'),\\n                },\\n                context,\\n            );\\n        }\\n    };\\n    var json_data = {\\\"options_js\\\":WebIO.getval({\\\"name\\\":\\\"options_js\\\",\\\"scope\\\":\\\"11576845638025054878\\\",\\\"id\\\":\\\"146\\\",\\\"type\\\":\\\"observable\\\"}),\\\"index\\\":WebIO.getval({\\\"name\\\":\\\"index\\\",\\\"scope\\\":\\\"11576845638025054878\\\",\\\"id\\\":\\\"145\\\",\\\"type\\\":\\\"observable\\\"})};\\n    var self = this;\\n    function AppViewModel() {\\n        for (var key in json_data) {\\n            var el = json_data[key];\\n            this[key] = Array.isArray(el) ? ko.observableArray(el) : ko.observable(el);\\n        }\\n        [this[\\\"update\\\"]=function (val) {this.index(val)}]\\n        \\n        [this[\\\"options_js\\\"].subscribe((function (val){!(this.valueFromJulia[\\\"options_js\\\"]) ? (WebIO.setval({\\\"name\\\":\\\"options_js\\\",\\\"scope\\\":\\\"11576845638025054878\\\",\\\"id\\\":\\\"146\\\",\\\"type\\\":\\\"observable\\\"},val)) : undefined; return this.valueFromJulia[\\\"options_js\\\"]=false}),self),this[\\\"index\\\"].subscribe((function (val){!(this.valueFromJulia[\\\"index\\\"]) ? (WebIO.setval({\\\"name\\\":\\\"index\\\",\\\"scope\\\":\\\"11576845638025054878\\\",\\\"id\\\":\\\"145\\\",\\\"type\\\":\\\"observable\\\"},val)) : undefined; return this.valueFromJulia[\\\"index\\\"]=false}),self)]\\n        \\n    }\\n    self.model = new AppViewModel();\\n    self.valueFromJulia = {};\\n    for (var key in json_data) {\\n        self.valueFromJulia[key] = false;\\n    }\\n    ko.applyBindings(self.model, self.dom);\\n}\\n);\\n    (WebIO.importBlock({\\\"data\\\":[{\\\"name\\\":\\\"knockout\\\",\\\"type\\\":\\\"js\\\",\\\"url\\\":\\\"/assetserver/0314215fc38f87455d25a217f081da9054de2922-knockout.js\\\"},{\\\"name\\\":\\\"knockout_punches\\\",\\\"type\\\":\\\"js\\\",\\\"url\\\":\\\"/assetserver/e7011e89f50940c046e57125bc6c6f723b775b34-knockout_punches.js\\\"}],\\\"type\\\":\\\"async_block\\\"})).then((imports) => handler.apply(this, imports));\\n}\\n\")])], Dict{Symbol, Any}(:className => \"interact-widget\")), Node{WebIO.DOM}(WebIO.DOM(:html, :div), Any[Scope(Node{WebIO.DOM}(WebIO.DOM(:html, :div), Any[Node{WebIO.DOM}(WebIO.DOM(:html, :div), Any[Node{WebIO.DOM}(WebIO.DOM(:html, :label), Any[\"show_coordinate\"], Dict{Symbol, Any}(:className => \"interact \", :style => Dict{Any, Any}(:padding => \"5px 10px 0px 10px\")))], Dict{Symbol, Any}(:className => \"interact-flex-row-left\")), Node{WebIO.DOM}(WebIO.DOM(:html, :div), Any[Node{WebIO.DOM}(WebIO.DOM(:html, :div), Any[Node{WebIO.DOM}(WebIO.DOM(:html, :span), Any[Node{WebIO.DOM}(WebIO.DOM(:html, :label), Any[], Dict{Symbol, Any}(:attributes => Dict(\"data-bind\" => \"text : key\")))], Dict{Symbol, Any}(:attributes => Dict(\"data-bind\" => \"click: function (){\\$root.update(val)}, css: {'is-primary is-selected' : \\$root.index() == val, 'interact-widget is-medium button ' : true}\")))], Dict{Symbol, Any}(:attributes => (\"data-bind\" => \"foreach : options_js\"), :className => \"buttons has-addons is-centered\"))], Dict{Symbol, Any}(:className => \"interact-flex-row-center\")), Node{WebIO.DOM}(WebIO.DOM(:html, :div), Any[Node{WebIO.DOM}(WebIO.DOM(:html, :div), Any[], Dict{Symbol, Any}())], Dict{Symbol, Any}(:className => \"interact-flex-row-right\"))], Dict{Symbol, Any}(:className => \"interact-flex-row interact-widget\")), Dict{String, Tuple{AbstractObservable, Union{Nothing, Bool}}}(\"options_js\" => (Observable(OrderedDict[OrderedDict{String, Any}(\"key\" => \"off\", \"val\" => 1, \"id\" => \"idMB2pNEqt\"), OrderedDict{String, Any}(\"key\" => \"on\", \"val\" => 2, \"id\" => \"idQZlIvnRB\")]), nothing), \"index\" => (Observable{Any}(1), nothing)), Set{String}(), nothing, Asset[Asset(\"js\", \"knockout\", \"/home/henrikj/.julia/packages/Knockout/HReiN/src/../assets/knockout.js\"), Asset(\"js\", \"knockout_punches\", \"/home/henrikj/.julia/packages/Knockout/HReiN/src/../assets/knockout_punches.js\"), Asset(\"js\", nothing, \"/home/henrikj/.julia/packages/InteractBase/8TTmI/src/../assets/all.js\"), Asset(\"css\", nothing, \"/home/henrikj/.julia/packages/InteractBase/8TTmI/src/../assets/style.css\"), Asset(\"css\", nothing, \"/home/henrikj/.julia/packages/Interact/PENUy/src/../assets/bulma_confined.min.css\")], Dict{Any, Any}(\"options_js\" => Any[WebIO.JSString(\"(function (val){return (val!=this.model[\\\"options_js\\\"]()) ? (this.valueFromJulia[\\\"options_js\\\"]=true, this.model[\\\"options_js\\\"](val)) : undefined})\")], \"index\" => Any[WebIO.JSString(\"(function (val){return (val!=this.model[\\\"index\\\"]()) ? (this.valueFromJulia[\\\"index\\\"]=true, this.model[\\\"index\\\"](val)) : undefined})\")]), WebIO.ConnectionPool(Channel{Any}(32), Set{AbstractConnection}(), Base.GenericCondition{ReentrantLock}(Base.IntrusiveLinkedList{Task}(Task (runnable, started) @0x00007f455ca852d0, Task (runnable, started) @0x00007f455ca852d0), ReentrantLock(nothing, 0x00000000, 0x00, Base.GenericCondition{Base.Threads.SpinLock}(Base.IntrusiveLinkedList{Task}(nothing, nothing), Base.Threads.SpinLock(0)), (-4644747483723869974, -4644747483723869974, 430025987776)))), WebIO.JSString[WebIO.JSString(\"function () {\\n    var handler = (function (ko, koPunches) {\\n    ko.punches.enableAll();\\n    ko.bindingHandlers.numericValue = {\\n        init: function(element, valueAccessor, allBindings, data, context) {\\n            var stringified = ko.observable(ko.unwrap(valueAccessor()));\\n            stringified.subscribe(function(value) {\\n                var val = parseFloat(value);\\n                if (!isNaN(val)) {\\n                    valueAccessor()(val);\\n                }\\n            });\\n            valueAccessor().subscribe(function(value) {\\n                var str = JSON.stringify(value);\\n                if ((str == \\\"0\\\") && ([\\\"-0\\\", \\\"-0.\\\"].indexOf(stringified()) >= 0))\\n                     return;\\n                 if ([\\\"null\\\", \\\"\\\"].indexOf(str) >= 0)\\n                     return;\\n                stringified(str);\\n            });\\n            ko.applyBindingsToNode(\\n                element,\\n                {\\n                    value: stringified,\\n                    valueUpdate: allBindings.get('valueUpdate'),\\n                },\\n                context,\\n            );\\n        }\\n    };\\n    var json_data = {\\\"options_js\\\":WebIO.getval({\\\"name\\\":\\\"options_js\\\",\\\"scope\\\":\\\"10266532590933521178\\\",\\\"id\\\":\\\"151\\\",\\\"type\\\":\\\"observable\\\"}),\\\"index\\\":WebIO.getval({\\\"name\\\":\\\"index\\\",\\\"scope\\\":\\\"10266532590933521178\\\",\\\"id\\\":\\\"150\\\",\\\"type\\\":\\\"observable\\\"})};\\n    var self = this;\\n    function AppViewModel() {\\n        for (var key in json_data) {\\n            var el = json_data[key];\\n            this[key] = Array.isArray(el) ? ko.observableArray(el) : ko.observable(el);\\n        }\\n        [this[\\\"update\\\"]=function (val) {this.index(val)}]\\n        \\n        [this[\\\"options_js\\\"].subscribe((function (val){!(this.valueFromJulia[\\\"options_js\\\"]) ? (WebIO.setval({\\\"name\\\":\\\"options_js\\\",\\\"scope\\\":\\\"10266532590933521178\\\",\\\"id\\\":\\\"151\\\",\\\"type\\\":\\\"observable\\\"},val)) : undefined; return this.valueFromJulia[\\\"options_js\\\"]=false}),self),this[\\\"index\\\"].subscribe((function (val){!(this.valueFromJulia[\\\"index\\\"]) ? (WebIO.setval({\\\"name\\\":\\\"index\\\",\\\"scope\\\":\\\"10266532590933521178\\\",\\\"id\\\":\\\"150\\\",\\\"type\\\":\\\"observable\\\"},val)) : undefined; return this.valueFromJulia[\\\"index\\\"]=false}),self)]\\n        \\n    }\\n    self.model = new AppViewModel();\\n    self.valueFromJulia = {};\\n    for (var key in json_data) {\\n        self.valueFromJulia[key] = false;\\n    }\\n    ko.applyBindings(self.model, self.dom);\\n}\\n);\\n    (WebIO.importBlock({\\\"data\\\":[{\\\"name\\\":\\\"knockout\\\",\\\"type\\\":\\\"js\\\",\\\"url\\\":\\\"/assetserver/0314215fc38f87455d25a217f081da9054de2922-knockout.js\\\"},{\\\"name\\\":\\\"knockout_punches\\\",\\\"type\\\":\\\"js\\\",\\\"url\\\":\\\"/assetserver/e7011e89f50940c046e57125bc6c6f723b775b34-knockout_punches.js\\\"}],\\\"type\\\":\\\"async_block\\\"})).then((imports) => handler.apply(this, imports));\\n}\\n\")])], Dict{Symbol, Any}(:className => \"interact-widget\")), Node{WebIO.DOM}(WebIO.DOM(:html, :div), Any[Scope(Node{WebIO.DOM}(WebIO.DOM(:html, :div), Any[Node{WebIO.DOM}(WebIO.DOM(:html, :div), Any[Node{WebIO.DOM}(WebIO.DOM(:html, :label), Any[\"show_delta_signal\"], Dict{Symbol, Any}(:className => \"interact \", :style => Dict{Any, Any}(:padding => \"5px 10px 0px 10px\")))], Dict{Symbol, Any}(:className => \"interact-flex-row-left\")), Node{WebIO.DOM}(WebIO.DOM(:html, :div), Any[Node{WebIO.DOM}(WebIO.DOM(:html, :div), Any[Node{WebIO.DOM}(WebIO.DOM(:html, :span), Any[Node{WebIO.DOM}(WebIO.DOM(:html, :label), Any[], Dict{Symbol, Any}(:attributes => Dict(\"data-bind\" => \"text : key\")))], Dict{Symbol, Any}(:attributes => Dict(\"data-bind\" => \"click: function (){\\$root.update(val)}, css: {'is-primary is-selected' : \\$root.index() == val, 'interact-widget is-medium button ' : true}\")))], Dict{Symbol, Any}(:attributes => (\"data-bind\" => \"foreach : options_js\"), :className => \"buttons has-addons is-centered\"))], Dict{Symbol, Any}(:className => \"interact-flex-row-center\")), Node{WebIO.DOM}(WebIO.DOM(:html, :div), Any[Node{WebIO.DOM}(WebIO.DOM(:html, :div), Any[], Dict{Symbol, Any}())], Dict{Symbol, Any}(:className => \"interact-flex-row-right\"))], Dict{Symbol, Any}(:className => \"interact-flex-row interact-widget\")), Dict{String, Tuple{AbstractObservable, Union{Nothing, Bool}}}(\"options_js\" => (Observable(OrderedDict[OrderedDict{String, Any}(\"key\" => \"off\", \"val\" => 1, \"id\" => \"idDy2WzX6M\"), OrderedDict{String, Any}(\"key\" => \"on\", \"val\" => 2, \"id\" => \"idiZNfXYTV\")]), nothing), \"index\" => (Observable{Any}(1), nothing)), Set{String}(), nothing, Asset[Asset(\"js\", \"knockout\", \"/home/henrikj/.julia/packages/Knockout/HReiN/src/../assets/knockout.js\"), Asset(\"js\", \"knockout_punches\", \"/home/henrikj/.julia/packages/Knockout/HReiN/src/../assets/knockout_punches.js\"), Asset(\"js\", nothing, \"/home/henrikj/.julia/packages/InteractBase/8TTmI/src/../assets/all.js\"), Asset(\"css\", nothing, \"/home/henrikj/.julia/packages/InteractBase/8TTmI/src/../assets/style.css\"), Asset(\"css\", nothing, \"/home/henrikj/.julia/packages/Interact/PENUy/src/../assets/bulma_confined.min.css\")], Dict{Any, Any}(\"options_js\" => Any[WebIO.JSString(\"(function (val){return (val!=this.model[\\\"options_js\\\"]()) ? (this.valueFromJulia[\\\"options_js\\\"]=true, this.model[\\\"options_js\\\"](val)) : undefined})\")], \"index\" => Any[WebIO.JSString(\"(function (val){return (val!=this.model[\\\"index\\\"]()) ? (this.valueFromJulia[\\\"index\\\"]=true, this.model[\\\"index\\\"](val)) : undefined})\")]), WebIO.ConnectionPool(Channel{Any}(32), Set{AbstractConnection}(), Base.GenericCondition{ReentrantLock}(Base.IntrusiveLinkedList{Task}(Task (runnable, started) @0x00007f455ca85460, Task (runnable, started) @0x00007f455ca85460), ReentrantLock(nothing, 0x00000000, 0x00, Base.GenericCondition{Base.Threads.SpinLock}(Base.IntrusiveLinkedList{Task}(nothing, nothing), Base.Threads.SpinLock(0)), (139936487536672, 139936487537040, 139936487537408)))), WebIO.JSString[WebIO.JSString(\"function () {\\n    var handler = (function (ko, koPunches) {\\n    ko.punches.enableAll();\\n    ko.bindingHandlers.numericValue = {\\n        init: function(element, valueAccessor, allBindings, data, context) {\\n            var stringified = ko.observable(ko.unwrap(valueAccessor()));\\n            stringified.subscribe(function(value) {\\n                var val = parseFloat(value);\\n                if (!isNaN(val)) {\\n                    valueAccessor()(val);\\n                }\\n            });\\n            valueAccessor().subscribe(function(value) {\\n                var str = JSON.stringify(value);\\n                if ((str == \\\"0\\\") && ([\\\"-0\\\", \\\"-0.\\\"].indexOf(stringified()) >= 0))\\n                     return;\\n                 if ([\\\"null\\\", \\\"\\\"].indexOf(str) >= 0)\\n                     return;\\n                stringified(str);\\n            });\\n            ko.applyBindingsToNode(\\n                element,\\n                {\\n                    value: stringified,\\n                    valueUpdate: allBindings.get('valueUpdate'),\\n                },\\n                context,\\n            );\\n        }\\n    };\\n    var json_data = {\\\"options_js\\\":WebIO.getval({\\\"name\\\":\\\"options_js\\\",\\\"scope\\\":\\\"2599302011589710818\\\",\\\"id\\\":\\\"156\\\",\\\"type\\\":\\\"observable\\\"}),\\\"index\\\":WebIO.getval({\\\"name\\\":\\\"index\\\",\\\"scope\\\":\\\"2599302011589710818\\\",\\\"id\\\":\\\"155\\\",\\\"type\\\":\\\"observable\\\"})};\\n    var self = this;\\n    function AppViewModel() {\\n        for (var key in json_data) {\\n            var el = json_data[key];\\n            this[key] = Array.isArray(el) ? ko.observableArray(el) : ko.observable(el);\\n        }\\n        [this[\\\"update\\\"]=function (val) {this.index(val)}]\\n        \\n        [this[\\\"options_js\\\"].subscribe((function (val){!(this.valueFromJulia[\\\"options_js\\\"]) ? (WebIO.setval({\\\"name\\\":\\\"options_js\\\",\\\"scope\\\":\\\"2599302011589710818\\\",\\\"id\\\":\\\"156\\\",\\\"type\\\":\\\"observable\\\"},val)) : undefined; return this.valueFromJulia[\\\"options_js\\\"]=false}),self),this[\\\"index\\\"].subscribe((function (val){!(this.valueFromJulia[\\\"index\\\"]) ? (WebIO.setval({\\\"name\\\":\\\"index\\\",\\\"scope\\\":\\\"2599302011589710818\\\",\\\"id\\\":\\\"155\\\",\\\"type\\\":\\\"observable\\\"},val)) : undefined; return this.valueFromJulia[\\\"index\\\"]=false}),self)]\\n        \\n    }\\n    self.model = new AppViewModel();\\n    self.valueFromJulia = {};\\n    for (var key in json_data) {\\n        self.valueFromJulia[key] = false;\\n    }\\n    ko.applyBindings(self.model, self.dom);\\n}\\n);\\n    (WebIO.importBlock({\\\"data\\\":[{\\\"name\\\":\\\"knockout\\\",\\\"type\\\":\\\"js\\\",\\\"url\\\":\\\"/assetserver/0314215fc38f87455d25a217f081da9054de2922-knockout.js\\\"},{\\\"name\\\":\\\"knockout_punches\\\",\\\"type\\\":\\\"js\\\",\\\"url\\\":\\\"/assetserver/e7011e89f50940c046e57125bc6c6f723b775b34-knockout_punches.js\\\"}],\\\"type\\\":\\\"async_block\\\"})).then((imports) => handler.apply(this, imports));\\n}\\n\")])], Dict{Symbol, Any}(:className => \"interact-widget\")), Observable(Node{WebIO.DOM}(WebIO.DOM(:html, :div), Any[Node{WebIO.DOM}(WebIO.DOM(:html, :div), Any[Node{WebIO.DOM}(WebIO.DOM(:html, :div), Any[], Dict{Symbol, Any}(:style => Dict{String, Measures.Length{U, Float64} where U}(\"height\" => 1.0em, \"width\" => 0.0px))), Node{WebIO.DOM}(WebIO.DOM(:html, :div), Any[Plot{Plots.GRBackend() n=1}, Plot{Plots.GRBackend() n=2}], Dict{Symbol, Any}(:style => Dict(\"display\" => \"flex\", \"flex-direction\" => \"row\"))), Node{WebIO.DOM}(WebIO.DOM(:html, :div), Any[Plot{Plots.GRBackend() n=4}, Plot{Plots.GRBackend() n=4}], Dict{Symbol, Any}(:style => Dict(\"display\" => \"flex\", \"flex-direction\" => \"row\")))], Dict{Symbol, Any}(:style => Dict(\"display\" => \"flex\", \"flex-direction\" => \"column\")))], Dict{Symbol, Any}(:className => \"interact-flex-row interact-widget\")))], Dict{Symbol, Any}())"
      ]
     },
     "execution_count": 4,
     "metadata": {
      "application/vnd.webio.node+json": {
       "kernelId": "4e4e4303-035a-420a-8e44-54e992279f7e"
      }
     },
     "output_type": "execute_result"
    }
   ],
   "source": [
    "# RUN THE APP BY FIRST SELECTING THE ABOVE CELL AND PRESS Ctrl+Enter. THEN SELECT THIS CELL\n",
    "# AND PRESS Shift+Enter. MIGHT TAKE A MOMENT TO PREPARE+LOAD THE INTERACTIVE APP.\n",
    "\n",
    "cd(folderpath_OWCF)\n",
    "using Pkg\n",
    "Pkg.activate(\".\")\n",
    "\n",
    "# Loading packages\n",
    "verbose && println(\"Loading Julia packages... \")\n",
    "using Distributed\n",
    "using Interact\n",
    "using EFIT\n",
    "using Equilibrium\n",
    "using JLD2\n",
    "using GuidingCenterOrbits\n",
    "using SparseArrays\n",
    "using HDF5\n",
    "using Plots\n",
    "using FileIO\n",
    "using Mux\n",
    "using WebIO\n",
    "using PyCall # For loading sightlines efficiently\n",
    "include(folderpath_OWCF*\"misc/species_func.jl\") # To get particle masses and charges\n",
    "include(folderpath_OWCF*\"misc/availReacts.jl\") # To check reaction availability and extract fast-ion and thermal species\n",
    "include(folderpath_OWCF*\"extra/dependencies.jl\") # To load the (E,pm,Rm) to (E,Λ,Pϕ_n;σ) mapping function\n",
    "\n",
    "# EXTRA KEYWORD ARGUMENTS BELOW (these will go into the orbit_grid() and get_orbit() functions from GuidingCenterOrbits.jl)\n",
    "# Try to find extra_kw_args in filepath_tb or filepath_W\n",
    "myfile = jldopen(filepath_tb,false,false,false,IOStream)\n",
    "myfile2 = jldopen(filepath_W,false,false,false,IOStream)\n",
    "if haskey(myfile,\"extra_kw_args\")\n",
    "    extra_kw_args = myfile[\"extra_kw_args\"]\n",
    "elseif haskey(myfile2,\"extra_kw_args\")\n",
    "    extra_kw_args = myfile2[\"extra_kw_args\"]\n",
    "else\n",
    "    extra_kw_args = Dict(:toa => true, :limit_phi => true)\n",
    "    # toa is 'try only adaptive'\n",
    "    # limits the number of toroidal turns for orbits\n",
    "end\n",
    "close(myfile)\n",
    "close(myfile2)\n",
    "\n",
    "# Remove deprecated keyword arguments for the orbit integration algorithm\n",
    "# Replace with new versions\n",
    "if haskey(extra_kw_args, :max_tries)\n",
    "    verbose && println(\"Found :max_tries key in keyword arguments for the orbit integration algorithm. Replacing with :maxiter... \")\n",
    "    maxiter = extra_kw_args[:max_tries]\n",
    "    delete!(extra_kw_args, :max_tries)\n",
    "    extra_kw_args[:maxiter] = maxiter\n",
    "end\n",
    "\n",
    "## ------\n",
    "# Loading packages on external CPU processors, if anticipated that it will be needed later\n",
    "if enable_COM && !isfile(filepath_W_COM)\n",
    "    verbose && println(\"Anticipating the need for several CPU-processors. Adding CPU-processors and loading necessary Julia packages... \")\n",
    "    addprocs(2) # Two extra CPU processes should be sufficient, and available on most PCs/Macbook/Linux devices, also in terms of RAM\n",
    "    @everywhere folderpath_OWCF = $folderpath_OWCF # Transfer variable to extra CPU-processes\n",
    "    @everywhere begin\n",
    "        cd(folderpath_OWCF)\n",
    "        using Pkg\n",
    "        Pkg.activate(\".\")\n",
    "        using Equilibrium\n",
    "        using EFIT\n",
    "        using GuidingCenterOrbits\n",
    "        include(folderpath_OWCF*\"extra/dependencies.jl\") # To load the (E,pm,Rm) to (E,Λ,Pϕ_n;σ) mapping function\n",
    "    end\n",
    "end\n",
    "\n",
    "verbose && println(\"Loading Python packages... \")\n",
    "py\"\"\"\n",
    "import numpy as np\n",
    "\"\"\"\n",
    "\n",
    "## ------\n",
    "# Extract y-axis units for S and/or WF from xlabel input variable\n",
    "Ed_units = String(split(split(xlabel,\"[\")[2],\"]\")[1])\n",
    "\n",
    "## ------\n",
    "# Read the .jld2-file for displaying the topological boundaries of orbit space.\n",
    "# Pre-calculated with getTopoMap.jl followed by extractTopoBounds.jl.\n",
    "println(\"Loading topological boundaries... \")\n",
    "myfile = jldopen(filepath_tb,false,false,false,IOStream)\n",
    "topoBounds = myfile[\"topoBounds\"]\n",
    "close(myfile)\n",
    "\n",
    "## ------\n",
    "# Read the .jld2-file for displaying the null-region boundaries of orbit space.\n",
    "if showNullOrbs\n",
    "    if !isfile(filepath_no)\n",
    "        error(\"Null-measurement boundaries set for plot (showNullOrbs=true). But filepath_no is invalid. Please correct and re-try.\")\n",
    "    end\n",
    "    verbose && println(\"Loading null orbits... \")\n",
    "    myfile = jldopen(filepath_no,false,false,false,IOStream)\n",
    "    nullOrbs_indices = myfile[\"nullOrbs_indices\"]\n",
    "    close(myfile)\n",
    "end\n",
    "\n",
    "\n",
    "## ------\n",
    "# Load the 3D orbit-space fast-ion distribution, the slices of which will be visualized\n",
    "if plot_Fos\n",
    "    if !isfile(filepath_Fos3D)\n",
    "        error(\"Fast-ion orbit-space distribution set for plot (plot_F_os=true). But filepath_Fos3D is invalid. Please correct and re-try.\")\n",
    "    end\n",
    "    println(\"Loading 3D orbit-space fast-ion distribution... \")\n",
    "    myfile = jldopen(filepath_Fos3D,false,false,false,IOStream)\n",
    "    if haskey(myfile,\"F_os_3D\")\n",
    "        F_os_3D = myfile[\"F_os_3D\"]\n",
    "        F_os_4D = reshape(F_os_3D,(1,size(F_os_3D,1),size(F_os_3D,2),size(F_os_3D,3)))\n",
    "    elseif haskey(myfile,\"F_reconstructions_3D\")\n",
    "        F_os_4D = myfile[\"F_reconstructions_3D\"]\n",
    "    else\n",
    "        error(\"No known key found for 3D orbit-space fast-ion distribution in filepath_Fos3D. Please correct and re-try.\")\n",
    "    end\n",
    "    close(myfile)\n",
    "end\n",
    "\n",
    "## ------\n",
    "# Loading tokamak equilibrium\n",
    "verbose && println(\"Loading magnetic equilibrium... \")\n",
    "M, wall, jdotb = nothing, nothing, nothing # Initialize global magnetic equilibrium variables\n",
    "try\n",
    "    global M; global wall; global jdotb # Declare global scope\n",
    "    M, wall = read_geqdsk(filepath_equil,clockwise_phi=false) # Assume counter-clockwise phi-direction\n",
    "    jdotb = M.sigma # The sign of the dot product between the plasma current and the magnetic field\n",
    "catch # Otherwise, assume magnetic equilibrium is a saved .jld2 file\n",
    "    global M; global wall; global jdotb; local myfile # Declare global scope\n",
    "    myfile = jldopen(filepath_equil,false,false,false,IOStream)\n",
    "    M = myfile[\"S\"]\n",
    "    wall = myfile[\"wall\"]\n",
    "    close(myfile)\n",
    "    jdotb = (M.sigma_B0)*(M.sigma_Ip)\n",
    "end\n",
    "\n",
    "## ------\n",
    "# Read the file containing the pre-computed weight function\n",
    "projVel = false # Define this for its own sake\n",
    "verbose && println(\"Loading weight function (\"*filepath_W*\")... \")\n",
    "myfile = jldopen(filepath_W,false,false,false,IOStream)\n",
    "if haskey(myfile,\"W\")\n",
    "    W_correct = myfile[\"W\"]\n",
    "elseif haskey(myfile,\"W_null\")\n",
    "    W_correct = myfile[\"W_null\"]\n",
    "elseif haskey(myfile,\"W\")\n",
    "    W_correct = myfile[\"W\"]\n",
    "else\n",
    "    error(\"No known keys in filepath_W for the orbit weight functions. Please correct and re-try.\")\n",
    "end\n",
    "E_array = myfile[\"E_array\"]\n",
    "pm_array = myfile[\"pm_array\"]\n",
    "Rm_array = myfile[\"Rm_array\"]\n",
    "if haskey(myfile,\"En_array\")\n",
    "    Ed_array = myfile[\"En_array\"]\n",
    "elseif haskey(myfile,\"Ed_array\")\n",
    "    Ed_array = myfile[\"Ed_array\"]\n",
    "else\n",
    "    error(\"weightsWebApp did not recognize known diagnostic data array type in provide 'filepath_W'. Please re-try another file.\")\n",
    "end\n",
    "if haskey(myfile,\"reaction\")\n",
    "    reaction = myfile[\"reaction\"]\n",
    "end\n",
    "if haskey(myfile,\"reaction_full\")\n",
    "    reaction_full = myfile[\"reaction_full\"]\n",
    "end\n",
    "if haskey(myfile,\"projVel\")\n",
    "    projVel = true\n",
    "end\n",
    "close(myfile)\n",
    "fW_array = split(filepath_W,\"_\")\n",
    "tokamak = fW_array[end-5]\n",
    "TRANSP_id = fW_array[end-4]\n",
    "timepoint = fW_array[end-3]\n",
    "diagnostic = fW_array[end-2]\n",
    "reaction_sscp = fW_array[end-1]\n",
    "\n",
    "## ---------------------------------------------------------------------------------------------\n",
    "## Safety check to ensure same dimensions for nullOrbits and weight functions\n",
    "if showNullOrbs\n",
    "    ### WRITE CODE HERE ###\n",
    "end\n",
    "\n",
    "## ---------------------------------------------------------------------------------------------\n",
    "# Create null orbits matrix (if specified)\n",
    "if showNullOrbs\n",
    "    nullOrbs = zeros(length(Ed_array),length(E_array),length(pm_array),length(Rm_array))\n",
    "    nullOrbs[nullOrbs_indices] .= 1.0\n",
    "end\n",
    "\n",
    "## ---------------------------------------------------------------------------------------------\n",
    "# Determine fast-ion species from reaction\n",
    "if (@isdefined reaction_full)\n",
    "    thermal_species, FI_species = getFusionReactants(reaction_full)\n",
    "elseif (@isdefined reaction)\n",
    "    FI_species = getFusionReactants(reaction)[2]\n",
    "else\n",
    "    FI_species = FI_species # Already defined\n",
    "end\n",
    "FI_species = String(FI_species)\n",
    "\n",
    "## ----------\n",
    "# Check that the dimensions of topoBounds and F_os_4D match, and match the E-, pm- and Rm-arrays.\n",
    "if plot_Fos\n",
    "    println(\"Checking that dimensions are consistent... \")\n",
    "    if !(size(F_os_4D[1,:,:,:])==size(topoBounds)) || !(size(F_os_4D,2) == length(E_array)) || !(size(F_os_4D,3) == length(pm_array)) || !(size(F_os_4D,4) == length(Rm_array))\n",
    "        println(\"Size(F_os_4D): $(size(F_os_4D))\")\n",
    "        println(\"Size(topoBounds): $(size(topoBounds))\")\n",
    "        println(\"Length(E_array): $(length(E_array))\")\n",
    "        println(\"Length(pm_array): $(length(pm_array))\")\n",
    "        println(\"Length(Rm_array): $(length(Rm_array))\")\n",
    "        error(\"Dimensions of topoBounds and/or F_os_4D don't match given E-, pm- and/or Rm-arrays. Please correct and re-try.\")\n",
    "    end\n",
    "end\n",
    "verbose && println(\"Size of OWs: $(size(W_correct))\")\n",
    "verbose && println(\"Size of pm_array: $(size(pm_array))\")\n",
    "verbose && println(\"Size of Rm_array: $(size(Rm_array))\")\n",
    "verbose && println(\"Size of E_array: $(size(E_array))\")\n",
    "verbose && println(\"Size of Ed_array: $(size(Ed_array))\")\n",
    "if plot_Fos\n",
    "    verbose && println(\"Size of orbit-space fast-ion distribution data: $(size(F_os_4D))\")\n",
    "end\n",
    "if showNullOrbs\n",
    "    verbose && println(\"Size of null orbits data: $(size(nullOrbs))\")\n",
    "end\n",
    "verbose && println(\"Size of topoBounds: $(size(topoBounds))\")\n",
    "\n",
    "if showNullOrbs && plot_Fos\n",
    "    if !(size(F_os_4D[1,:,:,:])==size(nullOrbs[1,:,:,:]))\n",
    "        println(\"Size(nullOrbs): $(size(nullOrbs))\")\n",
    "        error(\"(E,pm,Rm) grid sizes of nullOrbs and F_os_4D don't match. Please correct and re-try.\")\n",
    "    end\n",
    "end\n",
    "\n",
    "## ----------\n",
    "# Load the WF signal for plotting together with true S signal\n",
    "if plot_WF\n",
    "    if !isfile(filepath_WF)\n",
    "        error(\"WF signal set for plot (plot_WF=true). But filepath_WF is invalid. Please correct and re-try.\")\n",
    "    end\n",
    "    verbose && println(\"Loading WF signal (\"*filepath_WF*\")... \")\n",
    "    myfile = jldopen(filepath_WF,false,false,false,IOStream)\n",
    "    S_WF = myfile[\"S_WF\"]\n",
    "    if length(size(S_WF))==1\n",
    "        S_WF = reshape(S_WF,(1,length(S_WF)))\n",
    "    else\n",
    "        S_WF = S_WF\n",
    "    end\n",
    "    if haskey(myfile,\"En_array\")\n",
    "        Ed_array_WF = myfile[\"En_array\"]\n",
    "    elseif haskey(myfile,\"Ed_array\")\n",
    "        Ed_array_WF = myfile[\"Ed_array\"]\n",
    "    else\n",
    "        error(\"weightsWebApp did not recognize known diagnostic data array type in provide 'filepath_WF'. Please re-try another file.\")\n",
    "    end\n",
    "    close(myfile)\n",
    "\n",
    "    if length(size(S_WF))==2\n",
    "    else\n",
    "        S_WF = reshape(S_WF,(1,length(S_WF)))\n",
    "    end\n",
    "end\n",
    "\n",
    "## ----------\n",
    "# Load the true signal S for plotting and following neutron energy\n",
    "if plot_S\n",
    "    if !isfile(filepath_S)\n",
    "        error(\"S signal set for plot (plot_S=true). But filepath_S is invalid. Please correct and re-try.\")\n",
    "    end\n",
    "    verbose && println(\"Loading synthetic signal (\"*filepath_S*\")... \")\n",
    "    if !specFileJLD2\n",
    "        myfile = h5open(filepath_S)\n",
    "        if diagnostic_name==\"TOFOR\"\n",
    "            Ed_array_S = read(myfile[\"En_tofor\"])\n",
    "            spec = read(myfile[\"spec_tofor\"])\n",
    "        elseif diagnostic_name==\"AB\"\n",
    "            Ed_array_S = read(myfile[\"En_ab\"])\n",
    "            spec = read(myfile[\"spec_ab\"])\n",
    "        elseif diagnostic_name==\"\"\n",
    "            error(\"Script does not know the keys to the signal spectrum and energy array. Please manually specify near line 410 of weightsWebApp.jl and comment out this error line.\")\n",
    "            Ed_array_S = read(myfile[\"INPUT ENERGY ARRAY KEY HERE\"])\n",
    "            spec = read(myfile[\"INPUT SPECTRUM KEY HERE\"])\n",
    "        else\n",
    "            error(\"Invalid diagnostic. Please change diagnostic string in wFuncNfastionDistrWebApp.jl\")\n",
    "        end\n",
    "    else\n",
    "        myfile = jldopen(filepath_S,false,false,false,IOStream)\n",
    "        if haskey(myfile,\"S\")\n",
    "            spec = myfile[\"S\"]\n",
    "        elseif haskey(myfile,\"spec\")\n",
    "            spec = myfile[\"spec\"]\n",
    "        else\n",
    "            error(\"weightsWebApp did not recognize diagnostic signal data array key in provide 'filepath_S'. Please re-try another file.\")\n",
    "        end\n",
    "        if haskey(myfile,\"En_array\")\n",
    "            Ed_array_S = myfile[\"En_array\"]\n",
    "        elseif haskey(myfile,\"Ed_array\")\n",
    "            Ed_array_S = myfile[\"Ed_array\"]\n",
    "        else\n",
    "            error(\"weightsWebApp did not recognize diagnostic energy bin data array key in provide 'filepath_S'. Please re-try another file.\")\n",
    "        end\n",
    "    end\n",
    "    close(myfile)\n",
    "end\n",
    "\n",
    "## ----------\n",
    "# Load sightlines\n",
    "verbose && println(\"Loading \"*diagnostic_name*\" sightline (\"*diagnostic_filepath*\")... \")\n",
    "if isfile(diagnostic_filepath)\n",
    "    py\"\"\"\n",
    "    VC = np.loadtxt($diagnostic_filepath)\n",
    "    VC_RP = VC[:,8]\n",
    "    VC_zP = VC[:,2]\n",
    "\n",
    "    VC_X = VC[:,0]\n",
    "    VC_Y = VC[:,1]\n",
    "    \"\"\"\n",
    "    VC_RP = py\"VC_RP\"\n",
    "    VC_zP = py\"VC_zP\"\n",
    "    VC_X = py\"VC_X\"\n",
    "    VC_Y = py\"VC_Y\"\n",
    "else\n",
    "    verbose && println(\"------> WARNING! No diagnostic viewing cone specified.\")\n",
    "end\n",
    "\n",
    "E_array = vec(collect(E_array)) # Ensure type Array{Float64,1}\n",
    "pm_array = vec(collect(pm_array)) # Ensure type Array{Float64,1}\n",
    "Rm_array = vec(collect(Rm_array)) # Ensure type Array{Float64,1}\n",
    "Ed_array = vec(collect(Ed_array)) # Ensure type Array{Float64,1}\n",
    "\n",
    "## --------------------------------------------------------------------------\n",
    "# Preparing utility for mapping (E,pm,Rm) to (E,Λ,Pϕ_n;σ)\n",
    "if enable_COM\n",
    "    if !(isfile(filepath_W_COM))\n",
    "        if isfile(filepath_tm)\n",
    "            verbose && print(\"Possibility to switch to (E,Λ,Pϕ_n;σ) requested. Topological map filepath specified. Attempting to load... \")\n",
    "            myfile = jldopen(filepath_tm,false,false,false,IOStream)\n",
    "            topoMap = myfile[\"topoMap\"]\n",
    "            E_array_tm = myfile[\"E_array\"]\n",
    "            pm_array_tm = myfile[\"pm_array\"]\n",
    "            Rm_array_tm = myfile[\"Rm_array\"]\n",
    "            close(myfile)\n",
    "            verbose && println(\"Success!\")\n",
    "            verbose && print(\"Checking that (E,pm,Rm) grid points are consistent... \")\n",
    "            if !((length(E_array)==length(E_array_tm)) && (length(pm_array)==length(pm_array_tm)) && (length(Rm_array)==length(Rm_array_tm)))\n",
    "                verbose && println(\"\")\n",
    "                println(\"E_array:E_array_tm     $(length(E_array)):$(length(E_array_tm))\")\n",
    "                println(\"pm_array:pm_array_tm     $(length(pm_array)):$(length(pm_array_tm))\")\n",
    "                println(\"Rm_array:Rm_array_tm     $(length(Rm_array)):$(length(Rm_array_tm))\")\n",
    "                error(\"Dimensions of topological map does not match those of orbit weight functions! Please correct and re-start the app.\")\n",
    "            end\n",
    "            verbose && println(\"Success!\")\n",
    "            verbose && print(\"Extracting valid orbits 3D indices from topological map... \")\n",
    "            valid_orbit_indices = findall(x-> (x!=9.0) && (x!=7.0), topoMap) # 9 and 7 are the integers representing invalid and lost orbits in the calcTopoMap.jl script, respectively. We don't want them.\n",
    "            verbose && println(\"Success!\")\n",
    "        else\n",
    "            verbose && println(\"Switching to (E,Λ,Pϕ_n;σ) requested. But neither W_COM, nor topological map, filepath was not specified. Orbit grid will need to be computed (takes a long time)... \")\n",
    "            valid_orbit_indices = :UNKNOWN\n",
    "        end\n",
    "    end\n",
    "else\n",
    "    verbose && println(\"Switching to (E,Λ,Pϕ_n;σ) will not be possible.\")\n",
    "end\n",
    "\n",
    "## --------------------------------------------------------------------------\n",
    "# Mapping orbit weight functions to (E,Λ,Pϕ_n;σ)\n",
    "if enable_COM\n",
    "    if !(isfile(filepath_W_COM))\n",
    "        verbose && println(\">>>>>>>>>>>>>>> Mapping orbit weight functions from (E,pm,Rm) to (E,Λ,Pϕ_n;σ)... <<<<<<<<<<<<<<<\")\n",
    "        W_correct_COM, E_array, Λ_array, Pϕ_n_array = os2COM(M, W_correct, E_array, pm_array, Rm_array, FI_species; nl=2*length(pm_array), npp=2*length(Rm_array), verbose=verbose, good_coords=valid_orbit_indices, wall=wall, extra_kw_args=extra_kw_args)\n",
    "        verbose && println(\"Creating orbit weight matrix (E,Λ,Pϕ_n;σ) data... \")\n",
    "        W_COM_inds = findall(x-> x>0.0, W_correct_COM)\n",
    "        W_COM_inds_n_values = Array{Tuple{CartesianIndex{5},Float64}}(undef,length(W_COM_inds))\n",
    "        for (ii,inds) in enumerate(W_COM_inds)\n",
    "            W_COM_inds_n_values[ii] = (inds,W_correct_COM[Tuple(inds)...])\n",
    "        end\n",
    "        verbose && println(\"Saving orbit weight matrix (E,Λ,Pϕ_n;σ) data so that you do not have to re-map from (E,pm,Rm) next time... \")\n",
    "        filepath_W_COM = folderpath_OWCF*\"orbWeightsCOM_\"*tokamak*\"_\"*TRANSP_id*\"_at\"*timepoint*\"s_\"*diagnostic*\"_\"*reaction_sscp*\"_\"*\"$(size(W_correct_COM,1))x$(size(W_correct_COM,2))x$(size(W_correct_COM,3))x$(size(W_correct_COM,4))x2.jld2\"\n",
    "        verbose && println(\"Next time weightsWebApp.jl is run with same inputs, set filepath_W_COM = \"*filepath_W_COM)\n",
    "        myfile = jldopen(filepath_W_COM, true, true, false, IOStream)\n",
    "        write(myfile,\"W_COM_inds_n_values\", W_COM_inds_n_values) # Save only non-zero indices an values, to save memory space\n",
    "        write(myfile,\"Ed_array\",Ed_array)\n",
    "        write(myfile,\"E_array\",E_array)\n",
    "        write(myfile,\"Lambda_array\",Λ_array)\n",
    "        write(myfile,\"Pphi_n_array\",Pϕ_n_array)\n",
    "        close(myfile)\n",
    "        # Removing extra CPU workers, if any, to minimize memory usage\n",
    "        for i in workers()\n",
    "            rmprocs(i)\n",
    "        end\n",
    "\n",
    "        # Release memory\n",
    "        W_COM_inds = nothing\n",
    "        W_COM_inds_n_values = nothing\n",
    "    else\n",
    "        verbose && print(\"Loading weight matrix in (E,Λ,Pϕ_n;σ) coordinates from filepath_W_COM... \")\n",
    "        myfile = jldopen(filepath_W_COM, false, false, false, IOStream)\n",
    "        if haskey(myfile,\"W_COM_inds_n_values\")    \n",
    "            W_COM_inds_n_values = myfile[\"W_COM_inds_n_values\"]\n",
    "            Ed_array_COM = myfile[\"Ed_array\"]\n",
    "            E_array_COM = myfile[\"E_array\"]\n",
    "            Λ_array = myfile[\"Lambda_array\"]\n",
    "            Pϕ_n_array = myfile[\"Pphi_n_array\"]\n",
    "            close(myfile)\n",
    "            verbose && println(\"Success!\")\n",
    "\n",
    "            if !(length(Ed_array)==length(Ed_array_COM))\n",
    "                error(\"Number of diagnostic measurement bins of (E,Λ,Pϕ_n;σ) weight matrix in filepath_W_COM does not match number of diagnostic measurement bins of (E,pm,Rm) weight matrix in filepath_W. Please correct and re-start app.\")\n",
    "            end\n",
    "            if !(length(E_array)==length(E_array_COM))\n",
    "                error(\"Number of fast-ion energy grid points of (E,Λ,Pϕ_n;σ) weight matrix in filepath_W_COM does not match number of fast-ion energy grid points of (E,pm,Rm) weight matrix in filepath_W. Please correct and re-start app.\")\n",
    "            end\n",
    "\n",
    "            verbose && println(\"Assembling data for orbit weight functions in (E,Λ,Pϕ_n;σ) space... \")\n",
    "            W_correct_COM = zeros(length(Ed_array_COM),length(E_array_COM),length(Λ_array),length(Pϕ_n_array),2)\n",
    "            for indValueTuple in W_COM_inds_n_values\n",
    "                inds = indValueTuple[1]\n",
    "                weight = indValueTuple[2]\n",
    "                W_correct_COM[inds] = weight\n",
    "            end\n",
    "\n",
    "            # Release memory\n",
    "            W_COM_inds_n_values = nothing\n",
    "        else # Must be from os2com.jl\n",
    "            if haskey(myfile,\"Wtot\")\n",
    "                W_correct_COM = myfile[\"Wtot\"]\n",
    "                lk = \"Wtot\"\n",
    "            elseif haskey(myfile,\"W\")\n",
    "                W_correct_COM = myfile[\"W\"]\n",
    "                lk = \"W\"\n",
    "            elseif haskey(myfile,\"W4D\")\n",
    "                W_correct_COM = myfile[\"W4D\"]\n",
    "                lk = \"W4D\"\n",
    "            else\n",
    "                error(\"Unknown file key to load (E,Λ,Pϕ_n;σ) weight matrix from $(filepath_W_COM). Please correct and re-try.\")\n",
    "            end\n",
    "            Ed_array_COM = myfile[\"Ed_array\"]\n",
    "            E_array_COM = myfile[\"E_array\"]\n",
    "            Λ_array = myfile[\"Lambda_array_$(lk)\"]\n",
    "            Pϕ_n_array = myfile[\"Pphi_n_array_$(lk)\"]\n",
    "            close(myfile)\n",
    "        end\n",
    "    end\n",
    "end\n",
    "\n",
    "## --------------------------------------------------------------------------\n",
    "# Mapping topological boundaries to (E,Λ,Pϕ_n;σ)\n",
    "if enable_COM\n",
    "    B0 = norm(Equilibrium.Bfield(M,magnetic_axis(M)...)) # Tesla\n",
    "    q = getSpeciesCharge(FI_species) # Coulomb\n",
    "    if psi_bdry==0\n",
    "        @warn \"The magnetic flux at the last closed flux surface (LCFS) is found to be 0 for the magnetic equilibrium in $(filepath_equil). Pϕ_n=Pϕ/(q*|Ψ_w|) where Ψ_w=Ψ(mag. axis) is assumed instead of Ψ_w=Ψ(LCFS).\"\n",
    "        Ψ_w_norm = abs(psi_axis)\n",
    "    else\n",
    "        Ψ_w_norm = abs(psi_bdry)\n",
    "    end\n",
    "    verbose && println(\">>>>>>>>>>>>>>> Mapping topological boundaries to (E,Λ,Pϕ_n;σ)... <<<<<<<<<<<<<<<\")\n",
    "    topoBounds_COM = zeros(size(W_correct_COM,2),size(W_correct_COM,3),size(W_correct_COM,4),2)\n",
    "    for (iE,E) in enumerate(E_array)\n",
    "        E_joule = (1000*GuidingCenterOrbits.e0)*E\n",
    "        ones_carinds = findall(x-> x==1.0,topoBounds[iE,:,:])\n",
    "        for carinds in ones_carinds\n",
    "            pm, Rm = pm_array[carinds[1]], Rm_array[carinds[2]]\n",
    "            EPRc = EPRCoordinate(M, E, pm, Rm; amu=getSpeciesAmu(FI_species), q=getSpeciesEcu(FI_species))\n",
    "            myHc = HamiltonianCoordinate(M, EPRc)\n",
    "            μ = myHc.mu; Λ = μ*B0/E_joule\n",
    "            Pϕ = myHc.p_phi; Pϕ_n = Pϕ/(q*Ψ_w_norm)\n",
    "            il, ipp = argmin(abs.(Λ_array .- Λ)), argmin(abs.(Pϕ_n_array .- Pϕ_n))\n",
    "            if pm<0.0\n",
    "                topoBounds_COM[iE, il, ipp, 1] = 1.0\n",
    "            else\n",
    "                topoBounds_COM[iE, il, ipp, 2] = 1.0\n",
    "            end\n",
    "        end\n",
    "    end\n",
    "end\n",
    "\n",
    "## --------------------------------------------------------------------------\n",
    "# Mapping null orbits to (E,Λ,Pϕ_n;σ)\n",
    "if showNullOrbs && enable_COM\n",
    "    verbose && println(\">>>>>>>>>>>>>>> Mapping null orbits to (E,Λ,Pϕ_n;σ)... <<<<<<<<<<<<<<<\")\n",
    "    nullOrbs_COM = zeros(size(W_correct_COM))\n",
    "    for iEd=1:size(W_correct_COM,1)\n",
    "        for (iE,E) in enumerate(E_array)\n",
    "            E_joule = (1000*GuidingCenterOrbits.e0)*E\n",
    "            ones_carinds = findall(x-> x==1.0,nullOrbs[iEd,iE,:,:])\n",
    "            for carinds in ones_carinds\n",
    "                pm, Rm = pm_array[carinds[1]], Rm_array[carinds[2]]\n",
    "                EPRc = EPRCoordinate(M, E, pm, Rm; amu=getSpeciesAmu(FI_species), q=getSpeciesEcu(FI_species))\n",
    "                myHc = HamiltonianCoordinate(M, EPRc)\n",
    "                μ = myHc.mu; Λ = μ*B0/E_joule\n",
    "                Pϕ = myHc.p_phi; Pϕ_n = Pϕ/(q*Ψ_w_norm)\n",
    "                il, ipp = argmin(abs.(Λ_array .- Λ)), argmin(abs.(Pϕ_n_array .- Pϕ_n))\n",
    "                if pm<0.0\n",
    "                    nullOrbs_COM[iEd, iE, il, ipp, 1] = 1.0\n",
    "                else\n",
    "                    nullOrbs_COM[iEd, iE, il, ipp, 2] = 1.0\n",
    "                end\n",
    "            end\n",
    "        end\n",
    "    end\n",
    "end\n",
    "\n",
    "## --------------------------------------------------------------------------\n",
    "# Creating the array with which to switch between different reconstructions, if filepath_Fos3D was specified as a .jld2 file containing many fast-ion distributions (structured into a 4D data array)\n",
    "if @isdefined F_os_4D\n",
    "    Rec_array = collect(1:size(F_os_4D,1))\n",
    "else\n",
    "    Rec_array = [1]\n",
    "end\n",
    "\n",
    "## ------\n",
    "# The web application\n",
    "verbose && println(\"Building the web application... \")\n",
    "R_hfs = minimum(wall.r) # R-coord of high-field side wall\n",
    "R_lfs = maximum(wall.r) # R-coord of low-field side wall\n",
    "phi = collect(0:1:359).*(2*pi/180.0) # Toroidal angle\n",
    "topview_R_hfs_x = (R_hfs).*cos.(phi)\n",
    "topview_R_hfs_y = (R_hfs).*sin.(phi)\n",
    "topview_R_lfs_x = (R_lfs).*cos.(phi)\n",
    "topview_R_lfs_y = (R_lfs).*sin.(phi)\n",
    "\n",
    "@manipulate for tokamak_wall = Dict(\"on\" => true, \"off\" => false), \n",
    "                include_Fos = Dict(\"on\" => true, \"off\" => false), \n",
    "                colorbar_scale = Dict(\"0.0-1.0\" => \"zero2one\", \"0.0-0.1\" => \"zero2aTenth\"), \n",
    "                phase_space = Dict(\"(E,μ,Pϕ;σ)\" => :COM, \"(E,pm,Rm)\" => :OS), \n",
    "                Ed=Ed_array, \n",
    "                E=E_array, \n",
    "                pm=pm_array, \n",
    "                Rm=Rm_array, \n",
    "                irec=Rec_array, \n",
    "                save_plots = Dict(\"on\" => true, \"off\" => false), \n",
    "                show_coordinate = Dict(\"on\" => true, \"off\" => false), \n",
    "                show_delta_signal = Dict(\"on\" => true, \"off\" => false)\n",
    "\n",
    "    EPRc = EPRCoordinate(M, E, pm, Rm; amu=getSpeciesAmu(FI_species), q=getSpeciesEcu(FI_species))\n",
    "    o = get_orbit(M,EPRc; wall=wall, extra_kw_args...)\n",
    "    if phase_space==:COM\n",
    "        E_joule = (1000*GuidingCenterOrbits.e0)*E\n",
    "        myHc = HamiltonianCoordinate(M, EPRc)\n",
    "        μ = myHc.mu; Λ = μ*B0/E_joule\n",
    "        Pϕ = myHc.p_phi; Pϕ_n = Pϕ/(q*Ψ_w_norm)\n",
    "        if (pm<0.0)\n",
    "            iσ = 1 # Index 1 corresponds to σ=-1\n",
    "        else\n",
    "            iσ = 2 # Index 2 corresponds to σ=+1\n",
    "        end\n",
    "    end\n",
    "\n",
    "    topview_o_x = cos.(o.path.phi).*(o.path.r)\n",
    "    topview_o_y = sin.(o.path.phi).*(o.path.r)\n",
    "\n",
    "    orb_color = :black\n",
    "    orb_linestyle = :solid\n",
    "    if o.class==:invalid\n",
    "        orb_color = :gray\n",
    "        orb_linestyle = :dash\n",
    "    elseif o.class == :lost\n",
    "        orb_color = :brown\n",
    "    elseif o.class == :incomplete # If this happens, you are in trouble. Because it will likely take forever to calculate. Please just re-start the app instead.\n",
    "        orb_color = :yellow\n",
    "    elseif o.class == :trapped\n",
    "        orb_color = :blue\n",
    "    elseif o.class == :co_passing\n",
    "        orb_color = :green\n",
    "    elseif (o.class == :stagnation && o.coordinate.r>=magnetic_axis(M)[1]) # Regular stagnation orbit\n",
    "        orb_color = :red\n",
    "    elseif o.class == :potato\n",
    "        orb_color = :orange\n",
    "    elseif o.class == :ctr_passing\n",
    "        orb_color = :purple\n",
    "    elseif (o.class == :stagnation && o.coordinate.r<magnetic_axis(M)[1]) # Pinch (HFS stagnation) orbit\n",
    "        orb_color = :pink\n",
    "    else\n",
    "        error(\"Something's gone terribly wrong!!! Orbit class unknown!\")\n",
    "    end\n",
    "\n",
    "    ###### Cross-sectional plot ###### \n",
    "    if uppercase(diagnostic_name)==\"TOFOR\"\n",
    "        plt_crs = Plots.plot(VC_RP,VC_zP,color=:green3, linewidth=1.2,label=\"\")\n",
    "    elseif uppercase(diagnostic_name)==\"AB\"\n",
    "        plt_crs = Plots.plot(VC_RP,VC_zP,color=:red1, linewidth=1.2,label=\"\")\n",
    "    elseif diagnostic_name==\"\"\n",
    "        plt_crs = Plots.plot()\n",
    "    else\n",
    "        plt_crs = Plots.plot(VC_RP,VC_zP,color=:gray, linewidth=1.2,label=\"\")\n",
    "    end\n",
    "    if (phase_space==:COM) && enable_COM\n",
    "        plt_crs = Plots.plot!(title=\"E: $(round(E,digits=2)) keV  Λ: $(round(Λ, sigdigits=2))  Pϕ_n: $(round(Pϕ_n,sigdigits=2))\")\n",
    "    else # phase_space==:COM (OS = orbit space, COM = constants-of-motion)\n",
    "        plt_crs = Plots.plot!(title=\"E: $(round(E,digits=2)) keV  pm: $(round(o.coordinate.pitch, digits=2))  Rm: $(round(o.coordinate.r,digits=2))\")\n",
    "    end\n",
    "    plt_crs = Plots.plot!(o.path.r,o.path.z, label=\"$(o.class) orbit\", color=orb_color, linestyle=orb_linestyle, linewidth=1.5)\n",
    "    if tokamak_wall\n",
    "        wall_dR = maximum(wall.r)-minimum(wall.r)\n",
    "        plt_crs = Plots.plot!(wall.r,wall.z, label=tokamak*\" wall\", color=:black, linewidth=1.5,xaxis=[minimum(wall.r)-wall_dR/10,maximum(wall.r)+wall_dR])\n",
    "    end\n",
    "    plt_crs = Plots.scatter!([magnetic_axis(M)[1]],[magnetic_axis(M)[2]],label=\"Magnetic axis\", mc=:grey, aspect_ratio=:equal, xlabel=\"R [m]\", ylabel=\" z[m]\")\n",
    "    plt_crs = Plots.scatter!([o.coordinate.r],[o.coordinate.z], mc=orb_color, label=\"(Rm,zm)\")\n",
    "    if save_plots\n",
    "        if (phase_space==:COM) && enable_COM\n",
    "            sigExt = iσ==1 ? \"-1\" : \"+1\" \n",
    "            png(plt_crs, \"plt_crs_$(round(Ed, digits=2))_$(round(E, digits=2))_$(round(Λ, sigdigits=2))_$(round(Pϕ_n,sigdigits=2))_\"*sigExt)\n",
    "        else\n",
    "            png(plt_crs, \"plt_crs_$(round(Ed, digits=2))_$(round(E, digits=2))_$(round(o.coordinate.pitch, digits=2))_$(round(o.coordinate.r,digits=2))\")\n",
    "        end\n",
    "    end\n",
    "\n",
    "    # Find the E and Ed indices in E_array and Ed_array. For weights and fast-ion slice plot.\n",
    "    Ei = (findall(x-> x==E,E_array))[1] # Should only be 1 exactly equal element\n",
    "    Edi = (findall(x-> x==Ed,Ed_array))[1] # -||-\n",
    "\n",
    "    # Extract correct topological boundaries and convert to vectors (for scatter plot)\n",
    "    if (phase_space==:COM) && enable_COM\n",
    "        ones_carinds = findall(x-> x==1.0, topoBounds_COM[Ei,:,:,iσ])\n",
    "        Λ_scatvals_tb = zeros(length(ones_carinds))\n",
    "        Pϕ_n_scatvals_tb = zeros(length(ones_carinds))\n",
    "        for (ind,carinds) in enumerate(ones_carinds)\n",
    "            Λ_scatvals_tb[ind] = Λ_array[carinds[1]]\n",
    "            Pϕ_n_scatvals_tb[ind] = Pϕ_n_array[carinds[2]]\n",
    "        end\n",
    "    end\n",
    "    if (phase_space==:OS) || (include_Fos && plot_Fos)\n",
    "        ones_carinds = findall(x-> x==1.0,topoBounds[Ei,:,:])\n",
    "        pm_scatvals_tb = zeros(length(ones_carinds))\n",
    "        Rm_scatvals_tb = zeros(length(ones_carinds))\n",
    "        for (ind,carinds) in enumerate(ones_carinds)\n",
    "            pm_scatvals_tb[ind] = pm_array[carinds[1]]\n",
    "            Rm_scatvals_tb[ind] = Rm_array[carinds[2]]\n",
    "        end\n",
    "    end\n",
    "\n",
    "    # Extract correct null boundaries and convert to vectors (for scatter plot)\n",
    "    if showNullOrbs\n",
    "        if (phase_space==:COM) && enable_COM\n",
    "            ones_carinds = findall(x-> x==1.0, nullOrbs_COM[Edi,Ei,:,:,iσ])\n",
    "            Λ_scatvals_nb = zeros(length(ones_carinds))\n",
    "            Pϕ_n_scatvals_nb = zeros(length(ones_carinds))\n",
    "            for (ind,carinds) in enumerate(ones_carinds)\n",
    "                Λ_scatvals_nb[ind] = Λ_array[carinds[1]]\n",
    "                Pϕ_n_scatvals_nb[ind] = Pϕ_n_array[carinds[2]]\n",
    "            end\n",
    "        end\n",
    "        if (phase_space==:OS) || (include_Fos && plot_Fos)\n",
    "            ones_carinds = findall(x-> x==1.0,nullOrbs[Edi,Ei,:,:])\n",
    "            pm_scatvals_nb = zeros(length(ones_carinds))\n",
    "            Rm_scatvals_nb = zeros(length(ones_carinds))\n",
    "            for (ind,carinds) in enumerate(ones_carinds)\n",
    "                pm_scatvals_nb[ind] = pm_array[carinds[1]]\n",
    "                Rm_scatvals_nb[ind] = Rm_array[carinds[2]]\n",
    "            end\n",
    "        end\n",
    "    end\n",
    "\n",
    "    if colorbar_scale == \"zero2one\"\n",
    "        clims = (0.0,1.0)\n",
    "    else\n",
    "        clims = (0.0,0.1)\n",
    "    end\n",
    "\n",
    "    ###### Heatmap of the weight function slice plot ######\n",
    "    if (phase_space==:COM) && enable_COM\n",
    "        plt_weights = Plots.heatmap(Pϕ_n_array,Λ_array,(W_correct_COM[Edi,Ei,:,:,iσ])./maximum(W_correct_COM[Edi,Ei,:,:,iσ]),colorbar=true,title=\"W ($(round(maximum(W_correct_COM[Edi,Ei,:,:,iσ]),sigdigits=4)) = 1.0)\", clims=clims, fillcolor=cgrad([:white, :darkblue, :green, :yellow, :orange, :red]), ylims=extrema(Λ_scatvals_tb), xlims=extrema(Pϕ_n_scatvals_tb))\n",
    "    else\n",
    "        plt_weights = Plots.heatmap(Rm_array,pm_array,(W_correct[Edi,Ei,:,:])./maximum(W_correct[Edi,Ei,:,:]),colorbar=true,title=\"W ($(round(maximum(W_correct[Edi,Ei,:,:]),sigdigits=4)) = 1.0)\", clims=clims, fillcolor=cgrad([:white, :darkblue, :green, :yellow, :orange, :red]))\n",
    "    end\n",
    "    # Plot a scatter-plot of the topological boundaries for that specific fast-ion energy slice\n",
    "    ms = save_plots ? 2.6 : 1.8\n",
    "    if (phase_space==:COM) && enable_COM\n",
    "        plt_weights = Plots.scatter!(Pϕ_n_scatvals_tb,Λ_scatvals_tb,markersize=ms,leg=false,markercolor=:black, xlabel=\"Pϕ_n\", ylabel=\"Λ\")\n",
    "    else\n",
    "        plt_weights = Plots.scatter!(Rm_scatvals_tb,pm_scatvals_tb,markersize=ms,leg=false,markercolor=:black, xlabel=\"Rm [m]\", ylabel=\"pm\")\n",
    "    end\n",
    "    if showNullOrbs\n",
    "        # Plot a scatter-plot of the null orbits for that specific diagnostic and fast-ion energy\n",
    "        if (phase_space==:COM) && enable_COM\n",
    "            plt_weights = Plots.scatter!(Pϕ_n_scatvals_nb,Λ_scatvals_nb,markersize=5.0,leg=false,markercolor=:teal, markershape=:xcross, linewidth=2.5)\n",
    "        else\n",
    "            plt_weights = Plots.scatter!(Rm_scatvals_nb,pm_scatvals_nb,markersize=5.0,leg=false,markercolor=:teal, markershape=:xcross, linewidth=2.5)\n",
    "        end\n",
    "    end\n",
    "    if show_coordinate\n",
    "        # Plot the orbit coordinate\n",
    "        if (phase_space==:COM) && enable_COM\n",
    "            plt_weights = Plots.scatter!([Pϕ_n],[Λ],markershape=:circle,mc=:white,markerstrokewidth=3.0,markerstrokealpha=1.0, markerstrokecolor=orb_color,markersize=5.0) # orbit coordinate marker\n",
    "        else\n",
    "            plt_weights = Plots.scatter!([Rm],[pm],markershape=:circle,mc=:white,markerstrokewidth=3.0,markerstrokealpha=1.0, markerstrokecolor=orb_color,markersize=5.0) # orbit coordinate marker\n",
    "        end\n",
    "    end\n",
    "    if save_plots\n",
    "        plt_weights = Plots.plot!(dpi=600)\n",
    "        if (phase_space==:COM) && enable_COM\n",
    "            sigExt = iσ==1 ? \"-1\" : \"+1\" \n",
    "            png(plt_weights, \"plt_weights_$(round(Ed, digits=2))_$(round(E, digits=2))_$(round(Λ, digits=2))_$(round(Pϕ_n,digits=2))_\"*sigExt)\n",
    "        else\n",
    "            png(plt_weights, \"plt_weights_$(round(Ed, digits=2))_$(round(E, digits=2))_$(round(o.coordinate.pitch, digits=2))_$(round(o.coordinate.r,digits=2))\")\n",
    "        end\n",
    "    end\n",
    "\n",
    "    ####### Plot of the fast-ion distribution slice, if included\n",
    "    if include_Fos && plot_Fos # If you want to plot it (include_Fos) and it's been loaded (plot_Fos)\n",
    "        plt_Fos = Plots.heatmap(Rm_array, pm_array, (F_os_4D[irec,Ei,:,:])./maximum(F_os_4D[irec,Ei,:,:]), colorbar=true, title=\"Fast-ion distribution slice  ($(round(maximum(F_os_4D[irec,Ei,:,:]), sigdigits=4)) = 1.0)\", clims=clims, fillcolor=cgrad([:white, :darkblue, :green, :yellow, :orange, :red]))\n",
    "        plt_Fos = Plots.scatter!(Rm_scatvals_tb,pm_scatvals_tb,markersize=1.8,leg=false,markercolor=:black, xlabel=\"Rm [m]\", ylabel=\"pm\")\n",
    "        if showNullOrbs\n",
    "            plt_Fos = Plots.scatter!(Rm_scatvals_nb,pm_scatvals_nb,markersize=2.5,leg=false,markercolor=:teal, markershape=:xcross)\n",
    "        end\n",
    "        if show_coordinate\n",
    "            plt_Fos = Plots.scatter!([Rm],[pm],markershape=:circle,mc=:white,markerstrokewidth=1.1,markerstrokealpha=1.0, markerstrokecolor=orb_color,markersize=5.0) # orbit coordinate marker\n",
    "        end\n",
    "    end\n",
    "    if save_plots\n",
    "        plt_Fos = Plots.plot!(dpi=600)\n",
    "        if (phase_space==:COM) && enable_COM\n",
    "            sigExt = iσ==1 ? \"-1\" : \"+1\" \n",
    "            png(plt_Fos, \"plt_Fos_$(round(Ed, digits=2))_$(round(E, digits=2))_$(round(Λ, sigdigits=2))_$(round(Pϕ_n,sigdigits=2))_\"*sigExt)\n",
    "        else\n",
    "            png(plt_Fos, \"plt_Fos_$(round(Ed, digits=2))_$(round(E, digits=2))_$(round(o.coordinate.pitch, digits=2))_$(round(o.coordinate.r,digits=2))\")\n",
    "        end\n",
    "    end\n",
    "\n",
    "    ####### Plot of the WF signal density, if FI distribution is included\n",
    "    if include_Fos && plot_Fos\n",
    "        WF_dens = (W_correct[Edi,Ei,:,:]) .* (F_os_4D[irec,Ei,:,:]) # WF, point-wise (without summation)\n",
    "        plt_WFdens = Plots.heatmap(Rm_array, pm_array, (WF_dens)./maximum(WF_dens), colorbar=true, title=\"WF-density slice  ($(round(maximum(WF_dens), sigdigits=4)) = 1.0)\", clims=clims, fillcolor=cgrad([:white, :darkblue, :green, :yellow, :orange, :red]))\n",
    "        plt_WFdens = Plots.scatter!(Rm_scatvals_tb,pm_scatvals_tb,markersize=1.8,leg=false,markercolor=:black, xlabel=\"Rm [m]\", ylabel=\"pm\")\n",
    "        if showNullOrbs\n",
    "            plt_WFdens = Plots.scatter!(Rm_scatvals_nb,pm_scatvals_nb,markersize=2.5,leg=false,markercolor=:teal, markershape=:xcross)\n",
    "        end\n",
    "        if show_coordinate\n",
    "            plt_WFdens = Plots.scatter!([Rm],[pm],markershape=:circle,mc=:white,markerstrokewidth=1.1,markerstrokealpha=1.0, markerstrokecolor=orb_color, markersize=5.0) # orbit coordinate marker\n",
    "        end\n",
    "    end\n",
    "    if save_plots\n",
    "        plt_WFdens = Plots.plot!(dpi=600)\n",
    "        if (phase_space==:COM) && enable_COM\n",
    "            sigExt = iσ==1 ? \"-1\" : \"+1\" \n",
    "            png(plt_WFdens, \"plt_WFdens_$(round(Ed, digits=2))_$(round(E, digits=2))_$(round(Λ, sigdigits=2))_$(round(Pϕ_n,sigdigits=2))_\"*sigExt)\n",
    "        else\n",
    "            png(plt_WFdens, \"plt_WFdens_$(round(Ed, digits=2))_$(round(E, digits=2))_$(round(o.coordinate.pitch, digits=2))_$(round(o.coordinate.r,digits=2))\")\n",
    "        end\n",
    "    end\n",
    "\n",
    "    # Plot of the top view of the tokamak\n",
    "    plt_top = Plots.plot(topview_R_lfs_x,topview_R_lfs_y, label=tokamak*\" wall\", color=:black, linewidth=1.5)\n",
    "    plt_top = Plots.plot!(topview_R_hfs_x,topview_R_hfs_y, label=\"\", color=:black,linewidth=1.5, aspect_ratio=:equal, title=\"Top view\")\n",
    "    if uppercase(diagnostic_name)==\"TOFOR\"\n",
    "        plt_top = Plots.plot!(VC_X,VC_Y,color=:green3, linewidth=1.2,label=\"\")\n",
    "    elseif uppercase(diagnostic_name)==\"AB\"\n",
    "        plt_top = Plots.plot!(VC_X,VC_Y,color=:red1, linewidth=1.2,label=\"\")\n",
    "    elseif diagnostic_name==\"\"\n",
    "    else\n",
    "        plt_top = Plots.plot!(VC_X,VC_Y,color=:gray, linewidth=1.2,label=\"\")\n",
    "    end\n",
    "    plt_top = Plots.plot!(topview_o_x,topview_o_y,label=\"$(o.class) orbit\", color=orb_color, linestyle=orb_linestyle, linewidth=1.5)\n",
    "    if save_plots\n",
    "        if (phase_space==:COM) && enable_COM\n",
    "            sigExt = iσ==1 ? \"-1\" : \"+1\" \n",
    "            png(plt_top, \"plt_top_$(round(Ed, digits=2))_$(round(E, digits=2))_$(round(Λ, sigdigits=2))_$(round(Pϕ_n,sigdigits=2))_\"*sigExt)\n",
    "        else\n",
    "            png(plt_top, \"plt_top_$(round(Ed, digits=2))_$(round(E, digits=2))_$(round(o.coordinate.pitch, digits=2))_$(round(o.coordinate.r,digits=2))\")\n",
    "        end\n",
    "    end\n",
    "\n",
    "    # Signal plot\n",
    "    if plot_S || plot_WF || show_delta_signal\n",
    "        if uppercase(diagnostic_name)==\"TOFOR\"\n",
    "            sig_color = :green3\n",
    "        elseif uppercase(diagnostic_name)==\"AB\"\n",
    "            sig_color = :red1\n",
    "        elseif uppercase(diagnostic_name)==\"KM6T\"\n",
    "            sig_color = :blue1\n",
    "        else\n",
    "            sig_color = :gray\n",
    "        end\n",
    "        plt_sig = Plots.plot()\n",
    "        if plot_WF\n",
    "            plt_sig = Plots.scatter!(Ed_array_WF, S_WF[irec,:] ./maximum(S_WF[irec,:]), markerstrokealpha=1.0, markerstrokecolor=sig_color, markercolor=:white, markerstrokewidth=1.5, label=\"WF\")\n",
    "            Edi_WF = (findfirst(x-> x>=Ed,Ed_array_WF))[1] # Should be perfect match with weights\n",
    "            plt_sig = Plots.scatter!([Ed_array_WF[Edi_WF]],[(S_WF[irec,:])[Edi_WF] ./maximum(S_WF[irec,:])],markersize=5.0,markercolor=sig_color, label=\"WF: $(round((S_WF)[Edi_WF],sigdigits=4))\")\n",
    "            plt_sig = Plots.plot!(xlabel=xlabel,ylabel=\"Normalized signal [a.u.]\", legend=true, title=\"Ed: $(round(Ed,digits=4)) \"*Ed_units)\n",
    "        end\n",
    "        if plot_S\n",
    "            plt_sig = Plots.plot!(Ed_array_S, spec ./maximum(spec), color=sig_color, linewidth=2.0, label=\"S\")\n",
    "            Edi_S = (findfirst(x-> x>=Ed,Ed_array_S))[1]\n",
    "            plt_sig = Plots.scatter!([Ed_array_S[Edi_S]],[spec[Edi_S]],markersize=5.0,markercolor=sig_color, label=\"S: $(round((spec)[Edi_S],sigdigits=4))\")\n",
    "            plt_sig = Plots.plot!(xlabel=xlabel,ylabel=\"Normalized signal [a.u.]\", legend=true, title=\"Ed: $(round(Ed,digits=4)) \"*Ed_units)\n",
    "        end\n",
    "        if show_delta_signal\n",
    "            pmci = argmin(abs.(pm_array .- pm)) # Find the closest match\n",
    "            Rmci = argmin(abs.(Rm_array .- Rm)) # Find the closest match\n",
    "            delta_signal = W_correct[:,Ei,pmci,Rmci] ./maximum(W_correct[:,Ei,pmci,Rmci])\n",
    "            plt_sig = Plots.plot!(Ed_array, delta_signal, label=\"Orbit-pixel signal\")\n",
    "            plt_sig = Plots.scatter!([Ed_array[Edi]],[delta_signal[Edi]],markersize=5.0, markercolor=:black, label=\"Orbit-pixel sig.: $(delta_signal[Edi])\", xlims=extrema(Ed_array), ylims=[-0.1,1.2])\n",
    "            plt_sig = Plots.plot!(xlabel=xlabel,ylabel=\"Normalized signal [a.u.]\", legend=true, title=\"Ed: $(round(Ed,digits=4)) \"*Ed_units)\n",
    "        end\n",
    "    else\n",
    "        Edi = (findfirst(x-> x>=Ed,Ed_array))[1]\n",
    "        plt_sig = Plots.scatter([Ed_array[Edi]],[0.0],markersize=5.0, markercolor=:black, title=\"Ed: $(round(Ed,digits=4)) \"*Ed_units,label=\"\", legend=false, xlims=[minimum(Ed_array),maximum(Ed_array)], ylims=[-1.0,1.0],xlabel=xlabel,ylabel=\"No diagnostic signal specified [a.u.]\")\n",
    "    end\n",
    "    if save_plots\n",
    "        plt_sig = Plots.plot!(title=\"\", legend=false)\n",
    "        if (phase_space==:COM) && enable_COM\n",
    "            sigExt = iσ==1 ? \"-1\" : \"+1\" \n",
    "            png(plt_top, \"plt_top_$(round(Ed, digits=2))_$(round(E, digits=2))_$(round(Λ, sigdigits=2))_$(round(Pϕ_n,sigdigits=2))_\"*sigExt)\n",
    "        else\n",
    "            png(plt_sig, \"plt_sig_$(round(Ed, digits=2))_$(round(E, digits=2))_$(round(o.coordinate.pitch, digits=2))_$(round(o.coordinate.r,digits=2))\")\n",
    "        end\n",
    "        plt_sig = Plots.plot!(title=\"Ed: $(round(Ed,digits=4)) keV\", legend=true)\n",
    "    end\n",
    "\n",
    "    if include_Fos && plot_Fos # Three rows with two plots each (total 6)\n",
    "        vbox(vskip(1em),\n",
    "            md\"*Please note, fast-ion distribution and WF-density will not be visualzed in (E,Λ,Pϕ_n;σ). A Jacobian going from (E,pm,Rm) is currently not implemented for the weightsWebApp.*\",\n",
    "            md\"Also, please note that the weightsWebApp.jl gets rather slow when all the inputs have been specified.\",\n",
    "            md\"If so, it is better to click new values on the sliders, rather than drag the sliders.\",\n",
    "            vskip(1em),\n",
    "            hbox(Plots.plot(plt_sig),Plots.plot(plt_weights)),\n",
    "            hbox(Plots.plot(plt_Fos),Plots.plot(plt_WFdens)),\n",
    "            hbox(Plots.plot(plt_top),Plots.plot(plt_crs))\n",
    "        )\n",
    "    else\n",
    "        vbox(vskip(1em), # Two rows with two plots each (total 4)\n",
    "            hbox(Plots.plot(plt_sig),Plots.plot(plt_weights)),\n",
    "            hbox(Plots.plot(plt_top),Plots.plot(plt_crs))\n",
    "        )\n",
    "    end\n",
    "end"
   ]
  },
  {
   "cell_type": "code",
   "execution_count": null,
   "id": "e10bd5f0",
   "metadata": {},
   "outputs": [],
   "source": []
  }
 ],
 "metadata": {
  "@webio": {
   "lastCommId": "760da787e4c442b59a7ec5eb2c23443f",
   "lastKernelId": "4e4e4303-035a-420a-8e44-54e992279f7e"
  },
  "kernelspec": {
   "display_name": "Julia 1.11.7",
   "language": "julia",
   "name": "julia-1.11"
  },
  "language_info": {
   "file_extension": ".jl",
   "mimetype": "application/julia",
   "name": "julia",
   "version": "1.11.7"
  }
 },
 "nbformat": 4,
 "nbformat_minor": 5
}
